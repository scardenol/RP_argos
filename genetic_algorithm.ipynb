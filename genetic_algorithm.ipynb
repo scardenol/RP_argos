{
  "nbformat": 4,
  "nbformat_minor": 0,
  "metadata": {
    "colab": {
      "name": "genetic_algorithm.ipynb",
      "provenance": [],
      "collapsed_sections": [],
      "authorship_tag": "ABX9TyPAsbfN7KtYKjsh7LYQCX2c",
      "include_colab_link": true
    },
    "kernelspec": {
      "name": "python3",
      "display_name": "Python 3"
    },
    "language_info": {
      "name": "python"
    }
  },
  "cells": [
    {
      "cell_type": "markdown",
      "metadata": {
        "id": "view-in-github",
        "colab_type": "text"
      },
      "source": [
        "<a href=\"https://colab.research.google.com/github/scardenol/RP_argos/blob/main/genetic_algorithm.ipynb\" target=\"_parent\"><img src=\"https://colab.research.google.com/assets/colab-badge.svg\" alt=\"Open In Colab\"/></a>"
      ]
    },
    {
      "cell_type": "code",
      "execution_count": 26,
      "metadata": {
        "id": "0FNHo4eQcNA-"
      },
      "outputs": [],
      "source": [
        "import numpy as np\n",
        "import random\n",
        "# np.random.seed(42)\n",
        "\n",
        "# array: np.array, [list, ..., list], list\n",
        "\n",
        "def generate_population(P_size: 'tuple') -> 'array':\n",
        "  P = 0.1*np.random.chisquare(df=1, size=P_size) # Initial population\n",
        "  return P.tolist()\n",
        "\n",
        "def mse(A: 'array', B: 'array') -> float: # Cleanest way to calculate MSE\n",
        "  return np.square(np.subtract(A, B)).mean()\n",
        "\n",
        "def fitness(X: 'array', Y: list, P: 'array', fun: 'function') -> list:\n",
        "  '''\n",
        "  X = [X1, X2, ..., Xn]: observations of predictors\n",
        "  Y: observations of variable of interest\n",
        "  P = [theta1, theta2, ..., thetan]: population (possible parameters)\n",
        "  '''\n",
        "  Y_bar = [[fun(*[item[i] for item in X], *P[j]) for i in range(len(X[0]))] for j in range(len(P))]\n",
        "  fitness = [mse(Y_bar[i], Y) for i in range(len(P))]\n",
        "  return fitness, Y_bar\n",
        "\n",
        "def selection(P: 'array', fitness: list) -> 'array':\n",
        "  return random.choices(population=P, weights=fitness, k=2)\n",
        "\n",
        "def crossover(x: list, y: list) -> 'Tuple' : # Single point\n",
        "  if len(x) != len(y):\n",
        "    raise ValueError(\"Parents x and y need to be of same length\")\n",
        "\n",
        "  length = len(x)\n",
        "\n",
        "  if length < 2:\n",
        "    return x, y\n",
        "\n",
        "  p = random.randint(1, length-1)\n",
        "  return x[0:p] + y[p:], y[0:p] + x[p:]\n",
        "\n",
        "def mutation(x: list, probability: float, num: int) -> list:\n",
        "  for _ in range(num):\n",
        "    index = random.randrange(len(x))\n",
        "    value = random.randint(1,1)*np.random.uniform(-1.0, 1.0, 1) # Uniform mutation\n",
        "    x[index] = x[index] if random.random() > probability else x[index] + value[0]\n",
        "  return x\n",
        "\n",
        "def evolution():\n",
        "  return"
      ]
    },
    {
      "cell_type": "code",
      "source": [
        "X = [[1,2,3,4], [2.1, 4.1, 6.1, 8.1]]\n",
        "Y = [2, 4, 6, 8]\n",
        "P = [[0.1, 0.2, 0.3, 0.4], [0, 1, 2, 3], [4, 3, 2, 1], [10, 8, 6, 4], [4, 6, 8, 10]]\n",
        "\n",
        "def fun(x1, x2, a, b, c, d):\n",
        "  return (a*x1 + b*x2 + c + d)\n",
        "\n",
        "fit, _ = fitness(X,Y,P,fun)\n",
        "generate_population(np.array(P).shape)\n",
        "sel = selection(P, fit)\n",
        "print(sel)\n",
        "x, y = crossover(sel[0], sel[1])\n",
        "print(x, y)\n",
        "mutation(x, 1, 1)\n",
        "lambda X, Y, P, fun: fitness(X,Y,P,fun)"
      ],
      "metadata": {
        "colab": {
          "base_uri": "https://localhost:8080/"
        },
        "id": "HljBhoPPsH1U",
        "outputId": "b4202668-3ac5-4191-bcdd-7455bff9bd5c"
      },
      "execution_count": 27,
      "outputs": [
        {
          "output_type": "stream",
          "name": "stdout",
          "text": [
            "[[10, 8, 6, 4], [10, 8, 6, 4]]\n",
            "[10, 8, 6, 4] [10, 8, 6, 4]\n"
          ]
        },
        {
          "output_type": "execute_result",
          "data": {
            "text/plain": [
              "<function __main__.<lambda>>"
            ]
          },
          "metadata": {},
          "execution_count": 27
        }
      ]
    },
    {
      "cell_type": "code",
      "source": [
        "m_prob = 0.5 # Probabilidad de mutación\n",
        "P = generate_population((5,4)) # (individuos, parámetros)\n",
        "generations = 300\n",
        "for i in range(generations):\n",
        "  fit, _ = fitness(X,Y,P,fun)\n",
        "  P = [a for _, a in sorted(zip(fit, P))] # Ordena la población de menor a mayor fitness\n",
        "  \n",
        "  next_generation = P[0:2] # Guarda los 2 mejores\n",
        "\n",
        "  for j in range(int(len(P) / 2) - 1):\n",
        "    parents = selection(P,fit)\n",
        "    x, y = crossover(parents[0], parents[1])\n",
        "    x = mutation(x, m_prob, 1)\n",
        "    next_generation += [x,y]\n",
        "\n",
        "  P = next_generation\n",
        "  fit, Y_bar = fitness(X,Y,P,fun)\n",
        "  P = [a for _, a in sorted(zip(fit, P))] # Ordena la población de menor a mayor fitness\n",
        "  display(i)\n",
        "  print('')\n",
        "  display(P)\n",
        "  print('')\n",
        "  display(fit)\n",
        "\n",
        "print(f'best solution: {P[0]}')\n",
        "print(f'Fitness: {fit[0]}')\n",
        "print(f'Y_hat: {Y_bar[0]}')"
      ],
      "metadata": {
        "colab": {
          "base_uri": "https://localhost:8080/",
          "height": 1000
        },
        "id": "ImPuuQd1U8zz",
        "outputId": "007be2c3-2e9f-49fe-dae7-3d36d2637ef0"
      },
      "execution_count": 32,
      "outputs": [
        {
          "output_type": "display_data",
          "data": {
            "text/plain": [
              "0"
            ]
          },
          "metadata": {}
        },
        {
          "output_type": "stream",
          "name": "stdout",
          "text": [
            "\n"
          ]
        },
        {
          "output_type": "display_data",
          "data": {
            "text/plain": [
              "[[0.16958409000256103,\n",
              "  0.33412060054844717,\n",
              "  0.13271899084134905,\n",
              "  0.008416534485318473],\n",
              " [0.23360570640487655,\n",
              "  0.041707618740564924,\n",
              "  0.16439358220798317,\n",
              "  0.007396219445411485],\n",
              " [0.005665595438843222,\n",
              "  0.005420705773649626,\n",
              "  0.019179495932637392,\n",
              "  0.014723090584490662],\n",
              " [0.005665595438843222,\n",
              "  0.005420705773649626,\n",
              "  0.019179495932637392,\n",
              "  0.014723090584490662]]"
            ]
          },
          "metadata": {}
        },
        {
          "output_type": "stream",
          "name": "stdout",
          "text": [
            "\n"
          ]
        },
        {
          "output_type": "display_data",
          "data": {
            "text/plain": [
              "[9.14606831847275, 19.793411179210935, 29.166416154446928, 29.166416154446928]"
            ]
          },
          "metadata": {}
        },
        {
          "output_type": "display_data",
          "data": {
            "text/plain": [
              "1"
            ]
          },
          "metadata": {}
        },
        {
          "output_type": "stream",
          "name": "stdout",
          "text": [
            "\n"
          ]
        },
        {
          "output_type": "display_data",
          "data": {
            "text/plain": [
              "[[0.16958409000256103,\n",
              "  0.33412060054844717,\n",
              "  0.13271899084134905,\n",
              "  0.008416534485318473],\n",
              " [0.23360570640487655,\n",
              "  0.041707618740564924,\n",
              "  0.16439358220798317,\n",
              "  0.007396219445411485],\n",
              " [0.23360570640487655,\n",
              "  0.041707618740564924,\n",
              "  0.16439358220798317,\n",
              "  0.007396219445411485],\n",
              " [0.23360570640487655,\n",
              "  0.041707618740564924,\n",
              "  0.16439358220798317,\n",
              "  0.007396219445411485]]"
            ]
          },
          "metadata": {}
        },
        {
          "output_type": "stream",
          "name": "stdout",
          "text": [
            "\n"
          ]
        },
        {
          "output_type": "display_data",
          "data": {
            "text/plain": [
              "[9.14606831847275, 19.793411179210935, 19.793411179210935, 19.793411179210935]"
            ]
          },
          "metadata": {}
        },
        {
          "output_type": "display_data",
          "data": {
            "text/plain": [
              "2"
            ]
          },
          "metadata": {}
        },
        {
          "output_type": "stream",
          "name": "stdout",
          "text": [
            "\n"
          ]
        },
        {
          "output_type": "display_data",
          "data": {
            "text/plain": [
              "[[0.16958409000256103,\n",
              "  0.33412060054844717,\n",
              "  0.13271899084134905,\n",
              "  0.008416534485318473],\n",
              " [0.23360570640487655,\n",
              "  0.041707618740564924,\n",
              "  0.16439358220798317,\n",
              "  0.007396219445411485],\n",
              " [0.23360570640487655,\n",
              "  0.041707618740564924,\n",
              "  0.16439358220798317,\n",
              "  0.007396219445411485],\n",
              " [0.23360570640487655,\n",
              "  0.041707618740564924,\n",
              "  -0.17119858383481112,\n",
              "  0.007396219445411485]]"
            ]
          },
          "metadata": {}
        },
        {
          "output_type": "stream",
          "name": "stdout",
          "text": [
            "\n"
          ]
        },
        {
          "output_type": "display_data",
          "data": {
            "text/plain": [
              "[9.14606831847275, 19.793411179210935, 22.611904242045412, 19.793411179210935]"
            ]
          },
          "metadata": {}
        },
        {
          "output_type": "display_data",
          "data": {
            "text/plain": [
              "3"
            ]
          },
          "metadata": {}
        },
        {
          "output_type": "stream",
          "name": "stdout",
          "text": [
            "\n"
          ]
        },
        {
          "output_type": "display_data",
          "data": {
            "text/plain": [
              "[[0.16958409000256103,\n",
              "  0.33412060054844717,\n",
              "  0.13271899084134905,\n",
              "  0.008416534485318473],\n",
              " [0.23360570640487655,\n",
              "  0.041707618740564924,\n",
              "  0.16439358220798317,\n",
              "  0.007396219445411485],\n",
              " [0.23360570640487655,\n",
              "  0.041707618740564924,\n",
              "  0.16439358220798317,\n",
              "  0.007396219445411485],\n",
              " [-0.3250665314853939,\n",
              "  0.041707618740564924,\n",
              "  0.16439358220798317,\n",
              "  0.007396219445411485]]"
            ]
          },
          "metadata": {}
        },
        {
          "output_type": "stream",
          "name": "stdout",
          "text": [
            "\n"
          ]
        },
        {
          "output_type": "display_data",
          "data": {
            "text/plain": [
              "[9.14606831847275, 19.793411179210935, 35.74625492462418, 19.793411179210935]"
            ]
          },
          "metadata": {}
        },
        {
          "output_type": "display_data",
          "data": {
            "text/plain": [
              "4"
            ]
          },
          "metadata": {}
        },
        {
          "output_type": "stream",
          "name": "stdout",
          "text": [
            "\n"
          ]
        },
        {
          "output_type": "display_data",
          "data": {
            "text/plain": [
              "[[0.16958409000256103,\n",
              "  0.33412060054844717,\n",
              "  0.13271899084134905,\n",
              "  0.008416534485318473],\n",
              " [0.23360570640487655,\n",
              "  0.041707618740564924,\n",
              "  0.16439358220798317,\n",
              "  0.007396219445411485],\n",
              " [-0.3250665314853939,\n",
              "  0.041707618740564924,\n",
              "  0.16439358220798317,\n",
              "  0.007396219445411485],\n",
              " [-0.3250665314853939,\n",
              "  0.041707618740564924,\n",
              "  0.16439358220798317,\n",
              "  0.007396219445411485]]"
            ]
          },
          "metadata": {}
        },
        {
          "output_type": "stream",
          "name": "stdout",
          "text": [
            "\n"
          ]
        },
        {
          "output_type": "display_data",
          "data": {
            "text/plain": [
              "[9.14606831847275, 19.793411179210935, 35.74625492462418, 35.74625492462418]"
            ]
          },
          "metadata": {}
        },
        {
          "output_type": "display_data",
          "data": {
            "text/plain": [
              "5"
            ]
          },
          "metadata": {}
        },
        {
          "output_type": "stream",
          "name": "stdout",
          "text": [
            "\n"
          ]
        },
        {
          "output_type": "display_data",
          "data": {
            "text/plain": [
              "[[0.16958409000256103,\n",
              "  0.33412060054844717,\n",
              "  0.13271899084134905,\n",
              "  0.008416534485318473],\n",
              " [0.23360570640487655,\n",
              "  0.041707618740564924,\n",
              "  0.16439358220798317,\n",
              "  0.007396219445411485],\n",
              " [-0.3250665314853939,\n",
              "  0.041707618740564924,\n",
              "  0.16439358220798317,\n",
              "  0.007396219445411485],\n",
              " [-0.3250665314853939,\n",
              "  0.041707618740564924,\n",
              "  0.16439358220798317,\n",
              "  0.007396219445411485]]"
            ]
          },
          "metadata": {}
        },
        {
          "output_type": "stream",
          "name": "stdout",
          "text": [
            "\n"
          ]
        },
        {
          "output_type": "display_data",
          "data": {
            "text/plain": [
              "[9.14606831847275, 19.793411179210935, 35.74625492462418, 35.74625492462418]"
            ]
          },
          "metadata": {}
        },
        {
          "output_type": "display_data",
          "data": {
            "text/plain": [
              "6"
            ]
          },
          "metadata": {}
        },
        {
          "output_type": "stream",
          "name": "stdout",
          "text": [
            "\n"
          ]
        },
        {
          "output_type": "display_data",
          "data": {
            "text/plain": [
              "[[0.16958409000256103,\n",
              "  0.33412060054844717,\n",
              "  0.13271899084134905,\n",
              "  0.008416534485318473],\n",
              " [0.23360570640487655,\n",
              "  0.041707618740564924,\n",
              "  0.16439358220798317,\n",
              "  0.007396219445411485],\n",
              " [-0.3250665314853939,\n",
              "  0.041707618740564924,\n",
              "  0.16439358220798317,\n",
              "  0.07502824056431891],\n",
              " [-0.3250665314853939,\n",
              "  0.041707618740564924,\n",
              "  0.16439358220798317,\n",
              "  0.007396219445411485]]"
            ]
          },
          "metadata": {}
        },
        {
          "output_type": "stream",
          "name": "stdout",
          "text": [
            "\n"
          ]
        },
        {
          "output_type": "display_data",
          "data": {
            "text/plain": [
              "[9.14606831847275, 19.793411179210935, 35.01659311371536, 35.74625492462418]"
            ]
          },
          "metadata": {}
        },
        {
          "output_type": "display_data",
          "data": {
            "text/plain": [
              "7"
            ]
          },
          "metadata": {}
        },
        {
          "output_type": "stream",
          "name": "stdout",
          "text": [
            "\n"
          ]
        },
        {
          "output_type": "display_data",
          "data": {
            "text/plain": [
              "[[0.16958409000256103,\n",
              "  0.33412060054844717,\n",
              "  0.13271899084134905,\n",
              "  0.008416534485318473],\n",
              " [0.16958409000256103,\n",
              "  0.33412060054844717,\n",
              "  -0.11120696615763451,\n",
              "  0.07502824056431891],\n",
              " [0.23360570640487655,\n",
              "  0.041707618740564924,\n",
              "  0.16439358220798317,\n",
              "  0.007396219445411485],\n",
              " [-0.3250665314853939,\n",
              "  0.041707618740564924,\n",
              "  0.16439358220798317,\n",
              "  0.008416534485318473]]"
            ]
          },
          "metadata": {}
        },
        {
          "output_type": "stream",
          "name": "stdout",
          "text": [
            "\n"
          ]
        },
        {
          "output_type": "display_data",
          "data": {
            "text/plain": [
              "[9.14606831847275, 19.793411179210935, 10.145959803082683, 35.73517908343826]"
            ]
          },
          "metadata": {}
        },
        {
          "output_type": "display_data",
          "data": {
            "text/plain": [
              "8"
            ]
          },
          "metadata": {}
        },
        {
          "output_type": "stream",
          "name": "stdout",
          "text": [
            "\n"
          ]
        },
        {
          "output_type": "display_data",
          "data": {
            "text/plain": [
              "[[0.16958409000256103,\n",
              "  0.33412060054844717,\n",
              "  0.13271899084134905,\n",
              "  0.008416534485318473],\n",
              " [0.16958409000256103,\n",
              "  0.33412060054844717,\n",
              "  0.13271899084134905,\n",
              "  0.008416534485318473],\n",
              " [0.16958409000256103,\n",
              "  0.33412060054844717,\n",
              "  -0.11120696615763451,\n",
              "  0.07502824056431891],\n",
              " [0.16958409000256103,\n",
              "  0.33412060054844717,\n",
              "  -0.11120696615763451,\n",
              "  0.07502824056431891]]"
            ]
          },
          "metadata": {}
        },
        {
          "output_type": "stream",
          "name": "stdout",
          "text": [
            "\n"
          ]
        },
        {
          "output_type": "display_data",
          "data": {
            "text/plain": [
              "[9.14606831847275, 10.145959803082683, 10.145959803082683, 9.14606831847275]"
            ]
          },
          "metadata": {}
        },
        {
          "output_type": "display_data",
          "data": {
            "text/plain": [
              "9"
            ]
          },
          "metadata": {}
        },
        {
          "output_type": "stream",
          "name": "stdout",
          "text": [
            "\n"
          ]
        },
        {
          "output_type": "display_data",
          "data": {
            "text/plain": [
              "[[0.16958409000256103,\n",
              "  0.33412060054844717,\n",
              "  0.13271899084134905,\n",
              "  0.008416534485318473],\n",
              " [0.16958409000256103,\n",
              "  0.33412060054844717,\n",
              "  0.13271899084134905,\n",
              "  0.008416534485318473],\n",
              " [0.16958409000256103,\n",
              "  0.33412060054844717,\n",
              "  -0.11120696615763451,\n",
              "  0.07502824056431891],\n",
              " [0.16958409000256103,\n",
              "  0.33412060054844717,\n",
              "  -0.423287341349033,\n",
              "  0.008416534485318473]]"
            ]
          },
          "metadata": {}
        },
        {
          "output_type": "stream",
          "name": "stdout",
          "text": [
            "\n"
          ]
        },
        {
          "output_type": "display_data",
          "data": {
            "text/plain": [
              "[9.14606831847275, 9.14606831847275, 12.49199472072831, 10.145959803082683]"
            ]
          },
          "metadata": {}
        },
        {
          "output_type": "display_data",
          "data": {
            "text/plain": [
              "10"
            ]
          },
          "metadata": {}
        },
        {
          "output_type": "stream",
          "name": "stdout",
          "text": [
            "\n"
          ]
        },
        {
          "output_type": "display_data",
          "data": {
            "text/plain": [
              "[[0.16958409000256103,\n",
              "  0.33412060054844717,\n",
              "  0.13271899084134905,\n",
              "  0.008416534485318473],\n",
              " [0.16958409000256103,\n",
              "  0.33412060054844717,\n",
              "  0.13271899084134905,\n",
              "  0.008416534485318473],\n",
              " [0.16958409000256103,\n",
              "  0.33412060054844717,\n",
              "  -0.11120696615763451,\n",
              "  0.07502824056431891],\n",
              " [0.16958409000256103,\n",
              "  0.33412060054844717,\n",
              "  -0.11120696615763451,\n",
              "  0.07502824056431891]]"
            ]
          },
          "metadata": {}
        },
        {
          "output_type": "stream",
          "name": "stdout",
          "text": [
            "\n"
          ]
        },
        {
          "output_type": "display_data",
          "data": {
            "text/plain": [
              "[9.14606831847275, 9.14606831847275, 10.145959803082683, 10.145959803082683]"
            ]
          },
          "metadata": {}
        },
        {
          "output_type": "display_data",
          "data": {
            "text/plain": [
              "11"
            ]
          },
          "metadata": {}
        },
        {
          "output_type": "stream",
          "name": "stdout",
          "text": [
            "\n"
          ]
        },
        {
          "output_type": "display_data",
          "data": {
            "text/plain": [
              "[[0.16958409000256103,\n",
              "  0.7268097546983396,\n",
              "  0.13271899084134905,\n",
              "  0.008416534485318473],\n",
              " [0.16958409000256103,\n",
              "  0.33412060054844717,\n",
              "  0.13271899084134905,\n",
              "  0.008416534485318473],\n",
              " [0.16958409000256103,\n",
              "  0.33412060054844717,\n",
              "  0.13271899084134905,\n",
              "  0.008416534485318473],\n",
              " [0.16958409000256103,\n",
              "  0.33412060054844717,\n",
              "  0.13271899084134905,\n",
              "  0.008416534485318473]]"
            ]
          },
          "metadata": {}
        },
        {
          "output_type": "stream",
          "name": "stdout",
          "text": [
            "\n"
          ]
        },
        {
          "output_type": "display_data",
          "data": {
            "text/plain": [
              "[9.14606831847275, 9.14606831847275, 0.707707512859665, 9.14606831847275]"
            ]
          },
          "metadata": {}
        },
        {
          "output_type": "display_data",
          "data": {
            "text/plain": [
              "12"
            ]
          },
          "metadata": {}
        },
        {
          "output_type": "stream",
          "name": "stdout",
          "text": [
            "\n"
          ]
        },
        {
          "output_type": "display_data",
          "data": {
            "text/plain": [
              "[[0.16958409000256103,\n",
              "  0.7268097546983396,\n",
              "  0.13271899084134905,\n",
              "  0.008416534485318473],\n",
              " [0.16958409000256103,\n",
              "  0.33412060054844717,\n",
              "  0.13271899084134905,\n",
              "  0.008416534485318473],\n",
              " [0.16958409000256103,\n",
              "  0.33412060054844717,\n",
              "  0.13271899084134905,\n",
              "  0.008416534485318473],\n",
              " [0.16958409000256103,\n",
              "  0.33412060054844717,\n",
              "  0.13271899084134905,\n",
              "  -0.26327397598784413]]"
            ]
          },
          "metadata": {}
        },
        {
          "output_type": "stream",
          "name": "stdout",
          "text": [
            "\n"
          ]
        },
        {
          "output_type": "display_data",
          "data": {
            "text/plain": [
              "[0.707707512859665, 9.14606831847275, 10.703797406406537, 9.14606831847275]"
            ]
          },
          "metadata": {}
        },
        {
          "output_type": "display_data",
          "data": {
            "text/plain": [
              "13"
            ]
          },
          "metadata": {}
        },
        {
          "output_type": "stream",
          "name": "stdout",
          "text": [
            "\n"
          ]
        },
        {
          "output_type": "display_data",
          "data": {
            "text/plain": [
              "[[0.16958409000256103,\n",
              "  0.7268097546983396,\n",
              "  0.13271899084134905,\n",
              "  0.008416534485318473],\n",
              " [0.16958409000256103,\n",
              "  0.33412060054844717,\n",
              "  0.13271899084134905,\n",
              "  0.008416534485318473],\n",
              " [0.16958409000256103,\n",
              "  0.33412060054844717,\n",
              "  0.13271899084134905,\n",
              "  0.008416534485318473],\n",
              " [0.16958409000256103,\n",
              "  0.33412060054844717,\n",
              "  0.13271899084134905,\n",
              "  0.008416534485318473]]"
            ]
          },
          "metadata": {}
        },
        {
          "output_type": "stream",
          "name": "stdout",
          "text": [
            "\n"
          ]
        },
        {
          "output_type": "display_data",
          "data": {
            "text/plain": [
              "[0.707707512859665, 9.14606831847275, 9.14606831847275, 9.14606831847275]"
            ]
          },
          "metadata": {}
        },
        {
          "output_type": "display_data",
          "data": {
            "text/plain": [
              "14"
            ]
          },
          "metadata": {}
        },
        {
          "output_type": "stream",
          "name": "stdout",
          "text": [
            "\n"
          ]
        },
        {
          "output_type": "display_data",
          "data": {
            "text/plain": [
              "[[0.16958409000256103,\n",
              "  0.7268097546983396,\n",
              "  0.13271899084134905,\n",
              "  0.008416534485318473],\n",
              " [0.16958409000256103,\n",
              "  0.33412060054844717,\n",
              "  0.13271899084134905,\n",
              "  0.008416534485318473],\n",
              " [0.16958409000256103,\n",
              "  0.33412060054844717,\n",
              "  0.13271899084134905,\n",
              "  0.008416534485318473],\n",
              " [0.16958409000256103,\n",
              "  0.33412060054844717,\n",
              "  0.13271899084134905,\n",
              "  0.008416534485318473]]"
            ]
          },
          "metadata": {}
        },
        {
          "output_type": "stream",
          "name": "stdout",
          "text": [
            "\n"
          ]
        },
        {
          "output_type": "display_data",
          "data": {
            "text/plain": [
              "[0.707707512859665, 9.14606831847275, 9.14606831847275, 9.14606831847275]"
            ]
          },
          "metadata": {}
        },
        {
          "output_type": "display_data",
          "data": {
            "text/plain": [
              "15"
            ]
          },
          "metadata": {}
        },
        {
          "output_type": "stream",
          "name": "stdout",
          "text": [
            "\n"
          ]
        },
        {
          "output_type": "display_data",
          "data": {
            "text/plain": [
              "[[0.16958409000256103,\n",
              "  0.7268097546983396,\n",
              "  0.13271899084134905,\n",
              "  0.008416534485318473],\n",
              " [0.16958409000256103,\n",
              "  0.33412060054844717,\n",
              "  0.13271899084134905,\n",
              "  0.008416534485318473],\n",
              " [0.16958409000256103,\n",
              "  0.33412060054844717,\n",
              "  0.13271899084134905,\n",
              "  0.008416534485318473],\n",
              " [0.16958409000256103,\n",
              "  0.33412060054844717,\n",
              "  0.13271899084134905,\n",
              "  0.008416534485318473]]"
            ]
          },
          "metadata": {}
        },
        {
          "output_type": "stream",
          "name": "stdout",
          "text": [
            "\n"
          ]
        },
        {
          "output_type": "display_data",
          "data": {
            "text/plain": [
              "[0.707707512859665, 9.14606831847275, 9.14606831847275, 9.14606831847275]"
            ]
          },
          "metadata": {}
        },
        {
          "output_type": "display_data",
          "data": {
            "text/plain": [
              "16"
            ]
          },
          "metadata": {}
        },
        {
          "output_type": "stream",
          "name": "stdout",
          "text": [
            "\n"
          ]
        },
        {
          "output_type": "display_data",
          "data": {
            "text/plain": [
              "[[0.16958409000256103,\n",
              "  0.7268097546983396,\n",
              "  0.13271899084134905,\n",
              "  0.008416534485318473],\n",
              " [0.16958409000256103,\n",
              "  0.33412060054844717,\n",
              "  0.13271899084134905,\n",
              "  0.008416534485318473],\n",
              " [0.16958409000256103,\n",
              "  0.33412060054844717,\n",
              "  0.13271899084134905,\n",
              "  0.008416534485318473],\n",
              " [0.16958409000256103,\n",
              "  0.33412060054844717,\n",
              "  0.13271899084134905,\n",
              "  0.008416534485318473]]"
            ]
          },
          "metadata": {}
        },
        {
          "output_type": "stream",
          "name": "stdout",
          "text": [
            "\n"
          ]
        },
        {
          "output_type": "display_data",
          "data": {
            "text/plain": [
              "[0.707707512859665, 9.14606831847275, 9.14606831847275, 9.14606831847275]"
            ]
          },
          "metadata": {}
        },
        {
          "output_type": "display_data",
          "data": {
            "text/plain": [
              "17"
            ]
          },
          "metadata": {}
        },
        {
          "output_type": "stream",
          "name": "stdout",
          "text": [
            "\n"
          ]
        },
        {
          "output_type": "display_data",
          "data": {
            "text/plain": [
              "[[0.16958409000256103,\n",
              "  0.8510646128143668,\n",
              "  0.13271899084134905,\n",
              "  0.008416534485318473],\n",
              " [0.16958409000256103,\n",
              "  0.7268097546983396,\n",
              "  0.13271899084134905,\n",
              "  0.008416534485318473],\n",
              " [0.16958409000256103,\n",
              "  0.33412060054844717,\n",
              "  0.13271899084134905,\n",
              "  0.008416534485318473],\n",
              " [0.16958409000256103,\n",
              "  0.33412060054844717,\n",
              "  0.13271899084134905,\n",
              "  0.008416534485318473]]"
            ]
          },
          "metadata": {}
        },
        {
          "output_type": "stream",
          "name": "stdout",
          "text": [
            "\n"
          ]
        },
        {
          "output_type": "display_data",
          "data": {
            "text/plain": [
              "[0.707707512859665, 9.14606831847275, 0.029497315267036507, 9.14606831847275]"
            ]
          },
          "metadata": {}
        },
        {
          "output_type": "display_data",
          "data": {
            "text/plain": [
              "18"
            ]
          },
          "metadata": {}
        },
        {
          "output_type": "stream",
          "name": "stdout",
          "text": [
            "\n"
          ]
        },
        {
          "output_type": "display_data",
          "data": {
            "text/plain": [
              "[[0.16958409000256103,\n",
              "  0.8510646128143668,\n",
              "  0.13271899084134905,\n",
              "  0.008416534485318473],\n",
              " [0.16958409000256103,\n",
              "  0.7268097546983396,\n",
              "  0.13271899084134905,\n",
              "  0.008416534485318473],\n",
              " [0.16958409000256103,\n",
              "  0.33412060054844717,\n",
              "  0.25041046227775166,\n",
              "  0.008416534485318473],\n",
              " [0.16958409000256103,\n",
              "  0.33412060054844717,\n",
              "  0.13271899084134905,\n",
              "  0.008416534485318473]]"
            ]
          },
          "metadata": {}
        },
        {
          "output_type": "stream",
          "name": "stdout",
          "text": [
            "\n"
          ]
        },
        {
          "output_type": "display_data",
          "data": {
            "text/plain": [
              "[0.029497315267036507, 0.707707512859665, 8.517114867456668, 9.14606831847275]"
            ]
          },
          "metadata": {}
        },
        {
          "output_type": "display_data",
          "data": {
            "text/plain": [
              "19"
            ]
          },
          "metadata": {}
        },
        {
          "output_type": "stream",
          "name": "stdout",
          "text": [
            "\n"
          ]
        },
        {
          "output_type": "display_data",
          "data": {
            "text/plain": [
              "[[0.16958409000256103,\n",
              "  0.8510646128143668,\n",
              "  0.13271899084134905,\n",
              "  0.008416534485318473],\n",
              " [0.16958409000256103,\n",
              "  0.7268097546983396,\n",
              "  0.13271899084134905,\n",
              "  0.008416534485318473],\n",
              " [0.16958409000256103,\n",
              "  0.33412060054844717,\n",
              "  0.25041046227775166,\n",
              "  0.008416534485318473],\n",
              " [0.16958409000256103,\n",
              "  0.33412060054844717,\n",
              "  0.25041046227775166,\n",
              "  0.008416534485318473]]"
            ]
          },
          "metadata": {}
        },
        {
          "output_type": "stream",
          "name": "stdout",
          "text": [
            "\n"
          ]
        },
        {
          "output_type": "display_data",
          "data": {
            "text/plain": [
              "[0.029497315267036507, 0.707707512859665, 8.517114867456668, 8.517114867456668]"
            ]
          },
          "metadata": {}
        },
        {
          "output_type": "display_data",
          "data": {
            "text/plain": [
              "20"
            ]
          },
          "metadata": {}
        },
        {
          "output_type": "stream",
          "name": "stdout",
          "text": [
            "\n"
          ]
        },
        {
          "output_type": "display_data",
          "data": {
            "text/plain": [
              "[[0.16958409000256103,\n",
              "  0.8510646128143668,\n",
              "  0.13271899084134905,\n",
              "  0.008416534485318473],\n",
              " [0.16958409000256103,\n",
              "  0.7268097546983396,\n",
              "  0.13271899084134905,\n",
              "  0.008416534485318473],\n",
              " [0.28892130071731825,\n",
              "  0.33412060054844717,\n",
              "  0.25041046227775166,\n",
              "  0.008416534485318473],\n",
              " [0.16958409000256103,\n",
              "  0.33412060054844717,\n",
              "  0.25041046227775166,\n",
              "  0.008416534485318473]]"
            ]
          },
          "metadata": {}
        },
        {
          "output_type": "stream",
          "name": "stdout",
          "text": [
            "\n"
          ]
        },
        {
          "output_type": "display_data",
          "data": {
            "text/plain": [
              "[0.029497315267036507, 0.707707512859665, 6.717939789076924, 8.517114867456668]"
            ]
          },
          "metadata": {}
        },
        {
          "output_type": "display_data",
          "data": {
            "text/plain": [
              "21"
            ]
          },
          "metadata": {}
        },
        {
          "output_type": "stream",
          "name": "stdout",
          "text": [
            "\n"
          ]
        },
        {
          "output_type": "display_data",
          "data": {
            "text/plain": [
              "[[0.16958409000256103,\n",
              "  0.8510646128143668,\n",
              "  0.13271899084134905,\n",
              "  0.008416534485318473],\n",
              " [0.16958409000256103,\n",
              "  0.7268097546983396,\n",
              "  0.13271899084134905,\n",
              "  0.008416534485318473],\n",
              " [0.28892130071731825,\n",
              "  0.33412060054844717,\n",
              "  0.25041046227775166,\n",
              "  0.008416534485318473],\n",
              " [0.28892130071731825,\n",
              "  0.33412060054844717,\n",
              "  0.25041046227775166,\n",
              "  0.008416534485318473]]"
            ]
          },
          "metadata": {}
        },
        {
          "output_type": "stream",
          "name": "stdout",
          "text": [
            "\n"
          ]
        },
        {
          "output_type": "display_data",
          "data": {
            "text/plain": [
              "[0.029497315267036507, 0.707707512859665, 6.717939789076924, 6.717939789076924]"
            ]
          },
          "metadata": {}
        },
        {
          "output_type": "display_data",
          "data": {
            "text/plain": [
              "22"
            ]
          },
          "metadata": {}
        },
        {
          "output_type": "stream",
          "name": "stdout",
          "text": [
            "\n"
          ]
        },
        {
          "output_type": "display_data",
          "data": {
            "text/plain": [
              "[[0.16958409000256103,\n",
              "  0.8510646128143668,\n",
              "  0.13271899084134905,\n",
              "  0.008416534485318473],\n",
              " [0.16958409000256103,\n",
              "  0.7268097546983396,\n",
              "  0.25041046227775166,\n",
              "  0.008416534485318473],\n",
              " [0.16958409000256103,\n",
              "  0.7268097546983396,\n",
              "  0.13271899084134905,\n",
              "  0.008416534485318473],\n",
              " [0.28892130071731825,\n",
              "  0.33412060054844717,\n",
              "  0.13271899084134905,\n",
              "  -0.6531414235297337]]"
            ]
          },
          "metadata": {}
        },
        {
          "output_type": "stream",
          "name": "stdout",
          "text": [
            "\n"
          ]
        },
        {
          "output_type": "display_data",
          "data": {
            "text/plain": [
              "[0.029497315267036507,\n",
              " 0.707707512859665,\n",
              " 10.932867853159046,\n",
              " 0.5501589384075587]"
            ]
          },
          "metadata": {}
        },
        {
          "output_type": "display_data",
          "data": {
            "text/plain": [
              "23"
            ]
          },
          "metadata": {}
        },
        {
          "output_type": "stream",
          "name": "stdout",
          "text": [
            "\n"
          ]
        },
        {
          "output_type": "display_data",
          "data": {
            "text/plain": [
              "[[0.16958409000256103,\n",
              "  0.8510646128143668,\n",
              "  0.13271899084134905,\n",
              "  0.008416534485318473],\n",
              " [0.16958409000256103,\n",
              "  0.7268097546983396,\n",
              "  0.25041046227775166,\n",
              "  0.008416534485318473],\n",
              " [1.049624198438226,\n",
              "  0.33412060054844717,\n",
              "  0.13271899084134905,\n",
              "  -0.6531414235297337],\n",
              " [0.28892130071731825,\n",
              "  0.33412060054844717,\n",
              "  0.13271899084134905,\n",
              "  -0.6531414235297337]]"
            ]
          },
          "metadata": {}
        },
        {
          "output_type": "stream",
          "name": "stdout",
          "text": [
            "\n"
          ]
        },
        {
          "output_type": "display_data",
          "data": {
            "text/plain": [
              "[0.029497315267036507,\n",
              " 0.5501589384075587,\n",
              " 1.5211909834248192,\n",
              " 10.932867853159046]"
            ]
          },
          "metadata": {}
        },
        {
          "output_type": "display_data",
          "data": {
            "text/plain": [
              "24"
            ]
          },
          "metadata": {}
        },
        {
          "output_type": "stream",
          "name": "stdout",
          "text": [
            "\n"
          ]
        },
        {
          "output_type": "display_data",
          "data": {
            "text/plain": [
              "[[0.16958409000256103,\n",
              "  0.8510646128143668,\n",
              "  0.13271899084134905,\n",
              "  0.008416534485318473],\n",
              " [0.16958409000256103,\n",
              "  0.7268097546983396,\n",
              "  0.25041046227775166,\n",
              "  0.008416534485318473],\n",
              " [1.049624198438226,\n",
              "  0.33412060054844717,\n",
              "  0.13271899084134905,\n",
              "  -0.6531414235297337],\n",
              " [0.28892130071731825,\n",
              "  0.33412060054844717,\n",
              "  0.13271899084134905,\n",
              "  -0.6531414235297337]]"
            ]
          },
          "metadata": {}
        },
        {
          "output_type": "stream",
          "name": "stdout",
          "text": [
            "\n"
          ]
        },
        {
          "output_type": "display_data",
          "data": {
            "text/plain": [
              "[0.029497315267036507,\n",
              " 0.5501589384075587,\n",
              " 10.932867853159046,\n",
              " 1.5211909834248192]"
            ]
          },
          "metadata": {}
        },
        {
          "output_type": "display_data",
          "data": {
            "text/plain": [
              "25"
            ]
          },
          "metadata": {}
        },
        {
          "output_type": "stream",
          "name": "stdout",
          "text": [
            "\n"
          ]
        },
        {
          "output_type": "display_data",
          "data": {
            "text/plain": [
              "[[0.16958409000256103,\n",
              "  0.8510646128143668,\n",
              "  0.13271899084134905,\n",
              "  0.008416534485318473],\n",
              " [0.16958409000256103,\n",
              "  0.7268097546983396,\n",
              "  0.25041046227775166,\n",
              "  0.008416534485318473],\n",
              " [1.049624198438226,\n",
              "  0.33412060054844717,\n",
              "  0.13271899084134905,\n",
              "  -0.6531414235297337],\n",
              " [-0.03943962424648173,\n",
              "  0.33412060054844717,\n",
              "  0.13271899084134905,\n",
              "  -0.6531414235297337]]"
            ]
          },
          "metadata": {}
        },
        {
          "output_type": "stream",
          "name": "stdout",
          "text": [
            "\n"
          ]
        },
        {
          "output_type": "display_data",
          "data": {
            "text/plain": [
              "[0.029497315267036507,\n",
              " 0.5501589384075587,\n",
              " 17.677506745475036,\n",
              " 1.5211909834248192]"
            ]
          },
          "metadata": {}
        },
        {
          "output_type": "display_data",
          "data": {
            "text/plain": [
              "26"
            ]
          },
          "metadata": {}
        },
        {
          "output_type": "stream",
          "name": "stdout",
          "text": [
            "\n"
          ]
        },
        {
          "output_type": "display_data",
          "data": {
            "text/plain": [
              "[[0.16958409000256103,\n",
              "  0.8510646128143668,\n",
              "  0.13271899084134905,\n",
              "  0.008416534485318473],\n",
              " [0.16958409000256103,\n",
              "  0.7268097546983396,\n",
              "  0.25041046227775166,\n",
              "  0.008416534485318473],\n",
              " [-0.03943962424648173,\n",
              "  0.33412060054844717,\n",
              "  0.13271899084134905,\n",
              "  -0.6531414235297337],\n",
              " [-0.03943962424648173,\n",
              "  0.33412060054844717,\n",
              "  0.13271899084134905,\n",
              "  -0.6531414235297337]]"
            ]
          },
          "metadata": {}
        },
        {
          "output_type": "stream",
          "name": "stdout",
          "text": [
            "\n"
          ]
        },
        {
          "output_type": "display_data",
          "data": {
            "text/plain": [
              "[0.029497315267036507,\n",
              " 0.5501589384075587,\n",
              " 17.677506745475036,\n",
              " 17.677506745475036]"
            ]
          },
          "metadata": {}
        },
        {
          "output_type": "display_data",
          "data": {
            "text/plain": [
              "27"
            ]
          },
          "metadata": {}
        },
        {
          "output_type": "stream",
          "name": "stdout",
          "text": [
            "\n"
          ]
        },
        {
          "output_type": "display_data",
          "data": {
            "text/plain": [
              "[[0.16958409000256103,\n",
              "  0.8510646128143668,\n",
              "  0.13271899084134905,\n",
              "  0.008416534485318473],\n",
              " [0.16958409000256103,\n",
              "  0.7268097546983396,\n",
              "  0.25041046227775166,\n",
              "  0.008416534485318473],\n",
              " [-0.03943962424648173,\n",
              "  0.33412060054844717,\n",
              "  0.13271899084134905,\n",
              "  -0.6531414235297337],\n",
              " [-0.03943962424648173,\n",
              "  0.33412060054844717,\n",
              "  0.13271899084134905,\n",
              "  -0.6531414235297337]]"
            ]
          },
          "metadata": {}
        },
        {
          "output_type": "stream",
          "name": "stdout",
          "text": [
            "\n"
          ]
        },
        {
          "output_type": "display_data",
          "data": {
            "text/plain": [
              "[0.029497315267036507,\n",
              " 0.5501589384075587,\n",
              " 17.677506745475036,\n",
              " 17.677506745475036]"
            ]
          },
          "metadata": {}
        },
        {
          "output_type": "display_data",
          "data": {
            "text/plain": [
              "28"
            ]
          },
          "metadata": {}
        },
        {
          "output_type": "stream",
          "name": "stdout",
          "text": [
            "\n"
          ]
        },
        {
          "output_type": "display_data",
          "data": {
            "text/plain": [
              "[[0.16958409000256103,\n",
              "  0.8510646128143668,\n",
              "  0.13271899084134905,\n",
              "  0.008416534485318473],\n",
              " [0.16958409000256103,\n",
              "  0.7268097546983396,\n",
              "  0.25041046227775166,\n",
              "  0.008416534485318473],\n",
              " [-0.03943962424648173,\n",
              "  0.33412060054844717,\n",
              "  0.13271899084134905,\n",
              "  -0.6531414235297337],\n",
              " [-0.03943962424648173,\n",
              "  0.33412060054844717,\n",
              "  0.13271899084134905,\n",
              "  -0.6531414235297337]]"
            ]
          },
          "metadata": {}
        },
        {
          "output_type": "stream",
          "name": "stdout",
          "text": [
            "\n"
          ]
        },
        {
          "output_type": "display_data",
          "data": {
            "text/plain": [
              "[0.029497315267036507,\n",
              " 0.5501589384075587,\n",
              " 17.677506745475036,\n",
              " 17.677506745475036]"
            ]
          },
          "metadata": {}
        },
        {
          "output_type": "display_data",
          "data": {
            "text/plain": [
              "29"
            ]
          },
          "metadata": {}
        },
        {
          "output_type": "stream",
          "name": "stdout",
          "text": [
            "\n"
          ]
        },
        {
          "output_type": "display_data",
          "data": {
            "text/plain": [
              "[[0.16958409000256103,\n",
              "  0.8510646128143668,\n",
              "  0.13271899084134905,\n",
              "  0.008416534485318473],\n",
              " [0.16958409000256103,\n",
              "  0.7268097546983396,\n",
              "  0.25041046227775166,\n",
              "  0.008416534485318473],\n",
              " [-0.03943962424648173,\n",
              "  0.33412060054844717,\n",
              "  0.13271899084134905,\n",
              "  -0.6531414235297337],\n",
              " [-0.03943962424648173,\n",
              "  0.33412060054844717,\n",
              "  0.13271899084134905,\n",
              "  -0.6531414235297337]]"
            ]
          },
          "metadata": {}
        },
        {
          "output_type": "stream",
          "name": "stdout",
          "text": [
            "\n"
          ]
        },
        {
          "output_type": "display_data",
          "data": {
            "text/plain": [
              "[0.029497315267036507,\n",
              " 0.5501589384075587,\n",
              " 17.677506745475036,\n",
              " 17.677506745475036]"
            ]
          },
          "metadata": {}
        },
        {
          "output_type": "display_data",
          "data": {
            "text/plain": [
              "30"
            ]
          },
          "metadata": {}
        },
        {
          "output_type": "stream",
          "name": "stdout",
          "text": [
            "\n"
          ]
        },
        {
          "output_type": "display_data",
          "data": {
            "text/plain": [
              "[[0.16958409000256103,\n",
              "  0.8510646128143668,\n",
              "  0.13271899084134905,\n",
              "  0.008416534485318473],\n",
              " [0.16958409000256103,\n",
              "  0.7268097546983396,\n",
              "  0.25041046227775166,\n",
              "  0.008416534485318473],\n",
              " [0.8965712688988211,\n",
              "  0.33412060054844717,\n",
              "  0.13271899084134905,\n",
              "  -0.6531414235297337],\n",
              " [-0.03943962424648173,\n",
              "  0.33412060054844717,\n",
              "  0.13271899084134905,\n",
              "  -0.6531414235297337]]"
            ]
          },
          "metadata": {}
        },
        {
          "output_type": "stream",
          "name": "stdout",
          "text": [
            "\n"
          ]
        },
        {
          "output_type": "display_data",
          "data": {
            "text/plain": [
              "[0.029497315267036507,\n",
              " 0.5501589384075587,\n",
              " 2.7172947058511685,\n",
              " 17.677506745475036]"
            ]
          },
          "metadata": {}
        },
        {
          "output_type": "display_data",
          "data": {
            "text/plain": [
              "31"
            ]
          },
          "metadata": {}
        },
        {
          "output_type": "stream",
          "name": "stdout",
          "text": [
            "\n"
          ]
        },
        {
          "output_type": "display_data",
          "data": {
            "text/plain": [
              "[[0.16958409000256103,\n",
              "  0.8510646128143668,\n",
              "  0.13271899084134905,\n",
              "  0.008416534485318473],\n",
              " [0.16958409000256103,\n",
              "  0.7268097546983396,\n",
              "  0.25041046227775166,\n",
              "  0.008416534485318473],\n",
              " [-0.03943962424648173,\n",
              "  0.7268097546983396,\n",
              "  0.25041046227775166,\n",
              "  0.008416534485318473],\n",
              " [0.16958409000256103,\n",
              "  0.33412060054844717,\n",
              "  0.13271899084134905,\n",
              "  -0.6531414235297337]]"
            ]
          },
          "metadata": {}
        },
        {
          "output_type": "stream",
          "name": "stdout",
          "text": [
            "\n"
          ]
        },
        {
          "output_type": "display_data",
          "data": {
            "text/plain": [
              "[0.029497315267036507,\n",
              " 0.5501589384075587,\n",
              " 13.197010198347805,\n",
              " 1.7127663960382147]"
            ]
          },
          "metadata": {}
        },
        {
          "output_type": "display_data",
          "data": {
            "text/plain": [
              "32"
            ]
          },
          "metadata": {}
        },
        {
          "output_type": "stream",
          "name": "stdout",
          "text": [
            "\n"
          ]
        },
        {
          "output_type": "display_data",
          "data": {
            "text/plain": [
              "[[0.16958409000256103,\n",
              "  0.8510646128143668,\n",
              "  0.13271899084134905,\n",
              "  0.008416534485318473],\n",
              " [0.16958409000256103,\n",
              "  0.7268097546983396,\n",
              "  0.25041046227775166,\n",
              "  0.008416534485318473],\n",
              " [0.16958409000256103,\n",
              "  0.6793495890300785,\n",
              "  0.13271899084134905,\n",
              "  -0.6531414235297337],\n",
              " [0.16958409000256103,\n",
              "  0.33412060054844717,\n",
              "  0.13271899084134905,\n",
              "  -0.6531414235297337]]"
            ]
          },
          "metadata": {}
        },
        {
          "output_type": "stream",
          "name": "stdout",
          "text": [
            "\n"
          ]
        },
        {
          "output_type": "display_data",
          "data": {
            "text/plain": [
              "[0.029497315267036507,\n",
              " 0.5501589384075587,\n",
              " 2.9408495397375676,\n",
              " 13.197010198347805]"
            ]
          },
          "metadata": {}
        },
        {
          "output_type": "display_data",
          "data": {
            "text/plain": [
              "33"
            ]
          },
          "metadata": {}
        },
        {
          "output_type": "stream",
          "name": "stdout",
          "text": [
            "\n"
          ]
        },
        {
          "output_type": "display_data",
          "data": {
            "text/plain": [
              "[[0.16958409000256103,\n",
              "  0.8510646128143668,\n",
              "  0.13271899084134905,\n",
              "  0.008416534485318473],\n",
              " [0.16958409000256103,\n",
              "  0.7268097546983396,\n",
              "  0.25041046227775166,\n",
              "  0.008416534485318473],\n",
              " [0.16958409000256103,\n",
              "  0.7268097546983396,\n",
              "  0.25041046227775166,\n",
              "  0.008416534485318473],\n",
              " [0.16958409000256103,\n",
              "  0.33412060054844717,\n",
              "  0.13271899084134905,\n",
              "  -0.6531414235297337]]"
            ]
          },
          "metadata": {}
        },
        {
          "output_type": "stream",
          "name": "stdout",
          "text": [
            "\n"
          ]
        },
        {
          "output_type": "display_data",
          "data": {
            "text/plain": [
              "[0.029497315267036507,\n",
              " 0.5501589384075587,\n",
              " 13.197010198347805,\n",
              " 0.5501589384075587]"
            ]
          },
          "metadata": {}
        },
        {
          "output_type": "display_data",
          "data": {
            "text/plain": [
              "34"
            ]
          },
          "metadata": {}
        },
        {
          "output_type": "stream",
          "name": "stdout",
          "text": [
            "\n"
          ]
        },
        {
          "output_type": "display_data",
          "data": {
            "text/plain": [
              "[[0.16958409000256103,\n",
              "  0.8510646128143668,\n",
              "  0.13271899084134905,\n",
              "  0.008416534485318473],\n",
              " [0.16958409000256103,\n",
              "  0.7268097546983396,\n",
              "  0.7169731931594889,\n",
              "  0.008416534485318473],\n",
              " [0.16958409000256103,\n",
              "  0.7268097546983396,\n",
              "  0.25041046227775166,\n",
              "  0.008416534485318473],\n",
              " [0.16958409000256103,\n",
              "  0.33412060054844717,\n",
              "  0.13271899084134905,\n",
              "  -0.6531414235297337]]"
            ]
          },
          "metadata": {}
        },
        {
          "output_type": "stream",
          "name": "stdout",
          "text": [
            "\n"
          ]
        },
        {
          "output_type": "display_data",
          "data": {
            "text/plain": [
              "[0.029497315267036507,\n",
              " 0.5501589384075587,\n",
              " 0.1981824616699875,\n",
              " 13.197010198347805]"
            ]
          },
          "metadata": {}
        },
        {
          "output_type": "display_data",
          "data": {
            "text/plain": [
              "35"
            ]
          },
          "metadata": {}
        },
        {
          "output_type": "stream",
          "name": "stdout",
          "text": [
            "\n"
          ]
        },
        {
          "output_type": "display_data",
          "data": {
            "text/plain": [
              "[[0.16958409000256103,\n",
              "  0.8510646128143668,\n",
              "  0.13271899084134905,\n",
              "  0.008416534485318473],\n",
              " [0.16958409000256103,\n",
              "  0.7268097546983396,\n",
              "  0.7169731931594889,\n",
              "  0.008416534485318473],\n",
              " [0.16958409000256103,\n",
              "  0.33412060054844717,\n",
              "  0.13271899084134905,\n",
              "  -0.6531414235297337],\n",
              " [0.16958409000256103,\n",
              "  0.33412060054844717,\n",
              "  0.13271899084134905,\n",
              "  -1.1718582275986507]]"
            ]
          },
          "metadata": {}
        },
        {
          "output_type": "stream",
          "name": "stdout",
          "text": [
            "\n"
          ]
        },
        {
          "output_type": "display_data",
          "data": {
            "text/plain": [
              "[0.029497315267036507,\n",
              " 0.1981824616699875,\n",
              " 16.98551600310611,\n",
              " 13.197010198347805]"
            ]
          },
          "metadata": {}
        },
        {
          "output_type": "display_data",
          "data": {
            "text/plain": [
              "36"
            ]
          },
          "metadata": {}
        },
        {
          "output_type": "stream",
          "name": "stdout",
          "text": [
            "\n"
          ]
        },
        {
          "output_type": "display_data",
          "data": {
            "text/plain": [
              "[[0.16958409000256103,\n",
              "  0.8510646128143668,\n",
              "  0.13271899084134905,\n",
              "  0.008416534485318473],\n",
              " [0.16958409000256103,\n",
              "  0.7268097546983396,\n",
              "  0.7169731931594889,\n",
              "  0.008416534485318473],\n",
              " [0.16958409000256103,\n",
              "  0.33412060054844717,\n",
              "  0.13271899084134905,\n",
              "  -0.6531414235297337],\n",
              " [0.09600306843818907,\n",
              "  0.33412060054844717,\n",
              "  0.13271899084134905,\n",
              "  -1.1718582275986507]]"
            ]
          },
          "metadata": {}
        },
        {
          "output_type": "stream",
          "name": "stdout",
          "text": [
            "\n"
          ]
        },
        {
          "output_type": "display_data",
          "data": {
            "text/plain": [
              "[0.029497315267036507,\n",
              " 0.1981824616699875,\n",
              " 18.678844453756305,\n",
              " 13.197010198347805]"
            ]
          },
          "metadata": {}
        },
        {
          "output_type": "display_data",
          "data": {
            "text/plain": [
              "37"
            ]
          },
          "metadata": {}
        },
        {
          "output_type": "stream",
          "name": "stdout",
          "text": [
            "\n"
          ]
        },
        {
          "output_type": "display_data",
          "data": {
            "text/plain": [
              "[[0.16958409000256103,\n",
              "  0.8510646128143668,\n",
              "  0.13271899084134905,\n",
              "  0.008416534485318473],\n",
              " [0.16958409000256103,\n",
              "  0.7268097546983396,\n",
              "  0.7169731931594889,\n",
              "  0.008416534485318473],\n",
              " [0.09600306843818907,\n",
              "  0.33412060054844717,\n",
              "  0.13271899084134905,\n",
              "  -1.1718582275986507],\n",
              " [-0.20841365651923394,\n",
              "  0.33412060054844717,\n",
              "  0.13271899084134905,\n",
              "  -1.1718582275986507]]"
            ]
          },
          "metadata": {}
        },
        {
          "output_type": "stream",
          "name": "stdout",
          "text": [
            "\n"
          ]
        },
        {
          "output_type": "display_data",
          "data": {
            "text/plain": [
              "[0.029497315267036507,\n",
              " 0.1981824616699875,\n",
              " 26.547437573404487,\n",
              " 18.678844453756305]"
            ]
          },
          "metadata": {}
        },
        {
          "output_type": "display_data",
          "data": {
            "text/plain": [
              "38"
            ]
          },
          "metadata": {}
        },
        {
          "output_type": "stream",
          "name": "stdout",
          "text": [
            "\n"
          ]
        },
        {
          "output_type": "display_data",
          "data": {
            "text/plain": [
              "[[0.16958409000256103,\n",
              "  0.8510646128143668,\n",
              "  0.13271899084134905,\n",
              "  0.008416534485318473],\n",
              " [0.16958409000256103,\n",
              "  0.7268097546983396,\n",
              "  0.7169731931594889,\n",
              "  0.008416534485318473],\n",
              " [0.48175874509176475,\n",
              "  0.33412060054844717,\n",
              "  0.13271899084134905,\n",
              "  -1.1718582275986507],\n",
              " [0.09600306843818907,\n",
              "  0.33412060054844717,\n",
              "  0.13271899084134905,\n",
              "  -1.1718582275986507]]"
            ]
          },
          "metadata": {}
        },
        {
          "output_type": "stream",
          "name": "stdout",
          "text": [
            "\n"
          ]
        },
        {
          "output_type": "display_data",
          "data": {
            "text/plain": [
              "[0.029497315267036507,\n",
              " 0.1981824616699875,\n",
              " 10.704578611635597,\n",
              " 18.678844453756305]"
            ]
          },
          "metadata": {}
        },
        {
          "output_type": "display_data",
          "data": {
            "text/plain": [
              "39"
            ]
          },
          "metadata": {}
        },
        {
          "output_type": "stream",
          "name": "stdout",
          "text": [
            "\n"
          ]
        },
        {
          "output_type": "display_data",
          "data": {
            "text/plain": [
              "[[0.16958409000256103,\n",
              "  0.8510646128143668,\n",
              "  0.13271899084134905,\n",
              "  0.008416534485318473],\n",
              " [0.16958409000256103,\n",
              "  0.7268097546983396,\n",
              "  0.7169731931594889,\n",
              "  0.008416534485318473],\n",
              " [0.09600306843818907,\n",
              "  0.33412060054844717,\n",
              "  0.13271899084134905,\n",
              "  -1.1249696362197164],\n",
              " [0.09600306843818907,\n",
              "  0.33412060054844717,\n",
              "  0.13271899084134905,\n",
              "  -1.1718582275986507]]"
            ]
          },
          "metadata": {}
        },
        {
          "output_type": "stream",
          "name": "stdout",
          "text": [
            "\n"
          ]
        },
        {
          "output_type": "display_data",
          "data": {
            "text/plain": [
              "[0.029497315267036507,\n",
              " 0.1981824616699875,\n",
              " 18.297014505053898,\n",
              " 18.678844453756305]"
            ]
          },
          "metadata": {}
        },
        {
          "output_type": "display_data",
          "data": {
            "text/plain": [
              "40"
            ]
          },
          "metadata": {}
        },
        {
          "output_type": "stream",
          "name": "stdout",
          "text": [
            "\n"
          ]
        },
        {
          "output_type": "display_data",
          "data": {
            "text/plain": [
              "[[0.16958409000256103,\n",
              "  0.8510646128143668,\n",
              "  0.13271899084134905,\n",
              "  0.008416534485318473],\n",
              " [0.16958409000256103,\n",
              "  0.7268097546983396,\n",
              "  0.7169731931594889,\n",
              "  0.008416534485318473],\n",
              " [0.09600306843818907,\n",
              "  0.33412060054844717,\n",
              "  0.20337554068573868,\n",
              "  -1.1249696362197164],\n",
              " [0.09600306843818907,\n",
              "  0.33412060054844717,\n",
              "  0.13271899084134905,\n",
              "  -1.1249696362197164]]"
            ]
          },
          "metadata": {}
        },
        {
          "output_type": "stream",
          "name": "stdout",
          "text": [
            "\n"
          ]
        },
        {
          "output_type": "display_data",
          "data": {
            "text/plain": [
              "[0.029497315267036507,\n",
              " 0.1981824616699875,\n",
              " 17.729939218671117,\n",
              " 18.297014505053898]"
            ]
          },
          "metadata": {}
        },
        {
          "output_type": "display_data",
          "data": {
            "text/plain": [
              "41"
            ]
          },
          "metadata": {}
        },
        {
          "output_type": "stream",
          "name": "stdout",
          "text": [
            "\n"
          ]
        },
        {
          "output_type": "display_data",
          "data": {
            "text/plain": [
              "[[0.16958409000256103,\n",
              "  0.8510646128143668,\n",
              "  0.13271899084134905,\n",
              "  0.008416534485318473],\n",
              " [0.16958409000256103,\n",
              "  0.7268097546983396,\n",
              "  0.7169731931594889,\n",
              "  0.008416534485318473],\n",
              " [0.09600306843818907,\n",
              "  0.33412060054844717,\n",
              "  0.13271899084134905,\n",
              "  -1.1249696362197164],\n",
              " [0.09600306843818907,\n",
              "  -0.6335646036968259,\n",
              "  0.13271899084134905,\n",
              "  -1.1249696362197164]]"
            ]
          },
          "metadata": {}
        },
        {
          "output_type": "stream",
          "name": "stdout",
          "text": [
            "\n"
          ]
        },
        {
          "output_type": "display_data",
          "data": {
            "text/plain": [
              "[0.029497315267036507,\n",
              " 0.1981824616699875,\n",
              " 93.27193020797895,\n",
              " 18.297014505053898]"
            ]
          },
          "metadata": {}
        },
        {
          "output_type": "display_data",
          "data": {
            "text/plain": [
              "42"
            ]
          },
          "metadata": {}
        },
        {
          "output_type": "stream",
          "name": "stdout",
          "text": [
            "\n"
          ]
        },
        {
          "output_type": "display_data",
          "data": {
            "text/plain": [
              "[[0.16958409000256103,\n",
              "  0.8510646128143668,\n",
              "  0.13271899084134905,\n",
              "  0.008416534485318473],\n",
              " [0.16958409000256103,\n",
              "  0.7268097546983396,\n",
              "  0.7169731931594889,\n",
              "  0.008416534485318473],\n",
              " [0.09600306843818907,\n",
              "  -0.6335646036968259,\n",
              "  0.13271899084134905,\n",
              "  -1.1249696362197164],\n",
              " [0.09600306843818907,\n",
              "  -0.6335646036968259,\n",
              "  0.13271899084134905,\n",
              "  -1.1249696362197164]]"
            ]
          },
          "metadata": {}
        },
        {
          "output_type": "stream",
          "name": "stdout",
          "text": [
            "\n"
          ]
        },
        {
          "output_type": "display_data",
          "data": {
            "text/plain": [
              "[0.029497315267036507,\n",
              " 0.1981824616699875,\n",
              " 93.27193020797895,\n",
              " 93.27193020797895]"
            ]
          },
          "metadata": {}
        },
        {
          "output_type": "display_data",
          "data": {
            "text/plain": [
              "43"
            ]
          },
          "metadata": {}
        },
        {
          "output_type": "stream",
          "name": "stdout",
          "text": [
            "\n"
          ]
        },
        {
          "output_type": "display_data",
          "data": {
            "text/plain": [
              "[[0.16958409000256103,\n",
              "  0.8510646128143668,\n",
              "  0.13271899084134905,\n",
              "  0.008416534485318473],\n",
              " [0.16958409000256103,\n",
              "  0.7268097546983396,\n",
              "  0.7169731931594889,\n",
              "  0.008416534485318473],\n",
              " [0.09600306843818907,\n",
              "  -0.6335646036968259,\n",
              "  0.13271899084134905,\n",
              "  -1.1249696362197164],\n",
              " [0.09600306843818907,\n",
              "  -1.349282299838082,\n",
              "  0.13271899084134905,\n",
              "  -1.1249696362197164]]"
            ]
          },
          "metadata": {}
        },
        {
          "output_type": "stream",
          "name": "stdout",
          "text": [
            "\n"
          ]
        },
        {
          "output_type": "display_data",
          "data": {
            "text/plain": [
              "[0.029497315267036507,\n",
              " 0.1981824616699875,\n",
              " 186.0868777361303,\n",
              " 93.27193020797895]"
            ]
          },
          "metadata": {}
        },
        {
          "output_type": "display_data",
          "data": {
            "text/plain": [
              "44"
            ]
          },
          "metadata": {}
        },
        {
          "output_type": "stream",
          "name": "stdout",
          "text": [
            "\n"
          ]
        },
        {
          "output_type": "display_data",
          "data": {
            "text/plain": [
              "[[0.16958409000256103,\n",
              "  0.8510646128143668,\n",
              "  0.13271899084134905,\n",
              "  0.008416534485318473],\n",
              " [0.16958409000256103,\n",
              "  0.7268097546983396,\n",
              "  0.7169731931594889,\n",
              "  0.008416534485318473],\n",
              " [0.09600306843818907,\n",
              "  -1.349282299838082,\n",
              "  0.3738220431359389,\n",
              "  -1.1249696362197164],\n",
              " [0.09600306843818907,\n",
              "  -1.349282299838082,\n",
              "  0.13271899084134905,\n",
              "  -1.1249696362197164]]"
            ]
          },
          "metadata": {}
        },
        {
          "output_type": "stream",
          "name": "stdout",
          "text": [
            "\n"
          ]
        },
        {
          "output_type": "display_data",
          "data": {
            "text/plain": [
              "[0.029497315267036507,\n",
              " 0.1981824616699875,\n",
              " 180.05301771551677,\n",
              " 186.0868777361303]"
            ]
          },
          "metadata": {}
        },
        {
          "output_type": "display_data",
          "data": {
            "text/plain": [
              "45"
            ]
          },
          "metadata": {}
        },
        {
          "output_type": "stream",
          "name": "stdout",
          "text": [
            "\n"
          ]
        },
        {
          "output_type": "display_data",
          "data": {
            "text/plain": [
              "[[0.16958409000256103,\n",
              "  0.8510646128143668,\n",
              "  0.13271899084134905,\n",
              "  0.008416534485318473],\n",
              " [0.16958409000256103,\n",
              "  0.7268097546983396,\n",
              "  0.7169731931594889,\n",
              "  0.008416534485318473],\n",
              " [0.09600306843818907,\n",
              "  -1.349282299838082,\n",
              "  0.3738220431359389,\n",
              "  -1.1249696362197164],\n",
              " [0.09600306843818907,\n",
              "  -1.349282299838082,\n",
              "  0.13271899084134905,\n",
              "  -1.1249696362197164]]"
            ]
          },
          "metadata": {}
        },
        {
          "output_type": "stream",
          "name": "stdout",
          "text": [
            "\n"
          ]
        },
        {
          "output_type": "display_data",
          "data": {
            "text/plain": [
              "[0.029497315267036507,\n",
              " 0.1981824616699875,\n",
              " 180.05301771551677,\n",
              " 186.0868777361303]"
            ]
          },
          "metadata": {}
        },
        {
          "output_type": "display_data",
          "data": {
            "text/plain": [
              "46"
            ]
          },
          "metadata": {}
        },
        {
          "output_type": "stream",
          "name": "stdout",
          "text": [
            "\n"
          ]
        },
        {
          "output_type": "display_data",
          "data": {
            "text/plain": [
              "[[0.16958409000256103,\n",
              "  0.8510646128143668,\n",
              "  0.13271899084134905,\n",
              "  0.008416534485318473],\n",
              " [0.16958409000256103,\n",
              "  0.7268097546983396,\n",
              "  0.7169731931594889,\n",
              "  0.008416534485318473],\n",
              " [0.09600306843818907,\n",
              "  -1.349282299838082,\n",
              "  0.3738220431359389,\n",
              "  -1.1249696362197164],\n",
              " [0.09600306843818907,\n",
              "  -1.349282299838082,\n",
              "  0.13271899084134905,\n",
              "  -1.1249696362197164]]"
            ]
          },
          "metadata": {}
        },
        {
          "output_type": "stream",
          "name": "stdout",
          "text": [
            "\n"
          ]
        },
        {
          "output_type": "display_data",
          "data": {
            "text/plain": [
              "[0.029497315267036507,\n",
              " 0.1981824616699875,\n",
              " 180.05301771551677,\n",
              " 186.0868777361303]"
            ]
          },
          "metadata": {}
        },
        {
          "output_type": "display_data",
          "data": {
            "text/plain": [
              "47"
            ]
          },
          "metadata": {}
        },
        {
          "output_type": "stream",
          "name": "stdout",
          "text": [
            "\n"
          ]
        },
        {
          "output_type": "display_data",
          "data": {
            "text/plain": [
              "[[0.16958409000256103,\n",
              "  0.8510646128143668,\n",
              "  0.13271899084134905,\n",
              "  0.008416534485318473],\n",
              " [0.16958409000256103,\n",
              "  0.7268097546983396,\n",
              "  0.7169731931594889,\n",
              "  0.008416534485318473],\n",
              " [0.09600306843818907,\n",
              "  -1.349282299838082,\n",
              "  0.3738220431359389,\n",
              "  -1.1249696362197164],\n",
              " [0.09600306843818907,\n",
              "  -1.4507537707458449,\n",
              "  0.3738220431359389,\n",
              "  -1.1249696362197164]]"
            ]
          },
          "metadata": {}
        },
        {
          "output_type": "stream",
          "name": "stdout",
          "text": [
            "\n"
          ]
        },
        {
          "output_type": "display_data",
          "data": {
            "text/plain": [
              "[0.029497315267036507,\n",
              " 0.1981824616699875,\n",
              " 195.53378237601498,\n",
              " 180.05301771551677]"
            ]
          },
          "metadata": {}
        },
        {
          "output_type": "display_data",
          "data": {
            "text/plain": [
              "48"
            ]
          },
          "metadata": {}
        },
        {
          "output_type": "stream",
          "name": "stdout",
          "text": [
            "\n"
          ]
        },
        {
          "output_type": "display_data",
          "data": {
            "text/plain": [
              "[[0.16958409000256103,\n",
              "  0.8510646128143668,\n",
              "  0.13271899084134905,\n",
              "  0.008416534485318473],\n",
              " [0.16958409000256103,\n",
              "  0.7268097546983396,\n",
              "  0.7169731931594889,\n",
              "  0.008416534485318473],\n",
              " [0.09600306843818907,\n",
              "  -1.349282299838082,\n",
              "  0.3738220431359389,\n",
              "  -1.1249696362197164],\n",
              " [0.09600306843818907,\n",
              "  -1.4507537707458449,\n",
              "  0.3738220431359389,\n",
              "  -1.1249696362197164]]"
            ]
          },
          "metadata": {}
        },
        {
          "output_type": "stream",
          "name": "stdout",
          "text": [
            "\n"
          ]
        },
        {
          "output_type": "display_data",
          "data": {
            "text/plain": [
              "[0.029497315267036507,\n",
              " 0.1981824616699875,\n",
              " 195.53378237601498,\n",
              " 180.05301771551677]"
            ]
          },
          "metadata": {}
        },
        {
          "output_type": "display_data",
          "data": {
            "text/plain": [
              "49"
            ]
          },
          "metadata": {}
        },
        {
          "output_type": "stream",
          "name": "stdout",
          "text": [
            "\n"
          ]
        },
        {
          "output_type": "display_data",
          "data": {
            "text/plain": [
              "[[0.16958409000256103,\n",
              "  0.8510646128143668,\n",
              "  0.13271899084134905,\n",
              "  0.008416534485318473],\n",
              " [0.16958409000256103,\n",
              "  0.7268097546983396,\n",
              "  0.7169731931594889,\n",
              "  0.008416534485318473],\n",
              " [0.09600306843818907,\n",
              "  -1.349282299838082,\n",
              "  0.3738220431359389,\n",
              "  -1.1249696362197164],\n",
              " [0.09600306843818907,\n",
              "  -1.349282299838082,\n",
              "  0.3738220431359389,\n",
              "  -1.1249696362197164]]"
            ]
          },
          "metadata": {}
        },
        {
          "output_type": "stream",
          "name": "stdout",
          "text": [
            "\n"
          ]
        },
        {
          "output_type": "display_data",
          "data": {
            "text/plain": [
              "[0.029497315267036507,\n",
              " 0.1981824616699875,\n",
              " 180.05301771551677,\n",
              " 180.05301771551677]"
            ]
          },
          "metadata": {}
        },
        {
          "output_type": "display_data",
          "data": {
            "text/plain": [
              "50"
            ]
          },
          "metadata": {}
        },
        {
          "output_type": "stream",
          "name": "stdout",
          "text": [
            "\n"
          ]
        },
        {
          "output_type": "display_data",
          "data": {
            "text/plain": [
              "[[0.16958409000256103,\n",
              "  0.8510646128143668,\n",
              "  0.13271899084134905,\n",
              "  0.008416534485318473],\n",
              " [0.16958409000256103,\n",
              "  0.7268097546983396,\n",
              "  0.7169731931594889,\n",
              "  0.008416534485318473],\n",
              " [0.09600306843818907,\n",
              "  -1.349282299838082,\n",
              "  0.3738220431359389,\n",
              "  -1.1249696362197164],\n",
              " [0.09600306843818907,\n",
              "  -1.349282299838082,\n",
              "  0.3738220431359389,\n",
              "  -1.1249696362197164]]"
            ]
          },
          "metadata": {}
        },
        {
          "output_type": "stream",
          "name": "stdout",
          "text": [
            "\n"
          ]
        },
        {
          "output_type": "display_data",
          "data": {
            "text/plain": [
              "[0.029497315267036507,\n",
              " 0.1981824616699875,\n",
              " 180.05301771551677,\n",
              " 180.05301771551677]"
            ]
          },
          "metadata": {}
        },
        {
          "output_type": "display_data",
          "data": {
            "text/plain": [
              "51"
            ]
          },
          "metadata": {}
        },
        {
          "output_type": "stream",
          "name": "stdout",
          "text": [
            "\n"
          ]
        },
        {
          "output_type": "display_data",
          "data": {
            "text/plain": [
              "[[0.16958409000256103,\n",
              "  0.8510646128143668,\n",
              "  0.13271899084134905,\n",
              "  0.008416534485318473],\n",
              " [0.16958409000256103,\n",
              "  0.7268097546983396,\n",
              "  0.7169731931594889,\n",
              "  0.008416534485318473],\n",
              " [0.23701063946912815,\n",
              "  -1.349282299838082,\n",
              "  0.3738220431359389,\n",
              "  -1.1249696362197164],\n",
              " [0.09600306843818907,\n",
              "  -1.349282299838082,\n",
              "  0.3738220431359389,\n",
              "  -1.1249696362197164]]"
            ]
          },
          "metadata": {}
        },
        {
          "output_type": "stream",
          "name": "stdout",
          "text": [
            "\n"
          ]
        },
        {
          "output_type": "display_data",
          "data": {
            "text/plain": [
              "[0.029497315267036507,\n",
              " 0.1981824616699875,\n",
              " 169.8424839002725,\n",
              " 180.05301771551677]"
            ]
          },
          "metadata": {}
        },
        {
          "output_type": "display_data",
          "data": {
            "text/plain": [
              "52"
            ]
          },
          "metadata": {}
        },
        {
          "output_type": "stream",
          "name": "stdout",
          "text": [
            "\n"
          ]
        },
        {
          "output_type": "display_data",
          "data": {
            "text/plain": [
              "[[0.16958409000256103,\n",
              "  0.8510646128143668,\n",
              "  0.13271899084134905,\n",
              "  0.008416534485318473],\n",
              " [0.16958409000256103,\n",
              "  0.7268097546983396,\n",
              "  0.7169731931594889,\n",
              "  0.008416534485318473],\n",
              " [0.23701063946912815,\n",
              "  -1.349282299838082,\n",
              "  0.3738220431359389,\n",
              "  -1.1249696362197164],\n",
              " [0.09600306843818907,\n",
              "  -1.6750674240633452,\n",
              "  0.3738220431359389,\n",
              "  -1.1249696362197164]]"
            ]
          },
          "metadata": {}
        },
        {
          "output_type": "stream",
          "name": "stdout",
          "text": [
            "\n"
          ]
        },
        {
          "output_type": "display_data",
          "data": {
            "text/plain": [
              "[0.029497315267036507,\n",
              " 0.1981824616699875,\n",
              " 232.0218361688458,\n",
              " 169.8424839002725]"
            ]
          },
          "metadata": {}
        },
        {
          "output_type": "display_data",
          "data": {
            "text/plain": [
              "53"
            ]
          },
          "metadata": {}
        },
        {
          "output_type": "stream",
          "name": "stdout",
          "text": [
            "\n"
          ]
        },
        {
          "output_type": "display_data",
          "data": {
            "text/plain": [
              "[[0.16958409000256103,\n",
              "  0.8510646128143668,\n",
              "  0.13271899084134905,\n",
              "  0.008416534485318473],\n",
              " [0.16958409000256103,\n",
              "  0.7268097546983396,\n",
              "  0.7169731931594889,\n",
              "  0.008416534485318473],\n",
              " [0.09600306843818907,\n",
              "  -1.349282299838082,\n",
              "  0.3738220431359389,\n",
              "  -1.1249696362197164],\n",
              " [0.23701063946912815,\n",
              "  -1.6750674240633452,\n",
              "  0.3738220431359389,\n",
              "  -1.1249696362197164]]"
            ]
          },
          "metadata": {}
        },
        {
          "output_type": "stream",
          "name": "stdout",
          "text": [
            "\n"
          ]
        },
        {
          "output_type": "display_data",
          "data": {
            "text/plain": [
              "[0.029497315267036507,\n",
              " 0.1981824616699875,\n",
              " 220.41018819772853,\n",
              " 180.05301771551677]"
            ]
          },
          "metadata": {}
        },
        {
          "output_type": "display_data",
          "data": {
            "text/plain": [
              "54"
            ]
          },
          "metadata": {}
        },
        {
          "output_type": "stream",
          "name": "stdout",
          "text": [
            "\n"
          ]
        },
        {
          "output_type": "display_data",
          "data": {
            "text/plain": [
              "[[0.16958409000256103,\n",
              "  0.8510646128143668,\n",
              "  0.13271899084134905,\n",
              "  0.008416534485318473],\n",
              " [0.16958409000256103,\n",
              "  0.7268097546983396,\n",
              "  0.7169731931594889,\n",
              "  0.008416534485318473],\n",
              " [0.09600306843818907,\n",
              "  -1.349282299838082,\n",
              "  0.3738220431359389,\n",
              "  -1.1249696362197164],\n",
              " [0.09600306843818907,\n",
              "  -1.349282299838082,\n",
              "  0.3738220431359389,\n",
              "  -1.1249696362197164]]"
            ]
          },
          "metadata": {}
        },
        {
          "output_type": "stream",
          "name": "stdout",
          "text": [
            "\n"
          ]
        },
        {
          "output_type": "display_data",
          "data": {
            "text/plain": [
              "[0.029497315267036507,\n",
              " 0.1981824616699875,\n",
              " 180.05301771551677,\n",
              " 180.05301771551677]"
            ]
          },
          "metadata": {}
        },
        {
          "output_type": "display_data",
          "data": {
            "text/plain": [
              "55"
            ]
          },
          "metadata": {}
        },
        {
          "output_type": "stream",
          "name": "stdout",
          "text": [
            "\n"
          ]
        },
        {
          "output_type": "display_data",
          "data": {
            "text/plain": [
              "[[0.16958409000256103,\n",
              "  0.8510646128143668,\n",
              "  0.13271899084134905,\n",
              "  0.008416534485318473],\n",
              " [0.16958409000256103,\n",
              "  0.7268097546983396,\n",
              "  0.7169731931594889,\n",
              "  0.008416534485318473],\n",
              " [0.09600306843818907,\n",
              "  -1.349282299838082,\n",
              "  0.3738220431359389,\n",
              "  -1.1249696362197164],\n",
              " [0.09600306843818907,\n",
              "  -1.8092056479482541,\n",
              "  0.3738220431359389,\n",
              "  -1.1249696362197164]]"
            ]
          },
          "metadata": {}
        },
        {
          "output_type": "stream",
          "name": "stdout",
          "text": [
            "\n"
          ]
        },
        {
          "output_type": "display_data",
          "data": {
            "text/plain": [
              "[0.029497315267036507,\n",
              " 0.1981824616699875,\n",
              " 255.3325000992798,\n",
              " 180.05301771551677]"
            ]
          },
          "metadata": {}
        },
        {
          "output_type": "display_data",
          "data": {
            "text/plain": [
              "56"
            ]
          },
          "metadata": {}
        },
        {
          "output_type": "stream",
          "name": "stdout",
          "text": [
            "\n"
          ]
        },
        {
          "output_type": "display_data",
          "data": {
            "text/plain": [
              "[[0.16958409000256103,\n",
              "  0.8510646128143668,\n",
              "  0.13271899084134905,\n",
              "  0.008416534485318473],\n",
              " [0.16958409000256103,\n",
              "  0.7268097546983396,\n",
              "  0.7169731931594889,\n",
              "  0.008416534485318473],\n",
              " [0.09600306843818907,\n",
              "  -1.8092056479482541,\n",
              "  0.3738220431359389,\n",
              "  -1.1249696362197164],\n",
              " [0.09600306843818907,\n",
              "  -1.8092056479482541,\n",
              "  0.3738220431359389,\n",
              "  -1.1249696362197164]]"
            ]
          },
          "metadata": {}
        },
        {
          "output_type": "stream",
          "name": "stdout",
          "text": [
            "\n"
          ]
        },
        {
          "output_type": "display_data",
          "data": {
            "text/plain": [
              "[0.029497315267036507,\n",
              " 0.1981824616699875,\n",
              " 255.3325000992798,\n",
              " 255.3325000992798]"
            ]
          },
          "metadata": {}
        },
        {
          "output_type": "display_data",
          "data": {
            "text/plain": [
              "57"
            ]
          },
          "metadata": {}
        },
        {
          "output_type": "stream",
          "name": "stdout",
          "text": [
            "\n"
          ]
        },
        {
          "output_type": "display_data",
          "data": {
            "text/plain": [
              "[[0.16958409000256103,\n",
              "  0.8510646128143668,\n",
              "  0.13271899084134905,\n",
              "  0.008416534485318473],\n",
              " [0.16958409000256103,\n",
              "  0.7268097546983396,\n",
              "  0.7169731931594889,\n",
              "  0.008416534485318473],\n",
              " [0.09600306843818907,\n",
              "  -1.8092056479482541,\n",
              "  0.3738220431359389,\n",
              "  -1.1249696362197164],\n",
              " [0.09600306843818907,\n",
              "  -1.8092056479482541,\n",
              "  0.3738220431359389,\n",
              "  -1.1249696362197164]]"
            ]
          },
          "metadata": {}
        },
        {
          "output_type": "stream",
          "name": "stdout",
          "text": [
            "\n"
          ]
        },
        {
          "output_type": "display_data",
          "data": {
            "text/plain": [
              "[0.029497315267036507,\n",
              " 0.1981824616699875,\n",
              " 255.3325000992798,\n",
              " 255.3325000992798]"
            ]
          },
          "metadata": {}
        },
        {
          "output_type": "display_data",
          "data": {
            "text/plain": [
              "58"
            ]
          },
          "metadata": {}
        },
        {
          "output_type": "stream",
          "name": "stdout",
          "text": [
            "\n"
          ]
        },
        {
          "output_type": "display_data",
          "data": {
            "text/plain": [
              "[[0.16958409000256103,\n",
              "  0.8510646128143668,\n",
              "  0.13271899084134905,\n",
              "  0.008416534485318473],\n",
              " [0.16958409000256103,\n",
              "  0.7268097546983396,\n",
              "  0.7169731931594889,\n",
              "  0.008416534485318473],\n",
              " [0.09600306843818907,\n",
              "  -1.8092056479482541,\n",
              "  0.3738220431359389,\n",
              "  -1.1249696362197164],\n",
              " [0.09600306843818907,\n",
              "  -1.8092056479482541,\n",
              "  0.2992035629467824,\n",
              "  -1.1249696362197164]]"
            ]
          },
          "metadata": {}
        },
        {
          "output_type": "stream",
          "name": "stdout",
          "text": [
            "\n"
          ]
        },
        {
          "output_type": "display_data",
          "data": {
            "text/plain": [
              "[0.029497315267036507, 0.1981824616699875, 257.537535580198, 255.3325000992798]"
            ]
          },
          "metadata": {}
        },
        {
          "output_type": "display_data",
          "data": {
            "text/plain": [
              "59"
            ]
          },
          "metadata": {}
        },
        {
          "output_type": "stream",
          "name": "stdout",
          "text": [
            "\n"
          ]
        },
        {
          "output_type": "display_data",
          "data": {
            "text/plain": [
              "[[0.16958409000256103,\n",
              "  0.8510646128143668,\n",
              "  0.13271899084134905,\n",
              "  0.008416534485318473],\n",
              " [0.16958409000256103,\n",
              "  0.7268097546983396,\n",
              "  0.7169731931594889,\n",
              "  0.008416534485318473],\n",
              " [0.09600306843818907,\n",
              "  -1.8092056479482541,\n",
              "  1.0187510084009528,\n",
              "  -1.1249696362197164],\n",
              " [0.09600306843818907,\n",
              "  -1.8092056479482541,\n",
              "  0.3738220431359389,\n",
              "  -1.1249696362197164]]"
            ]
          },
          "metadata": {}
        },
        {
          "output_type": "stream",
          "name": "stdout",
          "text": [
            "\n"
          ]
        },
        {
          "output_type": "display_data",
          "data": {
            "text/plain": [
              "[0.029497315267036507,\n",
              " 0.1981824616699875,\n",
              " 236.73839284475488,\n",
              " 255.3325000992798]"
            ]
          },
          "metadata": {}
        },
        {
          "output_type": "display_data",
          "data": {
            "text/plain": [
              "60"
            ]
          },
          "metadata": {}
        },
        {
          "output_type": "stream",
          "name": "stdout",
          "text": [
            "\n"
          ]
        },
        {
          "output_type": "display_data",
          "data": {
            "text/plain": [
              "[[0.16958409000256103,\n",
              "  0.8510646128143668,\n",
              "  0.13271899084134905,\n",
              "  0.008416534485318473],\n",
              " [0.16958409000256103,\n",
              "  0.7268097546983396,\n",
              "  0.7169731931594889,\n",
              "  0.008416534485318473],\n",
              " [0.09600306843818907,\n",
              "  -1.8092056479482541,\n",
              "  0.3738220431359389,\n",
              "  -1.1249696362197164],\n",
              " [0.09600306843818907,\n",
              "  -1.8092056479482541,\n",
              "  0.3738220431359389,\n",
              "  -1.1249696362197164]]"
            ]
          },
          "metadata": {}
        },
        {
          "output_type": "stream",
          "name": "stdout",
          "text": [
            "\n"
          ]
        },
        {
          "output_type": "display_data",
          "data": {
            "text/plain": [
              "[0.029497315267036507,\n",
              " 0.1981824616699875,\n",
              " 255.3325000992798,\n",
              " 255.3325000992798]"
            ]
          },
          "metadata": {}
        },
        {
          "output_type": "display_data",
          "data": {
            "text/plain": [
              "61"
            ]
          },
          "metadata": {}
        },
        {
          "output_type": "stream",
          "name": "stdout",
          "text": [
            "\n"
          ]
        },
        {
          "output_type": "display_data",
          "data": {
            "text/plain": [
              "[[0.16958409000256103,\n",
              "  0.8510646128143668,\n",
              "  0.13271899084134905,\n",
              "  0.008416534485318473],\n",
              " [0.16958409000256103,\n",
              "  0.7268097546983396,\n",
              "  0.7169731931594889,\n",
              "  0.008416534485318473],\n",
              " [0.09600306843818907,\n",
              "  -1.8092056479482541,\n",
              "  0.3738220431359389,\n",
              "  -1.1249696362197164],\n",
              " [0.09600306843818907,\n",
              "  -1.8092056479482541,\n",
              "  0.3738220431359389,\n",
              "  -1.1249696362197164]]"
            ]
          },
          "metadata": {}
        },
        {
          "output_type": "stream",
          "name": "stdout",
          "text": [
            "\n"
          ]
        },
        {
          "output_type": "display_data",
          "data": {
            "text/plain": [
              "[0.029497315267036507,\n",
              " 0.1981824616699875,\n",
              " 255.3325000992798,\n",
              " 255.3325000992798]"
            ]
          },
          "metadata": {}
        },
        {
          "output_type": "display_data",
          "data": {
            "text/plain": [
              "62"
            ]
          },
          "metadata": {}
        },
        {
          "output_type": "stream",
          "name": "stdout",
          "text": [
            "\n"
          ]
        },
        {
          "output_type": "display_data",
          "data": {
            "text/plain": [
              "[[0.16958409000256103,\n",
              "  0.8510646128143668,\n",
              "  0.13271899084134905,\n",
              "  0.008416534485318473],\n",
              " [0.16958409000256103,\n",
              "  0.7268097546983396,\n",
              "  0.7169731931594889,\n",
              "  0.008416534485318473],\n",
              " [0.09600306843818907,\n",
              "  -1.8092056479482541,\n",
              "  0.3738220431359389,\n",
              "  -1.1249696362197164],\n",
              " [0.09600306843818907,\n",
              "  -1.8092056479482541,\n",
              "  0.3738220431359389,\n",
              "  -1.1774128387987157]]"
            ]
          },
          "metadata": {}
        },
        {
          "output_type": "stream",
          "name": "stdout",
          "text": [
            "\n"
          ]
        },
        {
          "output_type": "display_data",
          "data": {
            "text/plain": [
              "[0.029497315267036507,\n",
              " 0.1981824616699875,\n",
              " 256.88107553420133,\n",
              " 255.3325000992798]"
            ]
          },
          "metadata": {}
        },
        {
          "output_type": "display_data",
          "data": {
            "text/plain": [
              "63"
            ]
          },
          "metadata": {}
        },
        {
          "output_type": "stream",
          "name": "stdout",
          "text": [
            "\n"
          ]
        },
        {
          "output_type": "display_data",
          "data": {
            "text/plain": [
              "[[0.16958409000256103,\n",
              "  0.8510646128143668,\n",
              "  0.13271899084134905,\n",
              "  0.008416534485318473],\n",
              " [0.16958409000256103,\n",
              "  0.7268097546983396,\n",
              "  0.7169731931594889,\n",
              "  0.008416534485318473],\n",
              " [0.09600306843818907,\n",
              "  -1.8092056479482541,\n",
              "  0.3738220431359389,\n",
              "  -1.1774128387987157],\n",
              " [0.09600306843818907,\n",
              "  -1.8092056479482541,\n",
              "  0.07884212232550736,\n",
              "  -1.1774128387987157]]"
            ]
          },
          "metadata": {}
        },
        {
          "output_type": "stream",
          "name": "stdout",
          "text": [
            "\n"
          ]
        },
        {
          "output_type": "display_data",
          "data": {
            "text/plain": [
              "[0.029497315267036507,\n",
              " 0.1981824616699875,\n",
              " 265.6939085622648,\n",
              " 256.88107553420133]"
            ]
          },
          "metadata": {}
        },
        {
          "output_type": "display_data",
          "data": {
            "text/plain": [
              "64"
            ]
          },
          "metadata": {}
        },
        {
          "output_type": "stream",
          "name": "stdout",
          "text": [
            "\n"
          ]
        },
        {
          "output_type": "display_data",
          "data": {
            "text/plain": [
              "[[0.16958409000256103,\n",
              "  0.8510646128143668,\n",
              "  0.13271899084134905,\n",
              "  0.008416534485318473],\n",
              " [0.16958409000256103,\n",
              "  0.7268097546983396,\n",
              "  0.7169731931594889,\n",
              "  0.008416534485318473],\n",
              " [0.09600306843818907,\n",
              "  -0.9713821840993735,\n",
              "  0.07884212232550736,\n",
              "  -1.1774128387987157],\n",
              " [0.09600306843818907,\n",
              "  -1.8092056479482541,\n",
              "  0.3738220431359389,\n",
              "  -1.1774128387987157]]"
            ]
          },
          "metadata": {}
        },
        {
          "output_type": "stream",
          "name": "stdout",
          "text": [
            "\n"
          ]
        },
        {
          "output_type": "display_data",
          "data": {
            "text/plain": [
              "[0.029497315267036507,\n",
              " 0.1981824616699875,\n",
              " 135.4095478694079,\n",
              " 256.88107553420133]"
            ]
          },
          "metadata": {}
        },
        {
          "output_type": "display_data",
          "data": {
            "text/plain": [
              "65"
            ]
          },
          "metadata": {}
        },
        {
          "output_type": "stream",
          "name": "stdout",
          "text": [
            "\n"
          ]
        },
        {
          "output_type": "display_data",
          "data": {
            "text/plain": [
              "[[0.16958409000256103,\n",
              "  0.8510646128143668,\n",
              "  0.13271899084134905,\n",
              "  0.008416534485318473],\n",
              " [0.16958409000256103,\n",
              "  0.7268097546983396,\n",
              "  0.7169731931594889,\n",
              "  0.008416534485318473],\n",
              " [0.09600306843818907,\n",
              "  -0.9713821840993735,\n",
              "  0.3738220431359389,\n",
              "  -1.1774128387987157],\n",
              " [0.09600306843818907,\n",
              "  -2.471427814362157,\n",
              "  0.07884212232550736,\n",
              "  -1.1774128387987157]]"
            ]
          },
          "metadata": {}
        },
        {
          "output_type": "stream",
          "name": "stdout",
          "text": [
            "\n"
          ]
        },
        {
          "output_type": "display_data",
          "data": {
            "text/plain": [
              "[0.029497315267036507,\n",
              " 0.1981824616699875,\n",
              " 399.4758792285443,\n",
              " 129.1175540513409]"
            ]
          },
          "metadata": {}
        },
        {
          "output_type": "display_data",
          "data": {
            "text/plain": [
              "66"
            ]
          },
          "metadata": {}
        },
        {
          "output_type": "stream",
          "name": "stdout",
          "text": [
            "\n"
          ]
        },
        {
          "output_type": "display_data",
          "data": {
            "text/plain": [
              "[[0.16958409000256103,\n",
              "  0.8510646128143668,\n",
              "  0.13271899084134905,\n",
              "  0.008416534485318473],\n",
              " [0.16958409000256103,\n",
              "  0.7268097546983396,\n",
              "  0.7169731931594889,\n",
              "  0.008416534485318473],\n",
              " [0.09600306843818907,\n",
              "  -2.471427814362157,\n",
              "  0.07884212232550736,\n",
              "  -1.1774128387987157],\n",
              " [0.09600306843818907,\n",
              "  -2.471427814362157,\n",
              "  0.07884212232550736,\n",
              "  -1.3245026485634703]]"
            ]
          },
          "metadata": {}
        },
        {
          "output_type": "stream",
          "name": "stdout",
          "text": [
            "\n"
          ]
        },
        {
          "output_type": "display_data",
          "data": {
            "text/plain": [
              "[0.029497315267036507,\n",
              " 0.1981824616699875,\n",
              " 404.9289073283906,\n",
              " 399.4758792285443]"
            ]
          },
          "metadata": {}
        },
        {
          "output_type": "display_data",
          "data": {
            "text/plain": [
              "67"
            ]
          },
          "metadata": {}
        },
        {
          "output_type": "stream",
          "name": "stdout",
          "text": [
            "\n"
          ]
        },
        {
          "output_type": "display_data",
          "data": {
            "text/plain": [
              "[[0.16958409000256103,\n",
              "  0.8510646128143668,\n",
              "  0.13271899084134905,\n",
              "  0.008416534485318473],\n",
              " [0.16958409000256103,\n",
              "  0.7268097546983396,\n",
              "  0.7169731931594889,\n",
              "  0.008416534485318473],\n",
              " [0.09600306843818907,\n",
              "  -2.471427814362157,\n",
              "  0.07884212232550736,\n",
              "  -1.1774128387987157],\n",
              " [0.09600306843818907,\n",
              "  -2.471427814362157,\n",
              "  0.07884212232550736,\n",
              "  -1.3245026485634703]]"
            ]
          },
          "metadata": {}
        },
        {
          "output_type": "stream",
          "name": "stdout",
          "text": [
            "\n"
          ]
        },
        {
          "output_type": "display_data",
          "data": {
            "text/plain": [
              "[0.029497315267036507,\n",
              " 0.1981824616699875,\n",
              " 399.4758792285443,\n",
              " 404.9289073283906]"
            ]
          },
          "metadata": {}
        },
        {
          "output_type": "display_data",
          "data": {
            "text/plain": [
              "68"
            ]
          },
          "metadata": {}
        },
        {
          "output_type": "stream",
          "name": "stdout",
          "text": [
            "\n"
          ]
        },
        {
          "output_type": "display_data",
          "data": {
            "text/plain": [
              "[[0.16958409000256103,\n",
              "  0.8510646128143668,\n",
              "  0.13271899084134905,\n",
              "  0.008416534485318473],\n",
              " [0.16958409000256103,\n",
              "  0.7268097546983396,\n",
              "  0.7169731931594889,\n",
              "  0.008416534485318473],\n",
              " [0.09600306843818907,\n",
              "  -2.471427814362157,\n",
              "  0.07884212232550736,\n",
              "  -1.1774128387987157],\n",
              " [0.09600306843818907,\n",
              "  -2.471427814362157,\n",
              "  -0.2850811672615483,\n",
              "  -1.1774128387987157]]"
            ]
          },
          "metadata": {}
        },
        {
          "output_type": "stream",
          "name": "stdout",
          "text": [
            "\n"
          ]
        },
        {
          "output_type": "display_data",
          "data": {
            "text/plain": [
              "[0.029497315267036507,\n",
              " 0.1981824616699875,\n",
              " 413.0464378905343,\n",
              " 399.4758792285443]"
            ]
          },
          "metadata": {}
        },
        {
          "output_type": "display_data",
          "data": {
            "text/plain": [
              "69"
            ]
          },
          "metadata": {}
        },
        {
          "output_type": "stream",
          "name": "stdout",
          "text": [
            "\n"
          ]
        },
        {
          "output_type": "display_data",
          "data": {
            "text/plain": [
              "[[0.16958409000256103,\n",
              "  0.8510646128143668,\n",
              "  0.13271899084134905,\n",
              "  0.008416534485318473],\n",
              " [0.16958409000256103,\n",
              "  0.7268097546983396,\n",
              "  0.7169731931594889,\n",
              "  0.008416534485318473],\n",
              " [0.09600306843818907,\n",
              "  -2.471427814362157,\n",
              "  0.07884212232550736,\n",
              "  -1.1774128387987157],\n",
              " [0.09600306843818907,\n",
              "  -3.062744180286506,\n",
              "  -0.2850811672615483,\n",
              "  -1.1774128387987157]]"
            ]
          },
          "metadata": {}
        },
        {
          "output_type": "stream",
          "name": "stdout",
          "text": [
            "\n"
          ]
        },
        {
          "output_type": "display_data",
          "data": {
            "text/plain": [
              "[0.029497315267036507, 0.1981824616699875, 557.684797394697, 399.4758792285443]"
            ]
          },
          "metadata": {}
        },
        {
          "output_type": "display_data",
          "data": {
            "text/plain": [
              "70"
            ]
          },
          "metadata": {}
        },
        {
          "output_type": "stream",
          "name": "stdout",
          "text": [
            "\n"
          ]
        },
        {
          "output_type": "display_data",
          "data": {
            "text/plain": [
              "[[0.16958409000256103,\n",
              "  0.8510646128143668,\n",
              "  0.13271899084134905,\n",
              "  0.008416534485318473],\n",
              " [0.16958409000256103,\n",
              "  0.7268097546983396,\n",
              "  0.7169731931594889,\n",
              "  0.008416534485318473],\n",
              " [0.09600306843818907,\n",
              "  -2.471427814362157,\n",
              "  0.07884212232550736,\n",
              "  -1.1774128387987157],\n",
              " [0.09600306843818907,\n",
              "  -3.062744180286506,\n",
              "  -0.2850811672615483,\n",
              "  -1.1774128387987157]]"
            ]
          },
          "metadata": {}
        },
        {
          "output_type": "stream",
          "name": "stdout",
          "text": [
            "\n"
          ]
        },
        {
          "output_type": "display_data",
          "data": {
            "text/plain": [
              "[0.029497315267036507, 0.1981824616699875, 399.4758792285443, 557.684797394697]"
            ]
          },
          "metadata": {}
        },
        {
          "output_type": "display_data",
          "data": {
            "text/plain": [
              "71"
            ]
          },
          "metadata": {}
        },
        {
          "output_type": "stream",
          "name": "stdout",
          "text": [
            "\n"
          ]
        },
        {
          "output_type": "display_data",
          "data": {
            "text/plain": [
              "[[0.16958409000256103,\n",
              "  0.8510646128143668,\n",
              "  0.13271899084134905,\n",
              "  0.008416534485318473],\n",
              " [0.16958409000256103,\n",
              "  0.7268097546983396,\n",
              "  0.7169731931594889,\n",
              "  0.008416534485318473],\n",
              " [0.7925583028988404,\n",
              "  -2.471427814362157,\n",
              "  -0.2850811672615483,\n",
              "  -1.1774128387987157],\n",
              " [0.09600306843818907,\n",
              "  -3.062744180286506,\n",
              "  0.07884212232550736,\n",
              "  -1.1774128387987157]]"
            ]
          },
          "metadata": {}
        },
        {
          "output_type": "stream",
          "name": "stdout",
          "text": [
            "\n"
          ]
        },
        {
          "output_type": "display_data",
          "data": {
            "text/plain": [
              "[0.029497315267036507,\n",
              " 0.1981824616699875,\n",
              " 339.1929097269433,\n",
              " 541.9192620025536]"
            ]
          },
          "metadata": {}
        },
        {
          "output_type": "display_data",
          "data": {
            "text/plain": [
              "72"
            ]
          },
          "metadata": {}
        },
        {
          "output_type": "stream",
          "name": "stdout",
          "text": [
            "\n"
          ]
        },
        {
          "output_type": "display_data",
          "data": {
            "text/plain": [
              "[[0.16958409000256103,\n",
              "  0.8510646128143668,\n",
              "  0.13271899084134905,\n",
              "  0.008416534485318473],\n",
              " [0.16958409000256103,\n",
              "  0.7268097546983396,\n",
              "  0.7169731931594889,\n",
              "  0.008416534485318473],\n",
              " [0.7925583028988404,\n",
              "  -3.062744180286506,\n",
              "  0.07884212232550736,\n",
              "  -1.1774128387987157],\n",
              " [0.09600306843818907,\n",
              "  -3.038422918976285,\n",
              "  -0.2850811672615483,\n",
              "  -1.1774128387987157]]"
            ]
          },
          "metadata": {}
        },
        {
          "output_type": "stream",
          "name": "stdout",
          "text": [
            "\n"
          ]
        },
        {
          "output_type": "display_data",
          "data": {
            "text/plain": [
              "[0.029497315267036507,\n",
              " 0.1981824616699875,\n",
              " 551.3080901157487,\n",
              " 456.7707196483234]"
            ]
          },
          "metadata": {}
        },
        {
          "output_type": "display_data",
          "data": {
            "text/plain": [
              "73"
            ]
          },
          "metadata": {}
        },
        {
          "output_type": "stream",
          "name": "stdout",
          "text": [
            "\n"
          ]
        },
        {
          "output_type": "display_data",
          "data": {
            "text/plain": [
              "[[0.16958409000256103,\n",
              "  0.8510646128143668,\n",
              "  0.13271899084134905,\n",
              "  0.008416534485318473],\n",
              " [0.16958409000256103,\n",
              "  0.7268097546983396,\n",
              "  0.7169731931594889,\n",
              "  0.008416534485318473],\n",
              " [0.09600306843818907,\n",
              "  -3.038422918976285,\n",
              "  -0.2850811672615483,\n",
              "  -1.1774128387987157],\n",
              " [0.09600306843818907,\n",
              "  -3.038422918976285,\n",
              "  -0.2850811672615483,\n",
              "  -1.1774128387987157]]"
            ]
          },
          "metadata": {}
        },
        {
          "output_type": "stream",
          "name": "stdout",
          "text": [
            "\n"
          ]
        },
        {
          "output_type": "display_data",
          "data": {
            "text/plain": [
              "[0.029497315267036507,\n",
              " 0.1981824616699875,\n",
              " 551.3080901157487,\n",
              " 551.3080901157487]"
            ]
          },
          "metadata": {}
        },
        {
          "output_type": "display_data",
          "data": {
            "text/plain": [
              "74"
            ]
          },
          "metadata": {}
        },
        {
          "output_type": "stream",
          "name": "stdout",
          "text": [
            "\n"
          ]
        },
        {
          "output_type": "display_data",
          "data": {
            "text/plain": [
              "[[0.16958409000256103,\n",
              "  0.8510646128143668,\n",
              "  0.13271899084134905,\n",
              "  0.008416534485318473],\n",
              " [0.16958409000256103,\n",
              "  0.7268097546983396,\n",
              "  0.7169731931594889,\n",
              "  0.008416534485318473],\n",
              " [0.09600306843818907,\n",
              "  -3.038422918976285,\n",
              "  -0.2850811672615483,\n",
              "  -1.1774128387987157],\n",
              " [0.09600306843818907,\n",
              "  -3.038422918976285,\n",
              "  -0.2850811672615483,\n",
              "  -1.1774128387987157]]"
            ]
          },
          "metadata": {}
        },
        {
          "output_type": "stream",
          "name": "stdout",
          "text": [
            "\n"
          ]
        },
        {
          "output_type": "display_data",
          "data": {
            "text/plain": [
              "[0.029497315267036507,\n",
              " 0.1981824616699875,\n",
              " 551.3080901157487,\n",
              " 551.3080901157487]"
            ]
          },
          "metadata": {}
        },
        {
          "output_type": "display_data",
          "data": {
            "text/plain": [
              "75"
            ]
          },
          "metadata": {}
        },
        {
          "output_type": "stream",
          "name": "stdout",
          "text": [
            "\n"
          ]
        },
        {
          "output_type": "display_data",
          "data": {
            "text/plain": [
              "[[0.16958409000256103,\n",
              "  0.8510646128143668,\n",
              "  0.13271899084134905,\n",
              "  0.008416534485318473],\n",
              " [0.16958409000256103,\n",
              "  0.7268097546983396,\n",
              "  0.7169731931594889,\n",
              "  0.008416534485318473],\n",
              " [0.09600306843818907,\n",
              "  -3.038422918976285,\n",
              "  -0.2850811672615483,\n",
              "  -1.1774128387987157],\n",
              " [-0.679815169510818,\n",
              "  -3.038422918976285,\n",
              "  -0.2850811672615483,\n",
              "  -1.1774128387987157]]"
            ]
          },
          "metadata": {}
        },
        {
          "output_type": "stream",
          "name": "stdout",
          "text": [
            "\n"
          ]
        },
        {
          "output_type": "display_data",
          "data": {
            "text/plain": [
              "[0.029497315267036507,\n",
              " 0.1981824616699875,\n",
              " 655.5493248466821,\n",
              " 551.3080901157487]"
            ]
          },
          "metadata": {}
        },
        {
          "output_type": "display_data",
          "data": {
            "text/plain": [
              "76"
            ]
          },
          "metadata": {}
        },
        {
          "output_type": "stream",
          "name": "stdout",
          "text": [
            "\n"
          ]
        },
        {
          "output_type": "display_data",
          "data": {
            "text/plain": [
              "[[0.16958409000256103,\n",
              "  0.8510646128143668,\n",
              "  0.13271899084134905,\n",
              "  0.008416534485318473],\n",
              " [0.16958409000256103,\n",
              "  0.7268097546983396,\n",
              "  0.7169731931594889,\n",
              "  0.008416534485318473],\n",
              " [0.09600306843818907,\n",
              "  -3.038422918976285,\n",
              "  -0.2850811672615483,\n",
              "  -1.24722363022034],\n",
              " [-0.679815169510818,\n",
              "  -3.038422918976285,\n",
              "  -0.2850811672615483,\n",
              "  -1.1774128387987157]]"
            ]
          },
          "metadata": {}
        },
        {
          "output_type": "stream",
          "name": "stdout",
          "text": [
            "\n"
          ]
        },
        {
          "output_type": "display_data",
          "data": {
            "text/plain": [
              "[0.029497315267036507,\n",
              " 0.1981824616699875,\n",
              " 554.3453270818586,\n",
              " 655.5493248466821]"
            ]
          },
          "metadata": {}
        },
        {
          "output_type": "display_data",
          "data": {
            "text/plain": [
              "77"
            ]
          },
          "metadata": {}
        },
        {
          "output_type": "stream",
          "name": "stdout",
          "text": [
            "\n"
          ]
        },
        {
          "output_type": "display_data",
          "data": {
            "text/plain": [
              "[[0.16958409000256103,\n",
              "  0.8510646128143668,\n",
              "  0.13271899084134905,\n",
              "  0.008416534485318473],\n",
              " [0.16958409000256103,\n",
              "  0.7268097546983396,\n",
              "  0.7169731931594889,\n",
              "  0.008416534485318473],\n",
              " [0.09600306843818907,\n",
              "  -3.038422918976285,\n",
              "  -0.2850811672615483,\n",
              "  -1.1774128387987157],\n",
              " [-0.679815169510818,\n",
              "  -3.038422918976285,\n",
              "  -0.2850811672615483,\n",
              "  -1.24722363022034]]"
            ]
          },
          "metadata": {}
        },
        {
          "output_type": "stream",
          "name": "stdout",
          "text": [
            "\n"
          ]
        },
        {
          "output_type": "display_data",
          "data": {
            "text/plain": [
              "[0.029497315267036507,\n",
              " 0.1981824616699875,\n",
              " 658.8573642387448,\n",
              " 551.3080901157487]"
            ]
          },
          "metadata": {}
        },
        {
          "output_type": "display_data",
          "data": {
            "text/plain": [
              "78"
            ]
          },
          "metadata": {}
        },
        {
          "output_type": "stream",
          "name": "stdout",
          "text": [
            "\n"
          ]
        },
        {
          "output_type": "display_data",
          "data": {
            "text/plain": [
              "[[0.16958409000256103,\n",
              "  0.8510646128143668,\n",
              "  0.13271899084134905,\n",
              "  0.008416534485318473],\n",
              " [0.16958409000256103,\n",
              "  0.7268097546983396,\n",
              "  0.7169731931594889,\n",
              "  0.008416534485318473],\n",
              " [-0.679815169510818,\n",
              "  -3.038422918976285,\n",
              "  -0.2850811672615483,\n",
              "  -1.24722363022034],\n",
              " [-0.679815169510818,\n",
              "  -3.038422918976285,\n",
              "  -0.2850811672615483,\n",
              "  -1.24722363022034]]"
            ]
          },
          "metadata": {}
        },
        {
          "output_type": "stream",
          "name": "stdout",
          "text": [
            "\n"
          ]
        },
        {
          "output_type": "display_data",
          "data": {
            "text/plain": [
              "[0.029497315267036507,\n",
              " 0.1981824616699875,\n",
              " 658.8573642387448,\n",
              " 658.8573642387448]"
            ]
          },
          "metadata": {}
        },
        {
          "output_type": "display_data",
          "data": {
            "text/plain": [
              "79"
            ]
          },
          "metadata": {}
        },
        {
          "output_type": "stream",
          "name": "stdout",
          "text": [
            "\n"
          ]
        },
        {
          "output_type": "display_data",
          "data": {
            "text/plain": [
              "[[0.16958409000256103,\n",
              "  0.8510646128143668,\n",
              "  0.13271899084134905,\n",
              "  0.008416534485318473],\n",
              " [0.16958409000256103,\n",
              "  0.7268097546983396,\n",
              "  0.7169731931594889,\n",
              "  0.008416534485318473],\n",
              " [-0.679815169510818,\n",
              "  -3.038422918976285,\n",
              "  -0.2850811672615483,\n",
              "  -1.24722363022034],\n",
              " [-0.679815169510818,\n",
              "  -3.038422918976285,\n",
              "  -0.2850811672615483,\n",
              "  -2.235992848473276]]"
            ]
          },
          "metadata": {}
        },
        {
          "output_type": "stream",
          "name": "stdout",
          "text": [
            "\n"
          ]
        },
        {
          "output_type": "display_data",
          "data": {
            "text/plain": [
              "[0.029497315267036507,\n",
              " 0.1981824616699875,\n",
              " 706.7576645443135,\n",
              " 658.8573642387448]"
            ]
          },
          "metadata": {}
        },
        {
          "output_type": "display_data",
          "data": {
            "text/plain": [
              "80"
            ]
          },
          "metadata": {}
        },
        {
          "output_type": "stream",
          "name": "stdout",
          "text": [
            "\n"
          ]
        },
        {
          "output_type": "display_data",
          "data": {
            "text/plain": [
              "[[0.16958409000256103,\n",
              "  0.8510646128143668,\n",
              "  0.13271899084134905,\n",
              "  0.008416534485318473],\n",
              " [0.16958409000256103,\n",
              "  0.7268097546983396,\n",
              "  0.7169731931594889,\n",
              "  0.008416534485318473],\n",
              " [-0.679815169510818,\n",
              "  -3.038422918976285,\n",
              "  -0.2850811672615483,\n",
              "  -2.235992848473276],\n",
              " [-0.679815169510818,\n",
              "  -3.038422918976285,\n",
              "  -0.2850811672615483,\n",
              "  -2.235992848473276]]"
            ]
          },
          "metadata": {}
        },
        {
          "output_type": "stream",
          "name": "stdout",
          "text": [
            "\n"
          ]
        },
        {
          "output_type": "display_data",
          "data": {
            "text/plain": [
              "[0.029497315267036507,\n",
              " 0.1981824616699875,\n",
              " 706.7576645443135,\n",
              " 706.7576645443135]"
            ]
          },
          "metadata": {}
        },
        {
          "output_type": "display_data",
          "data": {
            "text/plain": [
              "81"
            ]
          },
          "metadata": {}
        },
        {
          "output_type": "stream",
          "name": "stdout",
          "text": [
            "\n"
          ]
        },
        {
          "output_type": "display_data",
          "data": {
            "text/plain": [
              "[[0.16958409000256103,\n",
              "  0.8510646128143668,\n",
              "  0.13271899084134905,\n",
              "  0.008416534485318473],\n",
              " [0.16958409000256103,\n",
              "  0.7268097546983396,\n",
              "  0.7169731931594889,\n",
              "  0.008416534485318473],\n",
              " [-0.679815169510818,\n",
              "  -3.038422918976285,\n",
              "  -0.23444715887498968,\n",
              "  -2.235992848473276],\n",
              " [-0.679815169510818,\n",
              "  -3.038422918976285,\n",
              "  -0.2850811672615483,\n",
              "  -2.235992848473276]]"
            ]
          },
          "metadata": {}
        },
        {
          "output_type": "stream",
          "name": "stdout",
          "text": [
            "\n"
          ]
        },
        {
          "output_type": "display_data",
          "data": {
            "text/plain": [
              "[0.029497315267036507, 0.1981824616699875, 704.257230440644, 706.7576645443135]"
            ]
          },
          "metadata": {}
        },
        {
          "output_type": "display_data",
          "data": {
            "text/plain": [
              "82"
            ]
          },
          "metadata": {}
        },
        {
          "output_type": "stream",
          "name": "stdout",
          "text": [
            "\n"
          ]
        },
        {
          "output_type": "display_data",
          "data": {
            "text/plain": [
              "[[0.16958409000256103,\n",
              "  0.8510646128143668,\n",
              "  0.13271899084134905,\n",
              "  0.008416534485318473],\n",
              " [0.16958409000256103,\n",
              "  0.7268097546983396,\n",
              "  0.7169731931594889,\n",
              "  0.008416534485318473],\n",
              " [-0.679815169510818,\n",
              "  -3.038422918976285,\n",
              "  -0.23444715887498968,\n",
              "  -2.235992848473276],\n",
              " [-0.679815169510818,\n",
              "  -3.3423903954057232,\n",
              "  -0.23444715887498968,\n",
              "  -2.235992848473276]]"
            ]
          },
          "metadata": {}
        },
        {
          "output_type": "stream",
          "name": "stdout",
          "text": [
            "\n"
          ]
        },
        {
          "output_type": "display_data",
          "data": {
            "text/plain": [
              "[0.029497315267036507, 0.1981824616699875, 796.9070861691663, 704.257230440644]"
            ]
          },
          "metadata": {}
        },
        {
          "output_type": "display_data",
          "data": {
            "text/plain": [
              "83"
            ]
          },
          "metadata": {}
        },
        {
          "output_type": "stream",
          "name": "stdout",
          "text": [
            "\n"
          ]
        },
        {
          "output_type": "display_data",
          "data": {
            "text/plain": [
              "[[0.16958409000256103,\n",
              "  0.8510646128143668,\n",
              "  0.13271899084134905,\n",
              "  0.008416534485318473],\n",
              " [0.16958409000256103,\n",
              "  0.7268097546983396,\n",
              "  0.7169731931594889,\n",
              "  0.008416534485318473],\n",
              " [-0.679815169510818,\n",
              "  -3.038422918976285,\n",
              "  -0.23444715887498968,\n",
              "  -2.235992848473276],\n",
              " [-0.679815169510818,\n",
              "  -3.3423903954057232,\n",
              "  -0.23444715887498968,\n",
              "  -2.235992848473276]]"
            ]
          },
          "metadata": {}
        },
        {
          "output_type": "stream",
          "name": "stdout",
          "text": [
            "\n"
          ]
        },
        {
          "output_type": "display_data",
          "data": {
            "text/plain": [
              "[0.029497315267036507, 0.1981824616699875, 796.9070861691663, 704.257230440644]"
            ]
          },
          "metadata": {}
        },
        {
          "output_type": "display_data",
          "data": {
            "text/plain": [
              "84"
            ]
          },
          "metadata": {}
        },
        {
          "output_type": "stream",
          "name": "stdout",
          "text": [
            "\n"
          ]
        },
        {
          "output_type": "display_data",
          "data": {
            "text/plain": [
              "[[0.16958409000256103,\n",
              "  0.8510646128143668,\n",
              "  0.13271899084134905,\n",
              "  0.008416534485318473],\n",
              " [0.16958409000256103,\n",
              "  0.7268097546983396,\n",
              "  0.7169731931594889,\n",
              "  0.008416534485318473],\n",
              " [-0.679815169510818,\n",
              "  -3.038422918976285,\n",
              "  -0.23444715887498968,\n",
              "  -1.7567060618807189],\n",
              " [-0.679815169510818,\n",
              "  -3.038422918976285,\n",
              "  -0.23444715887498968,\n",
              "  -2.235992848473276]]"
            ]
          },
          "metadata": {}
        },
        {
          "output_type": "stream",
          "name": "stdout",
          "text": [
            "\n"
          ]
        },
        {
          "output_type": "display_data",
          "data": {
            "text/plain": [
              "[0.029497315267036507, 0.1981824616699875, 680.8428329900964, 704.257230440644]"
            ]
          },
          "metadata": {}
        },
        {
          "output_type": "display_data",
          "data": {
            "text/plain": [
              "85"
            ]
          },
          "metadata": {}
        },
        {
          "output_type": "stream",
          "name": "stdout",
          "text": [
            "\n"
          ]
        },
        {
          "output_type": "display_data",
          "data": {
            "text/plain": [
              "[[0.16958409000256103,\n",
              "  0.8510646128143668,\n",
              "  0.13271899084134905,\n",
              "  0.008416534485318473],\n",
              " [0.16958409000256103,\n",
              "  0.7268097546983396,\n",
              "  0.7169731931594889,\n",
              "  0.008416534485318473],\n",
              " [-0.679815169510818,\n",
              "  -3.038422918976285,\n",
              "  -0.23444715887498968,\n",
              "  -2.235992848473276],\n",
              " [-0.679815169510818,\n",
              "  -3.038422918976285,\n",
              "  -0.23444715887498968,\n",
              "  -2.235992848473276]]"
            ]
          },
          "metadata": {}
        },
        {
          "output_type": "stream",
          "name": "stdout",
          "text": [
            "\n"
          ]
        },
        {
          "output_type": "display_data",
          "data": {
            "text/plain": [
              "[0.029497315267036507, 0.1981824616699875, 704.257230440644, 704.257230440644]"
            ]
          },
          "metadata": {}
        },
        {
          "output_type": "display_data",
          "data": {
            "text/plain": [
              "86"
            ]
          },
          "metadata": {}
        },
        {
          "output_type": "stream",
          "name": "stdout",
          "text": [
            "\n"
          ]
        },
        {
          "output_type": "display_data",
          "data": {
            "text/plain": [
              "[[0.16958409000256103,\n",
              "  0.8510646128143668,\n",
              "  0.13271899084134905,\n",
              "  0.008416534485318473],\n",
              " [0.16958409000256103,\n",
              "  0.7268097546983396,\n",
              "  0.7169731931594889,\n",
              "  0.008416534485318473],\n",
              " [-0.679815169510818,\n",
              "  -3.038422918976285,\n",
              "  -0.23444715887498968,\n",
              "  -2.235992848473276],\n",
              " [-0.679815169510818,\n",
              "  -3.038422918976285,\n",
              "  -0.23444715887498968,\n",
              "  -2.235992848473276]]"
            ]
          },
          "metadata": {}
        },
        {
          "output_type": "stream",
          "name": "stdout",
          "text": [
            "\n"
          ]
        },
        {
          "output_type": "display_data",
          "data": {
            "text/plain": [
              "[0.029497315267036507, 0.1981824616699875, 704.257230440644, 704.257230440644]"
            ]
          },
          "metadata": {}
        },
        {
          "output_type": "display_data",
          "data": {
            "text/plain": [
              "87"
            ]
          },
          "metadata": {}
        },
        {
          "output_type": "stream",
          "name": "stdout",
          "text": [
            "\n"
          ]
        },
        {
          "output_type": "display_data",
          "data": {
            "text/plain": [
              "[[0.16958409000256103,\n",
              "  0.8510646128143668,\n",
              "  0.13271899084134905,\n",
              "  0.008416534485318473],\n",
              " [0.16958409000256103,\n",
              "  0.7268097546983396,\n",
              "  0.7169731931594889,\n",
              "  0.008416534485318473],\n",
              " [-0.679815169510818,\n",
              "  -3.038422918976285,\n",
              "  -0.23444715887498968,\n",
              "  -2.235992848473276],\n",
              " [-0.679815169510818,\n",
              "  -3.038422918976285,\n",
              "  -0.23444715887498968,\n",
              "  -2.235992848473276]]"
            ]
          },
          "metadata": {}
        },
        {
          "output_type": "stream",
          "name": "stdout",
          "text": [
            "\n"
          ]
        },
        {
          "output_type": "display_data",
          "data": {
            "text/plain": [
              "[0.029497315267036507, 0.1981824616699875, 704.257230440644, 704.257230440644]"
            ]
          },
          "metadata": {}
        },
        {
          "output_type": "display_data",
          "data": {
            "text/plain": [
              "88"
            ]
          },
          "metadata": {}
        },
        {
          "output_type": "stream",
          "name": "stdout",
          "text": [
            "\n"
          ]
        },
        {
          "output_type": "display_data",
          "data": {
            "text/plain": [
              "[[0.16958409000256103,\n",
              "  0.8510646128143668,\n",
              "  0.13271899084134905,\n",
              "  0.008416534485318473],\n",
              " [0.16958409000256103,\n",
              "  0.7268097546983396,\n",
              "  0.7169731931594889,\n",
              "  0.008416534485318473],\n",
              " [-0.679815169510818,\n",
              "  -3.038422918976285,\n",
              "  -0.23444715887498968,\n",
              "  -2.235992848473276],\n",
              " [-0.679815169510818,\n",
              "  -3.038422918976285,\n",
              "  -0.7558868272918011,\n",
              "  -2.235992848473276]]"
            ]
          },
          "metadata": {}
        },
        {
          "output_type": "stream",
          "name": "stdout",
          "text": [
            "\n"
          ]
        },
        {
          "output_type": "display_data",
          "data": {
            "text/plain": [
              "[0.029497315267036507, 0.1981824616699875, 730.2527235137201, 704.257230440644]"
            ]
          },
          "metadata": {}
        },
        {
          "output_type": "display_data",
          "data": {
            "text/plain": [
              "89"
            ]
          },
          "metadata": {}
        },
        {
          "output_type": "stream",
          "name": "stdout",
          "text": [
            "\n"
          ]
        },
        {
          "output_type": "display_data",
          "data": {
            "text/plain": [
              "[[0.16958409000256103,\n",
              "  0.8510646128143668,\n",
              "  0.13271899084134905,\n",
              "  0.008416534485318473],\n",
              " [0.16958409000256103,\n",
              "  0.7268097546983396,\n",
              "  0.7169731931594889,\n",
              "  0.008416534485318473],\n",
              " [-0.679815169510818,\n",
              "  -3.038422918976285,\n",
              "  -0.23444715887498968,\n",
              "  -2.235992848473276],\n",
              " [-0.679815169510818,\n",
              "  -3.038422918976285,\n",
              "  -0.7558868272918011,\n",
              "  -2.235992848473276]]"
            ]
          },
          "metadata": {}
        },
        {
          "output_type": "stream",
          "name": "stdout",
          "text": [
            "\n"
          ]
        },
        {
          "output_type": "display_data",
          "data": {
            "text/plain": [
              "[0.029497315267036507, 0.1981824616699875, 730.2527235137201, 704.257230440644]"
            ]
          },
          "metadata": {}
        },
        {
          "output_type": "display_data",
          "data": {
            "text/plain": [
              "90"
            ]
          },
          "metadata": {}
        },
        {
          "output_type": "stream",
          "name": "stdout",
          "text": [
            "\n"
          ]
        },
        {
          "output_type": "display_data",
          "data": {
            "text/plain": [
              "[[0.16958409000256103,\n",
              "  0.8510646128143668,\n",
              "  0.13271899084134905,\n",
              "  0.008416534485318473],\n",
              " [0.16958409000256103,\n",
              "  0.7268097546983396,\n",
              "  0.7169731931594889,\n",
              "  0.008416534485318473],\n",
              " [-0.679815169510818,\n",
              "  -3.038422918976285,\n",
              "  -0.23444715887498968,\n",
              "  -2.235992848473276],\n",
              " [-0.679815169510818,\n",
              "  -3.038422918976285,\n",
              "  -0.7558868272918011,\n",
              "  -2.235992848473276]]"
            ]
          },
          "metadata": {}
        },
        {
          "output_type": "stream",
          "name": "stdout",
          "text": [
            "\n"
          ]
        },
        {
          "output_type": "display_data",
          "data": {
            "text/plain": [
              "[0.029497315267036507, 0.1981824616699875, 704.257230440644, 730.2527235137201]"
            ]
          },
          "metadata": {}
        },
        {
          "output_type": "display_data",
          "data": {
            "text/plain": [
              "91"
            ]
          },
          "metadata": {}
        },
        {
          "output_type": "stream",
          "name": "stdout",
          "text": [
            "\n"
          ]
        },
        {
          "output_type": "display_data",
          "data": {
            "text/plain": [
              "[[0.16958409000256103,\n",
              "  0.8510646128143668,\n",
              "  0.13271899084134905,\n",
              "  0.008416534485318473],\n",
              " [0.16958409000256103,\n",
              "  0.7268097546983396,\n",
              "  0.7169731931594889,\n",
              "  0.008416534485318473],\n",
              " [-0.679815169510818,\n",
              "  -3.038422918976285,\n",
              "  -0.7558868272918011,\n",
              "  -2.235992848473276],\n",
              " [-1.5873601656641907,\n",
              "  -3.038422918976285,\n",
              "  -0.7558868272918011,\n",
              "  -2.235992848473276]]"
            ]
          },
          "metadata": {}
        },
        {
          "output_type": "stream",
          "name": "stdout",
          "text": [
            "\n"
          ]
        },
        {
          "output_type": "display_data",
          "data": {
            "text/plain": [
              "[0.029497315267036507, 0.1981824616699875, 870.591046021389, 730.2527235137201]"
            ]
          },
          "metadata": {}
        },
        {
          "output_type": "display_data",
          "data": {
            "text/plain": [
              "92"
            ]
          },
          "metadata": {}
        },
        {
          "output_type": "stream",
          "name": "stdout",
          "text": [
            "\n"
          ]
        },
        {
          "output_type": "display_data",
          "data": {
            "text/plain": [
              "[[0.16958409000256103,\n",
              "  0.8510646128143668,\n",
              "  0.13271899084134905,\n",
              "  0.008416534485318473],\n",
              " [0.16958409000256103,\n",
              "  0.7268097546983396,\n",
              "  0.7169731931594889,\n",
              "  0.008416534485318473],\n",
              " [-1.5873601656641907,\n",
              "  -3.038422918976285,\n",
              "  -0.7558868272918011,\n",
              "  -2.235992848473276],\n",
              " [-1.5873601656641907,\n",
              "  -3.038422918976285,\n",
              "  -0.7558868272918011,\n",
              "  -2.235992848473276]]"
            ]
          },
          "metadata": {}
        },
        {
          "output_type": "stream",
          "name": "stdout",
          "text": [
            "\n"
          ]
        },
        {
          "output_type": "display_data",
          "data": {
            "text/plain": [
              "[0.029497315267036507, 0.1981824616699875, 870.591046021389, 870.591046021389]"
            ]
          },
          "metadata": {}
        },
        {
          "output_type": "display_data",
          "data": {
            "text/plain": [
              "93"
            ]
          },
          "metadata": {}
        },
        {
          "output_type": "stream",
          "name": "stdout",
          "text": [
            "\n"
          ]
        },
        {
          "output_type": "display_data",
          "data": {
            "text/plain": [
              "[[0.16958409000256103,\n",
              "  0.8510646128143668,\n",
              "  0.13271899084134905,\n",
              "  0.008416534485318473],\n",
              " [0.16958409000256103,\n",
              "  0.7268097546983396,\n",
              "  0.7169731931594889,\n",
              "  0.008416534485318473],\n",
              " [-1.5873601656641907,\n",
              "  -3.038422918976285,\n",
              "  -0.7558868272918011,\n",
              "  -2.235992848473276],\n",
              " [-1.5873601656641907,\n",
              "  -3.038422918976285,\n",
              "  -0.7558868272918011,\n",
              "  -2.235992848473276]]"
            ]
          },
          "metadata": {}
        },
        {
          "output_type": "stream",
          "name": "stdout",
          "text": [
            "\n"
          ]
        },
        {
          "output_type": "display_data",
          "data": {
            "text/plain": [
              "[0.029497315267036507, 0.1981824616699875, 870.591046021389, 870.591046021389]"
            ]
          },
          "metadata": {}
        },
        {
          "output_type": "display_data",
          "data": {
            "text/plain": [
              "94"
            ]
          },
          "metadata": {}
        },
        {
          "output_type": "stream",
          "name": "stdout",
          "text": [
            "\n"
          ]
        },
        {
          "output_type": "display_data",
          "data": {
            "text/plain": [
              "[[0.16958409000256103,\n",
              "  0.8510646128143668,\n",
              "  0.13271899084134905,\n",
              "  0.008416534485318473],\n",
              " [0.16958409000256103,\n",
              "  0.7268097546983396,\n",
              "  0.7169731931594889,\n",
              "  0.008416534485318473],\n",
              " [-1.5873601656641907,\n",
              "  -3.038422918976285,\n",
              "  -0.7558868272918011,\n",
              "  -2.235992848473276],\n",
              " [-1.5873601656641907,\n",
              "  -3.038422918976285,\n",
              "  -0.7558868272918011,\n",
              "  -2.235992848473276]]"
            ]
          },
          "metadata": {}
        },
        {
          "output_type": "stream",
          "name": "stdout",
          "text": [
            "\n"
          ]
        },
        {
          "output_type": "display_data",
          "data": {
            "text/plain": [
              "[0.029497315267036507, 0.1981824616699875, 870.591046021389, 870.591046021389]"
            ]
          },
          "metadata": {}
        },
        {
          "output_type": "display_data",
          "data": {
            "text/plain": [
              "95"
            ]
          },
          "metadata": {}
        },
        {
          "output_type": "stream",
          "name": "stdout",
          "text": [
            "\n"
          ]
        },
        {
          "output_type": "display_data",
          "data": {
            "text/plain": [
              "[[0.16958409000256103,\n",
              "  0.8510646128143668,\n",
              "  0.13271899084134905,\n",
              "  0.008416534485318473],\n",
              " [0.16958409000256103,\n",
              "  0.7268097546983396,\n",
              "  0.7169731931594889,\n",
              "  0.008416534485318473],\n",
              " [-1.5873601656641907,\n",
              "  -3.038422918976285,\n",
              "  -0.7558868272918011,\n",
              "  -2.235992848473276],\n",
              " [-1.5873601656641907,\n",
              "  -3.038422918976285,\n",
              "  -0.7558868272918011,\n",
              "  -2.4955891074743133]]"
            ]
          },
          "metadata": {}
        },
        {
          "output_type": "stream",
          "name": "stdout",
          "text": [
            "\n"
          ]
        },
        {
          "output_type": "display_data",
          "data": {
            "text/plain": [
              "[0.029497315267036507, 0.1981824616699875, 884.9135090498734, 870.591046021389]"
            ]
          },
          "metadata": {}
        },
        {
          "output_type": "display_data",
          "data": {
            "text/plain": [
              "96"
            ]
          },
          "metadata": {}
        },
        {
          "output_type": "stream",
          "name": "stdout",
          "text": [
            "\n"
          ]
        },
        {
          "output_type": "display_data",
          "data": {
            "text/plain": [
              "[[0.16958409000256103,\n",
              "  0.8510646128143668,\n",
              "  0.13271899084134905,\n",
              "  0.008416534485318473],\n",
              " [0.16958409000256103,\n",
              "  0.7268097546983396,\n",
              "  0.7169731931594889,\n",
              "  0.008416534485318473],\n",
              " [-1.5873601656641907,\n",
              "  -3.038422918976285,\n",
              "  -0.7558868272918011,\n",
              "  -1.9654006747636819],\n",
              " [-1.5873601656641907,\n",
              "  -3.038422918976285,\n",
              "  -0.7558868272918011,\n",
              "  -2.235992848473276]]"
            ]
          },
          "metadata": {}
        },
        {
          "output_type": "stream",
          "name": "stdout",
          "text": [
            "\n"
          ]
        },
        {
          "output_type": "display_data",
          "data": {
            "text/plain": [
              "[0.029497315267036507, 0.1981824616699875, 855.8053804550375, 870.591046021389]"
            ]
          },
          "metadata": {}
        },
        {
          "output_type": "display_data",
          "data": {
            "text/plain": [
              "97"
            ]
          },
          "metadata": {}
        },
        {
          "output_type": "stream",
          "name": "stdout",
          "text": [
            "\n"
          ]
        },
        {
          "output_type": "display_data",
          "data": {
            "text/plain": [
              "[[0.16958409000256103,\n",
              "  0.8510646128143668,\n",
              "  0.13271899084134905,\n",
              "  0.008416534485318473],\n",
              " [0.16958409000256103,\n",
              "  0.7268097546983396,\n",
              "  0.7169731931594889,\n",
              "  0.008416534485318473],\n",
              " [-1.5873601656641907,\n",
              "  -3.038422918976285,\n",
              "  -0.7558868272918011,\n",
              "  -2.235992848473276],\n",
              " [-2.2843272444406333,\n",
              "  -3.038422918976285,\n",
              "  -0.7558868272918011,\n",
              "  -1.9654006747636819]]"
            ]
          },
          "metadata": {}
        },
        {
          "output_type": "stream",
          "name": "stdout",
          "text": [
            "\n"
          ]
        },
        {
          "output_type": "display_data",
          "data": {
            "text/plain": [
              "[0.029497315267036507, 0.1981824616699875, 971.0251845543471, 870.591046021389]"
            ]
          },
          "metadata": {}
        },
        {
          "output_type": "display_data",
          "data": {
            "text/plain": [
              "98"
            ]
          },
          "metadata": {}
        },
        {
          "output_type": "stream",
          "name": "stdout",
          "text": [
            "\n"
          ]
        },
        {
          "output_type": "display_data",
          "data": {
            "text/plain": [
              "[[0.16958409000256103,\n",
              "  0.8510646128143668,\n",
              "  0.13271899084134905,\n",
              "  0.008416534485318473],\n",
              " [0.16958409000256103,\n",
              "  0.7268097546983396,\n",
              "  0.7169731931594889,\n",
              "  0.008416534485318473],\n",
              " [-1.5873601656641907,\n",
              "  -3.038422918976285,\n",
              "  -0.7558868272918011,\n",
              "  -1.9654006747636819],\n",
              " [-2.2843272444406333,\n",
              "  -3.038422918976285,\n",
              "  -0.7558868272918011,\n",
              "  -2.235992848473276]]"
            ]
          },
          "metadata": {}
        },
        {
          "output_type": "stream",
          "name": "stdout",
          "text": [
            "\n"
          ]
        },
        {
          "output_type": "display_data",
          "data": {
            "text/plain": [
              "[0.029497315267036507,\n",
              " 0.1981824616699875,\n",
              " 986.7538193049495,\n",
              " 855.8053804550375]"
            ]
          },
          "metadata": {}
        },
        {
          "output_type": "display_data",
          "data": {
            "text/plain": [
              "99"
            ]
          },
          "metadata": {}
        },
        {
          "output_type": "stream",
          "name": "stdout",
          "text": [
            "\n"
          ]
        },
        {
          "output_type": "display_data",
          "data": {
            "text/plain": [
              "[[0.16958409000256103,\n",
              "  0.8510646128143668,\n",
              "  0.13271899084134905,\n",
              "  0.008416534485318473],\n",
              " [0.16958409000256103,\n",
              "  0.7268097546983396,\n",
              "  0.7169731931594889,\n",
              "  0.008416534485318473],\n",
              " [-2.2843272444406333,\n",
              "  -3.038422918976285,\n",
              "  -0.7558868272918011,\n",
              "  -2.235992848473276],\n",
              " [-2.2843272444406333,\n",
              "  -3.038422918976285,\n",
              "  -1.3907627648775465,\n",
              "  -2.235992848473276]]"
            ]
          },
          "metadata": {}
        },
        {
          "output_type": "stream",
          "name": "stdout",
          "text": [
            "\n"
          ]
        },
        {
          "output_type": "display_data",
          "data": {
            "text/plain": [
              "[0.029497315267036507,\n",
              " 0.1981824616699875,\n",
              " 1024.2319332854213,\n",
              " 986.7538193049495]"
            ]
          },
          "metadata": {}
        },
        {
          "output_type": "display_data",
          "data": {
            "text/plain": [
              "100"
            ]
          },
          "metadata": {}
        },
        {
          "output_type": "stream",
          "name": "stdout",
          "text": [
            "\n"
          ]
        },
        {
          "output_type": "display_data",
          "data": {
            "text/plain": [
              "[[0.16958409000256103,\n",
              "  0.8510646128143668,\n",
              "  0.13271899084134905,\n",
              "  0.008416534485318473],\n",
              " [0.16958409000256103,\n",
              "  0.7268097546983396,\n",
              "  0.7169731931594889,\n",
              "  0.008416534485318473],\n",
              " [-2.2843272444406333,\n",
              "  -3.038422918976285,\n",
              "  -0.7558868272918011,\n",
              "  -2.235992848473276],\n",
              " [-2.2843272444406333,\n",
              "  -3.038422918976285,\n",
              "  -1.4113976503719958,\n",
              "  -2.235992848473276]]"
            ]
          },
          "metadata": {}
        },
        {
          "output_type": "stream",
          "name": "stdout",
          "text": [
            "\n"
          ]
        },
        {
          "output_type": "display_data",
          "data": {
            "text/plain": [
              "[0.029497315267036507,\n",
              " 0.1981824616699875,\n",
              " 1025.4635820600365,\n",
              " 986.7538193049495]"
            ]
          },
          "metadata": {}
        },
        {
          "output_type": "display_data",
          "data": {
            "text/plain": [
              "101"
            ]
          },
          "metadata": {}
        },
        {
          "output_type": "stream",
          "name": "stdout",
          "text": [
            "\n"
          ]
        },
        {
          "output_type": "display_data",
          "data": {
            "text/plain": [
              "[[0.16958409000256103,\n",
              "  0.8510646128143668,\n",
              "  0.13271899084134905,\n",
              "  0.008416534485318473],\n",
              " [0.16958409000256103,\n",
              "  0.7268097546983396,\n",
              "  0.7169731931594889,\n",
              "  0.008416534485318473],\n",
              " [-2.2843272444406333,\n",
              "  -3.038422918976285,\n",
              "  -1.4113976503719958,\n",
              "  -1.4098516222524866],\n",
              " [-2.2843272444406333,\n",
              "  -3.038422918976285,\n",
              "  -1.4113976503719958,\n",
              "  -2.235992848473276]]"
            ]
          },
          "metadata": {}
        },
        {
          "output_type": "stream",
          "name": "stdout",
          "text": [
            "\n"
          ]
        },
        {
          "output_type": "display_data",
          "data": {
            "text/plain": [
              "[0.029497315267036507,\n",
              " 0.1981824616699875,\n",
              " 976.818577603171,\n",
              " 1025.4635820600365]"
            ]
          },
          "metadata": {}
        },
        {
          "output_type": "display_data",
          "data": {
            "text/plain": [
              "102"
            ]
          },
          "metadata": {}
        },
        {
          "output_type": "stream",
          "name": "stdout",
          "text": [
            "\n"
          ]
        },
        {
          "output_type": "display_data",
          "data": {
            "text/plain": [
              "[[0.16958409000256103,\n",
              "  0.8510646128143668,\n",
              "  0.13271899084134905,\n",
              "  0.008416534485318473],\n",
              " [0.16958409000256103,\n",
              "  0.7268097546983396,\n",
              "  0.7169731931594889,\n",
              "  0.008416534485318473],\n",
              " [-2.2843272444406333,\n",
              "  -3.038422918976285,\n",
              "  -1.4113976503719958,\n",
              "  -2.235992848473276],\n",
              " [-2.2843272444406333,\n",
              "  -3.038422918976285,\n",
              "  -1.4113976503719958,\n",
              "  -2.235992848473276]]"
            ]
          },
          "metadata": {}
        },
        {
          "output_type": "stream",
          "name": "stdout",
          "text": [
            "\n"
          ]
        },
        {
          "output_type": "display_data",
          "data": {
            "text/plain": [
              "[0.029497315267036507,\n",
              " 0.1981824616699875,\n",
              " 1025.4635820600365,\n",
              " 1025.4635820600365]"
            ]
          },
          "metadata": {}
        },
        {
          "output_type": "display_data",
          "data": {
            "text/plain": [
              "103"
            ]
          },
          "metadata": {}
        },
        {
          "output_type": "stream",
          "name": "stdout",
          "text": [
            "\n"
          ]
        },
        {
          "output_type": "display_data",
          "data": {
            "text/plain": [
              "[[0.16958409000256103,\n",
              "  0.8510646128143668,\n",
              "  0.13271899084134905,\n",
              "  0.008416534485318473],\n",
              " [0.16958409000256103,\n",
              "  0.7268097546983396,\n",
              "  0.7169731931594889,\n",
              "  0.008416534485318473],\n",
              " [-2.2843272444406333,\n",
              "  -2.800499476950802,\n",
              "  -1.4113976503719958,\n",
              "  -2.235992848473276],\n",
              " [-2.2843272444406333,\n",
              "  -3.038422918976285,\n",
              "  -1.4113976503719958,\n",
              "  -2.235992848473276]]"
            ]
          },
          "metadata": {}
        },
        {
          "output_type": "stream",
          "name": "stdout",
          "text": [
            "\n"
          ]
        },
        {
          "output_type": "display_data",
          "data": {
            "text/plain": [
              "[0.029497315267036507,\n",
              " 0.1981824616699875,\n",
              " 942.4424935114278,\n",
              " 1025.4635820600365]"
            ]
          },
          "metadata": {}
        },
        {
          "output_type": "display_data",
          "data": {
            "text/plain": [
              "104"
            ]
          },
          "metadata": {}
        },
        {
          "output_type": "stream",
          "name": "stdout",
          "text": [
            "\n"
          ]
        },
        {
          "output_type": "display_data",
          "data": {
            "text/plain": [
              "[[0.16958409000256103,\n",
              "  0.8510646128143668,\n",
              "  0.13271899084134905,\n",
              "  0.008416534485318473],\n",
              " [0.16958409000256103,\n",
              "  0.7268097546983396,\n",
              "  0.7169731931594889,\n",
              "  0.008416534485318473],\n",
              " [-2.2843272444406333,\n",
              "  -2.800499476950802,\n",
              "  -1.4113976503719958,\n",
              "  -2.235992848473276],\n",
              " [-2.2843272444406333,\n",
              "  -2.800499476950802,\n",
              "  -1.4113976503719958,\n",
              "  -2.235992848473276]]"
            ]
          },
          "metadata": {}
        },
        {
          "output_type": "stream",
          "name": "stdout",
          "text": [
            "\n"
          ]
        },
        {
          "output_type": "display_data",
          "data": {
            "text/plain": [
              "[0.029497315267036507,\n",
              " 0.1981824616699875,\n",
              " 942.4424935114278,\n",
              " 942.4424935114278]"
            ]
          },
          "metadata": {}
        },
        {
          "output_type": "display_data",
          "data": {
            "text/plain": [
              "105"
            ]
          },
          "metadata": {}
        },
        {
          "output_type": "stream",
          "name": "stdout",
          "text": [
            "\n"
          ]
        },
        {
          "output_type": "display_data",
          "data": {
            "text/plain": [
              "[[0.16958409000256103,\n",
              "  0.8510646128143668,\n",
              "  0.13271899084134905,\n",
              "  0.008416534485318473],\n",
              " [0.16958409000256103,\n",
              "  0.7268097546983396,\n",
              "  0.7169731931594889,\n",
              "  0.008416534485318473],\n",
              " [-2.2843272444406333,\n",
              "  -2.800499476950802,\n",
              "  -1.4113976503719958,\n",
              "  -2.235992848473276],\n",
              " [-2.2843272444406333,\n",
              "  -2.800499476950802,\n",
              "  -1.4113976503719958,\n",
              "  -2.235992848473276]]"
            ]
          },
          "metadata": {}
        },
        {
          "output_type": "stream",
          "name": "stdout",
          "text": [
            "\n"
          ]
        },
        {
          "output_type": "display_data",
          "data": {
            "text/plain": [
              "[0.029497315267036507,\n",
              " 0.1981824616699875,\n",
              " 942.4424935114278,\n",
              " 942.4424935114278]"
            ]
          },
          "metadata": {}
        },
        {
          "output_type": "display_data",
          "data": {
            "text/plain": [
              "106"
            ]
          },
          "metadata": {}
        },
        {
          "output_type": "stream",
          "name": "stdout",
          "text": [
            "\n"
          ]
        },
        {
          "output_type": "display_data",
          "data": {
            "text/plain": [
              "[[0.16958409000256103,\n",
              "  0.8510646128143668,\n",
              "  0.13271899084134905,\n",
              "  0.008416534485318473],\n",
              " [0.16958409000256103,\n",
              "  0.7268097546983396,\n",
              "  0.7169731931594889,\n",
              "  0.008416534485318473],\n",
              " [-2.2843272444406333,\n",
              "  -2.800499476950802,\n",
              "  -1.4113976503719958,\n",
              "  -2.235992848473276],\n",
              " [-2.2843272444406333,\n",
              "  -2.800499476950802,\n",
              "  -1.4113976503719958,\n",
              "  -2.235992848473276]]"
            ]
          },
          "metadata": {}
        },
        {
          "output_type": "stream",
          "name": "stdout",
          "text": [
            "\n"
          ]
        },
        {
          "output_type": "display_data",
          "data": {
            "text/plain": [
              "[0.029497315267036507,\n",
              " 0.1981824616699875,\n",
              " 942.4424935114278,\n",
              " 942.4424935114278]"
            ]
          },
          "metadata": {}
        },
        {
          "output_type": "display_data",
          "data": {
            "text/plain": [
              "107"
            ]
          },
          "metadata": {}
        },
        {
          "output_type": "stream",
          "name": "stdout",
          "text": [
            "\n"
          ]
        },
        {
          "output_type": "display_data",
          "data": {
            "text/plain": [
              "[[0.16958409000256103,\n",
              "  0.8510646128143668,\n",
              "  0.13271899084134905,\n",
              "  0.008416534485318473],\n",
              " [0.16958409000256103,\n",
              "  0.7268097546983396,\n",
              "  0.7169731931594889,\n",
              "  0.008416534485318473],\n",
              " [-2.2843272444406333,\n",
              "  -2.800499476950802,\n",
              "  -1.4113976503719958,\n",
              "  -2.235992848473276],\n",
              " [-2.2843272444406333,\n",
              "  -2.800499476950802,\n",
              "  -1.4113976503719958,\n",
              "  -2.235992848473276]]"
            ]
          },
          "metadata": {}
        },
        {
          "output_type": "stream",
          "name": "stdout",
          "text": [
            "\n"
          ]
        },
        {
          "output_type": "display_data",
          "data": {
            "text/plain": [
              "[0.029497315267036507,\n",
              " 0.1981824616699875,\n",
              " 942.4424935114278,\n",
              " 942.4424935114278]"
            ]
          },
          "metadata": {}
        },
        {
          "output_type": "display_data",
          "data": {
            "text/plain": [
              "108"
            ]
          },
          "metadata": {}
        },
        {
          "output_type": "stream",
          "name": "stdout",
          "text": [
            "\n"
          ]
        },
        {
          "output_type": "display_data",
          "data": {
            "text/plain": [
              "[[0.16958409000256103,\n",
              "  0.8510646128143668,\n",
              "  0.13271899084134905,\n",
              "  0.008416534485318473],\n",
              " [0.16958409000256103,\n",
              "  0.7268097546983396,\n",
              "  0.7169731931594889,\n",
              "  0.008416534485318473],\n",
              " [-2.2843272444406333,\n",
              "  -2.800499476950802,\n",
              "  -1.4113976503719958,\n",
              "  -2.1119759184334983],\n",
              " [-2.2843272444406333,\n",
              "  -2.800499476950802,\n",
              "  -1.4113976503719958,\n",
              "  -2.235992848473276]]"
            ]
          },
          "metadata": {}
        },
        {
          "output_type": "stream",
          "name": "stdout",
          "text": [
            "\n"
          ]
        },
        {
          "output_type": "display_data",
          "data": {
            "text/plain": [
              "[0.029497315267036507,\n",
              " 0.1981824616699875,\n",
              " 935.3539964583754,\n",
              " 942.4424935114278]"
            ]
          },
          "metadata": {}
        },
        {
          "output_type": "display_data",
          "data": {
            "text/plain": [
              "109"
            ]
          },
          "metadata": {}
        },
        {
          "output_type": "stream",
          "name": "stdout",
          "text": [
            "\n"
          ]
        },
        {
          "output_type": "display_data",
          "data": {
            "text/plain": [
              "[[0.16958409000256103,\n",
              "  0.8510646128143668,\n",
              "  0.13271899084134905,\n",
              "  0.008416534485318473],\n",
              " [0.16958409000256103,\n",
              "  0.7268097546983396,\n",
              "  0.7169731931594889,\n",
              "  0.008416534485318473],\n",
              " [-2.2843272444406333,\n",
              "  -2.800499476950802,\n",
              "  -1.4113976503719958,\n",
              "  -2.235992848473276],\n",
              " [-2.2843272444406333,\n",
              "  -2.800499476950802,\n",
              "  -1.4113976503719958,\n",
              "  -2.235992848473276]]"
            ]
          },
          "metadata": {}
        },
        {
          "output_type": "stream",
          "name": "stdout",
          "text": [
            "\n"
          ]
        },
        {
          "output_type": "display_data",
          "data": {
            "text/plain": [
              "[0.029497315267036507,\n",
              " 0.1981824616699875,\n",
              " 942.4424935114278,\n",
              " 942.4424935114278]"
            ]
          },
          "metadata": {}
        },
        {
          "output_type": "display_data",
          "data": {
            "text/plain": [
              "110"
            ]
          },
          "metadata": {}
        },
        {
          "output_type": "stream",
          "name": "stdout",
          "text": [
            "\n"
          ]
        },
        {
          "output_type": "display_data",
          "data": {
            "text/plain": [
              "[[0.16958409000256103,\n",
              "  0.8510646128143668,\n",
              "  0.13271899084134905,\n",
              "  0.008416534485318473],\n",
              " [0.16958409000256103,\n",
              "  0.7268097546983396,\n",
              "  0.7169731931594889,\n",
              "  0.008416534485318473],\n",
              " [-2.2843272444406333,\n",
              "  -2.800499476950802,\n",
              "  -1.0360457638044216,\n",
              "  -2.235992848473276],\n",
              " [-2.2843272444406333,\n",
              "  -2.800499476950802,\n",
              "  -1.4113976503719958,\n",
              "  -2.235992848473276]]"
            ]
          },
          "metadata": {}
        },
        {
          "output_type": "stream",
          "name": "stdout",
          "text": [
            "\n"
          ]
        },
        {
          "output_type": "display_data",
          "data": {
            "text/plain": [
              "[0.029497315267036507, 0.1981824616699875, 921.082658998778, 942.4424935114278]"
            ]
          },
          "metadata": {}
        },
        {
          "output_type": "display_data",
          "data": {
            "text/plain": [
              "111"
            ]
          },
          "metadata": {}
        },
        {
          "output_type": "stream",
          "name": "stdout",
          "text": [
            "\n"
          ]
        },
        {
          "output_type": "display_data",
          "data": {
            "text/plain": [
              "[[0.16958409000256103,\n",
              "  0.8510646128143668,\n",
              "  0.13271899084134905,\n",
              "  0.008416534485318473],\n",
              " [0.16958409000256103,\n",
              "  0.7268097546983396,\n",
              "  0.7169731931594889,\n",
              "  0.008416534485318473],\n",
              " [-2.2843272444406333,\n",
              "  -2.800499476950802,\n",
              "  -1.4113976503719958,\n",
              "  -2.235992848473276],\n",
              " [-2.2843272444406333,\n",
              "  -2.800499476950802,\n",
              "  -1.4113976503719958,\n",
              "  -2.235992848473276]]"
            ]
          },
          "metadata": {}
        },
        {
          "output_type": "stream",
          "name": "stdout",
          "text": [
            "\n"
          ]
        },
        {
          "output_type": "display_data",
          "data": {
            "text/plain": [
              "[0.029497315267036507,\n",
              " 0.1981824616699875,\n",
              " 942.4424935114278,\n",
              " 942.4424935114278]"
            ]
          },
          "metadata": {}
        },
        {
          "output_type": "display_data",
          "data": {
            "text/plain": [
              "112"
            ]
          },
          "metadata": {}
        },
        {
          "output_type": "stream",
          "name": "stdout",
          "text": [
            "\n"
          ]
        },
        {
          "output_type": "display_data",
          "data": {
            "text/plain": [
              "[[0.16958409000256103,\n",
              "  0.8510646128143668,\n",
              "  0.13271899084134905,\n",
              "  0.008416534485318473],\n",
              " [0.16958409000256103,\n",
              "  0.7268097546983396,\n",
              "  0.7169731931594889,\n",
              "  0.008416534485318473],\n",
              " [-2.2843272444406333,\n",
              "  -2.072900283036797,\n",
              "  -1.4113976503719958,\n",
              "  -2.235992848473276],\n",
              " [-2.2843272444406333,\n",
              "  -2.800499476950802,\n",
              "  -1.4113976503719958,\n",
              "  -2.235992848473276]]"
            ]
          },
          "metadata": {}
        },
        {
          "output_type": "stream",
          "name": "stdout",
          "text": [
            "\n"
          ]
        },
        {
          "output_type": "display_data",
          "data": {
            "text/plain": [
              "[0.029497315267036507,\n",
              " 0.1981824616699875,\n",
              " 710.3387212912519,\n",
              " 942.4424935114278]"
            ]
          },
          "metadata": {}
        },
        {
          "output_type": "display_data",
          "data": {
            "text/plain": [
              "113"
            ]
          },
          "metadata": {}
        },
        {
          "output_type": "stream",
          "name": "stdout",
          "text": [
            "\n"
          ]
        },
        {
          "output_type": "display_data",
          "data": {
            "text/plain": [
              "[[0.16958409000256103,\n",
              "  0.8510646128143668,\n",
              "  0.13271899084134905,\n",
              "  0.008416534485318473],\n",
              " [0.16958409000256103,\n",
              "  0.7268097546983396,\n",
              "  0.7169731931594889,\n",
              "  0.008416534485318473],\n",
              " [-2.2843272444406333,\n",
              "  -2.800499476950802,\n",
              "  -1.4113976503719958,\n",
              "  -2.235992848473276],\n",
              " [-2.2843272444406333,\n",
              "  -2.800499476950802,\n",
              "  -1.4113976503719958,\n",
              "  -2.235992848473276]]"
            ]
          },
          "metadata": {}
        },
        {
          "output_type": "stream",
          "name": "stdout",
          "text": [
            "\n"
          ]
        },
        {
          "output_type": "display_data",
          "data": {
            "text/plain": [
              "[0.029497315267036507,\n",
              " 0.1981824616699875,\n",
              " 942.4424935114278,\n",
              " 942.4424935114278]"
            ]
          },
          "metadata": {}
        },
        {
          "output_type": "display_data",
          "data": {
            "text/plain": [
              "114"
            ]
          },
          "metadata": {}
        },
        {
          "output_type": "stream",
          "name": "stdout",
          "text": [
            "\n"
          ]
        },
        {
          "output_type": "display_data",
          "data": {
            "text/plain": [
              "[[0.16958409000256103,\n",
              "  0.8510646128143668,\n",
              "  0.13271899084134905,\n",
              "  0.008416534485318473],\n",
              " [0.16958409000256103,\n",
              "  0.7268097546983396,\n",
              "  0.7169731931594889,\n",
              "  0.008416534485318473],\n",
              " [-2.2843272444406333,\n",
              "  -2.800499476950802,\n",
              "  -1.4113976503719958,\n",
              "  -1.4563718374538304],\n",
              " [-2.2843272444406333,\n",
              "  -2.800499476950802,\n",
              "  -1.4113976503719958,\n",
              "  -2.235992848473276]]"
            ]
          },
          "metadata": {}
        },
        {
          "output_type": "stream",
          "name": "stdout",
          "text": [
            "\n"
          ]
        },
        {
          "output_type": "display_data",
          "data": {
            "text/plain": [
              "[0.029497315267036507,\n",
              " 0.1981824616699875,\n",
              " 898.3924322239068,\n",
              " 942.4424935114278]"
            ]
          },
          "metadata": {}
        },
        {
          "output_type": "display_data",
          "data": {
            "text/plain": [
              "115"
            ]
          },
          "metadata": {}
        },
        {
          "output_type": "stream",
          "name": "stdout",
          "text": [
            "\n"
          ]
        },
        {
          "output_type": "display_data",
          "data": {
            "text/plain": [
              "[[0.16958409000256103,\n",
              "  0.8510646128143668,\n",
              "  0.13271899084134905,\n",
              "  0.008416534485318473],\n",
              " [0.16958409000256103,\n",
              "  0.7268097546983396,\n",
              "  0.7169731931594889,\n",
              "  0.008416534485318473],\n",
              " [-2.2843272444406333,\n",
              "  -2.800499476950802,\n",
              "  -1.4113976503719958,\n",
              "  -1.4563718374538304],\n",
              " [-2.2843272444406333,\n",
              "  -2.800499476950802,\n",
              "  -1.4113976503719958,\n",
              "  -2.235992848473276]]"
            ]
          },
          "metadata": {}
        },
        {
          "output_type": "stream",
          "name": "stdout",
          "text": [
            "\n"
          ]
        },
        {
          "output_type": "display_data",
          "data": {
            "text/plain": [
              "[0.029497315267036507,\n",
              " 0.1981824616699875,\n",
              " 942.4424935114278,\n",
              " 898.3924322239068]"
            ]
          },
          "metadata": {}
        },
        {
          "output_type": "display_data",
          "data": {
            "text/plain": [
              "116"
            ]
          },
          "metadata": {}
        },
        {
          "output_type": "stream",
          "name": "stdout",
          "text": [
            "\n"
          ]
        },
        {
          "output_type": "display_data",
          "data": {
            "text/plain": [
              "[[0.16958409000256103,\n",
              "  0.8510646128143668,\n",
              "  0.13271899084134905,\n",
              "  0.008416534485318473],\n",
              " [0.16958409000256103,\n",
              "  0.7268097546983396,\n",
              "  0.7169731931594889,\n",
              "  0.008416534485318473],\n",
              " [-1.472247638012439,\n",
              "  -2.800499476950802,\n",
              "  -1.4113976503719958,\n",
              "  -1.4563718374538304],\n",
              " [-2.2843272444406333,\n",
              "  -2.800499476950802,\n",
              "  -1.4113976503719958,\n",
              "  -1.4563718374538304]]"
            ]
          },
          "metadata": {}
        },
        {
          "output_type": "stream",
          "name": "stdout",
          "text": [
            "\n"
          ]
        },
        {
          "output_type": "display_data",
          "data": {
            "text/plain": [
              "[0.029497315267036507,\n",
              " 0.1981824616699875,\n",
              " 770.1420049077457,\n",
              " 898.3924322239068]"
            ]
          },
          "metadata": {}
        },
        {
          "output_type": "display_data",
          "data": {
            "text/plain": [
              "117"
            ]
          },
          "metadata": {}
        },
        {
          "output_type": "stream",
          "name": "stdout",
          "text": [
            "\n"
          ]
        },
        {
          "output_type": "display_data",
          "data": {
            "text/plain": [
              "[[0.16958409000256103,\n",
              "  0.8510646128143668,\n",
              "  0.13271899084134905,\n",
              "  0.008416534485318473],\n",
              " [0.16958409000256103,\n",
              "  0.7268097546983396,\n",
              "  0.7169731931594889,\n",
              "  0.008416534485318473],\n",
              " [-1.472247638012439,\n",
              "  -2.800499476950802,\n",
              "  -1.4113976503719958,\n",
              "  -1.4563718374538304],\n",
              " [-1.472247638012439,\n",
              "  -2.800499476950802,\n",
              "  -1.4113976503719958,\n",
              "  -1.4563718374538304]]"
            ]
          },
          "metadata": {}
        },
        {
          "output_type": "stream",
          "name": "stdout",
          "text": [
            "\n"
          ]
        },
        {
          "output_type": "display_data",
          "data": {
            "text/plain": [
              "[0.029497315267036507,\n",
              " 0.1981824616699875,\n",
              " 770.1420049077457,\n",
              " 770.1420049077457]"
            ]
          },
          "metadata": {}
        },
        {
          "output_type": "display_data",
          "data": {
            "text/plain": [
              "118"
            ]
          },
          "metadata": {}
        },
        {
          "output_type": "stream",
          "name": "stdout",
          "text": [
            "\n"
          ]
        },
        {
          "output_type": "display_data",
          "data": {
            "text/plain": [
              "[[0.16958409000256103,\n",
              "  0.8510646128143668,\n",
              "  0.13271899084134905,\n",
              "  0.008416534485318473],\n",
              " [0.16958409000256103,\n",
              "  0.7268097546983396,\n",
              "  0.7169731931594889,\n",
              "  0.008416534485318473],\n",
              " [-1.472247638012439,\n",
              "  -2.800499476950802,\n",
              "  -0.8327801814792992,\n",
              "  -1.4563718374538304],\n",
              " [-1.472247638012439,\n",
              "  -2.800499476950802,\n",
              "  -1.4113976503719958,\n",
              "  -1.4563718374538304]]"
            ]
          },
          "metadata": {}
        },
        {
          "output_type": "stream",
          "name": "stdout",
          "text": [
            "\n"
          ]
        },
        {
          "output_type": "display_data",
          "data": {
            "text/plain": [
              "[0.029497315267036507,\n",
              " 0.1981824616699875,\n",
              " 740.5843415661659,\n",
              " 770.1420049077457]"
            ]
          },
          "metadata": {}
        },
        {
          "output_type": "display_data",
          "data": {
            "text/plain": [
              "119"
            ]
          },
          "metadata": {}
        },
        {
          "output_type": "stream",
          "name": "stdout",
          "text": [
            "\n"
          ]
        },
        {
          "output_type": "display_data",
          "data": {
            "text/plain": [
              "[[0.16958409000256103,\n",
              "  0.8510646128143668,\n",
              "  0.13271899084134905,\n",
              "  0.008416534485318473],\n",
              " [0.16958409000256103,\n",
              "  0.7268097546983396,\n",
              "  0.7169731931594889,\n",
              "  0.008416534485318473],\n",
              " [-1.472247638012439,\n",
              "  -2.800499476950802,\n",
              "  -0.8327801814792992,\n",
              "  -1.4563718374538304],\n",
              " [-1.472247638012439,\n",
              "  -2.800499476950802,\n",
              "  -1.4113976503719958,\n",
              "  -1.4563718374538304]]"
            ]
          },
          "metadata": {}
        },
        {
          "output_type": "stream",
          "name": "stdout",
          "text": [
            "\n"
          ]
        },
        {
          "output_type": "display_data",
          "data": {
            "text/plain": [
              "[0.029497315267036507,\n",
              " 0.1981824616699875,\n",
              " 770.1420049077457,\n",
              " 740.5843415661659]"
            ]
          },
          "metadata": {}
        },
        {
          "output_type": "display_data",
          "data": {
            "text/plain": [
              "120"
            ]
          },
          "metadata": {}
        },
        {
          "output_type": "stream",
          "name": "stdout",
          "text": [
            "\n"
          ]
        },
        {
          "output_type": "display_data",
          "data": {
            "text/plain": [
              "[[0.16958409000256103,\n",
              "  0.8510646128143668,\n",
              "  0.13271899084134905,\n",
              "  0.008416534485318473],\n",
              " [0.16958409000256103,\n",
              "  0.7268097546983396,\n",
              "  0.7169731931594889,\n",
              "  0.008416534485318473],\n",
              " [-1.472247638012439,\n",
              "  -2.800499476950802,\n",
              "  -0.8327801814792992,\n",
              "  -1.4563718374538304],\n",
              " [-1.472247638012439,\n",
              "  -2.800499476950802,\n",
              "  -1.4113976503719958,\n",
              "  -1.4563718374538304]]"
            ]
          },
          "metadata": {}
        },
        {
          "output_type": "stream",
          "name": "stdout",
          "text": [
            "\n"
          ]
        },
        {
          "output_type": "display_data",
          "data": {
            "text/plain": [
              "[0.029497315267036507,\n",
              " 0.1981824616699875,\n",
              " 740.5843415661659,\n",
              " 770.1420049077457]"
            ]
          },
          "metadata": {}
        },
        {
          "output_type": "display_data",
          "data": {
            "text/plain": [
              "121"
            ]
          },
          "metadata": {}
        },
        {
          "output_type": "stream",
          "name": "stdout",
          "text": [
            "\n"
          ]
        },
        {
          "output_type": "display_data",
          "data": {
            "text/plain": [
              "[[0.16958409000256103,\n",
              "  0.8510646128143668,\n",
              "  0.13271899084134905,\n",
              "  0.008416534485318473],\n",
              " [0.16958409000256103,\n",
              "  0.7268097546983396,\n",
              "  0.7169731931594889,\n",
              "  0.008416534485318473],\n",
              " [-1.472247638012439,\n",
              "  -1.871650968393394,\n",
              "  -1.4113976503719958,\n",
              "  -1.4563718374538304],\n",
              " [-1.472247638012439,\n",
              "  -2.800499476950802,\n",
              "  -1.4113976503719958,\n",
              "  -1.4563718374538304]]"
            ]
          },
          "metadata": {}
        },
        {
          "output_type": "stream",
          "name": "stdout",
          "text": [
            "\n"
          ]
        },
        {
          "output_type": "display_data",
          "data": {
            "text/plain": [
              "[0.029497315267036507,\n",
              " 0.1981824616699875,\n",
              " 510.02895253157396,\n",
              " 770.1420049077457]"
            ]
          },
          "metadata": {}
        },
        {
          "output_type": "display_data",
          "data": {
            "text/plain": [
              "122"
            ]
          },
          "metadata": {}
        },
        {
          "output_type": "stream",
          "name": "stdout",
          "text": [
            "\n"
          ]
        },
        {
          "output_type": "display_data",
          "data": {
            "text/plain": [
              "[[0.16958409000256103,\n",
              "  0.8510646128143668,\n",
              "  0.13271899084134905,\n",
              "  0.008416534485318473],\n",
              " [0.16958409000256103,\n",
              "  0.7268097546983396,\n",
              "  0.7169731931594889,\n",
              "  0.008416534485318473],\n",
              " [-1.472247638012439,\n",
              "  -2.800499476950802,\n",
              "  -1.4113976503719958,\n",
              "  -0.9421459923869488],\n",
              " [-1.472247638012439,\n",
              "  -2.800499476950802,\n",
              "  -1.4113976503719958,\n",
              "  -1.4563718374538304]]"
            ]
          },
          "metadata": {}
        },
        {
          "output_type": "stream",
          "name": "stdout",
          "text": [
            "\n"
          ]
        },
        {
          "output_type": "display_data",
          "data": {
            "text/plain": [
              "[0.029497315267036507,\n",
              " 0.1981824616699875,\n",
              " 743.8405634276471,\n",
              " 770.1420049077457]"
            ]
          },
          "metadata": {}
        },
        {
          "output_type": "display_data",
          "data": {
            "text/plain": [
              "123"
            ]
          },
          "metadata": {}
        },
        {
          "output_type": "stream",
          "name": "stdout",
          "text": [
            "\n"
          ]
        },
        {
          "output_type": "display_data",
          "data": {
            "text/plain": [
              "[[0.16958409000256103,\n",
              "  0.8510646128143668,\n",
              "  0.13271899084134905,\n",
              "  0.008416534485318473],\n",
              " [0.16958409000256103,\n",
              "  0.7268097546983396,\n",
              "  0.7169731931594889,\n",
              "  0.008416534485318473],\n",
              " [-1.472247638012439,\n",
              "  -2.800499476950802,\n",
              "  -1.5352547092911242,\n",
              "  -0.9421459923869488],\n",
              " [-1.472247638012439,\n",
              "  -2.800499476950802,\n",
              "  -1.4113976503719958,\n",
              "  -1.4563718374538304]]"
            ]
          },
          "metadata": {}
        },
        {
          "output_type": "stream",
          "name": "stdout",
          "text": [
            "\n"
          ]
        },
        {
          "output_type": "display_data",
          "data": {
            "text/plain": [
              "[0.029497315267036507,\n",
              " 0.1981824616699875,\n",
              " 750.1272105003075,\n",
              " 770.1420049077457]"
            ]
          },
          "metadata": {}
        },
        {
          "output_type": "display_data",
          "data": {
            "text/plain": [
              "124"
            ]
          },
          "metadata": {}
        },
        {
          "output_type": "stream",
          "name": "stdout",
          "text": [
            "\n"
          ]
        },
        {
          "output_type": "display_data",
          "data": {
            "text/plain": [
              "[[0.16958409000256103,\n",
              "  0.8510646128143668,\n",
              "  0.13271899084134905,\n",
              "  0.008416534485318473],\n",
              " [0.16958409000256103,\n",
              "  0.7268097546983396,\n",
              "  0.7169731931594889,\n",
              "  0.008416534485318473],\n",
              " [-1.472247638012439,\n",
              "  -2.800499476950802,\n",
              "  -1.5352547092911242,\n",
              "  -0.9421459923869488],\n",
              " [-1.472247638012439,\n",
              "  -2.800499476950802,\n",
              "  -1.4113976503719958,\n",
              "  -1.4563718374538304]]"
            ]
          },
          "metadata": {}
        },
        {
          "output_type": "stream",
          "name": "stdout",
          "text": [
            "\n"
          ]
        },
        {
          "output_type": "display_data",
          "data": {
            "text/plain": [
              "[0.029497315267036507,\n",
              " 0.1981824616699875,\n",
              " 750.1272105003075,\n",
              " 770.1420049077457]"
            ]
          },
          "metadata": {}
        },
        {
          "output_type": "display_data",
          "data": {
            "text/plain": [
              "125"
            ]
          },
          "metadata": {}
        },
        {
          "output_type": "stream",
          "name": "stdout",
          "text": [
            "\n"
          ]
        },
        {
          "output_type": "display_data",
          "data": {
            "text/plain": [
              "[[0.16958409000256103,\n",
              "  0.8510646128143668,\n",
              "  0.13271899084134905,\n",
              "  0.008416534485318473],\n",
              " [0.16958409000256103,\n",
              "  0.7268097546983396,\n",
              "  0.7169731931594889,\n",
              "  0.008416534485318473],\n",
              " [-1.472247638012439,\n",
              "  -2.800499476950802,\n",
              "  -1.5352547092911242,\n",
              "  -0.9421459923869488],\n",
              " [-1.472247638012439,\n",
              "  -2.800499476950802,\n",
              "  -1.5352547092911242,\n",
              "  -0.9421459923869488]]"
            ]
          },
          "metadata": {}
        },
        {
          "output_type": "stream",
          "name": "stdout",
          "text": [
            "\n"
          ]
        },
        {
          "output_type": "display_data",
          "data": {
            "text/plain": [
              "[0.029497315267036507,\n",
              " 0.1981824616699875,\n",
              " 750.1272105003075,\n",
              " 750.1272105003075]"
            ]
          },
          "metadata": {}
        },
        {
          "output_type": "display_data",
          "data": {
            "text/plain": [
              "126"
            ]
          },
          "metadata": {}
        },
        {
          "output_type": "stream",
          "name": "stdout",
          "text": [
            "\n"
          ]
        },
        {
          "output_type": "display_data",
          "data": {
            "text/plain": [
              "[[0.16958409000256103,\n",
              "  0.8510646128143668,\n",
              "  0.13271899084134905,\n",
              "  0.008416534485318473],\n",
              " [0.16958409000256103,\n",
              "  0.7268097546983396,\n",
              "  0.7169731931594889,\n",
              "  0.008416534485318473],\n",
              " [-1.472247638012439,\n",
              "  -1.8549347357389794,\n",
              "  -1.5352547092911242,\n",
              "  -0.9421459923869488],\n",
              " [-1.472247638012439,\n",
              "  -2.800499476950802,\n",
              "  -1.5352547092911242,\n",
              "  -0.9421459923869488]]"
            ]
          },
          "metadata": {}
        },
        {
          "output_type": "stream",
          "name": "stdout",
          "text": [
            "\n"
          ]
        },
        {
          "output_type": "display_data",
          "data": {
            "text/plain": [
              "[0.029497315267036507,\n",
              " 0.1981824616699875,\n",
              " 489.58814078104865,\n",
              " 750.1272105003075]"
            ]
          },
          "metadata": {}
        },
        {
          "output_type": "display_data",
          "data": {
            "text/plain": [
              "127"
            ]
          },
          "metadata": {}
        },
        {
          "output_type": "stream",
          "name": "stdout",
          "text": [
            "\n"
          ]
        },
        {
          "output_type": "display_data",
          "data": {
            "text/plain": [
              "[[0.16958409000256103,\n",
              "  0.8510646128143668,\n",
              "  0.13271899084134905,\n",
              "  0.008416534485318473],\n",
              " [0.16958409000256103,\n",
              "  0.7268097546983396,\n",
              "  0.7169731931594889,\n",
              "  0.008416534485318473],\n",
              " [-1.472247638012439,\n",
              "  -1.8549347357389794,\n",
              "  -1.9679730041780574,\n",
              "  -0.9421459923869488],\n",
              " [-1.472247638012439,\n",
              "  -2.800499476950802,\n",
              "  -1.5352547092911242,\n",
              "  -0.9421459923869488]]"
            ]
          },
          "metadata": {}
        },
        {
          "output_type": "stream",
          "name": "stdout",
          "text": [
            "\n"
          ]
        },
        {
          "output_type": "display_data",
          "data": {
            "text/plain": [
              "[0.029497315267036507,\n",
              " 0.1981824616699875,\n",
              " 507.61911930422195,\n",
              " 750.1272105003075]"
            ]
          },
          "metadata": {}
        },
        {
          "output_type": "display_data",
          "data": {
            "text/plain": [
              "128"
            ]
          },
          "metadata": {}
        },
        {
          "output_type": "stream",
          "name": "stdout",
          "text": [
            "\n"
          ]
        },
        {
          "output_type": "display_data",
          "data": {
            "text/plain": [
              "[[0.16958409000256103,\n",
              "  0.8510646128143668,\n",
              "  0.13271899084134905,\n",
              "  0.008416534485318473],\n",
              " [0.16958409000256103,\n",
              "  0.7268097546983396,\n",
              "  0.7169731931594889,\n",
              "  0.008416534485318473],\n",
              " [-1.472247638012439,\n",
              "  -2.800499476950802,\n",
              "  -1.5352547092911242,\n",
              "  -0.9421459923869488],\n",
              " [-1.472247638012439,\n",
              "  -2.800499476950802,\n",
              "  -1.693663244761206,\n",
              "  -0.9421459923869488]]"
            ]
          },
          "metadata": {}
        },
        {
          "output_type": "stream",
          "name": "stdout",
          "text": [
            "\n"
          ]
        },
        {
          "output_type": "display_data",
          "data": {
            "text/plain": [
              "[0.029497315267036507,\n",
              " 0.1981824616699875,\n",
              " 758.2123097253337,\n",
              " 750.1272105003075]"
            ]
          },
          "metadata": {}
        },
        {
          "output_type": "display_data",
          "data": {
            "text/plain": [
              "129"
            ]
          },
          "metadata": {}
        },
        {
          "output_type": "stream",
          "name": "stdout",
          "text": [
            "\n"
          ]
        },
        {
          "output_type": "display_data",
          "data": {
            "text/plain": [
              "[[0.16958409000256103,\n",
              "  0.8510646128143668,\n",
              "  0.13271899084134905,\n",
              "  0.008416534485318473],\n",
              " [0.16958409000256103,\n",
              "  0.7268097546983396,\n",
              "  0.7169731931594889,\n",
              "  0.008416534485318473],\n",
              " [-1.472247638012439,\n",
              "  -2.800499476950802,\n",
              "  -1.5352547092911242,\n",
              "  -0.9421459923869488],\n",
              " [-1.472247638012439,\n",
              "  -2.800499476950802,\n",
              "  -1.5352547092911242,\n",
              "  -0.9421459923869488]]"
            ]
          },
          "metadata": {}
        },
        {
          "output_type": "stream",
          "name": "stdout",
          "text": [
            "\n"
          ]
        },
        {
          "output_type": "display_data",
          "data": {
            "text/plain": [
              "[0.029497315267036507,\n",
              " 0.1981824616699875,\n",
              " 750.1272105003075,\n",
              " 750.1272105003075]"
            ]
          },
          "metadata": {}
        },
        {
          "output_type": "display_data",
          "data": {
            "text/plain": [
              "130"
            ]
          },
          "metadata": {}
        },
        {
          "output_type": "stream",
          "name": "stdout",
          "text": [
            "\n"
          ]
        },
        {
          "output_type": "display_data",
          "data": {
            "text/plain": [
              "[[0.16958409000256103,\n",
              "  0.8510646128143668,\n",
              "  0.13271899084134905,\n",
              "  0.008416534485318473],\n",
              " [0.16958409000256103,\n",
              "  0.7268097546983396,\n",
              "  0.7169731931594889,\n",
              "  0.008416534485318473],\n",
              " [-1.472247638012439,\n",
              "  -2.800499476950802,\n",
              "  -1.5352547092911242,\n",
              "  -0.9421459923869488],\n",
              " [-1.472247638012439,\n",
              "  -2.800499476950802,\n",
              "  -1.5352547092911242,\n",
              "  -0.9421459923869488]]"
            ]
          },
          "metadata": {}
        },
        {
          "output_type": "stream",
          "name": "stdout",
          "text": [
            "\n"
          ]
        },
        {
          "output_type": "display_data",
          "data": {
            "text/plain": [
              "[0.029497315267036507,\n",
              " 0.1981824616699875,\n",
              " 750.1272105003075,\n",
              " 750.1272105003075]"
            ]
          },
          "metadata": {}
        },
        {
          "output_type": "display_data",
          "data": {
            "text/plain": [
              "131"
            ]
          },
          "metadata": {}
        },
        {
          "output_type": "stream",
          "name": "stdout",
          "text": [
            "\n"
          ]
        },
        {
          "output_type": "display_data",
          "data": {
            "text/plain": [
              "[[0.16958409000256103,\n",
              "  0.8510646128143668,\n",
              "  0.13271899084134905,\n",
              "  0.008416534485318473],\n",
              " [0.16958409000256103,\n",
              "  0.7268097546983396,\n",
              "  0.7169731931594889,\n",
              "  0.008416534485318473],\n",
              " [-1.472247638012439,\n",
              "  -2.800499476950802,\n",
              "  -1.5352547092911242,\n",
              "  -0.9421459923869488],\n",
              " [-1.472247638012439,\n",
              "  -2.800499476950802,\n",
              "  -2.16536546810174,\n",
              "  -0.9421459923869488]]"
            ]
          },
          "metadata": {}
        },
        {
          "output_type": "stream",
          "name": "stdout",
          "text": [
            "\n"
          ]
        },
        {
          "output_type": "display_data",
          "data": {
            "text/plain": [
              "[0.029497315267036507,\n",
              " 0.1981824616699875,\n",
              " 782.5850001853289,\n",
              " 750.1272105003075]"
            ]
          },
          "metadata": {}
        },
        {
          "output_type": "display_data",
          "data": {
            "text/plain": [
              "132"
            ]
          },
          "metadata": {}
        },
        {
          "output_type": "stream",
          "name": "stdout",
          "text": [
            "\n"
          ]
        },
        {
          "output_type": "display_data",
          "data": {
            "text/plain": [
              "[[0.16958409000256103,\n",
              "  0.8510646128143668,\n",
              "  0.13271899084134905,\n",
              "  0.008416534485318473],\n",
              " [0.16958409000256103,\n",
              "  0.7268097546983396,\n",
              "  0.7169731931594889,\n",
              "  0.008416534485318473],\n",
              " [-1.472247638012439,\n",
              "  -1.988234074257794,\n",
              "  -2.16536546810174,\n",
              "  -0.9421459923869488],\n",
              " [-1.472247638012439,\n",
              "  -2.800499476950802,\n",
              "  -2.16536546810174,\n",
              "  -0.9421459923869488]]"
            ]
          },
          "metadata": {}
        },
        {
          "output_type": "stream",
          "name": "stdout",
          "text": [
            "\n"
          ]
        },
        {
          "output_type": "display_data",
          "data": {
            "text/plain": [
              "[0.029497315267036507,\n",
              " 0.1981824616699875,\n",
              " 550.1968454032385,\n",
              " 782.5850001853289]"
            ]
          },
          "metadata": {}
        },
        {
          "output_type": "display_data",
          "data": {
            "text/plain": [
              "133"
            ]
          },
          "metadata": {}
        },
        {
          "output_type": "stream",
          "name": "stdout",
          "text": [
            "\n"
          ]
        },
        {
          "output_type": "display_data",
          "data": {
            "text/plain": [
              "[[0.16958409000256103,\n",
              "  0.8510646128143668,\n",
              "  0.13271899084134905,\n",
              "  0.008416534485318473],\n",
              " [0.16958409000256103,\n",
              "  0.7268097546983396,\n",
              "  0.7169731931594889,\n",
              "  0.008416534485318473],\n",
              " [-1.472247638012439,\n",
              "  -1.988234074257794,\n",
              "  -2.16536546810174,\n",
              "  -0.9421459923869488],\n",
              " [-1.472247638012439,\n",
              "  -1.988234074257794,\n",
              "  -2.16536546810174,\n",
              "  -0.9421459923869488]]"
            ]
          },
          "metadata": {}
        },
        {
          "output_type": "stream",
          "name": "stdout",
          "text": [
            "\n"
          ]
        },
        {
          "output_type": "display_data",
          "data": {
            "text/plain": [
              "[0.029497315267036507,\n",
              " 0.1981824616699875,\n",
              " 550.1968454032385,\n",
              " 550.1968454032385]"
            ]
          },
          "metadata": {}
        },
        {
          "output_type": "display_data",
          "data": {
            "text/plain": [
              "134"
            ]
          },
          "metadata": {}
        },
        {
          "output_type": "stream",
          "name": "stdout",
          "text": [
            "\n"
          ]
        },
        {
          "output_type": "display_data",
          "data": {
            "text/plain": [
              "[[0.16958409000256103,\n",
              "  0.8510646128143668,\n",
              "  0.13271899084134905,\n",
              "  0.008416534485318473],\n",
              " [0.16958409000256103,\n",
              "  0.7268097546983396,\n",
              "  0.7169731931594889,\n",
              "  0.008416534485318473],\n",
              " [-0.6490888555589511,\n",
              "  -1.988234074257794,\n",
              "  -2.16536546810174,\n",
              "  -0.9421459923869488],\n",
              " [-1.472247638012439,\n",
              "  -1.988234074257794,\n",
              "  -2.16536546810174,\n",
              "  -0.9421459923869488]]"
            ]
          },
          "metadata": {}
        },
        {
          "output_type": "stream",
          "name": "stdout",
          "text": [
            "\n"
          ]
        },
        {
          "output_type": "display_data",
          "data": {
            "text/plain": [
              "[0.029497315267036507,\n",
              " 0.1981824616699875,\n",
              " 449.6984430752286,\n",
              " 550.1968454032385]"
            ]
          },
          "metadata": {}
        },
        {
          "output_type": "display_data",
          "data": {
            "text/plain": [
              "135"
            ]
          },
          "metadata": {}
        },
        {
          "output_type": "stream",
          "name": "stdout",
          "text": [
            "\n"
          ]
        },
        {
          "output_type": "display_data",
          "data": {
            "text/plain": [
              "[[0.16958409000256103,\n",
              "  0.8510646128143668,\n",
              "  0.13271899084134905,\n",
              "  0.008416534485318473],\n",
              " [0.16958409000256103,\n",
              "  0.7268097546983396,\n",
              "  0.7169731931594889,\n",
              "  0.008416534485318473],\n",
              " [-0.6490888555589511,\n",
              "  -1.988234074257794,\n",
              "  -2.046453882259873,\n",
              "  -0.9421459923869488],\n",
              " [-0.6490888555589511,\n",
              "  -1.988234074257794,\n",
              "  -2.16536546810174,\n",
              "  -0.9421459923869488]]"
            ]
          },
          "metadata": {}
        },
        {
          "output_type": "stream",
          "name": "stdout",
          "text": [
            "\n"
          ]
        },
        {
          "output_type": "display_data",
          "data": {
            "text/plain": [
              "[0.029497315267036507,\n",
              " 0.1981824616699875,\n",
              " 444.98698254333914,\n",
              " 449.6984430752286]"
            ]
          },
          "metadata": {}
        },
        {
          "output_type": "display_data",
          "data": {
            "text/plain": [
              "136"
            ]
          },
          "metadata": {}
        },
        {
          "output_type": "stream",
          "name": "stdout",
          "text": [
            "\n"
          ]
        },
        {
          "output_type": "display_data",
          "data": {
            "text/plain": [
              "[[0.16958409000256103,\n",
              "  0.8510646128143668,\n",
              "  0.13271899084134905,\n",
              "  0.008416534485318473],\n",
              " [0.16958409000256103,\n",
              "  0.7268097546983396,\n",
              "  0.7169731931594889,\n",
              "  0.008416534485318473],\n",
              " [-0.6490888555589511,\n",
              "  -1.988234074257794,\n",
              "  -2.046453882259873,\n",
              "  -0.9421459923869488],\n",
              " [-0.8742424360454069,\n",
              "  -1.988234074257794,\n",
              "  -2.046453882259873,\n",
              "  -0.9421459923869488]]"
            ]
          },
          "metadata": {}
        },
        {
          "output_type": "stream",
          "name": "stdout",
          "text": [
            "\n"
          ]
        },
        {
          "output_type": "display_data",
          "data": {
            "text/plain": [
              "[0.029497315267036507,\n",
              " 0.1981824616699875,\n",
              " 471.33200560957334,\n",
              " 444.98698254333914]"
            ]
          },
          "metadata": {}
        },
        {
          "output_type": "display_data",
          "data": {
            "text/plain": [
              "137"
            ]
          },
          "metadata": {}
        },
        {
          "output_type": "stream",
          "name": "stdout",
          "text": [
            "\n"
          ]
        },
        {
          "output_type": "display_data",
          "data": {
            "text/plain": [
              "[[0.16958409000256103,\n",
              "  0.8510646128143668,\n",
              "  0.13271899084134905,\n",
              "  0.008416534485318473],\n",
              " [0.16958409000256103,\n",
              "  0.7268097546983396,\n",
              "  0.7169731931594889,\n",
              "  0.008416534485318473],\n",
              " [-0.6490888555589511,\n",
              "  -1.988234074257794,\n",
              "  -2.046453882259873,\n",
              "  -0.9421459923869488],\n",
              " [-0.8742424360454069,\n",
              "  -1.988234074257794,\n",
              "  -2.046453882259873,\n",
              "  -0.9421459923869488]]"
            ]
          },
          "metadata": {}
        },
        {
          "output_type": "stream",
          "name": "stdout",
          "text": [
            "\n"
          ]
        },
        {
          "output_type": "display_data",
          "data": {
            "text/plain": [
              "[0.029497315267036507,\n",
              " 0.1981824616699875,\n",
              " 444.98698254333914,\n",
              " 471.33200560957334]"
            ]
          },
          "metadata": {}
        },
        {
          "output_type": "display_data",
          "data": {
            "text/plain": [
              "138"
            ]
          },
          "metadata": {}
        },
        {
          "output_type": "stream",
          "name": "stdout",
          "text": [
            "\n"
          ]
        },
        {
          "output_type": "display_data",
          "data": {
            "text/plain": [
              "[[0.16958409000256103,\n",
              "  0.8510646128143668,\n",
              "  0.13271899084134905,\n",
              "  0.008416534485318473],\n",
              " [0.16958409000256103,\n",
              "  0.7268097546983396,\n",
              "  0.7169731931594889,\n",
              "  0.008416534485318473],\n",
              " [-0.8742424360454069,\n",
              "  -1.9833778406520641,\n",
              "  -2.046453882259873,\n",
              "  -0.9421459923869488],\n",
              " [-0.8742424360454069,\n",
              "  -1.988234074257794,\n",
              "  -2.046453882259873,\n",
              "  -0.9421459923869488]]"
            ]
          },
          "metadata": {}
        },
        {
          "output_type": "stream",
          "name": "stdout",
          "text": [
            "\n"
          ]
        },
        {
          "output_type": "display_data",
          "data": {
            "text/plain": [
              "[0.029497315267036507,\n",
              " 0.1981824616699875,\n",
              " 470.1601585691625,\n",
              " 471.33200560957334]"
            ]
          },
          "metadata": {}
        },
        {
          "output_type": "display_data",
          "data": {
            "text/plain": [
              "139"
            ]
          },
          "metadata": {}
        },
        {
          "output_type": "stream",
          "name": "stdout",
          "text": [
            "\n"
          ]
        },
        {
          "output_type": "display_data",
          "data": {
            "text/plain": [
              "[[0.16958409000256103,\n",
              "  0.8510646128143668,\n",
              "  0.13271899084134905,\n",
              "  0.008416534485318473],\n",
              " [0.16958409000256103,\n",
              "  0.7268097546983396,\n",
              "  0.7169731931594889,\n",
              "  0.008416534485318473],\n",
              " [-0.8742424360454069,\n",
              "  -1.9833778406520641,\n",
              "  -2.046453882259873,\n",
              "  -0.9421459923869488],\n",
              " [-0.8742424360454069,\n",
              "  -1.988234074257794,\n",
              "  -2.046453882259873,\n",
              "  -0.9421459923869488]]"
            ]
          },
          "metadata": {}
        },
        {
          "output_type": "stream",
          "name": "stdout",
          "text": [
            "\n"
          ]
        },
        {
          "output_type": "display_data",
          "data": {
            "text/plain": [
              "[0.029497315267036507,\n",
              " 0.1981824616699875,\n",
              " 470.1601585691625,\n",
              " 471.33200560957334]"
            ]
          },
          "metadata": {}
        },
        {
          "output_type": "display_data",
          "data": {
            "text/plain": [
              "140"
            ]
          },
          "metadata": {}
        },
        {
          "output_type": "stream",
          "name": "stdout",
          "text": [
            "\n"
          ]
        },
        {
          "output_type": "display_data",
          "data": {
            "text/plain": [
              "[[0.16958409000256103,\n",
              "  0.8510646128143668,\n",
              "  0.13271899084134905,\n",
              "  0.008416534485318473],\n",
              " [0.16958409000256103,\n",
              "  0.7268097546983396,\n",
              "  0.7169731931594889,\n",
              "  0.008416534485318473],\n",
              " [-0.8742424360454069,\n",
              "  -1.9833778406520641,\n",
              "  -2.046453882259873,\n",
              "  -0.9421459923869488],\n",
              " [-0.8742424360454069,\n",
              "  -1.988234074257794,\n",
              "  -2.046453882259873,\n",
              "  -0.9421459923869488]]"
            ]
          },
          "metadata": {}
        },
        {
          "output_type": "stream",
          "name": "stdout",
          "text": [
            "\n"
          ]
        },
        {
          "output_type": "display_data",
          "data": {
            "text/plain": [
              "[0.029497315267036507,\n",
              " 0.1981824616699875,\n",
              " 470.1601585691625,\n",
              " 471.33200560957334]"
            ]
          },
          "metadata": {}
        },
        {
          "output_type": "display_data",
          "data": {
            "text/plain": [
              "141"
            ]
          },
          "metadata": {}
        },
        {
          "output_type": "stream",
          "name": "stdout",
          "text": [
            "\n"
          ]
        },
        {
          "output_type": "display_data",
          "data": {
            "text/plain": [
              "[[0.16958409000256103,\n",
              "  0.8510646128143668,\n",
              "  0.13271899084134905,\n",
              "  0.008416534485318473],\n",
              " [0.16958409000256103,\n",
              "  0.7268097546983396,\n",
              "  0.7169731931594889,\n",
              "  0.008416534485318473],\n",
              " [-0.8742424360454069,\n",
              "  -1.9833778406520641,\n",
              "  -2.046453882259873,\n",
              "  -0.9421459923869488],\n",
              " [-0.8742424360454069,\n",
              "  -1.988234074257794,\n",
              "  -2.046453882259873,\n",
              "  -0.9421459923869488]]"
            ]
          },
          "metadata": {}
        },
        {
          "output_type": "stream",
          "name": "stdout",
          "text": [
            "\n"
          ]
        },
        {
          "output_type": "display_data",
          "data": {
            "text/plain": [
              "[0.029497315267036507,\n",
              " 0.1981824616699875,\n",
              " 471.33200560957334,\n",
              " 470.1601585691625]"
            ]
          },
          "metadata": {}
        },
        {
          "output_type": "display_data",
          "data": {
            "text/plain": [
              "142"
            ]
          },
          "metadata": {}
        },
        {
          "output_type": "stream",
          "name": "stdout",
          "text": [
            "\n"
          ]
        },
        {
          "output_type": "display_data",
          "data": {
            "text/plain": [
              "[[0.16958409000256103,\n",
              "  0.8510646128143668,\n",
              "  0.13271899084134905,\n",
              "  0.008416534485318473],\n",
              " [0.16958409000256103,\n",
              "  0.7268097546983396,\n",
              "  0.7169731931594889,\n",
              "  0.008416534485318473],\n",
              " [-0.8742424360454069,\n",
              "  -1.988234074257794,\n",
              "  -2.046453882259873,\n",
              "  -0.479476135937301],\n",
              " [-0.8742424360454069,\n",
              "  -1.988234074257794,\n",
              "  -2.046453882259873,\n",
              "  -0.9421459923869488]]"
            ]
          },
          "metadata": {}
        },
        {
          "output_type": "stream",
          "name": "stdout",
          "text": [
            "\n"
          ]
        },
        {
          "output_type": "display_data",
          "data": {
            "text/plain": [
              "[0.029497315267036507,\n",
              " 0.1981824616699875,\n",
              " 452.74853324723426,\n",
              " 471.33200560957334]"
            ]
          },
          "metadata": {}
        },
        {
          "output_type": "display_data",
          "data": {
            "text/plain": [
              "143"
            ]
          },
          "metadata": {}
        },
        {
          "output_type": "stream",
          "name": "stdout",
          "text": [
            "\n"
          ]
        },
        {
          "output_type": "display_data",
          "data": {
            "text/plain": [
              "[[0.16958409000256103,\n",
              "  0.8510646128143668,\n",
              "  0.13271899084134905,\n",
              "  0.008416534485318473],\n",
              " [0.16958409000256103,\n",
              "  0.7268097546983396,\n",
              "  0.7169731931594889,\n",
              "  0.008416534485318473],\n",
              " [-0.8742424360454069,\n",
              "  -1.988234074257794,\n",
              "  -2.046453882259873,\n",
              "  -0.9421459923869488],\n",
              " [-0.8742424360454069,\n",
              "  -1.988234074257794,\n",
              "  -2.046453882259873,\n",
              "  -0.9421459923869488]]"
            ]
          },
          "metadata": {}
        },
        {
          "output_type": "stream",
          "name": "stdout",
          "text": [
            "\n"
          ]
        },
        {
          "output_type": "display_data",
          "data": {
            "text/plain": [
              "[0.029497315267036507,\n",
              " 0.1981824616699875,\n",
              " 471.33200560957334,\n",
              " 471.33200560957334]"
            ]
          },
          "metadata": {}
        },
        {
          "output_type": "display_data",
          "data": {
            "text/plain": [
              "144"
            ]
          },
          "metadata": {}
        },
        {
          "output_type": "stream",
          "name": "stdout",
          "text": [
            "\n"
          ]
        },
        {
          "output_type": "display_data",
          "data": {
            "text/plain": [
              "[[0.16958409000256103,\n",
              "  0.8510646128143668,\n",
              "  0.13271899084134905,\n",
              "  0.008416534485318473],\n",
              " [0.16958409000256103,\n",
              "  0.7268097546983396,\n",
              "  0.7169731931594889,\n",
              "  0.008416534485318473],\n",
              " [-0.8742424360454069,\n",
              "  -1.988234074257794,\n",
              "  -2.046453882259873,\n",
              "  -0.9421459923869488],\n",
              " [-0.8742424360454069,\n",
              "  -1.988234074257794,\n",
              "  -2.046453882259873,\n",
              "  -1.911900896761519]]"
            ]
          },
          "metadata": {}
        },
        {
          "output_type": "stream",
          "name": "stdout",
          "text": [
            "\n"
          ]
        },
        {
          "output_type": "display_data",
          "data": {
            "text/plain": [
              "[0.029497315267036507,\n",
              " 0.1981824616699875,\n",
              " 511.67201984349106,\n",
              " 471.33200560957334]"
            ]
          },
          "metadata": {}
        },
        {
          "output_type": "display_data",
          "data": {
            "text/plain": [
              "145"
            ]
          },
          "metadata": {}
        },
        {
          "output_type": "stream",
          "name": "stdout",
          "text": [
            "\n"
          ]
        },
        {
          "output_type": "display_data",
          "data": {
            "text/plain": [
              "[[0.16958409000256103,\n",
              "  0.8510646128143668,\n",
              "  0.13271899084134905,\n",
              "  0.008416534485318473],\n",
              " [0.16958409000256103,\n",
              "  0.7268097546983396,\n",
              "  0.7169731931594889,\n",
              "  0.008416534485318473],\n",
              " [-0.8742424360454069,\n",
              "  -1.988234074257794,\n",
              "  -2.046453882259873,\n",
              "  -0.9421459923869488],\n",
              " [-0.8742424360454069,\n",
              "  -1.988234074257794,\n",
              "  -2.046453882259873,\n",
              "  -1.911900896761519]]"
            ]
          },
          "metadata": {}
        },
        {
          "output_type": "stream",
          "name": "stdout",
          "text": [
            "\n"
          ]
        },
        {
          "output_type": "display_data",
          "data": {
            "text/plain": [
              "[0.029497315267036507,\n",
              " 0.1981824616699875,\n",
              " 471.33200560957334,\n",
              " 511.67201984349106]"
            ]
          },
          "metadata": {}
        },
        {
          "output_type": "display_data",
          "data": {
            "text/plain": [
              "146"
            ]
          },
          "metadata": {}
        },
        {
          "output_type": "stream",
          "name": "stdout",
          "text": [
            "\n"
          ]
        },
        {
          "output_type": "display_data",
          "data": {
            "text/plain": [
              "[[0.16958409000256103,\n",
              "  0.8510646128143668,\n",
              "  0.13271899084134905,\n",
              "  0.008416534485318473],\n",
              " [0.16958409000256103,\n",
              "  0.7268097546983396,\n",
              "  0.7169731931594889,\n",
              "  0.008416534485318473],\n",
              " [-0.8742424360454069,\n",
              "  -1.988234074257794,\n",
              "  -2.046453882259873,\n",
              "  -0.9421459923869488],\n",
              " [-0.8742424360454069,\n",
              "  -1.988234074257794,\n",
              "  -2.046453882259873,\n",
              "  -1.911900896761519]]"
            ]
          },
          "metadata": {}
        },
        {
          "output_type": "stream",
          "name": "stdout",
          "text": [
            "\n"
          ]
        },
        {
          "output_type": "display_data",
          "data": {
            "text/plain": [
              "[0.029497315267036507,\n",
              " 0.1981824616699875,\n",
              " 471.33200560957334,\n",
              " 511.67201984349106]"
            ]
          },
          "metadata": {}
        },
        {
          "output_type": "display_data",
          "data": {
            "text/plain": [
              "147"
            ]
          },
          "metadata": {}
        },
        {
          "output_type": "stream",
          "name": "stdout",
          "text": [
            "\n"
          ]
        },
        {
          "output_type": "display_data",
          "data": {
            "text/plain": [
              "[[0.16958409000256103,\n",
              "  0.8510646128143668,\n",
              "  0.13271899084134905,\n",
              "  0.008416534485318473],\n",
              " [0.16958409000256103,\n",
              "  0.7268097546983396,\n",
              "  0.7169731931594889,\n",
              "  0.008416534485318473],\n",
              " [-0.8742424360454069,\n",
              "  -1.988234074257794,\n",
              "  -2.046453882259873,\n",
              "  -1.911900896761519],\n",
              " [-0.8742424360454069,\n",
              "  -1.988234074257794,\n",
              "  -2.046453882259873,\n",
              "  -1.911900896761519]]"
            ]
          },
          "metadata": {}
        },
        {
          "output_type": "stream",
          "name": "stdout",
          "text": [
            "\n"
          ]
        },
        {
          "output_type": "display_data",
          "data": {
            "text/plain": [
              "[0.029497315267036507,\n",
              " 0.1981824616699875,\n",
              " 511.67201984349106,\n",
              " 511.67201984349106]"
            ]
          },
          "metadata": {}
        },
        {
          "output_type": "display_data",
          "data": {
            "text/plain": [
              "148"
            ]
          },
          "metadata": {}
        },
        {
          "output_type": "stream",
          "name": "stdout",
          "text": [
            "\n"
          ]
        },
        {
          "output_type": "display_data",
          "data": {
            "text/plain": [
              "[[0.16958409000256103,\n",
              "  0.8510646128143668,\n",
              "  0.13271899084134905,\n",
              "  0.008416534485318473],\n",
              " [0.16958409000256103,\n",
              "  0.7268097546983396,\n",
              "  0.7169731931594889,\n",
              "  0.008416534485318473],\n",
              " [-0.8742424360454069,\n",
              "  -1.988234074257794,\n",
              "  -2.046453882259873,\n",
              "  -1.911900896761519],\n",
              " [-0.8742424360454069,\n",
              "  -1.988234074257794,\n",
              "  -2.046453882259873,\n",
              "  -1.911900896761519]]"
            ]
          },
          "metadata": {}
        },
        {
          "output_type": "stream",
          "name": "stdout",
          "text": [
            "\n"
          ]
        },
        {
          "output_type": "display_data",
          "data": {
            "text/plain": [
              "[0.029497315267036507,\n",
              " 0.1981824616699875,\n",
              " 511.67201984349106,\n",
              " 511.67201984349106]"
            ]
          },
          "metadata": {}
        },
        {
          "output_type": "display_data",
          "data": {
            "text/plain": [
              "149"
            ]
          },
          "metadata": {}
        },
        {
          "output_type": "stream",
          "name": "stdout",
          "text": [
            "\n"
          ]
        },
        {
          "output_type": "display_data",
          "data": {
            "text/plain": [
              "[[0.16958409000256103,\n",
              "  0.8510646128143668,\n",
              "  0.13271899084134905,\n",
              "  0.008416534485318473],\n",
              " [0.16958409000256103,\n",
              "  0.7268097546983396,\n",
              "  0.7169731931594889,\n",
              "  0.008416534485318473],\n",
              " [-0.8742424360454069,\n",
              "  -1.988234074257794,\n",
              "  -2.046453882259873,\n",
              "  -1.911900896761519],\n",
              " [-1.4246276034587866,\n",
              "  -1.988234074257794,\n",
              "  -2.046453882259873,\n",
              "  -1.911900896761519]]"
            ]
          },
          "metadata": {}
        },
        {
          "output_type": "stream",
          "name": "stdout",
          "text": [
            "\n"
          ]
        },
        {
          "output_type": "display_data",
          "data": {
            "text/plain": [
              "[0.029497315267036507,\n",
              " 0.1981824616699875,\n",
              " 581.9421370276441,\n",
              " 511.67201984349106]"
            ]
          },
          "metadata": {}
        },
        {
          "output_type": "display_data",
          "data": {
            "text/plain": [
              "150"
            ]
          },
          "metadata": {}
        },
        {
          "output_type": "stream",
          "name": "stdout",
          "text": [
            "\n"
          ]
        },
        {
          "output_type": "display_data",
          "data": {
            "text/plain": [
              "[[0.16958409000256103,\n",
              "  0.8510646128143668,\n",
              "  0.13271899084134905,\n",
              "  0.008416534485318473],\n",
              " [0.16958409000256103,\n",
              "  0.7268097546983396,\n",
              "  0.7169731931594889,\n",
              "  0.008416534485318473],\n",
              " [-0.8742424360454069,\n",
              "  -1.988234074257794,\n",
              "  -2.046453882259873,\n",
              "  -1.911900896761519],\n",
              " [-1.4246276034587866,\n",
              "  -1.988234074257794,\n",
              "  -2.046453882259873,\n",
              "  -1.911900896761519]]"
            ]
          },
          "metadata": {}
        },
        {
          "output_type": "stream",
          "name": "stdout",
          "text": [
            "\n"
          ]
        },
        {
          "output_type": "display_data",
          "data": {
            "text/plain": [
              "[0.029497315267036507,\n",
              " 0.1981824616699875,\n",
              " 581.9421370276441,\n",
              " 511.67201984349106]"
            ]
          },
          "metadata": {}
        },
        {
          "output_type": "display_data",
          "data": {
            "text/plain": [
              "151"
            ]
          },
          "metadata": {}
        },
        {
          "output_type": "stream",
          "name": "stdout",
          "text": [
            "\n"
          ]
        },
        {
          "output_type": "display_data",
          "data": {
            "text/plain": [
              "[[0.16958409000256103,\n",
              "  0.8510646128143668,\n",
              "  0.13271899084134905,\n",
              "  0.008416534485318473],\n",
              " [0.16958409000256103,\n",
              "  0.7268097546983396,\n",
              "  0.7169731931594889,\n",
              "  0.008416534485318473],\n",
              " [-0.8742424360454069,\n",
              "  -1.988234074257794,\n",
              "  -2.046453882259873,\n",
              "  -1.911900896761519],\n",
              " [-1.4246276034587866,\n",
              "  -1.988234074257794,\n",
              "  -2.046453882259873,\n",
              "  -1.911900896761519]]"
            ]
          },
          "metadata": {}
        },
        {
          "output_type": "stream",
          "name": "stdout",
          "text": [
            "\n"
          ]
        },
        {
          "output_type": "display_data",
          "data": {
            "text/plain": [
              "[0.029497315267036507,\n",
              " 0.1981824616699875,\n",
              " 581.9421370276441,\n",
              " 511.67201984349106]"
            ]
          },
          "metadata": {}
        },
        {
          "output_type": "display_data",
          "data": {
            "text/plain": [
              "152"
            ]
          },
          "metadata": {}
        },
        {
          "output_type": "stream",
          "name": "stdout",
          "text": [
            "\n"
          ]
        },
        {
          "output_type": "display_data",
          "data": {
            "text/plain": [
              "[[0.16958409000256103,\n",
              "  0.8510646128143668,\n",
              "  0.13271899084134905,\n",
              "  0.008416534485318473],\n",
              " [0.16958409000256103,\n",
              "  0.7268097546983396,\n",
              "  0.7169731931594889,\n",
              "  0.008416534485318473],\n",
              " [-0.8742424360454069,\n",
              "  -1.988234074257794,\n",
              "  -2.046453882259873,\n",
              "  -1.911900896761519],\n",
              " [-1.4246276034587866,\n",
              "  -1.988234074257794,\n",
              "  -2.046453882259873,\n",
              "  -1.911900896761519]]"
            ]
          },
          "metadata": {}
        },
        {
          "output_type": "stream",
          "name": "stdout",
          "text": [
            "\n"
          ]
        },
        {
          "output_type": "display_data",
          "data": {
            "text/plain": [
              "[0.029497315267036507,\n",
              " 0.1981824616699875,\n",
              " 511.67201984349106,\n",
              " 581.9421370276441]"
            ]
          },
          "metadata": {}
        },
        {
          "output_type": "display_data",
          "data": {
            "text/plain": [
              "153"
            ]
          },
          "metadata": {}
        },
        {
          "output_type": "stream",
          "name": "stdout",
          "text": [
            "\n"
          ]
        },
        {
          "output_type": "display_data",
          "data": {
            "text/plain": [
              "[[0.16958409000256103,\n",
              "  0.8510646128143668,\n",
              "  0.13271899084134905,\n",
              "  0.008416534485318473],\n",
              " [0.16958409000256103,\n",
              "  0.7268097546983396,\n",
              "  0.7169731931594889,\n",
              "  0.008416534485318473],\n",
              " [-1.4246276034587866,\n",
              "  -1.988234074257794,\n",
              "  -2.046453882259873,\n",
              "  -1.911900896761519],\n",
              " [-1.4246276034587866,\n",
              "  -2.8026436537104678,\n",
              "  -2.046453882259873,\n",
              "  -1.911900896761519]]"
            ]
          },
          "metadata": {}
        },
        {
          "output_type": "stream",
          "name": "stdout",
          "text": [
            "\n"
          ]
        },
        {
          "output_type": "display_data",
          "data": {
            "text/plain": [
              "[0.029497315267036507,\n",
              " 0.1981824616699875,\n",
              " 820.8829680516171,\n",
              " 581.9421370276441]"
            ]
          },
          "metadata": {}
        },
        {
          "output_type": "display_data",
          "data": {
            "text/plain": [
              "154"
            ]
          },
          "metadata": {}
        },
        {
          "output_type": "stream",
          "name": "stdout",
          "text": [
            "\n"
          ]
        },
        {
          "output_type": "display_data",
          "data": {
            "text/plain": [
              "[[0.16958409000256103,\n",
              "  0.8510646128143668,\n",
              "  0.13271899084134905,\n",
              "  0.008416534485318473],\n",
              " [0.16958409000256103,\n",
              "  0.7268097546983396,\n",
              "  0.7169731931594889,\n",
              "  0.008416534485318473],\n",
              " [-1.4246276034587866,\n",
              "  -1.988234074257794,\n",
              "  -2.046453882259873,\n",
              "  -1.911900896761519],\n",
              " [-1.4246276034587866,\n",
              "  -1.988234074257794,\n",
              "  -2.046453882259873,\n",
              "  -2.1757673461919707]]"
            ]
          },
          "metadata": {}
        },
        {
          "output_type": "stream",
          "name": "stdout",
          "text": [
            "\n"
          ]
        },
        {
          "output_type": "display_data",
          "data": {
            "text/plain": [
              "[0.029497315267036507,\n",
              " 0.1981824616699875,\n",
              " 593.9701465160356,\n",
              " 581.9421370276441]"
            ]
          },
          "metadata": {}
        },
        {
          "output_type": "display_data",
          "data": {
            "text/plain": [
              "155"
            ]
          },
          "metadata": {}
        },
        {
          "output_type": "stream",
          "name": "stdout",
          "text": [
            "\n"
          ]
        },
        {
          "output_type": "display_data",
          "data": {
            "text/plain": [
              "[[0.16958409000256103,\n",
              "  0.8510646128143668,\n",
              "  0.13271899084134905,\n",
              "  0.008416534485318473],\n",
              " [0.16958409000256103,\n",
              "  0.7268097546983396,\n",
              "  0.7169731931594889,\n",
              "  0.008416534485318473],\n",
              " [-1.4246276034587866,\n",
              "  -1.988234074257794,\n",
              "  -2.046453882259873,\n",
              "  -1.911900896761519],\n",
              " [-1.4246276034587866,\n",
              "  -1.988234074257794,\n",
              "  -2.046453882259873,\n",
              "  -2.1757673461919707]]"
            ]
          },
          "metadata": {}
        },
        {
          "output_type": "stream",
          "name": "stdout",
          "text": [
            "\n"
          ]
        },
        {
          "output_type": "display_data",
          "data": {
            "text/plain": [
              "[0.029497315267036507,\n",
              " 0.1981824616699875,\n",
              " 581.9421370276441,\n",
              " 593.9701465160356]"
            ]
          },
          "metadata": {}
        },
        {
          "output_type": "display_data",
          "data": {
            "text/plain": [
              "156"
            ]
          },
          "metadata": {}
        },
        {
          "output_type": "stream",
          "name": "stdout",
          "text": [
            "\n"
          ]
        },
        {
          "output_type": "display_data",
          "data": {
            "text/plain": [
              "[[0.16958409000256103,\n",
              "  0.8510646128143668,\n",
              "  0.13271899084134905,\n",
              "  0.008416534485318473],\n",
              " [0.16958409000256103,\n",
              "  0.7268097546983396,\n",
              "  0.7169731931594889,\n",
              "  0.008416534485318473],\n",
              " [-1.4246276034587866,\n",
              "  -1.988234074257794,\n",
              "  -2.046453882259873,\n",
              "  -1.911900896761519],\n",
              " [-1.4246276034587866,\n",
              "  -1.988234074257794,\n",
              "  -2.046453882259873,\n",
              "  -1.911900896761519]]"
            ]
          },
          "metadata": {}
        },
        {
          "output_type": "stream",
          "name": "stdout",
          "text": [
            "\n"
          ]
        },
        {
          "output_type": "display_data",
          "data": {
            "text/plain": [
              "[0.029497315267036507,\n",
              " 0.1981824616699875,\n",
              " 581.9421370276441,\n",
              " 581.9421370276441]"
            ]
          },
          "metadata": {}
        },
        {
          "output_type": "display_data",
          "data": {
            "text/plain": [
              "157"
            ]
          },
          "metadata": {}
        },
        {
          "output_type": "stream",
          "name": "stdout",
          "text": [
            "\n"
          ]
        },
        {
          "output_type": "display_data",
          "data": {
            "text/plain": [
              "[[0.16958409000256103,\n",
              "  0.8510646128143668,\n",
              "  0.13271899084134905,\n",
              "  0.008416534485318473],\n",
              " [0.16958409000256103,\n",
              "  0.7268097546983396,\n",
              "  0.7169731931594889,\n",
              "  0.008416534485318473],\n",
              " [-1.4246276034587866,\n",
              "  -1.988234074257794,\n",
              "  -1.5608007229865666,\n",
              "  -1.911900896761519],\n",
              " [-1.4246276034587866,\n",
              "  -1.988234074257794,\n",
              "  -2.046453882259873,\n",
              "  -1.911900896761519]]"
            ]
          },
          "metadata": {}
        },
        {
          "output_type": "stream",
          "name": "stdout",
          "text": [
            "\n"
          ]
        },
        {
          "output_type": "display_data",
          "data": {
            "text/plain": [
              "[0.029497315267036507,\n",
              " 0.1981824616699875,\n",
              " 560.1682749087829,\n",
              " 581.9421370276441]"
            ]
          },
          "metadata": {}
        },
        {
          "output_type": "display_data",
          "data": {
            "text/plain": [
              "158"
            ]
          },
          "metadata": {}
        },
        {
          "output_type": "stream",
          "name": "stdout",
          "text": [
            "\n"
          ]
        },
        {
          "output_type": "display_data",
          "data": {
            "text/plain": [
              "[[0.16958409000256103,\n",
              "  0.8510646128143668,\n",
              "  0.13271899084134905,\n",
              "  0.008416534485318473],\n",
              " [0.16958409000256103,\n",
              "  0.7268097546983396,\n",
              "  0.7169731931594889,\n",
              "  0.008416534485318473],\n",
              " [-1.4246276034587866,\n",
              "  -1.988234074257794,\n",
              "  -1.5608007229865666,\n",
              "  -1.911900896761519],\n",
              " [-1.4246276034587866,\n",
              "  -2.373916400240602,\n",
              "  -2.046453882259873,\n",
              "  -1.911900896761519]]"
            ]
          },
          "metadata": {}
        },
        {
          "output_type": "stream",
          "name": "stdout",
          "text": [
            "\n"
          ]
        },
        {
          "output_type": "display_data",
          "data": {
            "text/plain": [
              "[0.029497315267036507, 0.1981824616699875, 689.970463290795, 560.1682749087829]"
            ]
          },
          "metadata": {}
        },
        {
          "output_type": "display_data",
          "data": {
            "text/plain": [
              "159"
            ]
          },
          "metadata": {}
        },
        {
          "output_type": "stream",
          "name": "stdout",
          "text": [
            "\n"
          ]
        },
        {
          "output_type": "display_data",
          "data": {
            "text/plain": [
              "[[0.16958409000256103,\n",
              "  0.8510646128143668,\n",
              "  0.13271899084134905,\n",
              "  0.008416534485318473],\n",
              " [0.16958409000256103,\n",
              "  0.7268097546983396,\n",
              "  0.7169731931594889,\n",
              "  0.008416534485318473],\n",
              " [-1.4246276034587866,\n",
              "  -1.988234074257794,\n",
              "  -2.046453882259873,\n",
              "  -1.911900896761519],\n",
              " [-2.1947050881237544,\n",
              "  -2.373916400240602,\n",
              "  -1.5608007229865666,\n",
              "  -1.911900896761519]]"
            ]
          },
          "metadata": {}
        },
        {
          "output_type": "stream",
          "name": "stdout",
          "text": [
            "\n"
          ]
        },
        {
          "output_type": "display_data",
          "data": {
            "text/plain": [
              "[0.029497315267036507,\n",
              " 0.1981824616699875,\n",
              " 779.4204188935723,\n",
              " 581.9421370276441]"
            ]
          },
          "metadata": {}
        },
        {
          "output_type": "display_data",
          "data": {
            "text/plain": [
              "160"
            ]
          },
          "metadata": {}
        },
        {
          "output_type": "stream",
          "name": "stdout",
          "text": [
            "\n"
          ]
        },
        {
          "output_type": "display_data",
          "data": {
            "text/plain": [
              "[[0.16958409000256103,\n",
              "  0.8510646128143668,\n",
              "  0.13271899084134905,\n",
              "  0.008416534485318473],\n",
              " [0.16958409000256103,\n",
              "  0.7268097546983396,\n",
              "  0.7169731931594889,\n",
              "  0.008416534485318473],\n",
              " [-1.4246276034587866,\n",
              "  -1.988234074257794,\n",
              "  -1.8477384279318505,\n",
              "  -1.911900896761519],\n",
              " [-2.1947050881237544,\n",
              "  -2.373916400240602,\n",
              "  -1.5608007229865666,\n",
              "  -1.911900896761519]]"
            ]
          },
          "metadata": {}
        },
        {
          "output_type": "stream",
          "name": "stdout",
          "text": [
            "\n"
          ]
        },
        {
          "output_type": "display_data",
          "data": {
            "text/plain": [
              "[0.029497315267036507,\n",
              " 0.1981824616699875,\n",
              " 572.9758732309542,\n",
              " 779.4204188935723]"
            ]
          },
          "metadata": {}
        },
        {
          "output_type": "display_data",
          "data": {
            "text/plain": [
              "161"
            ]
          },
          "metadata": {}
        },
        {
          "output_type": "stream",
          "name": "stdout",
          "text": [
            "\n"
          ]
        },
        {
          "output_type": "display_data",
          "data": {
            "text/plain": [
              "[[0.16958409000256103,\n",
              "  0.8510646128143668,\n",
              "  0.13271899084134905,\n",
              "  0.008416534485318473],\n",
              " [0.16958409000256103,\n",
              "  0.7268097546983396,\n",
              "  0.7169731931594889,\n",
              "  0.008416534485318473],\n",
              " [-1.4246276034587866,\n",
              "  -2.373916400240602,\n",
              "  -1.5608007229865666,\n",
              "  -1.911900896761519],\n",
              " [-2.1947050881237544,\n",
              "  -1.988234074257794,\n",
              "  -1.8477384279318505,\n",
              "  -1.911900896761519]]"
            ]
          },
          "metadata": {}
        },
        {
          "output_type": "stream",
          "name": "stdout",
          "text": [
            "\n"
          ]
        },
        {
          "output_type": "display_data",
          "data": {
            "text/plain": [
              "[0.029497315267036507,\n",
              " 0.1981824616699875,\n",
              " 666.2860612030217,\n",
              " 678.1563913499904]"
            ]
          },
          "metadata": {}
        },
        {
          "output_type": "display_data",
          "data": {
            "text/plain": [
              "162"
            ]
          },
          "metadata": {}
        },
        {
          "output_type": "stream",
          "name": "stdout",
          "text": [
            "\n"
          ]
        },
        {
          "output_type": "display_data",
          "data": {
            "text/plain": [
              "[[0.16958409000256103,\n",
              "  0.8510646128143668,\n",
              "  0.13271899084134905,\n",
              "  0.008416534485318473],\n",
              " [0.16958409000256103,\n",
              "  0.7268097546983396,\n",
              "  0.7169731931594889,\n",
              "  0.008416534485318473],\n",
              " [-1.4246276034587866,\n",
              "  -2.373916400240602,\n",
              "  -1.5608007229865666,\n",
              "  -1.911900896761519],\n",
              " [-1.4246276034587866,\n",
              "  -2.373916400240602,\n",
              "  -1.5608007229865666,\n",
              "  -1.911900896761519]]"
            ]
          },
          "metadata": {}
        },
        {
          "output_type": "stream",
          "name": "stdout",
          "text": [
            "\n"
          ]
        },
        {
          "output_type": "display_data",
          "data": {
            "text/plain": [
              "[0.029497315267036507,\n",
              " 0.1981824616699875,\n",
              " 666.2860612030217,\n",
              " 666.2860612030217]"
            ]
          },
          "metadata": {}
        },
        {
          "output_type": "display_data",
          "data": {
            "text/plain": [
              "163"
            ]
          },
          "metadata": {}
        },
        {
          "output_type": "stream",
          "name": "stdout",
          "text": [
            "\n"
          ]
        },
        {
          "output_type": "display_data",
          "data": {
            "text/plain": [
              "[[0.16958409000256103,\n",
              "  0.8510646128143668,\n",
              "  0.13271899084134905,\n",
              "  0.008416534485318473],\n",
              " [0.16958409000256103,\n",
              "  0.7268097546983396,\n",
              "  0.7169731931594889,\n",
              "  0.008416534485318473],\n",
              " [-1.4246276034587866,\n",
              "  -2.373916400240602,\n",
              "  -1.5608007229865666,\n",
              "  -1.911900896761519],\n",
              " [-1.8013201128729073,\n",
              "  -2.373916400240602,\n",
              "  -1.5608007229865666,\n",
              "  -1.911900896761519]]"
            ]
          },
          "metadata": {}
        },
        {
          "output_type": "stream",
          "name": "stdout",
          "text": [
            "\n"
          ]
        },
        {
          "output_type": "display_data",
          "data": {
            "text/plain": [
              "[0.029497315267036507,\n",
              " 0.1981824616699875,\n",
              " 720.5156815185223,\n",
              " 666.2860612030217]"
            ]
          },
          "metadata": {}
        },
        {
          "output_type": "display_data",
          "data": {
            "text/plain": [
              "164"
            ]
          },
          "metadata": {}
        },
        {
          "output_type": "stream",
          "name": "stdout",
          "text": [
            "\n"
          ]
        },
        {
          "output_type": "display_data",
          "data": {
            "text/plain": [
              "[[0.16958409000256103,\n",
              "  0.8510646128143668,\n",
              "  0.13271899084134905,\n",
              "  0.008416534485318473],\n",
              " [0.16958409000256103,\n",
              "  0.7268097546983396,\n",
              "  0.7169731931594889,\n",
              "  0.008416534485318473],\n",
              " [-1.8013201128729073,\n",
              "  -2.373916400240602,\n",
              "  -1.5608007229865666,\n",
              "  -1.911900896761519],\n",
              " [-1.8013201128729073,\n",
              "  -2.373916400240602,\n",
              "  -1.5608007229865666,\n",
              "  -1.911900896761519]]"
            ]
          },
          "metadata": {}
        },
        {
          "output_type": "stream",
          "name": "stdout",
          "text": [
            "\n"
          ]
        },
        {
          "output_type": "display_data",
          "data": {
            "text/plain": [
              "[0.029497315267036507,\n",
              " 0.1981824616699875,\n",
              " 720.5156815185223,\n",
              " 720.5156815185223]"
            ]
          },
          "metadata": {}
        },
        {
          "output_type": "display_data",
          "data": {
            "text/plain": [
              "165"
            ]
          },
          "metadata": {}
        },
        {
          "output_type": "stream",
          "name": "stdout",
          "text": [
            "\n"
          ]
        },
        {
          "output_type": "display_data",
          "data": {
            "text/plain": [
              "[[0.16958409000256103,\n",
              "  0.8510646128143668,\n",
              "  0.13271899084134905,\n",
              "  0.008416534485318473],\n",
              " [0.16958409000256103,\n",
              "  0.7268097546983396,\n",
              "  0.7169731931594889,\n",
              "  0.008416534485318473],\n",
              " [-1.8013201128729073,\n",
              "  -2.373916400240602,\n",
              "  -1.3899572971997907,\n",
              "  -1.911900896761519],\n",
              " [-1.8013201128729073,\n",
              "  -2.373916400240602,\n",
              "  -1.5608007229865666,\n",
              "  -1.911900896761519]]"
            ]
          },
          "metadata": {}
        },
        {
          "output_type": "stream",
          "name": "stdout",
          "text": [
            "\n"
          ]
        },
        {
          "output_type": "display_data",
          "data": {
            "text/plain": [
              "[0.029497315267036507,\n",
              " 0.1981824616699875,\n",
              " 711.9743460532189,\n",
              " 720.5156815185223]"
            ]
          },
          "metadata": {}
        },
        {
          "output_type": "display_data",
          "data": {
            "text/plain": [
              "166"
            ]
          },
          "metadata": {}
        },
        {
          "output_type": "stream",
          "name": "stdout",
          "text": [
            "\n"
          ]
        },
        {
          "output_type": "display_data",
          "data": {
            "text/plain": [
              "[[0.16958409000256103,\n",
              "  0.8510646128143668,\n",
              "  0.13271899084134905,\n",
              "  0.008416534485318473],\n",
              " [0.16958409000256103,\n",
              "  0.7268097546983396,\n",
              "  0.7169731931594889,\n",
              "  0.008416534485318473],\n",
              " [-1.8013201128729073,\n",
              "  -2.052244796965496,\n",
              "  -1.5608007229865666,\n",
              "  -1.911900896761519],\n",
              " [-1.8013201128729073,\n",
              "  -2.373916400240602,\n",
              "  -1.3899572971997907,\n",
              "  -1.911900896761519]]"
            ]
          },
          "metadata": {}
        },
        {
          "output_type": "stream",
          "name": "stdout",
          "text": [
            "\n"
          ]
        },
        {
          "output_type": "display_data",
          "data": {
            "text/plain": [
              "[0.029497315267036507,\n",
              " 0.1981824616699875,\n",
              " 627.6757630839207,\n",
              " 711.9743460532189]"
            ]
          },
          "metadata": {}
        },
        {
          "output_type": "display_data",
          "data": {
            "text/plain": [
              "167"
            ]
          },
          "metadata": {}
        },
        {
          "output_type": "stream",
          "name": "stdout",
          "text": [
            "\n"
          ]
        },
        {
          "output_type": "display_data",
          "data": {
            "text/plain": [
              "[[0.16958409000256103,\n",
              "  0.8510646128143668,\n",
              "  0.13271899084134905,\n",
              "  0.008416534485318473],\n",
              " [0.16958409000256103,\n",
              "  0.7268097546983396,\n",
              "  0.7169731931594889,\n",
              "  0.008416534485318473],\n",
              " [-1.8013201128729073,\n",
              "  -2.052244796965496,\n",
              "  -1.5608007229865666,\n",
              "  -1.911900896761519],\n",
              " [-1.8013201128729073,\n",
              "  -2.373916400240602,\n",
              "  -1.3899572971997907,\n",
              "  -1.911900896761519]]"
            ]
          },
          "metadata": {}
        },
        {
          "output_type": "stream",
          "name": "stdout",
          "text": [
            "\n"
          ]
        },
        {
          "output_type": "display_data",
          "data": {
            "text/plain": [
              "[0.029497315267036507,\n",
              " 0.1981824616699875,\n",
              " 711.9743460532189,\n",
              " 627.6757630839207]"
            ]
          },
          "metadata": {}
        },
        {
          "output_type": "display_data",
          "data": {
            "text/plain": [
              "168"
            ]
          },
          "metadata": {}
        },
        {
          "output_type": "stream",
          "name": "stdout",
          "text": [
            "\n"
          ]
        },
        {
          "output_type": "display_data",
          "data": {
            "text/plain": [
              "[[0.16958409000256103,\n",
              "  0.8510646128143668,\n",
              "  0.13271899084134905,\n",
              "  0.008416534485318473],\n",
              " [0.16958409000256103,\n",
              "  0.7268097546983396,\n",
              "  0.7169731931594889,\n",
              "  0.008416534485318473],\n",
              " [-1.8013201128729073,\n",
              "  -2.052244796965496,\n",
              "  -1.5608007229865666,\n",
              "  -1.911900896761519],\n",
              " [-1.8013201128729073,\n",
              "  -2.373916400240602,\n",
              "  -1.3899572971997907,\n",
              "  -1.911900896761519]]"
            ]
          },
          "metadata": {}
        },
        {
          "output_type": "stream",
          "name": "stdout",
          "text": [
            "\n"
          ]
        },
        {
          "output_type": "display_data",
          "data": {
            "text/plain": [
              "[0.029497315267036507,\n",
              " 0.1981824616699875,\n",
              " 627.6757630839207,\n",
              " 711.9743460532189]"
            ]
          },
          "metadata": {}
        },
        {
          "output_type": "display_data",
          "data": {
            "text/plain": [
              "169"
            ]
          },
          "metadata": {}
        },
        {
          "output_type": "stream",
          "name": "stdout",
          "text": [
            "\n"
          ]
        },
        {
          "output_type": "display_data",
          "data": {
            "text/plain": [
              "[[0.16958409000256103,\n",
              "  0.8510646128143668,\n",
              "  0.13271899084134905,\n",
              "  0.008416534485318473],\n",
              " [0.16958409000256103,\n",
              "  0.7268097546983396,\n",
              "  0.7169731931594889,\n",
              "  0.008416534485318473],\n",
              " [-1.8013201128729073,\n",
              "  -2.052244796965496,\n",
              "  -1.5198971306662163,\n",
              "  -1.911900896761519],\n",
              " [-1.8013201128729073,\n",
              "  -2.052244796965496,\n",
              "  -1.5608007229865666,\n",
              "  -1.911900896761519]]"
            ]
          },
          "metadata": {}
        },
        {
          "output_type": "stream",
          "name": "stdout",
          "text": [
            "\n"
          ]
        },
        {
          "output_type": "display_data",
          "data": {
            "text/plain": [
              "[0.029497315267036507,\n",
              " 0.1981824616699875,\n",
              " 625.7596753222265,\n",
              " 627.6757630839207]"
            ]
          },
          "metadata": {}
        },
        {
          "output_type": "display_data",
          "data": {
            "text/plain": [
              "170"
            ]
          },
          "metadata": {}
        },
        {
          "output_type": "stream",
          "name": "stdout",
          "text": [
            "\n"
          ]
        },
        {
          "output_type": "display_data",
          "data": {
            "text/plain": [
              "[[0.16958409000256103,\n",
              "  0.8510646128143668,\n",
              "  0.13271899084134905,\n",
              "  0.008416534485318473],\n",
              " [0.16958409000256103,\n",
              "  0.7268097546983396,\n",
              "  0.7169731931594889,\n",
              "  0.008416534485318473],\n",
              " [-1.8013201128729073,\n",
              "  -2.052244796965496,\n",
              "  -1.5608007229865666,\n",
              "  -1.911900896761519],\n",
              " [-1.8013201128729073,\n",
              "  -2.052244796965496,\n",
              "  -1.5608007229865666,\n",
              "  -1.911900896761519]]"
            ]
          },
          "metadata": {}
        },
        {
          "output_type": "stream",
          "name": "stdout",
          "text": [
            "\n"
          ]
        },
        {
          "output_type": "display_data",
          "data": {
            "text/plain": [
              "[0.029497315267036507,\n",
              " 0.1981824616699875,\n",
              " 627.6757630839207,\n",
              " 627.6757630839207]"
            ]
          },
          "metadata": {}
        },
        {
          "output_type": "display_data",
          "data": {
            "text/plain": [
              "171"
            ]
          },
          "metadata": {}
        },
        {
          "output_type": "stream",
          "name": "stdout",
          "text": [
            "\n"
          ]
        },
        {
          "output_type": "display_data",
          "data": {
            "text/plain": [
              "[[0.16958409000256103,\n",
              "  0.8510646128143668,\n",
              "  0.13271899084134905,\n",
              "  0.008416534485318473],\n",
              " [0.16958409000256103,\n",
              "  0.7268097546983396,\n",
              "  0.7169731931594889,\n",
              "  0.008416534485318473],\n",
              " [-1.8013201128729073,\n",
              "  -2.052244796965496,\n",
              "  -1.5608007229865666,\n",
              "  -1.911900896761519],\n",
              " [-1.8013201128729073,\n",
              "  -2.052244796965496,\n",
              "  -1.9723008141823013,\n",
              "  -1.911900896761519]]"
            ]
          },
          "metadata": {}
        },
        {
          "output_type": "stream",
          "name": "stdout",
          "text": [
            "\n"
          ]
        },
        {
          "output_type": "display_data",
          "data": {
            "text/plain": [
              "[0.029497315267036507,\n",
              " 0.1981824616699875,\n",
              " 647.1382363362698,\n",
              " 627.6757630839207]"
            ]
          },
          "metadata": {}
        },
        {
          "output_type": "display_data",
          "data": {
            "text/plain": [
              "172"
            ]
          },
          "metadata": {}
        },
        {
          "output_type": "stream",
          "name": "stdout",
          "text": [
            "\n"
          ]
        },
        {
          "output_type": "display_data",
          "data": {
            "text/plain": [
              "[[0.16958409000256103,\n",
              "  0.8510646128143668,\n",
              "  0.13271899084134905,\n",
              "  0.008416534485318473],\n",
              " [0.16958409000256103,\n",
              "  0.7268097546983396,\n",
              "  0.7169731931594889,\n",
              "  0.008416534485318473],\n",
              " [-1.8013201128729073,\n",
              "  -2.052244796965496,\n",
              "  -1.9723008141823013,\n",
              "  -1.911900896761519],\n",
              " [-1.8013201128729073,\n",
              "  -2.052244796965496,\n",
              "  -1.9723008141823013,\n",
              "  -1.911900896761519]]"
            ]
          },
          "metadata": {}
        },
        {
          "output_type": "stream",
          "name": "stdout",
          "text": [
            "\n"
          ]
        },
        {
          "output_type": "display_data",
          "data": {
            "text/plain": [
              "[0.029497315267036507,\n",
              " 0.1981824616699875,\n",
              " 647.1382363362698,\n",
              " 647.1382363362698]"
            ]
          },
          "metadata": {}
        },
        {
          "output_type": "display_data",
          "data": {
            "text/plain": [
              "173"
            ]
          },
          "metadata": {}
        },
        {
          "output_type": "stream",
          "name": "stdout",
          "text": [
            "\n"
          ]
        },
        {
          "output_type": "display_data",
          "data": {
            "text/plain": [
              "[[0.16958409000256103,\n",
              "  0.8510646128143668,\n",
              "  0.13271899084134905,\n",
              "  0.008416534485318473],\n",
              " [0.16958409000256103,\n",
              "  0.7268097546983396,\n",
              "  0.7169731931594889,\n",
              "  0.008416534485318473],\n",
              " [-1.8013201128729073,\n",
              "  -2.052244796965496,\n",
              "  -1.9723008141823013,\n",
              "  -1.911900896761519],\n",
              " [-1.8013201128729073,\n",
              "  -2.052244796965496,\n",
              "  -1.9723008141823013,\n",
              "  -1.911900896761519]]"
            ]
          },
          "metadata": {}
        },
        {
          "output_type": "stream",
          "name": "stdout",
          "text": [
            "\n"
          ]
        },
        {
          "output_type": "display_data",
          "data": {
            "text/plain": [
              "[0.029497315267036507,\n",
              " 0.1981824616699875,\n",
              " 647.1382363362698,\n",
              " 647.1382363362698]"
            ]
          },
          "metadata": {}
        },
        {
          "output_type": "display_data",
          "data": {
            "text/plain": [
              "174"
            ]
          },
          "metadata": {}
        },
        {
          "output_type": "stream",
          "name": "stdout",
          "text": [
            "\n"
          ]
        },
        {
          "output_type": "display_data",
          "data": {
            "text/plain": [
              "[[0.16958409000256103,\n",
              "  0.8510646128143668,\n",
              "  0.13271899084134905,\n",
              "  0.008416534485318473],\n",
              " [0.16958409000256103,\n",
              "  0.7268097546983396,\n",
              "  0.7169731931594889,\n",
              "  0.008416534485318473],\n",
              " [-1.8013201128729073,\n",
              "  -2.052244796965496,\n",
              "  -1.9723008141823013,\n",
              "  -1.911900896761519],\n",
              " [-1.8013201128729073,\n",
              "  -2.052244796965496,\n",
              "  -1.9723008141823013,\n",
              "  -1.911900896761519]]"
            ]
          },
          "metadata": {}
        },
        {
          "output_type": "stream",
          "name": "stdout",
          "text": [
            "\n"
          ]
        },
        {
          "output_type": "display_data",
          "data": {
            "text/plain": [
              "[0.029497315267036507,\n",
              " 0.1981824616699875,\n",
              " 647.1382363362698,\n",
              " 647.1382363362698]"
            ]
          },
          "metadata": {}
        },
        {
          "output_type": "display_data",
          "data": {
            "text/plain": [
              "175"
            ]
          },
          "metadata": {}
        },
        {
          "output_type": "stream",
          "name": "stdout",
          "text": [
            "\n"
          ]
        },
        {
          "output_type": "display_data",
          "data": {
            "text/plain": [
              "[[0.16958409000256103,\n",
              "  0.8510646128143668,\n",
              "  0.13271899084134905,\n",
              "  0.008416534485318473],\n",
              " [0.16958409000256103,\n",
              "  0.7268097546983396,\n",
              "  0.7169731931594889,\n",
              "  0.008416534485318473],\n",
              " [-1.8013201128729073,\n",
              "  -1.3126371711470894,\n",
              "  -1.9723008141823013,\n",
              "  -1.911900896761519],\n",
              " [-1.8013201128729073,\n",
              "  -2.052244796965496,\n",
              "  -1.9723008141823013,\n",
              "  -1.911900896761519]]"
            ]
          },
          "metadata": {}
        },
        {
          "output_type": "stream",
          "name": "stdout",
          "text": [
            "\n"
          ]
        },
        {
          "output_type": "display_data",
          "data": {
            "text/plain": [
              "[0.029497315267036507,\n",
              " 0.1981824616699875,\n",
              " 454.91117406219615,\n",
              " 647.1382363362698]"
            ]
          },
          "metadata": {}
        },
        {
          "output_type": "display_data",
          "data": {
            "text/plain": [
              "176"
            ]
          },
          "metadata": {}
        },
        {
          "output_type": "stream",
          "name": "stdout",
          "text": [
            "\n"
          ]
        },
        {
          "output_type": "display_data",
          "data": {
            "text/plain": [
              "[[0.16958409000256103,\n",
              "  0.8510646128143668,\n",
              "  0.13271899084134905,\n",
              "  0.008416534485318473],\n",
              " [0.16958409000256103,\n",
              "  0.7268097546983396,\n",
              "  0.7169731931594889,\n",
              "  0.008416534485318473],\n",
              " [-2.686556083309517,\n",
              "  -1.3126371711470894,\n",
              "  -1.9723008141823013,\n",
              "  -1.911900896761519],\n",
              " [-1.8013201128729073,\n",
              "  -2.052244796965496,\n",
              "  -1.9723008141823013,\n",
              "  -1.911900896761519]]"
            ]
          },
          "metadata": {}
        },
        {
          "output_type": "stream",
          "name": "stdout",
          "text": [
            "\n"
          ]
        },
        {
          "output_type": "display_data",
          "data": {
            "text/plain": [
              "[0.029497315267036507,\n",
              " 0.1981824616699875,\n",
              " 563.8974553490034,\n",
              " 647.1382363362698]"
            ]
          },
          "metadata": {}
        },
        {
          "output_type": "display_data",
          "data": {
            "text/plain": [
              "177"
            ]
          },
          "metadata": {}
        },
        {
          "output_type": "stream",
          "name": "stdout",
          "text": [
            "\n"
          ]
        },
        {
          "output_type": "display_data",
          "data": {
            "text/plain": [
              "[[0.16958409000256103,\n",
              "  0.8510646128143668,\n",
              "  0.13271899084134905,\n",
              "  0.008416534485318473],\n",
              " [0.16958409000256103,\n",
              "  0.7268097546983396,\n",
              "  0.7169731931594889,\n",
              "  0.008416534485318473],\n",
              " [-2.686556083309517,\n",
              "  -1.3126371711470894,\n",
              "  -1.9723008141823013,\n",
              "  -1.911900896761519],\n",
              " [-1.8013201128729073,\n",
              "  -2.052244796965496,\n",
              "  -1.9723008141823013,\n",
              "  -1.911900896761519]]"
            ]
          },
          "metadata": {}
        },
        {
          "output_type": "stream",
          "name": "stdout",
          "text": [
            "\n"
          ]
        },
        {
          "output_type": "display_data",
          "data": {
            "text/plain": [
              "[0.029497315267036507,\n",
              " 0.1981824616699875,\n",
              " 563.8974553490034,\n",
              " 647.1382363362698]"
            ]
          },
          "metadata": {}
        },
        {
          "output_type": "display_data",
          "data": {
            "text/plain": [
              "178"
            ]
          },
          "metadata": {}
        },
        {
          "output_type": "stream",
          "name": "stdout",
          "text": [
            "\n"
          ]
        },
        {
          "output_type": "display_data",
          "data": {
            "text/plain": [
              "[[0.16958409000256103,\n",
              "  0.8510646128143668,\n",
              "  0.13271899084134905,\n",
              "  0.008416534485318473],\n",
              " [0.16958409000256103,\n",
              "  0.7268097546983396,\n",
              "  0.7169731931594889,\n",
              "  0.008416534485318473],\n",
              " [-2.686556083309517,\n",
              "  -1.3126371711470894,\n",
              "  -1.9723008141823013,\n",
              "  -1.911900896761519],\n",
              " [-1.8013201128729073,\n",
              "  -2.052244796965496,\n",
              "  -1.9723008141823013,\n",
              "  -1.911900896761519]]"
            ]
          },
          "metadata": {}
        },
        {
          "output_type": "stream",
          "name": "stdout",
          "text": [
            "\n"
          ]
        },
        {
          "output_type": "display_data",
          "data": {
            "text/plain": [
              "[0.029497315267036507,\n",
              " 0.1981824616699875,\n",
              " 563.8974553490034,\n",
              " 647.1382363362698]"
            ]
          },
          "metadata": {}
        },
        {
          "output_type": "display_data",
          "data": {
            "text/plain": [
              "179"
            ]
          },
          "metadata": {}
        },
        {
          "output_type": "stream",
          "name": "stdout",
          "text": [
            "\n"
          ]
        },
        {
          "output_type": "display_data",
          "data": {
            "text/plain": [
              "[[0.16958409000256103,\n",
              "  0.8510646128143668,\n",
              "  0.13271899084134905,\n",
              "  0.008416534485318473],\n",
              " [0.16958409000256103,\n",
              "  0.7268097546983396,\n",
              "  0.7169731931594889,\n",
              "  0.008416534485318473],\n",
              " [-1.8013201128729073,\n",
              "  -2.052244796965496,\n",
              "  -1.9723008141823013,\n",
              "  -1.911900896761519],\n",
              " [-1.8013201128729073,\n",
              "  -2.052244796965496,\n",
              "  -2.780193443603051,\n",
              "  -1.911900896761519]]"
            ]
          },
          "metadata": {}
        },
        {
          "output_type": "stream",
          "name": "stdout",
          "text": [
            "\n"
          ]
        },
        {
          "output_type": "display_data",
          "data": {
            "text/plain": [
              "[0.029497315267036507,\n",
              " 0.1981824616699875,\n",
              " 686.3337883515486,\n",
              " 647.1382363362698]"
            ]
          },
          "metadata": {}
        },
        {
          "output_type": "display_data",
          "data": {
            "text/plain": [
              "180"
            ]
          },
          "metadata": {}
        },
        {
          "output_type": "stream",
          "name": "stdout",
          "text": [
            "\n"
          ]
        },
        {
          "output_type": "display_data",
          "data": {
            "text/plain": [
              "[[0.16958409000256103,\n",
              "  0.8510646128143668,\n",
              "  0.13271899084134905,\n",
              "  0.008416534485318473],\n",
              " [0.16958409000256103,\n",
              "  0.7268097546983396,\n",
              "  0.7169731931594889,\n",
              "  0.008416534485318473],\n",
              " [-1.8013201128729073,\n",
              "  -2.052244796965496,\n",
              "  -1.9723008141823013,\n",
              "  -1.911900896761519],\n",
              " [-1.8013201128729073,\n",
              "  -2.052244796965496,\n",
              "  -2.780193443603051,\n",
              "  -1.911900896761519]]"
            ]
          },
          "metadata": {}
        },
        {
          "output_type": "stream",
          "name": "stdout",
          "text": [
            "\n"
          ]
        },
        {
          "output_type": "display_data",
          "data": {
            "text/plain": [
              "[0.029497315267036507,\n",
              " 0.1981824616699875,\n",
              " 686.3337883515486,\n",
              " 647.1382363362698]"
            ]
          },
          "metadata": {}
        },
        {
          "output_type": "display_data",
          "data": {
            "text/plain": [
              "181"
            ]
          },
          "metadata": {}
        },
        {
          "output_type": "stream",
          "name": "stdout",
          "text": [
            "\n"
          ]
        },
        {
          "output_type": "display_data",
          "data": {
            "text/plain": [
              "[[0.16958409000256103,\n",
              "  0.8510646128143668,\n",
              "  0.13271899084134905,\n",
              "  0.008416534485318473],\n",
              " [0.16958409000256103,\n",
              "  0.7268097546983396,\n",
              "  0.7169731931594889,\n",
              "  0.008416534485318473],\n",
              " [-0.8684679700035225,\n",
              "  -2.052244796965496,\n",
              "  -1.9723008141823013,\n",
              "  -1.911900896761519],\n",
              " [-1.8013201128729073,\n",
              "  -2.052244796965496,\n",
              "  -2.780193443603051,\n",
              "  -1.911900896761519]]"
            ]
          },
          "metadata": {}
        },
        {
          "output_type": "stream",
          "name": "stdout",
          "text": [
            "\n"
          ]
        },
        {
          "output_type": "display_data",
          "data": {
            "text/plain": [
              "[0.029497315267036507,\n",
              " 0.1981824616699875,\n",
              " 523.9664119228205,\n",
              " 686.3337883515486]"
            ]
          },
          "metadata": {}
        },
        {
          "output_type": "display_data",
          "data": {
            "text/plain": [
              "182"
            ]
          },
          "metadata": {}
        },
        {
          "output_type": "stream",
          "name": "stdout",
          "text": [
            "\n"
          ]
        },
        {
          "output_type": "display_data",
          "data": {
            "text/plain": [
              "[[0.16958409000256103,\n",
              "  0.8510646128143668,\n",
              "  0.13271899084134905,\n",
              "  0.008416534485318473],\n",
              " [0.16958409000256103,\n",
              "  0.7268097546983396,\n",
              "  0.7169731931594889,\n",
              "  0.008416534485318473],\n",
              " [-0.8684679700035225,\n",
              "  -2.052244796965496,\n",
              "  -2.780193443603051,\n",
              "  -1.911900896761519],\n",
              " [-1.8013201128729073,\n",
              "  -2.052244796965496,\n",
              "  -1.9723008141823013,\n",
              "  -1.911900896761519]]"
            ]
          },
          "metadata": {}
        },
        {
          "output_type": "stream",
          "name": "stdout",
          "text": [
            "\n"
          ]
        },
        {
          "output_type": "display_data",
          "data": {
            "text/plain": [
              "[0.029497315267036507,\n",
              " 0.1981824616699875,\n",
              " 647.1382363362698,\n",
              " 559.3937420852817]"
            ]
          },
          "metadata": {}
        },
        {
          "output_type": "display_data",
          "data": {
            "text/plain": [
              "183"
            ]
          },
          "metadata": {}
        },
        {
          "output_type": "stream",
          "name": "stdout",
          "text": [
            "\n"
          ]
        },
        {
          "output_type": "display_data",
          "data": {
            "text/plain": [
              "[[0.16958409000256103,\n",
              "  0.8510646128143668,\n",
              "  0.13271899084134905,\n",
              "  0.008416534485318473],\n",
              " [0.16958409000256103,\n",
              "  0.7268097546983396,\n",
              "  0.7169731931594889,\n",
              "  0.008416534485318473],\n",
              " [-0.8684679700035225,\n",
              "  -2.052244796965496,\n",
              "  -1.9723008141823013,\n",
              "  -1.911900896761519],\n",
              " [-1.2380227736038185,\n",
              "  -2.052244796965496,\n",
              "  -2.780193443603051,\n",
              "  -1.911900896761519]]"
            ]
          },
          "metadata": {}
        },
        {
          "output_type": "stream",
          "name": "stdout",
          "text": [
            "\n"
          ]
        },
        {
          "output_type": "display_data",
          "data": {
            "text/plain": [
              "[0.029497315267036507,\n",
              " 0.1981824616699875,\n",
              " 608.1205106511361,\n",
              " 523.9664119228205]"
            ]
          },
          "metadata": {}
        },
        {
          "output_type": "display_data",
          "data": {
            "text/plain": [
              "184"
            ]
          },
          "metadata": {}
        },
        {
          "output_type": "stream",
          "name": "stdout",
          "text": [
            "\n"
          ]
        },
        {
          "output_type": "display_data",
          "data": {
            "text/plain": [
              "[[0.16958409000256103,\n",
              "  0.8510646128143668,\n",
              "  0.13271899084134905,\n",
              "  0.008416534485318473],\n",
              " [0.16958409000256103,\n",
              "  0.7268097546983396,\n",
              "  0.7169731931594889,\n",
              "  0.008416534485318473],\n",
              " [-1.2380227736038185,\n",
              "  -2.052244796965496,\n",
              "  -1.9723008141823013,\n",
              "  -1.911900896761519],\n",
              " [-0.8684679700035225,\n",
              "  -2.052244796965496,\n",
              "  -2.780193443603051,\n",
              "  -2.5107664404372967]]"
            ]
          },
          "metadata": {}
        },
        {
          "output_type": "stream",
          "name": "stdout",
          "text": [
            "\n"
          ]
        },
        {
          "output_type": "display_data",
          "data": {
            "text/plain": [
              "[0.029497315267036507,\n",
              " 0.1981824616699875,\n",
              " 586.4973731329118,\n",
              " 571.2003774786963]"
            ]
          },
          "metadata": {}
        },
        {
          "output_type": "display_data",
          "data": {
            "text/plain": [
              "185"
            ]
          },
          "metadata": {}
        },
        {
          "output_type": "stream",
          "name": "stdout",
          "text": [
            "\n"
          ]
        },
        {
          "output_type": "display_data",
          "data": {
            "text/plain": [
              "[[0.16958409000256103,\n",
              "  0.8510646128143668,\n",
              "  0.13271899084134905,\n",
              "  0.008416534485318473],\n",
              " [0.16958409000256103,\n",
              "  0.7268097546983396,\n",
              "  0.7169731931594889,\n",
              "  0.008416534485318473],\n",
              " [-0.8684679700035225,\n",
              "  -2.052244796965496,\n",
              "  -2.780193443603051,\n",
              "  -1.911900896761519],\n",
              " [-1.2380227736038185,\n",
              "  -2.052244796965496,\n",
              "  -1.9723008141823013,\n",
              "  -2.5107664404372967]]"
            ]
          },
          "metadata": {}
        },
        {
          "output_type": "stream",
          "name": "stdout",
          "text": [
            "\n"
          ]
        },
        {
          "output_type": "display_data",
          "data": {
            "text/plain": [
              "[0.029497315267036507,\n",
              " 0.1981824616699875,\n",
              " 598.4429386007071,\n",
              " 559.3937420852817]"
            ]
          },
          "metadata": {}
        },
        {
          "output_type": "display_data",
          "data": {
            "text/plain": [
              "186"
            ]
          },
          "metadata": {}
        },
        {
          "output_type": "stream",
          "name": "stdout",
          "text": [
            "\n"
          ]
        },
        {
          "output_type": "display_data",
          "data": {
            "text/plain": [
              "[[0.16958409000256103,\n",
              "  0.8510646128143668,\n",
              "  0.13271899084134905,\n",
              "  0.008416534485318473],\n",
              " [0.16958409000256103,\n",
              "  0.7268097546983396,\n",
              "  0.7169731931594889,\n",
              "  0.008416534485318473],\n",
              " [-1.2380227736038185,\n",
              "  -2.052244796965496,\n",
              "  -1.9723008141823013,\n",
              "  -1.911900896761519],\n",
              " [-0.8684679700035225,\n",
              "  -2.052244796965496,\n",
              "  -2.780193443603051,\n",
              "  -2.5107664404372967]]"
            ]
          },
          "metadata": {}
        },
        {
          "output_type": "stream",
          "name": "stdout",
          "text": [
            "\n"
          ]
        },
        {
          "output_type": "display_data",
          "data": {
            "text/plain": [
              "[0.029497315267036507,\n",
              " 0.1981824616699875,\n",
              " 586.4973731329118,\n",
              " 571.2003774786963]"
            ]
          },
          "metadata": {}
        },
        {
          "output_type": "display_data",
          "data": {
            "text/plain": [
              "187"
            ]
          },
          "metadata": {}
        },
        {
          "output_type": "stream",
          "name": "stdout",
          "text": [
            "\n"
          ]
        },
        {
          "output_type": "display_data",
          "data": {
            "text/plain": [
              "[[0.16958409000256103,\n",
              "  0.8510646128143668,\n",
              "  0.13271899084134905,\n",
              "  0.008416534485318473],\n",
              " [0.16958409000256103,\n",
              "  0.7268097546983396,\n",
              "  0.7169731931594889,\n",
              "  0.008416534485318473],\n",
              " [-0.8684679700035225,\n",
              "  -1.240713209416966,\n",
              "  -2.780193443603051,\n",
              "  -1.911900896761519],\n",
              " [-1.2380227736038185,\n",
              "  -2.052244796965496,\n",
              "  -1.9723008141823013,\n",
              "  -2.5107664404372967]]"
            ]
          },
          "metadata": {}
        },
        {
          "output_type": "stream",
          "name": "stdout",
          "text": [
            "\n"
          ]
        },
        {
          "output_type": "display_data",
          "data": {
            "text/plain": [
              "[0.029497315267036507,\n",
              " 0.1981824616699875,\n",
              " 366.6856147006743,\n",
              " 598.4429386007071]"
            ]
          },
          "metadata": {}
        },
        {
          "output_type": "display_data",
          "data": {
            "text/plain": [
              "188"
            ]
          },
          "metadata": {}
        },
        {
          "output_type": "stream",
          "name": "stdout",
          "text": [
            "\n"
          ]
        },
        {
          "output_type": "display_data",
          "data": {
            "text/plain": [
              "[[0.16958409000256103,\n",
              "  0.8510646128143668,\n",
              "  0.13271899084134905,\n",
              "  0.008416534485318473],\n",
              " [0.16958409000256103,\n",
              "  0.7268097546983396,\n",
              "  0.7169731931594889,\n",
              "  0.008416534485318473],\n",
              " [-1.2380227736038185,\n",
              "  -2.052244796965496,\n",
              "  -1.9723008141823013,\n",
              "  -2.5107664404372967],\n",
              " [-1.2380227736038185,\n",
              "  -2.052244796965496,\n",
              "  -1.9723008141823013,\n",
              "  -3.084071410143124]]"
            ]
          },
          "metadata": {}
        },
        {
          "output_type": "stream",
          "name": "stdout",
          "text": [
            "\n"
          ]
        },
        {
          "output_type": "display_data",
          "data": {
            "text/plain": [
              "[0.029497315267036507, 0.1981824616699875, 625.194753242596, 598.4429386007071]"
            ]
          },
          "metadata": {}
        },
        {
          "output_type": "display_data",
          "data": {
            "text/plain": [
              "189"
            ]
          },
          "metadata": {}
        },
        {
          "output_type": "stream",
          "name": "stdout",
          "text": [
            "\n"
          ]
        },
        {
          "output_type": "display_data",
          "data": {
            "text/plain": [
              "[[0.16958409000256103,\n",
              "  0.8510646128143668,\n",
              "  0.13271899084134905,\n",
              "  0.008416534485318473],\n",
              " [0.16958409000256103,\n",
              "  0.7268097546983396,\n",
              "  0.7169731931594889,\n",
              "  0.008416534485318473],\n",
              " [-1.2380227736038185,\n",
              "  -2.052244796965496,\n",
              "  -1.6527272733430551,\n",
              "  -2.5107664404372967],\n",
              " [-1.2380227736038185,\n",
              "  -2.052244796965496,\n",
              "  -1.9723008141823013,\n",
              "  -3.084071410143124]]"
            ]
          },
          "metadata": {}
        },
        {
          "output_type": "stream",
          "name": "stdout",
          "text": [
            "\n"
          ]
        },
        {
          "output_type": "display_data",
          "data": {
            "text/plain": [
              "[0.029497315267036507, 0.1981824616699875, 583.8161944889209, 625.194753242596]"
            ]
          },
          "metadata": {}
        },
        {
          "output_type": "display_data",
          "data": {
            "text/plain": [
              "190"
            ]
          },
          "metadata": {}
        },
        {
          "output_type": "stream",
          "name": "stdout",
          "text": [
            "\n"
          ]
        },
        {
          "output_type": "display_data",
          "data": {
            "text/plain": [
              "[[0.16958409000256103,\n",
              "  0.8510646128143668,\n",
              "  0.13271899084134905,\n",
              "  0.008416534485318473],\n",
              " [0.16958409000256103,\n",
              "  0.7268097546983396,\n",
              "  0.7169731931594889,\n",
              "  0.008416534485318473],\n",
              " [-1.2380227736038185,\n",
              "  -2.052244796965496,\n",
              "  -1.9723008141823013,\n",
              "  -2.0921812854892368],\n",
              " [-1.2380227736038185,\n",
              "  -2.052244796965496,\n",
              "  -1.6527272733430551,\n",
              "  -2.5107664404372967]]"
            ]
          },
          "metadata": {}
        },
        {
          "output_type": "stream",
          "name": "stdout",
          "text": [
            "\n"
          ]
        },
        {
          "output_type": "display_data",
          "data": {
            "text/plain": [
              "[0.029497315267036507, 0.1981824616699875, 579.325920103186, 583.8161944889209]"
            ]
          },
          "metadata": {}
        },
        {
          "output_type": "display_data",
          "data": {
            "text/plain": [
              "191"
            ]
          },
          "metadata": {}
        },
        {
          "output_type": "stream",
          "name": "stdout",
          "text": [
            "\n"
          ]
        },
        {
          "output_type": "display_data",
          "data": {
            "text/plain": [
              "[[0.16958409000256103,\n",
              "  0.8510646128143668,\n",
              "  0.13271899084134905,\n",
              "  0.008416534485318473],\n",
              " [0.16958409000256103,\n",
              "  0.7268097546983396,\n",
              "  0.7169731931594889,\n",
              "  0.008416534485318473],\n",
              " [-1.2380227736038185,\n",
              "  -2.052244796965496,\n",
              "  -1.9723008141823013,\n",
              "  -2.0921812854892368],\n",
              " [-1.2380227736038185,\n",
              "  -2.052244796965496,\n",
              "  -1.9723008141823013,\n",
              "  -2.0921812854892368]]"
            ]
          },
          "metadata": {}
        },
        {
          "output_type": "stream",
          "name": "stdout",
          "text": [
            "\n"
          ]
        },
        {
          "output_type": "display_data",
          "data": {
            "text/plain": [
              "[0.029497315267036507, 0.1981824616699875, 579.325920103186, 579.325920103186]"
            ]
          },
          "metadata": {}
        },
        {
          "output_type": "display_data",
          "data": {
            "text/plain": [
              "192"
            ]
          },
          "metadata": {}
        },
        {
          "output_type": "stream",
          "name": "stdout",
          "text": [
            "\n"
          ]
        },
        {
          "output_type": "display_data",
          "data": {
            "text/plain": [
              "[[0.16958409000256103,\n",
              "  0.8510646128143668,\n",
              "  0.13271899084134905,\n",
              "  0.008416534485318473],\n",
              " [0.16958409000256103,\n",
              "  0.7268097546983396,\n",
              "  0.7169731931594889,\n",
              "  0.008416534485318473],\n",
              " [-1.2380227736038185,\n",
              "  -2.052244796965496,\n",
              "  -1.9723008141823013,\n",
              "  -2.0921812854892368],\n",
              " [-2.0847441373617697,\n",
              "  -2.052244796965496,\n",
              "  -1.9723008141823013,\n",
              "  -2.0921812854892368]]"
            ]
          },
          "metadata": {}
        },
        {
          "output_type": "stream",
          "name": "stdout",
          "text": [
            "\n"
          ]
        },
        {
          "output_type": "display_data",
          "data": {
            "text/plain": [
              "[0.029497315267036507, 0.1981824616699875, 696.0351382793918, 579.325920103186]"
            ]
          },
          "metadata": {}
        },
        {
          "output_type": "display_data",
          "data": {
            "text/plain": [
              "193"
            ]
          },
          "metadata": {}
        },
        {
          "output_type": "stream",
          "name": "stdout",
          "text": [
            "\n"
          ]
        },
        {
          "output_type": "display_data",
          "data": {
            "text/plain": [
              "[[0.16958409000256103,\n",
              "  0.8510646128143668,\n",
              "  0.13271899084134905,\n",
              "  0.008416534485318473],\n",
              " [0.16958409000256103,\n",
              "  0.7268097546983396,\n",
              "  0.7169731931594889,\n",
              "  0.008416534485318473],\n",
              " [-1.2380227736038185,\n",
              "  -2.052244796965496,\n",
              "  -1.9723008141823013,\n",
              "  -2.0921812854892368],\n",
              " [-1.7292075008270822,\n",
              "  -2.052244796965496,\n",
              "  -1.9723008141823013,\n",
              "  -2.0921812854892368]]"
            ]
          },
          "metadata": {}
        },
        {
          "output_type": "stream",
          "name": "stdout",
          "text": [
            "\n"
          ]
        },
        {
          "output_type": "display_data",
          "data": {
            "text/plain": [
              "[0.029497315267036507, 0.1981824616699875, 645.7194106983835, 579.325920103186]"
            ]
          },
          "metadata": {}
        },
        {
          "output_type": "display_data",
          "data": {
            "text/plain": [
              "194"
            ]
          },
          "metadata": {}
        },
        {
          "output_type": "stream",
          "name": "stdout",
          "text": [
            "\n"
          ]
        },
        {
          "output_type": "display_data",
          "data": {
            "text/plain": [
              "[[0.16958409000256103,\n",
              "  0.8510646128143668,\n",
              "  0.13271899084134905,\n",
              "  0.008416534485318473],\n",
              " [0.16958409000256103,\n",
              "  0.7268097546983396,\n",
              "  0.7169731931594889,\n",
              "  0.008416534485318473],\n",
              " [-1.7292075008270822,\n",
              "  -2.052244796965496,\n",
              "  -1.9723008141823013,\n",
              "  -2.0921812854892368],\n",
              " [-1.7292075008270822,\n",
              "  -2.052244796965496,\n",
              "  -1.9723008141823013,\n",
              "  -2.0921812854892368]]"
            ]
          },
          "metadata": {}
        },
        {
          "output_type": "stream",
          "name": "stdout",
          "text": [
            "\n"
          ]
        },
        {
          "output_type": "display_data",
          "data": {
            "text/plain": [
              "[0.029497315267036507,\n",
              " 0.1981824616699875,\n",
              " 645.7194106983835,\n",
              " 645.7194106983835]"
            ]
          },
          "metadata": {}
        },
        {
          "output_type": "display_data",
          "data": {
            "text/plain": [
              "195"
            ]
          },
          "metadata": {}
        },
        {
          "output_type": "stream",
          "name": "stdout",
          "text": [
            "\n"
          ]
        },
        {
          "output_type": "display_data",
          "data": {
            "text/plain": [
              "[[0.16958409000256103,\n",
              "  0.8510646128143668,\n",
              "  0.13271899084134905,\n",
              "  0.008416534485318473],\n",
              " [0.16958409000256103,\n",
              "  0.7268097546983396,\n",
              "  0.7169731931594889,\n",
              "  0.008416534485318473],\n",
              " [-1.7292075008270822,\n",
              "  -2.052244796965496,\n",
              "  -1.9723008141823013,\n",
              "  -2.0921812854892368],\n",
              " [-1.7292075008270822,\n",
              "  -2.052244796965496,\n",
              "  -1.9723008141823013,\n",
              "  -2.0921812854892368]]"
            ]
          },
          "metadata": {}
        },
        {
          "output_type": "stream",
          "name": "stdout",
          "text": [
            "\n"
          ]
        },
        {
          "output_type": "display_data",
          "data": {
            "text/plain": [
              "[0.029497315267036507,\n",
              " 0.1981824616699875,\n",
              " 645.7194106983835,\n",
              " 645.7194106983835]"
            ]
          },
          "metadata": {}
        },
        {
          "output_type": "display_data",
          "data": {
            "text/plain": [
              "196"
            ]
          },
          "metadata": {}
        },
        {
          "output_type": "stream",
          "name": "stdout",
          "text": [
            "\n"
          ]
        },
        {
          "output_type": "display_data",
          "data": {
            "text/plain": [
              "[[0.16958409000256103,\n",
              "  0.8510646128143668,\n",
              "  0.13271899084134905,\n",
              "  0.008416534485318473],\n",
              " [0.16958409000256103,\n",
              "  0.7268097546983396,\n",
              "  0.7169731931594889,\n",
              "  0.008416534485318473],\n",
              " [-1.7292075008270822,\n",
              "  -2.052244796965496,\n",
              "  -1.9723008141823013,\n",
              "  -2.0921812854892368],\n",
              " [-1.7292075008270822,\n",
              "  -2.052244796965496,\n",
              "  -1.9723008141823013,\n",
              "  -2.0921812854892368]]"
            ]
          },
          "metadata": {}
        },
        {
          "output_type": "stream",
          "name": "stdout",
          "text": [
            "\n"
          ]
        },
        {
          "output_type": "display_data",
          "data": {
            "text/plain": [
              "[0.029497315267036507,\n",
              " 0.1981824616699875,\n",
              " 645.7194106983835,\n",
              " 645.7194106983835]"
            ]
          },
          "metadata": {}
        },
        {
          "output_type": "display_data",
          "data": {
            "text/plain": [
              "197"
            ]
          },
          "metadata": {}
        },
        {
          "output_type": "stream",
          "name": "stdout",
          "text": [
            "\n"
          ]
        },
        {
          "output_type": "display_data",
          "data": {
            "text/plain": [
              "[[0.16958409000256103,\n",
              "  0.8510646128143668,\n",
              "  0.13271899084134905,\n",
              "  0.008416534485318473],\n",
              " [0.16958409000256103,\n",
              "  0.7268097546983396,\n",
              "  0.7169731931594889,\n",
              "  0.008416534485318473],\n",
              " [-1.7292075008270822,\n",
              "  -2.052244796965496,\n",
              "  -1.9723008141823013,\n",
              "  -2.0921812854892368],\n",
              " [-1.7292075008270822,\n",
              "  -3.019935001802769,\n",
              "  -1.9723008141823013,\n",
              "  -2.0921812854892368]]"
            ]
          },
          "metadata": {}
        },
        {
          "output_type": "stream",
          "name": "stdout",
          "text": [
            "\n"
          ]
        },
        {
          "output_type": "display_data",
          "data": {
            "text/plain": [
              "[0.029497315267036507,\n",
              " 0.1981824616699875,\n",
              " 948.1098666020188,\n",
              " 645.7194106983835]"
            ]
          },
          "metadata": {}
        },
        {
          "output_type": "display_data",
          "data": {
            "text/plain": [
              "198"
            ]
          },
          "metadata": {}
        },
        {
          "output_type": "stream",
          "name": "stdout",
          "text": [
            "\n"
          ]
        },
        {
          "output_type": "display_data",
          "data": {
            "text/plain": [
              "[[0.16958409000256103,\n",
              "  0.8510646128143668,\n",
              "  0.13271899084134905,\n",
              "  0.008416534485318473],\n",
              " [0.16958409000256103,\n",
              "  0.7268097546983396,\n",
              "  0.7169731931594889,\n",
              "  0.008416534485318473],\n",
              " [-1.7292075008270822,\n",
              "  -3.019935001802769,\n",
              "  -1.9723008141823013,\n",
              "  -2.0921812854892368],\n",
              " [-1.7292075008270822,\n",
              "  -3.019935001802769,\n",
              "  -1.9723008141823013,\n",
              "  -2.2702610316471112]]"
            ]
          },
          "metadata": {}
        },
        {
          "output_type": "stream",
          "name": "stdout",
          "text": [
            "\n"
          ]
        },
        {
          "output_type": "display_data",
          "data": {
            "text/plain": [
              "[0.029497315267036507,\n",
              " 0.1981824616699875,\n",
              " 958.3951149417926,\n",
              " 948.1098666020188]"
            ]
          },
          "metadata": {}
        },
        {
          "output_type": "display_data",
          "data": {
            "text/plain": [
              "199"
            ]
          },
          "metadata": {}
        },
        {
          "output_type": "stream",
          "name": "stdout",
          "text": [
            "\n"
          ]
        },
        {
          "output_type": "display_data",
          "data": {
            "text/plain": [
              "[[0.16958409000256103,\n",
              "  0.8510646128143668,\n",
              "  0.13271899084134905,\n",
              "  0.008416534485318473],\n",
              " [0.16958409000256103,\n",
              "  0.7268097546983396,\n",
              "  0.7169731931594889,\n",
              "  0.008416534485318473],\n",
              " [-1.7292075008270822,\n",
              "  -3.019935001802769,\n",
              "  -1.9723008141823013,\n",
              "  -2.2702610316471112],\n",
              " [-1.7292075008270822,\n",
              "  -3.019935001802769,\n",
              "  -1.9723008141823013,\n",
              "  -2.2702610316471112]]"
            ]
          },
          "metadata": {}
        },
        {
          "output_type": "stream",
          "name": "stdout",
          "text": [
            "\n"
          ]
        },
        {
          "output_type": "display_data",
          "data": {
            "text/plain": [
              "[0.029497315267036507,\n",
              " 0.1981824616699875,\n",
              " 958.3951149417926,\n",
              " 958.3951149417926]"
            ]
          },
          "metadata": {}
        },
        {
          "output_type": "display_data",
          "data": {
            "text/plain": [
              "200"
            ]
          },
          "metadata": {}
        },
        {
          "output_type": "stream",
          "name": "stdout",
          "text": [
            "\n"
          ]
        },
        {
          "output_type": "display_data",
          "data": {
            "text/plain": [
              "[[0.16958409000256103,\n",
              "  0.8510646128143668,\n",
              "  0.13271899084134905,\n",
              "  0.008416534485318473],\n",
              " [0.16958409000256103,\n",
              "  0.7268097546983396,\n",
              "  0.7169731931594889,\n",
              "  0.008416534485318473],\n",
              " [-1.7292075008270822,\n",
              "  -3.019935001802769,\n",
              "  -1.9723008141823013,\n",
              "  -2.2702610316471112],\n",
              " [-1.7292075008270822,\n",
              "  -3.019935001802769,\n",
              "  -1.9723008141823013,\n",
              "  -2.2702610316471112]]"
            ]
          },
          "metadata": {}
        },
        {
          "output_type": "stream",
          "name": "stdout",
          "text": [
            "\n"
          ]
        },
        {
          "output_type": "display_data",
          "data": {
            "text/plain": [
              "[0.029497315267036507,\n",
              " 0.1981824616699875,\n",
              " 958.3951149417926,\n",
              " 958.3951149417926]"
            ]
          },
          "metadata": {}
        },
        {
          "output_type": "display_data",
          "data": {
            "text/plain": [
              "201"
            ]
          },
          "metadata": {}
        },
        {
          "output_type": "stream",
          "name": "stdout",
          "text": [
            "\n"
          ]
        },
        {
          "output_type": "display_data",
          "data": {
            "text/plain": [
              "[[0.16958409000256103,\n",
              "  0.8510646128143668,\n",
              "  0.13271899084134905,\n",
              "  0.008416534485318473],\n",
              " [0.16958409000256103,\n",
              "  0.7268097546983396,\n",
              "  0.7169731931594889,\n",
              "  0.008416534485318473],\n",
              " [-1.7292075008270822,\n",
              "  -3.019935001802769,\n",
              "  -1.9723008141823013,\n",
              "  -2.2702610316471112],\n",
              " [-1.7292075008270822,\n",
              "  -3.019935001802769,\n",
              "  -1.9723008141823013,\n",
              "  -2.2702610316471112]]"
            ]
          },
          "metadata": {}
        },
        {
          "output_type": "stream",
          "name": "stdout",
          "text": [
            "\n"
          ]
        },
        {
          "output_type": "display_data",
          "data": {
            "text/plain": [
              "[0.029497315267036507,\n",
              " 0.1981824616699875,\n",
              " 958.3951149417926,\n",
              " 958.3951149417926]"
            ]
          },
          "metadata": {}
        },
        {
          "output_type": "display_data",
          "data": {
            "text/plain": [
              "202"
            ]
          },
          "metadata": {}
        },
        {
          "output_type": "stream",
          "name": "stdout",
          "text": [
            "\n"
          ]
        },
        {
          "output_type": "display_data",
          "data": {
            "text/plain": [
              "[[0.16958409000256103,\n",
              "  0.8510646128143668,\n",
              "  0.13271899084134905,\n",
              "  0.008416534485318473],\n",
              " [0.16958409000256103,\n",
              "  0.7268097546983396,\n",
              "  0.7169731931594889,\n",
              "  0.008416534485318473],\n",
              " [-1.7292075008270822,\n",
              "  -3.019935001802769,\n",
              "  -1.9723008141823013,\n",
              "  -2.2702610316471112],\n",
              " [-1.7292075008270822,\n",
              "  -3.019935001802769,\n",
              "  -2.0705939479347713,\n",
              "  -2.2702610316471112]]"
            ]
          },
          "metadata": {}
        },
        {
          "output_type": "stream",
          "name": "stdout",
          "text": [
            "\n"
          ]
        },
        {
          "output_type": "display_data",
          "data": {
            "text/plain": [
              "[0.029497315267036507,\n",
              " 0.1981824616699875,\n",
              " 964.0993398637843,\n",
              " 958.3951149417926]"
            ]
          },
          "metadata": {}
        },
        {
          "output_type": "display_data",
          "data": {
            "text/plain": [
              "203"
            ]
          },
          "metadata": {}
        },
        {
          "output_type": "stream",
          "name": "stdout",
          "text": [
            "\n"
          ]
        },
        {
          "output_type": "display_data",
          "data": {
            "text/plain": [
              "[[0.16958409000256103,\n",
              "  0.8510646128143668,\n",
              "  0.13271899084134905,\n",
              "  0.008416534485318473],\n",
              " [0.16958409000256103,\n",
              "  0.7268097546983396,\n",
              "  0.7169731931594889,\n",
              "  0.008416534485318473],\n",
              " [-1.7292075008270822,\n",
              "  -3.019935001802769,\n",
              "  -1.9723008141823013,\n",
              "  -2.2702610316471112],\n",
              " [-1.7292075008270822,\n",
              "  -3.019935001802769,\n",
              "  -2.0705939479347713,\n",
              "  -2.2702610316471112]]"
            ]
          },
          "metadata": {}
        },
        {
          "output_type": "stream",
          "name": "stdout",
          "text": [
            "\n"
          ]
        },
        {
          "output_type": "display_data",
          "data": {
            "text/plain": [
              "[0.029497315267036507,\n",
              " 0.1981824616699875,\n",
              " 964.0993398637843,\n",
              " 958.3951149417926]"
            ]
          },
          "metadata": {}
        },
        {
          "output_type": "display_data",
          "data": {
            "text/plain": [
              "204"
            ]
          },
          "metadata": {}
        },
        {
          "output_type": "stream",
          "name": "stdout",
          "text": [
            "\n"
          ]
        },
        {
          "output_type": "display_data",
          "data": {
            "text/plain": [
              "[[0.16958409000256103,\n",
              "  0.8510646128143668,\n",
              "  0.13271899084134905,\n",
              "  0.008416534485318473],\n",
              " [0.16958409000256103,\n",
              "  0.7268097546983396,\n",
              "  0.7169731931594889,\n",
              "  0.008416534485318473],\n",
              " [-1.7292075008270822,\n",
              "  -3.019935001802769,\n",
              "  -1.5623292497424695,\n",
              "  -2.2702610316471112],\n",
              " [-1.7292075008270822,\n",
              "  -3.019935001802769,\n",
              "  -1.9723008141823013,\n",
              "  -2.2702610316471112]]"
            ]
          },
          "metadata": {}
        },
        {
          "output_type": "stream",
          "name": "stdout",
          "text": [
            "\n"
          ]
        },
        {
          "output_type": "display_data",
          "data": {
            "text/plain": [
              "[0.029497315267036507,\n",
              " 0.1981824616699875,\n",
              " 934.8116947575365,\n",
              " 958.3951149417926]"
            ]
          },
          "metadata": {}
        },
        {
          "output_type": "display_data",
          "data": {
            "text/plain": [
              "205"
            ]
          },
          "metadata": {}
        },
        {
          "output_type": "stream",
          "name": "stdout",
          "text": [
            "\n"
          ]
        },
        {
          "output_type": "display_data",
          "data": {
            "text/plain": [
              "[[0.16958409000256103,\n",
              "  0.8510646128143668,\n",
              "  0.13271899084134905,\n",
              "  0.008416534485318473],\n",
              " [0.16958409000256103,\n",
              "  0.7268097546983396,\n",
              "  0.7169731931594889,\n",
              "  0.008416534485318473],\n",
              " [-1.7292075008270822,\n",
              "  -3.019935001802769,\n",
              "  -1.9723008141823013,\n",
              "  -2.2702610316471112],\n",
              " [-1.7292075008270822,\n",
              "  -3.019935001802769,\n",
              "  -1.9723008141823013,\n",
              "  -2.2702610316471112]]"
            ]
          },
          "metadata": {}
        },
        {
          "output_type": "stream",
          "name": "stdout",
          "text": [
            "\n"
          ]
        },
        {
          "output_type": "display_data",
          "data": {
            "text/plain": [
              "[0.029497315267036507,\n",
              " 0.1981824616699875,\n",
              " 958.3951149417926,\n",
              " 958.3951149417926]"
            ]
          },
          "metadata": {}
        },
        {
          "output_type": "display_data",
          "data": {
            "text/plain": [
              "206"
            ]
          },
          "metadata": {}
        },
        {
          "output_type": "stream",
          "name": "stdout",
          "text": [
            "\n"
          ]
        },
        {
          "output_type": "display_data",
          "data": {
            "text/plain": [
              "[[0.16958409000256103,\n",
              "  0.8510646128143668,\n",
              "  0.13271899084134905,\n",
              "  0.008416534485318473],\n",
              " [0.16958409000256103,\n",
              "  0.7268097546983396,\n",
              "  0.7169731931594889,\n",
              "  0.008416534485318473],\n",
              " [-1.7292075008270822,\n",
              "  -3.019935001802769,\n",
              "  -1.9723008141823013,\n",
              "  -2.2702610316471112],\n",
              " [-1.7292075008270822,\n",
              "  -3.019935001802769,\n",
              "  -1.9723008141823013,\n",
              "  -2.2702610316471112]]"
            ]
          },
          "metadata": {}
        },
        {
          "output_type": "stream",
          "name": "stdout",
          "text": [
            "\n"
          ]
        },
        {
          "output_type": "display_data",
          "data": {
            "text/plain": [
              "[0.029497315267036507,\n",
              " 0.1981824616699875,\n",
              " 958.3951149417926,\n",
              " 958.3951149417926]"
            ]
          },
          "metadata": {}
        },
        {
          "output_type": "display_data",
          "data": {
            "text/plain": [
              "207"
            ]
          },
          "metadata": {}
        },
        {
          "output_type": "stream",
          "name": "stdout",
          "text": [
            "\n"
          ]
        },
        {
          "output_type": "display_data",
          "data": {
            "text/plain": [
              "[[0.16958409000256103,\n",
              "  0.8510646128143668,\n",
              "  0.13271899084134905,\n",
              "  0.008416534485318473],\n",
              " [0.16958409000256103,\n",
              "  0.7268097546983396,\n",
              "  0.7169731931594889,\n",
              "  0.008416534485318473],\n",
              " [-1.7292075008270822,\n",
              "  -3.019935001802769,\n",
              "  -1.9723008141823013,\n",
              "  -2.2702610316471112],\n",
              " [-1.7292075008270822,\n",
              "  -3.019935001802769,\n",
              "  -1.9723008141823013,\n",
              "  -2.2702610316471112]]"
            ]
          },
          "metadata": {}
        },
        {
          "output_type": "stream",
          "name": "stdout",
          "text": [
            "\n"
          ]
        },
        {
          "output_type": "display_data",
          "data": {
            "text/plain": [
              "[0.029497315267036507,\n",
              " 0.1981824616699875,\n",
              " 958.3951149417926,\n",
              " 958.3951149417926]"
            ]
          },
          "metadata": {}
        },
        {
          "output_type": "display_data",
          "data": {
            "text/plain": [
              "208"
            ]
          },
          "metadata": {}
        },
        {
          "output_type": "stream",
          "name": "stdout",
          "text": [
            "\n"
          ]
        },
        {
          "output_type": "display_data",
          "data": {
            "text/plain": [
              "[[0.16958409000256103,\n",
              "  0.8510646128143668,\n",
              "  0.13271899084134905,\n",
              "  0.008416534485318473],\n",
              " [0.16958409000256103,\n",
              "  0.7268097546983396,\n",
              "  0.7169731931594889,\n",
              "  0.008416534485318473],\n",
              " [-1.7292075008270822,\n",
              "  -3.019935001802769,\n",
              "  -1.9723008141823013,\n",
              "  -2.2702610316471112],\n",
              " [-1.7292075008270822,\n",
              "  -3.019935001802769,\n",
              "  -1.9723008141823013,\n",
              "  -2.2702610316471112]]"
            ]
          },
          "metadata": {}
        },
        {
          "output_type": "stream",
          "name": "stdout",
          "text": [
            "\n"
          ]
        },
        {
          "output_type": "display_data",
          "data": {
            "text/plain": [
              "[0.029497315267036507,\n",
              " 0.1981824616699875,\n",
              " 958.3951149417926,\n",
              " 958.3951149417926]"
            ]
          },
          "metadata": {}
        },
        {
          "output_type": "display_data",
          "data": {
            "text/plain": [
              "209"
            ]
          },
          "metadata": {}
        },
        {
          "output_type": "stream",
          "name": "stdout",
          "text": [
            "\n"
          ]
        },
        {
          "output_type": "display_data",
          "data": {
            "text/plain": [
              "[[0.16958409000256103,\n",
              "  0.8510646128143668,\n",
              "  0.13271899084134905,\n",
              "  0.008416534485318473],\n",
              " [0.16958409000256103,\n",
              "  0.7268097546983396,\n",
              "  0.7169731931594889,\n",
              "  0.008416534485318473],\n",
              " [-1.537423950373087,\n",
              "  -3.019935001802769,\n",
              "  -1.9723008141823013,\n",
              "  -2.2702610316471112],\n",
              " [-1.7292075008270822,\n",
              "  -3.019935001802769,\n",
              "  -1.9723008141823013,\n",
              "  -2.2702610316471112]]"
            ]
          },
          "metadata": {}
        },
        {
          "output_type": "stream",
          "name": "stdout",
          "text": [
            "\n"
          ]
        },
        {
          "output_type": "display_data",
          "data": {
            "text/plain": [
              "[0.029497315267036507,\n",
              " 0.1981824616699875,\n",
              " 926.2098915941108,\n",
              " 958.3951149417926]"
            ]
          },
          "metadata": {}
        },
        {
          "output_type": "display_data",
          "data": {
            "text/plain": [
              "210"
            ]
          },
          "metadata": {}
        },
        {
          "output_type": "stream",
          "name": "stdout",
          "text": [
            "\n"
          ]
        },
        {
          "output_type": "display_data",
          "data": {
            "text/plain": [
              "[[0.16958409000256103,\n",
              "  0.8510646128143668,\n",
              "  0.13271899084134905,\n",
              "  0.008416534485318473],\n",
              " [0.16958409000256103,\n",
              "  0.7268097546983396,\n",
              "  0.7169731931594889,\n",
              "  0.008416534485318473],\n",
              " [-1.7292075008270822,\n",
              "  -3.019935001802769,\n",
              "  -1.9723008141823013,\n",
              "  -2.2702610316471112],\n",
              " [-1.7292075008270822,\n",
              "  -3.019935001802769,\n",
              "  -1.9723008141823013,\n",
              "  -2.2702610316471112]]"
            ]
          },
          "metadata": {}
        },
        {
          "output_type": "stream",
          "name": "stdout",
          "text": [
            "\n"
          ]
        },
        {
          "output_type": "display_data",
          "data": {
            "text/plain": [
              "[0.029497315267036507,\n",
              " 0.1981824616699875,\n",
              " 958.3951149417926,\n",
              " 958.3951149417926]"
            ]
          },
          "metadata": {}
        },
        {
          "output_type": "display_data",
          "data": {
            "text/plain": [
              "211"
            ]
          },
          "metadata": {}
        },
        {
          "output_type": "stream",
          "name": "stdout",
          "text": [
            "\n"
          ]
        },
        {
          "output_type": "display_data",
          "data": {
            "text/plain": [
              "[[0.16958409000256103,\n",
              "  0.8510646128143668,\n",
              "  0.13271899084134905,\n",
              "  0.008416534485318473],\n",
              " [0.16958409000256103,\n",
              "  0.7268097546983396,\n",
              "  0.7169731931594889,\n",
              "  0.008416534485318473],\n",
              " [-1.7292075008270822,\n",
              "  -3.019935001802769,\n",
              "  -1.9723008141823013,\n",
              "  -2.2702610316471112],\n",
              " [-1.7292075008270822,\n",
              "  -3.019935001802769,\n",
              "  -1.9723008141823013,\n",
              "  -2.2702610316471112]]"
            ]
          },
          "metadata": {}
        },
        {
          "output_type": "stream",
          "name": "stdout",
          "text": [
            "\n"
          ]
        },
        {
          "output_type": "display_data",
          "data": {
            "text/plain": [
              "[0.029497315267036507,\n",
              " 0.1981824616699875,\n",
              " 958.3951149417926,\n",
              " 958.3951149417926]"
            ]
          },
          "metadata": {}
        },
        {
          "output_type": "display_data",
          "data": {
            "text/plain": [
              "212"
            ]
          },
          "metadata": {}
        },
        {
          "output_type": "stream",
          "name": "stdout",
          "text": [
            "\n"
          ]
        },
        {
          "output_type": "display_data",
          "data": {
            "text/plain": [
              "[[0.16958409000256103,\n",
              "  0.8510646128143668,\n",
              "  0.13271899084134905,\n",
              "  0.008416534485318473],\n",
              " [0.16958409000256103,\n",
              "  0.7268097546983396,\n",
              "  0.7169731931594889,\n",
              "  0.008416534485318473],\n",
              " [-1.7292075008270822,\n",
              "  -3.019935001802769,\n",
              "  -1.9723008141823013,\n",
              "  -2.2702610316471112],\n",
              " [-1.7292075008270822,\n",
              "  -3.019935001802769,\n",
              "  -1.9723008141823013,\n",
              "  -2.2702610316471112]]"
            ]
          },
          "metadata": {}
        },
        {
          "output_type": "stream",
          "name": "stdout",
          "text": [
            "\n"
          ]
        },
        {
          "output_type": "display_data",
          "data": {
            "text/plain": [
              "[0.029497315267036507,\n",
              " 0.1981824616699875,\n",
              " 958.3951149417926,\n",
              " 958.3951149417926]"
            ]
          },
          "metadata": {}
        },
        {
          "output_type": "display_data",
          "data": {
            "text/plain": [
              "213"
            ]
          },
          "metadata": {}
        },
        {
          "output_type": "stream",
          "name": "stdout",
          "text": [
            "\n"
          ]
        },
        {
          "output_type": "display_data",
          "data": {
            "text/plain": [
              "[[0.16958409000256103,\n",
              "  0.8510646128143668,\n",
              "  0.13271899084134905,\n",
              "  0.008416534485318473],\n",
              " [0.16958409000256103,\n",
              "  0.7268097546983396,\n",
              "  0.7169731931594889,\n",
              "  0.008416534485318473],\n",
              " [-1.7292075008270822,\n",
              "  -3.019935001802769,\n",
              "  -1.9723008141823013,\n",
              "  -2.2702610316471112],\n",
              " [-2.6384872951651155,\n",
              "  -3.019935001802769,\n",
              "  -1.9723008141823013,\n",
              "  -2.2702610316471112]]"
            ]
          },
          "metadata": {}
        },
        {
          "output_type": "stream",
          "name": "stdout",
          "text": [
            "\n"
          ]
        },
        {
          "output_type": "display_data",
          "data": {
            "text/plain": [
              "[0.029497315267036507,\n",
              " 0.1981824616699875,\n",
              " 1118.4997715381578,\n",
              " 958.3951149417926]"
            ]
          },
          "metadata": {}
        },
        {
          "output_type": "display_data",
          "data": {
            "text/plain": [
              "214"
            ]
          },
          "metadata": {}
        },
        {
          "output_type": "stream",
          "name": "stdout",
          "text": [
            "\n"
          ]
        },
        {
          "output_type": "display_data",
          "data": {
            "text/plain": [
              "[[0.16958409000256103,\n",
              "  0.8510646128143668,\n",
              "  0.13271899084134905,\n",
              "  0.008416534485318473],\n",
              " [0.16958409000256103,\n",
              "  0.7268097546983396,\n",
              "  0.7169731931594889,\n",
              "  0.008416534485318473],\n",
              " [-1.7292075008270822,\n",
              "  -3.019935001802769,\n",
              "  -1.9723008141823013,\n",
              "  -2.2702610316471112],\n",
              " [-2.6384872951651155,\n",
              "  -3.019935001802769,\n",
              "  -1.9723008141823013,\n",
              "  -2.418696382209721]]"
            ]
          },
          "metadata": {}
        },
        {
          "output_type": "stream",
          "name": "stdout",
          "text": [
            "\n"
          ]
        },
        {
          "output_type": "display_data",
          "data": {
            "text/plain": [
              "[0.029497315267036507,\n",
              " 0.1981824616699875,\n",
              " 1127.7961784687059,\n",
              " 958.3951149417926]"
            ]
          },
          "metadata": {}
        },
        {
          "output_type": "display_data",
          "data": {
            "text/plain": [
              "215"
            ]
          },
          "metadata": {}
        },
        {
          "output_type": "stream",
          "name": "stdout",
          "text": [
            "\n"
          ]
        },
        {
          "output_type": "display_data",
          "data": {
            "text/plain": [
              "[[0.16958409000256103,\n",
              "  0.8510646128143668,\n",
              "  0.13271899084134905,\n",
              "  0.008416534485318473],\n",
              " [0.16958409000256103,\n",
              "  0.7268097546983396,\n",
              "  0.7169731931594889,\n",
              "  0.008416534485318473],\n",
              " [-1.7292075008270822,\n",
              "  -3.019935001802769,\n",
              "  -1.9723008141823013,\n",
              "  -2.2702610316471112],\n",
              " [-1.7292075008270822,\n",
              "  -3.019935001802769,\n",
              "  -1.9723008141823013,\n",
              "  -2.2702610316471112]]"
            ]
          },
          "metadata": {}
        },
        {
          "output_type": "stream",
          "name": "stdout",
          "text": [
            "\n"
          ]
        },
        {
          "output_type": "display_data",
          "data": {
            "text/plain": [
              "[0.029497315267036507,\n",
              " 0.1981824616699875,\n",
              " 958.3951149417926,\n",
              " 958.3951149417926]"
            ]
          },
          "metadata": {}
        },
        {
          "output_type": "display_data",
          "data": {
            "text/plain": [
              "216"
            ]
          },
          "metadata": {}
        },
        {
          "output_type": "stream",
          "name": "stdout",
          "text": [
            "\n"
          ]
        },
        {
          "output_type": "display_data",
          "data": {
            "text/plain": [
              "[[0.16958409000256103,\n",
              "  0.8510646128143668,\n",
              "  0.13271899084134905,\n",
              "  0.008416534485318473],\n",
              " [0.16958409000256103,\n",
              "  0.7268097546983396,\n",
              "  0.7169731931594889,\n",
              "  0.008416534485318473],\n",
              " [-1.7292075008270822,\n",
              "  -3.019935001802769,\n",
              "  -1.9723008141823013,\n",
              "  -2.2702610316471112],\n",
              " [-1.7292075008270822,\n",
              "  -3.019935001802769,\n",
              "  -1.9723008141823013,\n",
              "  -2.2702610316471112]]"
            ]
          },
          "metadata": {}
        },
        {
          "output_type": "stream",
          "name": "stdout",
          "text": [
            "\n"
          ]
        },
        {
          "output_type": "display_data",
          "data": {
            "text/plain": [
              "[0.029497315267036507,\n",
              " 0.1981824616699875,\n",
              " 958.3951149417926,\n",
              " 958.3951149417926]"
            ]
          },
          "metadata": {}
        },
        {
          "output_type": "display_data",
          "data": {
            "text/plain": [
              "217"
            ]
          },
          "metadata": {}
        },
        {
          "output_type": "stream",
          "name": "stdout",
          "text": [
            "\n"
          ]
        },
        {
          "output_type": "display_data",
          "data": {
            "text/plain": [
              "[[0.16958409000256103,\n",
              "  0.8510646128143668,\n",
              "  0.13271899084134905,\n",
              "  0.008416534485318473],\n",
              " [0.16958409000256103,\n",
              "  0.7268097546983396,\n",
              "  0.7169731931594889,\n",
              "  0.008416534485318473],\n",
              " [-1.7292075008270822,\n",
              "  -3.019935001802769,\n",
              "  -1.9723008141823013,\n",
              "  -2.2702610316471112],\n",
              " [-1.7292075008270822,\n",
              "  -3.019935001802769,\n",
              "  -1.9723008141823013,\n",
              "  -2.2702610316471112]]"
            ]
          },
          "metadata": {}
        },
        {
          "output_type": "stream",
          "name": "stdout",
          "text": [
            "\n"
          ]
        },
        {
          "output_type": "display_data",
          "data": {
            "text/plain": [
              "[0.029497315267036507,\n",
              " 0.1981824616699875,\n",
              " 958.3951149417926,\n",
              " 958.3951149417926]"
            ]
          },
          "metadata": {}
        },
        {
          "output_type": "display_data",
          "data": {
            "text/plain": [
              "218"
            ]
          },
          "metadata": {}
        },
        {
          "output_type": "stream",
          "name": "stdout",
          "text": [
            "\n"
          ]
        },
        {
          "output_type": "display_data",
          "data": {
            "text/plain": [
              "[[0.16958409000256103,\n",
              "  0.8510646128143668,\n",
              "  0.13271899084134905,\n",
              "  0.008416534485318473],\n",
              " [0.16958409000256103,\n",
              "  0.7268097546983396,\n",
              "  0.7169731931594889,\n",
              "  0.008416534485318473],\n",
              " [-1.7292075008270822,\n",
              "  -3.019935001802769,\n",
              "  -1.9723008141823013,\n",
              "  -2.2702610316471112],\n",
              " [-1.7292075008270822,\n",
              "  -3.019935001802769,\n",
              "  -1.9723008141823013,\n",
              "  -2.2702610316471112]]"
            ]
          },
          "metadata": {}
        },
        {
          "output_type": "stream",
          "name": "stdout",
          "text": [
            "\n"
          ]
        },
        {
          "output_type": "display_data",
          "data": {
            "text/plain": [
              "[0.029497315267036507,\n",
              " 0.1981824616699875,\n",
              " 958.3951149417926,\n",
              " 958.3951149417926]"
            ]
          },
          "metadata": {}
        },
        {
          "output_type": "display_data",
          "data": {
            "text/plain": [
              "219"
            ]
          },
          "metadata": {}
        },
        {
          "output_type": "stream",
          "name": "stdout",
          "text": [
            "\n"
          ]
        },
        {
          "output_type": "display_data",
          "data": {
            "text/plain": [
              "[[0.16958409000256103,\n",
              "  0.8510646128143668,\n",
              "  0.13271899084134905,\n",
              "  0.008416534485318473],\n",
              " [0.16958409000256103,\n",
              "  0.7268097546983396,\n",
              "  0.7169731931594889,\n",
              "  0.008416534485318473],\n",
              " [-1.7292075008270822,\n",
              "  -3.019935001802769,\n",
              "  -1.9723008141823013,\n",
              "  -2.2702610316471112],\n",
              " [-1.7292075008270822,\n",
              "  -3.019935001802769,\n",
              "  -1.9723008141823013,\n",
              "  -2.2702610316471112]]"
            ]
          },
          "metadata": {}
        },
        {
          "output_type": "stream",
          "name": "stdout",
          "text": [
            "\n"
          ]
        },
        {
          "output_type": "display_data",
          "data": {
            "text/plain": [
              "[0.029497315267036507,\n",
              " 0.1981824616699875,\n",
              " 958.3951149417926,\n",
              " 958.3951149417926]"
            ]
          },
          "metadata": {}
        },
        {
          "output_type": "display_data",
          "data": {
            "text/plain": [
              "220"
            ]
          },
          "metadata": {}
        },
        {
          "output_type": "stream",
          "name": "stdout",
          "text": [
            "\n"
          ]
        },
        {
          "output_type": "display_data",
          "data": {
            "text/plain": [
              "[[0.16958409000256103,\n",
              "  0.8510646128143668,\n",
              "  0.13271899084134905,\n",
              "  0.008416534485318473],\n",
              " [0.16958409000256103,\n",
              "  0.7268097546983396,\n",
              "  0.7169731931594889,\n",
              "  0.008416534485318473],\n",
              " [-1.7292075008270822,\n",
              "  -3.019935001802769,\n",
              "  -1.9723008141823013,\n",
              "  -2.2702610316471112],\n",
              " [-1.7292075008270822,\n",
              "  -3.019935001802769,\n",
              "  -1.9723008141823013,\n",
              "  -2.2702610316471112]]"
            ]
          },
          "metadata": {}
        },
        {
          "output_type": "stream",
          "name": "stdout",
          "text": [
            "\n"
          ]
        },
        {
          "output_type": "display_data",
          "data": {
            "text/plain": [
              "[0.029497315267036507,\n",
              " 0.1981824616699875,\n",
              " 958.3951149417926,\n",
              " 958.3951149417926]"
            ]
          },
          "metadata": {}
        },
        {
          "output_type": "display_data",
          "data": {
            "text/plain": [
              "221"
            ]
          },
          "metadata": {}
        },
        {
          "output_type": "stream",
          "name": "stdout",
          "text": [
            "\n"
          ]
        },
        {
          "output_type": "display_data",
          "data": {
            "text/plain": [
              "[[0.16958409000256103,\n",
              "  0.8510646128143668,\n",
              "  0.13271899084134905,\n",
              "  0.008416534485318473],\n",
              " [0.16958409000256103,\n",
              "  0.7268097546983396,\n",
              "  0.7169731931594889,\n",
              "  0.008416534485318473],\n",
              " [-0.9810382613502364,\n",
              "  -3.019935001802769,\n",
              "  -1.9723008141823013,\n",
              "  -2.2702610316471112],\n",
              " [-1.7292075008270822,\n",
              "  -3.019935001802769,\n",
              "  -1.9723008141823013,\n",
              "  -2.2702610316471112]]"
            ]
          },
          "metadata": {}
        },
        {
          "output_type": "stream",
          "name": "stdout",
          "text": [
            "\n"
          ]
        },
        {
          "output_type": "display_data",
          "data": {
            "text/plain": [
              "[0.029497315267036507,\n",
              " 0.1981824616699875,\n",
              " 835.9589621353896,\n",
              " 958.3951149417926]"
            ]
          },
          "metadata": {}
        },
        {
          "output_type": "display_data",
          "data": {
            "text/plain": [
              "222"
            ]
          },
          "metadata": {}
        },
        {
          "output_type": "stream",
          "name": "stdout",
          "text": [
            "\n"
          ]
        },
        {
          "output_type": "display_data",
          "data": {
            "text/plain": [
              "[[0.16958409000256103,\n",
              "  0.8510646128143668,\n",
              "  0.13271899084134905,\n",
              "  0.008416534485318473],\n",
              " [0.16958409000256103,\n",
              "  0.7268097546983396,\n",
              "  0.7169731931594889,\n",
              "  0.008416534485318473],\n",
              " [-0.9810382613502364,\n",
              "  -3.019935001802769,\n",
              "  -1.9723008141823013,\n",
              "  -1.382777785397269],\n",
              " [-1.7292075008270822,\n",
              "  -3.019935001802769,\n",
              "  -1.9723008141823013,\n",
              "  -2.2702610316471112]]"
            ]
          },
          "metadata": {}
        },
        {
          "output_type": "stream",
          "name": "stdout",
          "text": [
            "\n"
          ]
        },
        {
          "output_type": "display_data",
          "data": {
            "text/plain": [
              "[0.029497315267036507,\n",
              " 0.1981824616699875,\n",
              " 788.6506304297612,\n",
              " 958.3951149417926]"
            ]
          },
          "metadata": {}
        },
        {
          "output_type": "display_data",
          "data": {
            "text/plain": [
              "223"
            ]
          },
          "metadata": {}
        },
        {
          "output_type": "stream",
          "name": "stdout",
          "text": [
            "\n"
          ]
        },
        {
          "output_type": "display_data",
          "data": {
            "text/plain": [
              "[[0.16958409000256103,\n",
              "  0.8510646128143668,\n",
              "  0.13271899084134905,\n",
              "  0.008416534485318473],\n",
              " [0.16958409000256103,\n",
              "  0.7268097546983396,\n",
              "  0.7169731931594889,\n",
              "  0.008416534485318473],\n",
              " [-0.9810382613502364,\n",
              "  -3.019935001802769,\n",
              "  -1.9723008141823013,\n",
              "  -2.2702610316471112],\n",
              " [-1.7292075008270822,\n",
              "  -3.019935001802769,\n",
              "  -1.9723008141823013,\n",
              "  -1.382777785397269]]"
            ]
          },
          "metadata": {}
        },
        {
          "output_type": "stream",
          "name": "stdout",
          "text": [
            "\n"
          ]
        },
        {
          "output_type": "display_data",
          "data": {
            "text/plain": [
              "[0.029497315267036507,\n",
              " 0.1981824616699875,\n",
              " 835.9589621353896,\n",
              " 907.7668449091884]"
            ]
          },
          "metadata": {}
        },
        {
          "output_type": "display_data",
          "data": {
            "text/plain": [
              "224"
            ]
          },
          "metadata": {}
        },
        {
          "output_type": "stream",
          "name": "stdout",
          "text": [
            "\n"
          ]
        },
        {
          "output_type": "display_data",
          "data": {
            "text/plain": [
              "[[0.16958409000256103,\n",
              "  0.8510646128143668,\n",
              "  0.13271899084134905,\n",
              "  0.008416534485318473],\n",
              " [0.16958409000256103,\n",
              "  0.7268097546983396,\n",
              "  0.7169731931594889,\n",
              "  0.008416534485318473],\n",
              " [-1.7292075008270822,\n",
              "  -3.019935001802769,\n",
              "  -1.9723008141823013,\n",
              "  -1.382777785397269],\n",
              " [-1.7292075008270822,\n",
              "  -3.019935001802769,\n",
              "  -1.9723008141823013,\n",
              "  -1.382777785397269]]"
            ]
          },
          "metadata": {}
        },
        {
          "output_type": "stream",
          "name": "stdout",
          "text": [
            "\n"
          ]
        },
        {
          "output_type": "display_data",
          "data": {
            "text/plain": [
              "[0.029497315267036507,\n",
              " 0.1981824616699875,\n",
              " 907.7668449091884,\n",
              " 907.7668449091884]"
            ]
          },
          "metadata": {}
        },
        {
          "output_type": "display_data",
          "data": {
            "text/plain": [
              "225"
            ]
          },
          "metadata": {}
        },
        {
          "output_type": "stream",
          "name": "stdout",
          "text": [
            "\n"
          ]
        },
        {
          "output_type": "display_data",
          "data": {
            "text/plain": [
              "[[0.16958409000256103,\n",
              "  0.8510646128143668,\n",
              "  0.13271899084134905,\n",
              "  0.008416534485318473],\n",
              " [0.16958409000256103,\n",
              "  0.7268097546983396,\n",
              "  0.7169731931594889,\n",
              "  0.008416534485318473],\n",
              " [-1.7292075008270822,\n",
              "  -3.019935001802769,\n",
              "  -1.9723008141823013,\n",
              "  -1.382777785397269],\n",
              " [-1.7292075008270822,\n",
              "  -3.019935001802769,\n",
              "  -1.9723008141823013,\n",
              "  -1.382777785397269]]"
            ]
          },
          "metadata": {}
        },
        {
          "output_type": "stream",
          "name": "stdout",
          "text": [
            "\n"
          ]
        },
        {
          "output_type": "display_data",
          "data": {
            "text/plain": [
              "[0.029497315267036507,\n",
              " 0.1981824616699875,\n",
              " 907.7668449091884,\n",
              " 907.7668449091884]"
            ]
          },
          "metadata": {}
        },
        {
          "output_type": "display_data",
          "data": {
            "text/plain": [
              "226"
            ]
          },
          "metadata": {}
        },
        {
          "output_type": "stream",
          "name": "stdout",
          "text": [
            "\n"
          ]
        },
        {
          "output_type": "display_data",
          "data": {
            "text/plain": [
              "[[0.16958409000256103,\n",
              "  0.8510646128143668,\n",
              "  0.13271899084134905,\n",
              "  0.008416534485318473],\n",
              " [0.16958409000256103,\n",
              "  0.7268097546983396,\n",
              "  0.7169731931594889,\n",
              "  0.008416534485318473],\n",
              " [-1.7292075008270822,\n",
              "  -3.019935001802769,\n",
              "  -1.9723008141823013,\n",
              "  -0.6306963798204979],\n",
              " [-1.7292075008270822,\n",
              "  -3.019935001802769,\n",
              "  -1.9723008141823013,\n",
              "  -1.382777785397269]]"
            ]
          },
          "metadata": {}
        },
        {
          "output_type": "stream",
          "name": "stdout",
          "text": [
            "\n"
          ]
        },
        {
          "output_type": "display_data",
          "data": {
            "text/plain": [
              "[0.029497315267036507,\n",
              " 0.1981824616699875,\n",
              " 866.0959317960262,\n",
              " 907.7668449091884]"
            ]
          },
          "metadata": {}
        },
        {
          "output_type": "display_data",
          "data": {
            "text/plain": [
              "227"
            ]
          },
          "metadata": {}
        },
        {
          "output_type": "stream",
          "name": "stdout",
          "text": [
            "\n"
          ]
        },
        {
          "output_type": "display_data",
          "data": {
            "text/plain": [
              "[[0.16958409000256103,\n",
              "  0.8510646128143668,\n",
              "  0.13271899084134905,\n",
              "  0.008416534485318473],\n",
              " [0.16958409000256103,\n",
              "  0.7268097546983396,\n",
              "  0.7169731931594889,\n",
              "  0.008416534485318473],\n",
              " [-1.7292075008270822,\n",
              "  -3.019935001802769,\n",
              "  -1.9723008141823013,\n",
              "  -0.6306963798204979],\n",
              " [-1.7292075008270822,\n",
              "  -3.019935001802769,\n",
              "  -1.9723008141823013,\n",
              "  -1.382777785397269]]"
            ]
          },
          "metadata": {}
        },
        {
          "output_type": "stream",
          "name": "stdout",
          "text": [
            "\n"
          ]
        },
        {
          "output_type": "display_data",
          "data": {
            "text/plain": [
              "[0.029497315267036507,\n",
              " 0.1981824616699875,\n",
              " 907.7668449091884,\n",
              " 866.0959317960262]"
            ]
          },
          "metadata": {}
        },
        {
          "output_type": "display_data",
          "data": {
            "text/plain": [
              "228"
            ]
          },
          "metadata": {}
        },
        {
          "output_type": "stream",
          "name": "stdout",
          "text": [
            "\n"
          ]
        },
        {
          "output_type": "display_data",
          "data": {
            "text/plain": [
              "[[0.16958409000256103,\n",
              "  0.8510646128143668,\n",
              "  0.13271899084134905,\n",
              "  0.008416534485318473],\n",
              " [0.16958409000256103,\n",
              "  0.7268097546983396,\n",
              "  0.7169731931594889,\n",
              "  0.008416534485318473],\n",
              " [-1.7292075008270822,\n",
              "  -3.019935001802769,\n",
              "  -2.1258534307956847,\n",
              "  -0.6306963798204979],\n",
              " [-1.7292075008270822,\n",
              "  -3.019935001802769,\n",
              "  -1.9723008141823013,\n",
              "  -1.382777785397269]]"
            ]
          },
          "metadata": {}
        },
        {
          "output_type": "stream",
          "name": "stdout",
          "text": [
            "\n"
          ]
        },
        {
          "output_type": "display_data",
          "data": {
            "text/plain": [
              "[0.029497315267036507,\n",
              " 0.1981824616699875,\n",
              " 874.5119851102767,\n",
              " 907.7668449091884]"
            ]
          },
          "metadata": {}
        },
        {
          "output_type": "display_data",
          "data": {
            "text/plain": [
              "229"
            ]
          },
          "metadata": {}
        },
        {
          "output_type": "stream",
          "name": "stdout",
          "text": [
            "\n"
          ]
        },
        {
          "output_type": "display_data",
          "data": {
            "text/plain": [
              "[[0.16958409000256103,\n",
              "  0.8510646128143668,\n",
              "  0.13271899084134905,\n",
              "  0.008416534485318473],\n",
              " [0.16958409000256103,\n",
              "  0.7268097546983396,\n",
              "  0.7169731931594889,\n",
              "  0.008416534485318473],\n",
              " [-1.7292075008270822,\n",
              "  -3.019935001802769,\n",
              "  -2.1258534307956847,\n",
              "  -0.6306963798204979],\n",
              " [-1.7292075008270822,\n",
              "  -3.019935001802769,\n",
              "  -1.9723008141823013,\n",
              "  -1.382777785397269]]"
            ]
          },
          "metadata": {}
        },
        {
          "output_type": "stream",
          "name": "stdout",
          "text": [
            "\n"
          ]
        },
        {
          "output_type": "display_data",
          "data": {
            "text/plain": [
              "[0.029497315267036507,\n",
              " 0.1981824616699875,\n",
              " 907.7668449091884,\n",
              " 874.5119851102767]"
            ]
          },
          "metadata": {}
        },
        {
          "output_type": "display_data",
          "data": {
            "text/plain": [
              "230"
            ]
          },
          "metadata": {}
        },
        {
          "output_type": "stream",
          "name": "stdout",
          "text": [
            "\n"
          ]
        },
        {
          "output_type": "display_data",
          "data": {
            "text/plain": [
              "[[0.16958409000256103,\n",
              "  0.8510646128143668,\n",
              "  0.13271899084134905,\n",
              "  0.008416534485318473],\n",
              " [0.16958409000256103,\n",
              "  0.7268097546983396,\n",
              "  0.7169731931594889,\n",
              "  0.008416534485318473],\n",
              " [-1.7292075008270822,\n",
              "  -3.019935001802769,\n",
              "  -2.1258534307956847,\n",
              "  -0.6306963798204979],\n",
              " [-1.7292075008270822,\n",
              "  -3.019935001802769,\n",
              "  -2.2696930397446757,\n",
              "  -0.6306963798204979]]"
            ]
          },
          "metadata": {}
        },
        {
          "output_type": "stream",
          "name": "stdout",
          "text": [
            "\n"
          ]
        },
        {
          "output_type": "display_data",
          "data": {
            "text/plain": [
              "[0.029497315267036507, 0.1981824616699875, 882.438455731086, 874.5119851102767]"
            ]
          },
          "metadata": {}
        },
        {
          "output_type": "display_data",
          "data": {
            "text/plain": [
              "231"
            ]
          },
          "metadata": {}
        },
        {
          "output_type": "stream",
          "name": "stdout",
          "text": [
            "\n"
          ]
        },
        {
          "output_type": "display_data",
          "data": {
            "text/plain": [
              "[[0.16958409000256103,\n",
              "  0.8510646128143668,\n",
              "  0.13271899084134905,\n",
              "  0.008416534485318473],\n",
              " [0.16958409000256103,\n",
              "  0.7268097546983396,\n",
              "  0.7169731931594889,\n",
              "  0.008416534485318473],\n",
              " [-1.7292075008270822,\n",
              "  -3.019935001802769,\n",
              "  -1.3129021377221024,\n",
              "  -0.6306963798204979],\n",
              " [-1.7292075008270822,\n",
              "  -3.019935001802769,\n",
              "  -2.2696930397446757,\n",
              "  -0.6306963798204979]]"
            ]
          },
          "metadata": {}
        },
        {
          "output_type": "stream",
          "name": "stdout",
          "text": [
            "\n"
          ]
        },
        {
          "output_type": "display_data",
          "data": {
            "text/plain": [
              "[0.029497315267036507, 0.1981824616699875, 830.4910604894969, 882.438455731086]"
            ]
          },
          "metadata": {}
        },
        {
          "output_type": "display_data",
          "data": {
            "text/plain": [
              "232"
            ]
          },
          "metadata": {}
        },
        {
          "output_type": "stream",
          "name": "stdout",
          "text": [
            "\n"
          ]
        },
        {
          "output_type": "display_data",
          "data": {
            "text/plain": [
              "[[0.16958409000256103,\n",
              "  0.8510646128143668,\n",
              "  0.13271899084134905,\n",
              "  0.008416534485318473],\n",
              " [0.16958409000256103,\n",
              "  0.7268097546983396,\n",
              "  0.7169731931594889,\n",
              "  0.008416534485318473],\n",
              " [-1.7292075008270822,\n",
              "  -3.019935001802769,\n",
              "  -1.3129021377221024,\n",
              "  -0.6306963798204979],\n",
              " [-1.7292075008270822,\n",
              "  -3.019935001802769,\n",
              "  -1.3129021377221024,\n",
              "  -0.6306963798204979]]"
            ]
          },
          "metadata": {}
        },
        {
          "output_type": "stream",
          "name": "stdout",
          "text": [
            "\n"
          ]
        },
        {
          "output_type": "display_data",
          "data": {
            "text/plain": [
              "[0.029497315267036507,\n",
              " 0.1981824616699875,\n",
              " 830.4910604894969,\n",
              " 830.4910604894969]"
            ]
          },
          "metadata": {}
        },
        {
          "output_type": "display_data",
          "data": {
            "text/plain": [
              "233"
            ]
          },
          "metadata": {}
        },
        {
          "output_type": "stream",
          "name": "stdout",
          "text": [
            "\n"
          ]
        },
        {
          "output_type": "display_data",
          "data": {
            "text/plain": [
              "[[0.16958409000256103,\n",
              "  0.8510646128143668,\n",
              "  0.13271899084134905,\n",
              "  0.008416534485318473],\n",
              " [0.16958409000256103,\n",
              "  0.7268097546983396,\n",
              "  0.7169731931594889,\n",
              "  0.008416534485318473],\n",
              " [-1.7292075008270822,\n",
              "  -3.019935001802769,\n",
              "  -1.3129021377221024,\n",
              "  -0.6306963798204979],\n",
              " [-1.7292075008270822,\n",
              "  -3.019935001802769,\n",
              "  -1.3129021377221024,\n",
              "  -0.6306963798204979]]"
            ]
          },
          "metadata": {}
        },
        {
          "output_type": "stream",
          "name": "stdout",
          "text": [
            "\n"
          ]
        },
        {
          "output_type": "display_data",
          "data": {
            "text/plain": [
              "[0.029497315267036507,\n",
              " 0.1981824616699875,\n",
              " 830.4910604894969,\n",
              " 830.4910604894969]"
            ]
          },
          "metadata": {}
        },
        {
          "output_type": "display_data",
          "data": {
            "text/plain": [
              "234"
            ]
          },
          "metadata": {}
        },
        {
          "output_type": "stream",
          "name": "stdout",
          "text": [
            "\n"
          ]
        },
        {
          "output_type": "display_data",
          "data": {
            "text/plain": [
              "[[0.16958409000256103,\n",
              "  0.8510646128143668,\n",
              "  0.13271899084134905,\n",
              "  0.008416534485318473],\n",
              " [0.16958409000256103,\n",
              "  0.7268097546983396,\n",
              "  0.7169731931594889,\n",
              "  0.008416534485318473],\n",
              " [-1.7292075008270822,\n",
              "  -3.019935001802769,\n",
              "  -1.3129021377221024,\n",
              "  -0.6306963798204979],\n",
              " [-1.7292075008270822,\n",
              "  -3.019935001802769,\n",
              "  -1.3129021377221024,\n",
              "  -0.6306963798204979]]"
            ]
          },
          "metadata": {}
        },
        {
          "output_type": "stream",
          "name": "stdout",
          "text": [
            "\n"
          ]
        },
        {
          "output_type": "display_data",
          "data": {
            "text/plain": [
              "[0.029497315267036507,\n",
              " 0.1981824616699875,\n",
              " 830.4910604894969,\n",
              " 830.4910604894969]"
            ]
          },
          "metadata": {}
        },
        {
          "output_type": "display_data",
          "data": {
            "text/plain": [
              "235"
            ]
          },
          "metadata": {}
        },
        {
          "output_type": "stream",
          "name": "stdout",
          "text": [
            "\n"
          ]
        },
        {
          "output_type": "display_data",
          "data": {
            "text/plain": [
              "[[0.16958409000256103,\n",
              "  0.8510646128143668,\n",
              "  0.13271899084134905,\n",
              "  0.008416534485318473],\n",
              " [0.16958409000256103,\n",
              "  0.7268097546983396,\n",
              "  0.7169731931594889,\n",
              "  0.008416534485318473],\n",
              " [-1.7292075008270822,\n",
              "  -3.019935001802769,\n",
              "  -1.3129021377221024,\n",
              "  -0.6306963798204979],\n",
              " [-1.7292075008270822,\n",
              "  -3.019935001802769,\n",
              "  -1.3129021377221024,\n",
              "  -0.6306963798204979]]"
            ]
          },
          "metadata": {}
        },
        {
          "output_type": "stream",
          "name": "stdout",
          "text": [
            "\n"
          ]
        },
        {
          "output_type": "display_data",
          "data": {
            "text/plain": [
              "[0.029497315267036507,\n",
              " 0.1981824616699875,\n",
              " 830.4910604894969,\n",
              " 830.4910604894969]"
            ]
          },
          "metadata": {}
        },
        {
          "output_type": "display_data",
          "data": {
            "text/plain": [
              "236"
            ]
          },
          "metadata": {}
        },
        {
          "output_type": "stream",
          "name": "stdout",
          "text": [
            "\n"
          ]
        },
        {
          "output_type": "display_data",
          "data": {
            "text/plain": [
              "[[0.16958409000256103,\n",
              "  0.8510646128143668,\n",
              "  0.13271899084134905,\n",
              "  0.008416534485318473],\n",
              " [0.16958409000256103,\n",
              "  0.7268097546983396,\n",
              "  0.7169731931594889,\n",
              "  0.008416534485318473],\n",
              " [-1.7292075008270822,\n",
              "  -3.019935001802769,\n",
              "  -1.3129021377221024,\n",
              "  -0.6306963798204979],\n",
              " [-1.7292075008270822,\n",
              "  -3.019935001802769,\n",
              "  -1.3129021377221024,\n",
              "  -0.6306963798204979]]"
            ]
          },
          "metadata": {}
        },
        {
          "output_type": "stream",
          "name": "stdout",
          "text": [
            "\n"
          ]
        },
        {
          "output_type": "display_data",
          "data": {
            "text/plain": [
              "[0.029497315267036507,\n",
              " 0.1981824616699875,\n",
              " 830.4910604894969,\n",
              " 830.4910604894969]"
            ]
          },
          "metadata": {}
        },
        {
          "output_type": "display_data",
          "data": {
            "text/plain": [
              "237"
            ]
          },
          "metadata": {}
        },
        {
          "output_type": "stream",
          "name": "stdout",
          "text": [
            "\n"
          ]
        },
        {
          "output_type": "display_data",
          "data": {
            "text/plain": [
              "[[0.16958409000256103,\n",
              "  0.8510646128143668,\n",
              "  0.13271899084134905,\n",
              "  0.008416534485318473],\n",
              " [0.16958409000256103,\n",
              "  0.7268097546983396,\n",
              "  0.7169731931594889,\n",
              "  0.008416534485318473],\n",
              " [-1.7292075008270822,\n",
              "  -3.019935001802769,\n",
              "  -1.3129021377221024,\n",
              "  -0.6306963798204979],\n",
              " [-1.7292075008270822,\n",
              "  -3.019935001802769,\n",
              "  -1.3129021377221024,\n",
              "  -0.6306963798204979]]"
            ]
          },
          "metadata": {}
        },
        {
          "output_type": "stream",
          "name": "stdout",
          "text": [
            "\n"
          ]
        },
        {
          "output_type": "display_data",
          "data": {
            "text/plain": [
              "[0.029497315267036507,\n",
              " 0.1981824616699875,\n",
              " 830.4910604894969,\n",
              " 830.4910604894969]"
            ]
          },
          "metadata": {}
        },
        {
          "output_type": "display_data",
          "data": {
            "text/plain": [
              "238"
            ]
          },
          "metadata": {}
        },
        {
          "output_type": "stream",
          "name": "stdout",
          "text": [
            "\n"
          ]
        },
        {
          "output_type": "display_data",
          "data": {
            "text/plain": [
              "[[0.16958409000256103,\n",
              "  0.8510646128143668,\n",
              "  0.13271899084134905,\n",
              "  0.008416534485318473],\n",
              " [0.16958409000256103,\n",
              "  0.7268097546983396,\n",
              "  0.7169731931594889,\n",
              "  0.008416534485318473],\n",
              " [-1.7292075008270822,\n",
              "  -3.019935001802769,\n",
              "  -1.3129021377221024,\n",
              "  -0.6306963798204979],\n",
              " [-2.110451713386215,\n",
              "  -3.019935001802769,\n",
              "  -1.3129021377221024,\n",
              "  -0.6306963798204979]]"
            ]
          },
          "metadata": {}
        },
        {
          "output_type": "stream",
          "name": "stdout",
          "text": [
            "\n"
          ]
        },
        {
          "output_type": "display_data",
          "data": {
            "text/plain": [
              "[0.029497315267036507, 0.1981824616699875, 891.727822823298, 830.4910604894969]"
            ]
          },
          "metadata": {}
        },
        {
          "output_type": "display_data",
          "data": {
            "text/plain": [
              "239"
            ]
          },
          "metadata": {}
        },
        {
          "output_type": "stream",
          "name": "stdout",
          "text": [
            "\n"
          ]
        },
        {
          "output_type": "display_data",
          "data": {
            "text/plain": [
              "[[0.16958409000256103,\n",
              "  0.8510646128143668,\n",
              "  0.13271899084134905,\n",
              "  0.008416534485318473],\n",
              " [0.16958409000256103,\n",
              "  0.7268097546983396,\n",
              "  0.7169731931594889,\n",
              "  0.008416534485318473],\n",
              " [-1.7292075008270822,\n",
              "  -3.019935001802769,\n",
              "  -1.3129021377221024,\n",
              "  -0.6306963798204979],\n",
              " [-1.7292075008270822,\n",
              "  -3.019935001802769,\n",
              "  -1.3129021377221024,\n",
              "  -0.6306963798204979]]"
            ]
          },
          "metadata": {}
        },
        {
          "output_type": "stream",
          "name": "stdout",
          "text": [
            "\n"
          ]
        },
        {
          "output_type": "display_data",
          "data": {
            "text/plain": [
              "[0.029497315267036507,\n",
              " 0.1981824616699875,\n",
              " 830.4910604894969,\n",
              " 830.4910604894969]"
            ]
          },
          "metadata": {}
        },
        {
          "output_type": "display_data",
          "data": {
            "text/plain": [
              "240"
            ]
          },
          "metadata": {}
        },
        {
          "output_type": "stream",
          "name": "stdout",
          "text": [
            "\n"
          ]
        },
        {
          "output_type": "display_data",
          "data": {
            "text/plain": [
              "[[0.16958409000256103,\n",
              "  0.8510646128143668,\n",
              "  0.13271899084134905,\n",
              "  0.008416534485318473],\n",
              " [0.16958409000256103,\n",
              "  0.7268097546983396,\n",
              "  0.7169731931594889,\n",
              "  0.008416534485318473],\n",
              " [-1.7292075008270822,\n",
              "  -3.019935001802769,\n",
              "  -0.3471770611900358,\n",
              "  -0.6306963798204979],\n",
              " [-1.7292075008270822,\n",
              "  -3.019935001802769,\n",
              "  -1.3129021377221024,\n",
              "  -0.6306963798204979]]"
            ]
          },
          "metadata": {}
        },
        {
          "output_type": "stream",
          "name": "stdout",
          "text": [
            "\n"
          ]
        },
        {
          "output_type": "display_data",
          "data": {
            "text/plain": [
              "[0.029497315267036507,\n",
              " 0.1981824616699875,\n",
              " 779.9152207635098,\n",
              " 830.4910604894969]"
            ]
          },
          "metadata": {}
        },
        {
          "output_type": "display_data",
          "data": {
            "text/plain": [
              "241"
            ]
          },
          "metadata": {}
        },
        {
          "output_type": "stream",
          "name": "stdout",
          "text": [
            "\n"
          ]
        },
        {
          "output_type": "display_data",
          "data": {
            "text/plain": [
              "[[0.16958409000256103,\n",
              "  0.8510646128143668,\n",
              "  0.13271899084134905,\n",
              "  0.008416534485318473],\n",
              " [0.16958409000256103,\n",
              "  0.7268097546983396,\n",
              "  0.7169731931594889,\n",
              "  0.008416534485318473],\n",
              " [-1.7292075008270822,\n",
              "  -2.8601023275897193,\n",
              "  -1.3129021377221024,\n",
              "  -0.6306963798204979],\n",
              " [-1.7292075008270822,\n",
              "  -3.019935001802769,\n",
              "  -1.3129021377221024,\n",
              "  -0.6306963798204979]]"
            ]
          },
          "metadata": {}
        },
        {
          "output_type": "stream",
          "name": "stdout",
          "text": [
            "\n"
          ]
        },
        {
          "output_type": "display_data",
          "data": {
            "text/plain": [
              "[0.029497315267036507,\n",
              " 0.1981824616699875,\n",
              " 779.9990410262408,\n",
              " 830.4910604894969]"
            ]
          },
          "metadata": {}
        },
        {
          "output_type": "display_data",
          "data": {
            "text/plain": [
              "242"
            ]
          },
          "metadata": {}
        },
        {
          "output_type": "stream",
          "name": "stdout",
          "text": [
            "\n"
          ]
        },
        {
          "output_type": "display_data",
          "data": {
            "text/plain": [
              "[[0.16958409000256103,\n",
              "  0.8510646128143668,\n",
              "  0.13271899084134905,\n",
              "  0.008416534485318473],\n",
              " [0.16958409000256103,\n",
              "  0.7268097546983396,\n",
              "  0.7169731931594889,\n",
              "  0.008416534485318473],\n",
              " [-1.7292075008270822,\n",
              "  -3.019935001802769,\n",
              "  -1.3129021377221024,\n",
              "  -0.6306963798204979],\n",
              " [-1.7292075008270822,\n",
              "  -3.019935001802769,\n",
              "  -1.3129021377221024,\n",
              "  -0.6306963798204979]]"
            ]
          },
          "metadata": {}
        },
        {
          "output_type": "stream",
          "name": "stdout",
          "text": [
            "\n"
          ]
        },
        {
          "output_type": "display_data",
          "data": {
            "text/plain": [
              "[0.029497315267036507,\n",
              " 0.1981824616699875,\n",
              " 830.4910604894969,\n",
              " 830.4910604894969]"
            ]
          },
          "metadata": {}
        },
        {
          "output_type": "display_data",
          "data": {
            "text/plain": [
              "243"
            ]
          },
          "metadata": {}
        },
        {
          "output_type": "stream",
          "name": "stdout",
          "text": [
            "\n"
          ]
        },
        {
          "output_type": "display_data",
          "data": {
            "text/plain": [
              "[[0.16958409000256103,\n",
              "  0.8510646128143668,\n",
              "  0.13271899084134905,\n",
              "  0.008416534485318473],\n",
              " [0.16958409000256103,\n",
              "  0.7268097546983396,\n",
              "  0.7169731931594889,\n",
              "  0.008416534485318473],\n",
              " [-1.7292075008270822,\n",
              "  -3.019935001802769,\n",
              "  -1.3129021377221024,\n",
              "  -0.6306963798204979],\n",
              " [-1.7292075008270822,\n",
              "  -3.019935001802769,\n",
              "  -1.3129021377221024,\n",
              "  -0.6306963798204979]]"
            ]
          },
          "metadata": {}
        },
        {
          "output_type": "stream",
          "name": "stdout",
          "text": [
            "\n"
          ]
        },
        {
          "output_type": "display_data",
          "data": {
            "text/plain": [
              "[0.029497315267036507,\n",
              " 0.1981824616699875,\n",
              " 830.4910604894969,\n",
              " 830.4910604894969]"
            ]
          },
          "metadata": {}
        },
        {
          "output_type": "display_data",
          "data": {
            "text/plain": [
              "244"
            ]
          },
          "metadata": {}
        },
        {
          "output_type": "stream",
          "name": "stdout",
          "text": [
            "\n"
          ]
        },
        {
          "output_type": "display_data",
          "data": {
            "text/plain": [
              "[[0.16958409000256103,\n",
              "  0.8510646128143668,\n",
              "  0.13271899084134905,\n",
              "  0.008416534485318473],\n",
              " [0.16958409000256103,\n",
              "  0.7268097546983396,\n",
              "  0.7169731931594889,\n",
              "  0.008416534485318473],\n",
              " [-1.7292075008270822,\n",
              "  -3.019935001802769,\n",
              "  -1.3129021377221024,\n",
              "  -0.6306963798204979],\n",
              " [-1.7292075008270822,\n",
              "  -3.019935001802769,\n",
              "  -1.3129021377221024,\n",
              "  -1.2121176336886517]]"
            ]
          },
          "metadata": {}
        },
        {
          "output_type": "stream",
          "name": "stdout",
          "text": [
            "\n"
          ]
        },
        {
          "output_type": "display_data",
          "data": {
            "text/plain": [
              "[0.029497315267036507,\n",
              " 0.1981824616699875,\n",
              " 861.8401274759999,\n",
              " 830.4910604894969]"
            ]
          },
          "metadata": {}
        },
        {
          "output_type": "display_data",
          "data": {
            "text/plain": [
              "245"
            ]
          },
          "metadata": {}
        },
        {
          "output_type": "stream",
          "name": "stdout",
          "text": [
            "\n"
          ]
        },
        {
          "output_type": "display_data",
          "data": {
            "text/plain": [
              "[[0.16958409000256103,\n",
              "  0.8510646128143668,\n",
              "  0.13271899084134905,\n",
              "  0.008416534485318473],\n",
              " [0.16958409000256103,\n",
              "  0.7268097546983396,\n",
              "  0.7169731931594889,\n",
              "  0.008416534485318473],\n",
              " [-1.7292075008270822,\n",
              "  -3.019935001802769,\n",
              "  -1.3129021377221024,\n",
              "  -1.2121176336886517],\n",
              " [-1.7292075008270822,\n",
              "  -3.019935001802769,\n",
              "  -1.3129021377221024,\n",
              "  -1.2121176336886517]]"
            ]
          },
          "metadata": {}
        },
        {
          "output_type": "stream",
          "name": "stdout",
          "text": [
            "\n"
          ]
        },
        {
          "output_type": "display_data",
          "data": {
            "text/plain": [
              "[0.029497315267036507,\n",
              " 0.1981824616699875,\n",
              " 861.8401274759999,\n",
              " 861.8401274759999]"
            ]
          },
          "metadata": {}
        },
        {
          "output_type": "display_data",
          "data": {
            "text/plain": [
              "246"
            ]
          },
          "metadata": {}
        },
        {
          "output_type": "stream",
          "name": "stdout",
          "text": [
            "\n"
          ]
        },
        {
          "output_type": "display_data",
          "data": {
            "text/plain": [
              "[[0.16958409000256103,\n",
              "  0.8510646128143668,\n",
              "  0.13271899084134905,\n",
              "  0.008416534485318473],\n",
              " [0.16958409000256103,\n",
              "  0.7268097546983396,\n",
              "  0.7169731931594889,\n",
              "  0.008416534485318473],\n",
              " [-1.7292075008270822,\n",
              "  -3.019935001802769,\n",
              "  -1.3129021377221024,\n",
              "  -1.2121176336886517],\n",
              " [-1.7292075008270822,\n",
              "  -3.019935001802769,\n",
              "  -1.3129021377221024,\n",
              "  -2.1534840282602534]]"
            ]
          },
          "metadata": {}
        },
        {
          "output_type": "stream",
          "name": "stdout",
          "text": [
            "\n"
          ]
        },
        {
          "output_type": "display_data",
          "data": {
            "text/plain": [
              "[0.029497315267036507,\n",
              " 0.1981824616699875,\n",
              " 914.0302150897874,\n",
              " 861.8401274759999]"
            ]
          },
          "metadata": {}
        },
        {
          "output_type": "display_data",
          "data": {
            "text/plain": [
              "247"
            ]
          },
          "metadata": {}
        },
        {
          "output_type": "stream",
          "name": "stdout",
          "text": [
            "\n"
          ]
        },
        {
          "output_type": "display_data",
          "data": {
            "text/plain": [
              "[[0.16958409000256103,\n",
              "  0.8510646128143668,\n",
              "  0.13271899084134905,\n",
              "  0.008416534485318473],\n",
              " [0.16958409000256103,\n",
              "  0.7268097546983396,\n",
              "  0.7169731931594889,\n",
              "  0.008416534485318473],\n",
              " [-1.7292075008270822,\n",
              "  -3.019935001802769,\n",
              "  -1.3129021377221024,\n",
              "  -1.2121176336886517],\n",
              " [-1.7292075008270822,\n",
              "  -3.019935001802769,\n",
              "  -1.3129021377221024,\n",
              "  -2.1534840282602534]]"
            ]
          },
          "metadata": {}
        },
        {
          "output_type": "stream",
          "name": "stdout",
          "text": [
            "\n"
          ]
        },
        {
          "output_type": "display_data",
          "data": {
            "text/plain": [
              "[0.029497315267036507,\n",
              " 0.1981824616699875,\n",
              " 861.8401274759999,\n",
              " 914.0302150897874]"
            ]
          },
          "metadata": {}
        },
        {
          "output_type": "display_data",
          "data": {
            "text/plain": [
              "248"
            ]
          },
          "metadata": {}
        },
        {
          "output_type": "stream",
          "name": "stdout",
          "text": [
            "\n"
          ]
        },
        {
          "output_type": "display_data",
          "data": {
            "text/plain": [
              "[[0.16958409000256103,\n",
              "  0.8510646128143668,\n",
              "  0.13271899084134905,\n",
              "  0.008416534485318473],\n",
              " [0.16958409000256103,\n",
              "  0.7268097546983396,\n",
              "  0.7169731931594889,\n",
              "  0.008416534485318473],\n",
              " [-1.7292075008270822,\n",
              "  -3.019935001802769,\n",
              "  -0.9326893855987499,\n",
              "  -1.2121176336886517],\n",
              " [-1.7292075008270822,\n",
              "  -3.019935001802769,\n",
              "  -1.3129021377221024,\n",
              "  -1.2121176336886517]]"
            ]
          },
          "metadata": {}
        },
        {
          "output_type": "stream",
          "name": "stdout",
          "text": [
            "\n"
          ]
        },
        {
          "output_type": "display_data",
          "data": {
            "text/plain": [
              "[0.029497315267036507, 0.1981824616699875, 841.263317001982, 861.8401274759999]"
            ]
          },
          "metadata": {}
        },
        {
          "output_type": "display_data",
          "data": {
            "text/plain": [
              "249"
            ]
          },
          "metadata": {}
        },
        {
          "output_type": "stream",
          "name": "stdout",
          "text": [
            "\n"
          ]
        },
        {
          "output_type": "display_data",
          "data": {
            "text/plain": [
              "[[0.16958409000256103,\n",
              "  0.8510646128143668,\n",
              "  0.13271899084134905,\n",
              "  0.008416534485318473],\n",
              " [0.16958409000256103,\n",
              "  0.7268097546983396,\n",
              "  0.7169731931594889,\n",
              "  0.008416534485318473],\n",
              " [-1.7292075008270822,\n",
              "  -3.019935001802769,\n",
              "  -0.9326893855987499,\n",
              "  -0.7953222047301822],\n",
              " [-1.7292075008270822,\n",
              "  -3.019935001802769,\n",
              "  -1.3129021377221024,\n",
              "  -1.2121176336886517]]"
            ]
          },
          "metadata": {}
        },
        {
          "output_type": "stream",
          "name": "stdout",
          "text": [
            "\n"
          ]
        },
        {
          "output_type": "display_data",
          "data": {
            "text/plain": [
              "[0.029497315267036507,\n",
              " 0.1981824616699875,\n",
              " 819.0388706424654,\n",
              " 861.8401274759999]"
            ]
          },
          "metadata": {}
        },
        {
          "output_type": "display_data",
          "data": {
            "text/plain": [
              "250"
            ]
          },
          "metadata": {}
        },
        {
          "output_type": "stream",
          "name": "stdout",
          "text": [
            "\n"
          ]
        },
        {
          "output_type": "display_data",
          "data": {
            "text/plain": [
              "[[0.16958409000256103,\n",
              "  0.8510646128143668,\n",
              "  0.13271899084134905,\n",
              "  0.008416534485318473],\n",
              " [0.16958409000256103,\n",
              "  0.7268097546983396,\n",
              "  0.7169731931594889,\n",
              "  0.008416534485318473],\n",
              " [-1.0078361873555035,\n",
              "  -3.019935001802769,\n",
              "  -1.3129021377221024,\n",
              "  -1.2121176336886517],\n",
              " [-1.7292075008270822,\n",
              "  -3.019935001802769,\n",
              "  -0.9326893855987499,\n",
              "  -0.7953222047301822]]"
            ]
          },
          "metadata": {}
        },
        {
          "output_type": "stream",
          "name": "stdout",
          "text": [
            "\n"
          ]
        },
        {
          "output_type": "display_data",
          "data": {
            "text/plain": [
              "[0.029497315267036507,\n",
              " 0.1981824616699875,\n",
              " 749.8393363189284,\n",
              " 819.0388706424654]"
            ]
          },
          "metadata": {}
        },
        {
          "output_type": "display_data",
          "data": {
            "text/plain": [
              "251"
            ]
          },
          "metadata": {}
        },
        {
          "output_type": "stream",
          "name": "stdout",
          "text": [
            "\n"
          ]
        },
        {
          "output_type": "display_data",
          "data": {
            "text/plain": [
              "[[0.16958409000256103,\n",
              "  0.8510646128143668,\n",
              "  0.13271899084134905,\n",
              "  0.008416534485318473],\n",
              " [0.16958409000256103,\n",
              "  0.7268097546983396,\n",
              "  0.7169731931594889,\n",
              "  0.008416534485318473],\n",
              " [-1.0078361873555035,\n",
              "  -3.019935001802769,\n",
              "  -0.9326893855987499,\n",
              "  -0.7953222047301822],\n",
              " [-2.2234129906165556,\n",
              "  -3.019935001802769,\n",
              "  -1.3129021377221024,\n",
              "  -1.2121176336886517]]"
            ]
          },
          "metadata": {}
        },
        {
          "output_type": "stream",
          "name": "stdout",
          "text": [
            "\n"
          ]
        },
        {
          "output_type": "display_data",
          "data": {
            "text/plain": [
              "[0.029497315267036507, 0.1981824616699875, 943.0765238577171, 709.912773677567]"
            ]
          },
          "metadata": {}
        },
        {
          "output_type": "display_data",
          "data": {
            "text/plain": [
              "252"
            ]
          },
          "metadata": {}
        },
        {
          "output_type": "stream",
          "name": "stdout",
          "text": [
            "\n"
          ]
        },
        {
          "output_type": "display_data",
          "data": {
            "text/plain": [
              "[[0.16958409000256103,\n",
              "  0.8510646128143668,\n",
              "  0.13271899084134905,\n",
              "  0.008416534485318473],\n",
              " [0.16958409000256103,\n",
              "  0.7268097546983396,\n",
              "  0.7169731931594889,\n",
              "  0.008416534485318473],\n",
              " [-1.0078361873555035,\n",
              "  -3.019935001802769,\n",
              "  -1.3129021377221024,\n",
              "  -1.2121176336886517],\n",
              " [-1.5271145971402325,\n",
              "  -3.019935001802769,\n",
              "  -0.9326893855987499,\n",
              "  -0.7953222047301822]]"
            ]
          },
          "metadata": {}
        },
        {
          "output_type": "stream",
          "name": "stdout",
          "text": [
            "\n"
          ]
        },
        {
          "output_type": "display_data",
          "data": {
            "text/plain": [
              "[0.029497315267036507,\n",
              " 0.1981824616699875,\n",
              " 787.6800155009792,\n",
              " 749.8393363189284]"
            ]
          },
          "metadata": {}
        },
        {
          "output_type": "display_data",
          "data": {
            "text/plain": [
              "253"
            ]
          },
          "metadata": {}
        },
        {
          "output_type": "stream",
          "name": "stdout",
          "text": [
            "\n"
          ]
        },
        {
          "output_type": "display_data",
          "data": {
            "text/plain": [
              "[[0.16958409000256103,\n",
              "  0.8510646128143668,\n",
              "  0.13271899084134905,\n",
              "  0.008416534485318473],\n",
              " [0.16958409000256103,\n",
              "  0.7268097546983396,\n",
              "  0.7169731931594889,\n",
              "  0.008416534485318473],\n",
              " [-1.5271145971402325,\n",
              "  -3.019935001802769,\n",
              "  -1.3129021377221024,\n",
              "  -1.2121176336886517],\n",
              " [-1.872837934509107,\n",
              "  -3.019935001802769,\n",
              "  -0.9326893855987499,\n",
              "  -0.7953222047301822]]"
            ]
          },
          "metadata": {}
        },
        {
          "output_type": "stream",
          "name": "stdout",
          "text": [
            "\n"
          ]
        },
        {
          "output_type": "display_data",
          "data": {
            "text/plain": [
              "[0.029497315267036507,\n",
              " 0.1981824616699875,\n",
              " 841.6984985407205,\n",
              " 829.6759238466286]"
            ]
          },
          "metadata": {}
        },
        {
          "output_type": "display_data",
          "data": {
            "text/plain": [
              "254"
            ]
          },
          "metadata": {}
        },
        {
          "output_type": "stream",
          "name": "stdout",
          "text": [
            "\n"
          ]
        },
        {
          "output_type": "display_data",
          "data": {
            "text/plain": [
              "[[0.16958409000256103,\n",
              "  0.8510646128143668,\n",
              "  0.13271899084134905,\n",
              "  0.008416534485318473],\n",
              " [0.16958409000256103,\n",
              "  0.7268097546983396,\n",
              "  0.7169731931594889,\n",
              "  0.008416534485318473],\n",
              " [-1.5271145971402325,\n",
              "  -3.019935001802769,\n",
              "  -0.9326893855987499,\n",
              "  -0.5961440467728638],\n",
              " [-1.872837934509107,\n",
              "  -3.019935001802769,\n",
              "  -1.3129021377221024,\n",
              "  -1.2121176336886517]]"
            ]
          },
          "metadata": {}
        },
        {
          "output_type": "stream",
          "name": "stdout",
          "text": [
            "\n"
          ]
        },
        {
          "output_type": "display_data",
          "data": {
            "text/plain": [
              "[0.029497315267036507,\n",
              " 0.1981824616699875,\n",
              " 777.3833502405304,\n",
              " 885.0721285277392]"
            ]
          },
          "metadata": {}
        },
        {
          "output_type": "display_data",
          "data": {
            "text/plain": [
              "255"
            ]
          },
          "metadata": {}
        },
        {
          "output_type": "stream",
          "name": "stdout",
          "text": [
            "\n"
          ]
        },
        {
          "output_type": "display_data",
          "data": {
            "text/plain": [
              "[[0.16958409000256103,\n",
              "  0.8510646128143668,\n",
              "  0.13271899084134905,\n",
              "  0.008416534485318473],\n",
              " [0.16958409000256103,\n",
              "  0.7268097546983396,\n",
              "  0.7169731931594889,\n",
              "  0.008416534485318473],\n",
              " [-1.872837934509107,\n",
              "  -3.019935001802769,\n",
              "  -1.3129021377221024,\n",
              "  -1.2121176336886517],\n",
              " [-1.872837934509107,\n",
              "  -3.5295265559268056,\n",
              "  -1.3129021377221024,\n",
              "  -1.2121176336886517]]"
            ]
          },
          "metadata": {}
        },
        {
          "output_type": "stream",
          "name": "stdout",
          "text": [
            "\n"
          ]
        },
        {
          "output_type": "display_data",
          "data": {
            "text/plain": [
              "[0.029497315267036507,\n",
              " 0.1981824616699875,\n",
              " 1061.8879441943704,\n",
              " 885.0721285277392]"
            ]
          },
          "metadata": {}
        },
        {
          "output_type": "display_data",
          "data": {
            "text/plain": [
              "256"
            ]
          },
          "metadata": {}
        },
        {
          "output_type": "stream",
          "name": "stdout",
          "text": [
            "\n"
          ]
        },
        {
          "output_type": "display_data",
          "data": {
            "text/plain": [
              "[[0.16958409000256103,\n",
              "  0.8510646128143668,\n",
              "  0.13271899084134905,\n",
              "  0.008416534485318473],\n",
              " [0.16958409000256103,\n",
              "  0.7268097546983396,\n",
              "  0.7169731931594889,\n",
              "  0.008416534485318473],\n",
              " [-1.872837934509107,\n",
              "  -3.019935001802769,\n",
              "  -1.3129021377221024,\n",
              "  -1.2121176336886517],\n",
              " [-1.872837934509107,\n",
              "  -3.5295265559268056,\n",
              "  -1.3129021377221024,\n",
              "  -1.2121176336886517]]"
            ]
          },
          "metadata": {}
        },
        {
          "output_type": "stream",
          "name": "stdout",
          "text": [
            "\n"
          ]
        },
        {
          "output_type": "display_data",
          "data": {
            "text/plain": [
              "[0.029497315267036507,\n",
              " 0.1981824616699875,\n",
              " 1061.8879441943704,\n",
              " 885.0721285277392]"
            ]
          },
          "metadata": {}
        },
        {
          "output_type": "display_data",
          "data": {
            "text/plain": [
              "257"
            ]
          },
          "metadata": {}
        },
        {
          "output_type": "stream",
          "name": "stdout",
          "text": [
            "\n"
          ]
        },
        {
          "output_type": "display_data",
          "data": {
            "text/plain": [
              "[[0.16958409000256103,\n",
              "  0.8510646128143668,\n",
              "  0.13271899084134905,\n",
              "  0.008416534485318473],\n",
              " [0.16958409000256103,\n",
              "  0.7268097546983396,\n",
              "  0.7169731931594889,\n",
              "  0.008416534485318473],\n",
              " [-1.872837934509107,\n",
              "  -3.019935001802769,\n",
              "  -1.3129021377221024,\n",
              "  -1.2121176336886517],\n",
              " [-1.872837934509107,\n",
              "  -3.5295265559268056,\n",
              "  -1.3129021377221024,\n",
              "  -1.2121176336886517]]"
            ]
          },
          "metadata": {}
        },
        {
          "output_type": "stream",
          "name": "stdout",
          "text": [
            "\n"
          ]
        },
        {
          "output_type": "display_data",
          "data": {
            "text/plain": [
              "[0.029497315267036507,\n",
              " 0.1981824616699875,\n",
              " 1061.8879441943704,\n",
              " 885.0721285277392]"
            ]
          },
          "metadata": {}
        },
        {
          "output_type": "display_data",
          "data": {
            "text/plain": [
              "258"
            ]
          },
          "metadata": {}
        },
        {
          "output_type": "stream",
          "name": "stdout",
          "text": [
            "\n"
          ]
        },
        {
          "output_type": "display_data",
          "data": {
            "text/plain": [
              "[[0.16958409000256103,\n",
              "  0.8510646128143668,\n",
              "  0.13271899084134905,\n",
              "  0.008416534485318473],\n",
              " [0.16958409000256103,\n",
              "  0.7268097546983396,\n",
              "  0.7169731931594889,\n",
              "  0.008416534485318473],\n",
              " [-1.872837934509107,\n",
              "  -3.019935001802769,\n",
              "  -0.7664624825585382,\n",
              "  -1.2121176336886517],\n",
              " [-1.872837934509107,\n",
              "  -3.5295265559268056,\n",
              "  -1.3129021377221024,\n",
              "  -1.2121176336886517]]"
            ]
          },
          "metadata": {}
        },
        {
          "output_type": "stream",
          "name": "stdout",
          "text": [
            "\n"
          ]
        },
        {
          "output_type": "display_data",
          "data": {
            "text/plain": [
              "[0.029497315267036507,\n",
              " 0.1981824616699875,\n",
              " 855.1976569727301,\n",
              " 1061.8879441943704]"
            ]
          },
          "metadata": {}
        },
        {
          "output_type": "display_data",
          "data": {
            "text/plain": [
              "259"
            ]
          },
          "metadata": {}
        },
        {
          "output_type": "stream",
          "name": "stdout",
          "text": [
            "\n"
          ]
        },
        {
          "output_type": "display_data",
          "data": {
            "text/plain": [
              "[[0.16958409000256103,\n",
              "  0.8510646128143668,\n",
              "  0.13271899084134905,\n",
              "  0.008416534485318473],\n",
              " [0.16958409000256103,\n",
              "  0.7268097546983396,\n",
              "  0.7169731931594889,\n",
              "  0.008416534485318473],\n",
              " [-1.872837934509107,\n",
              "  -3.019935001802769,\n",
              "  -0.7664624825585382,\n",
              "  -1.2121176336886517],\n",
              " [-1.872837934509107,\n",
              "  -3.019935001802769,\n",
              "  -0.7664624825585382,\n",
              "  -1.2121176336886517]]"
            ]
          },
          "metadata": {}
        },
        {
          "output_type": "stream",
          "name": "stdout",
          "text": [
            "\n"
          ]
        },
        {
          "output_type": "display_data",
          "data": {
            "text/plain": [
              "[0.029497315267036507,\n",
              " 0.1981824616699875,\n",
              " 855.1976569727301,\n",
              " 855.1976569727301]"
            ]
          },
          "metadata": {}
        },
        {
          "output_type": "display_data",
          "data": {
            "text/plain": [
              "260"
            ]
          },
          "metadata": {}
        },
        {
          "output_type": "stream",
          "name": "stdout",
          "text": [
            "\n"
          ]
        },
        {
          "output_type": "display_data",
          "data": {
            "text/plain": [
              "[[0.16958409000256103,\n",
              "  0.8510646128143668,\n",
              "  0.13271899084134905,\n",
              "  0.008416534485318473],\n",
              " [0.16958409000256103,\n",
              "  0.7268097546983396,\n",
              "  0.7169731931594889,\n",
              "  0.008416534485318473],\n",
              " [-1.872837934509107,\n",
              "  -3.019935001802769,\n",
              "  -0.7664624825585382,\n",
              "  -0.6397552605453134],\n",
              " [-1.872837934509107,\n",
              "  -3.019935001802769,\n",
              "  -0.7664624825585382,\n",
              "  -1.2121176336886517]]"
            ]
          },
          "metadata": {}
        },
        {
          "output_type": "stream",
          "name": "stdout",
          "text": [
            "\n"
          ]
        },
        {
          "output_type": "display_data",
          "data": {
            "text/plain": [
              "[0.029497315267036507,\n",
              " 0.1981824616699875,\n",
              " 824.5463214057869,\n",
              " 855.1976569727301]"
            ]
          },
          "metadata": {}
        },
        {
          "output_type": "display_data",
          "data": {
            "text/plain": [
              "261"
            ]
          },
          "metadata": {}
        },
        {
          "output_type": "stream",
          "name": "stdout",
          "text": [
            "\n"
          ]
        },
        {
          "output_type": "display_data",
          "data": {
            "text/plain": [
              "[[0.16958409000256103,\n",
              "  0.8510646128143668,\n",
              "  0.13271899084134905,\n",
              "  0.008416534485318473],\n",
              " [0.16958409000256103,\n",
              "  0.7268097546983396,\n",
              "  0.7169731931594889,\n",
              "  0.008416534485318473],\n",
              " [-1.872837934509107,\n",
              "  -3.019935001802769,\n",
              "  -0.7664624825585382,\n",
              "  -0.6397552605453134],\n",
              " [-1.872837934509107,\n",
              "  -3.019935001802769,\n",
              "  -0.7664624825585382,\n",
              "  -1.2121176336886517]]"
            ]
          },
          "metadata": {}
        },
        {
          "output_type": "stream",
          "name": "stdout",
          "text": [
            "\n"
          ]
        },
        {
          "output_type": "display_data",
          "data": {
            "text/plain": [
              "[0.029497315267036507,\n",
              " 0.1981824616699875,\n",
              " 824.5463214057869,\n",
              " 855.1976569727301]"
            ]
          },
          "metadata": {}
        },
        {
          "output_type": "display_data",
          "data": {
            "text/plain": [
              "262"
            ]
          },
          "metadata": {}
        },
        {
          "output_type": "stream",
          "name": "stdout",
          "text": [
            "\n"
          ]
        },
        {
          "output_type": "display_data",
          "data": {
            "text/plain": [
              "[[0.16958409000256103,\n",
              "  0.8510646128143668,\n",
              "  0.13271899084134905,\n",
              "  0.008416534485318473],\n",
              " [0.16958409000256103,\n",
              "  0.7268097546983396,\n",
              "  0.7169731931594889,\n",
              "  0.008416534485318473],\n",
              " [-1.4113126191832452,\n",
              "  -3.019935001802769,\n",
              "  -0.7664624825585382,\n",
              "  -0.6397552605453134],\n",
              " [-1.872837934509107,\n",
              "  -3.019935001802769,\n",
              "  -0.7664624825585382,\n",
              "  -1.2121176336886517]]"
            ]
          },
          "metadata": {}
        },
        {
          "output_type": "stream",
          "name": "stdout",
          "text": [
            "\n"
          ]
        },
        {
          "output_type": "display_data",
          "data": {
            "text/plain": [
              "[0.029497315267036507,\n",
              " 0.1981824616699875,\n",
              " 753.5774650143641,\n",
              " 855.1976569727301]"
            ]
          },
          "metadata": {}
        },
        {
          "output_type": "display_data",
          "data": {
            "text/plain": [
              "263"
            ]
          },
          "metadata": {}
        },
        {
          "output_type": "stream",
          "name": "stdout",
          "text": [
            "\n"
          ]
        },
        {
          "output_type": "display_data",
          "data": {
            "text/plain": [
              "[[0.16958409000256103,\n",
              "  0.8510646128143668,\n",
              "  0.13271899084134905,\n",
              "  0.008416534485318473],\n",
              " [0.16958409000256103,\n",
              "  0.7268097546983396,\n",
              "  0.7169731931594889,\n",
              "  0.008416534485318473],\n",
              " [-1.1867383427568647,\n",
              "  -3.019935001802769,\n",
              "  -0.7664624825585382,\n",
              "  -0.6397552605453134],\n",
              " [-1.4113126191832452,\n",
              "  -3.019935001802769,\n",
              "  -0.7664624825585382,\n",
              "  -0.6397552605453134]]"
            ]
          },
          "metadata": {}
        },
        {
          "output_type": "stream",
          "name": "stdout",
          "text": [
            "\n"
          ]
        },
        {
          "output_type": "display_data",
          "data": {
            "text/plain": [
              "[0.029497315267036507,\n",
              " 0.1981824616699875,\n",
              " 720.2002280535921,\n",
              " 753.5774650143641]"
            ]
          },
          "metadata": {}
        },
        {
          "output_type": "display_data",
          "data": {
            "text/plain": [
              "264"
            ]
          },
          "metadata": {}
        },
        {
          "output_type": "stream",
          "name": "stdout",
          "text": [
            "\n"
          ]
        },
        {
          "output_type": "display_data",
          "data": {
            "text/plain": [
              "[[0.16958409000256103,\n",
              "  0.8510646128143668,\n",
              "  0.13271899084134905,\n",
              "  0.008416534485318473],\n",
              " [0.16958409000256103,\n",
              "  0.7268097546983396,\n",
              "  0.7169731931594889,\n",
              "  0.008416534485318473],\n",
              " [-1.1867383427568647,\n",
              "  -3.019935001802769,\n",
              "  -0.7664624825585382,\n",
              "  -0.6397552605453134],\n",
              " [-1.1867383427568647,\n",
              "  -3.019935001802769,\n",
              "  -0.7664624825585382,\n",
              "  -0.6397552605453134]]"
            ]
          },
          "metadata": {}
        },
        {
          "output_type": "stream",
          "name": "stdout",
          "text": [
            "\n"
          ]
        },
        {
          "output_type": "display_data",
          "data": {
            "text/plain": [
              "[0.029497315267036507,\n",
              " 0.1981824616699875,\n",
              " 720.2002280535921,\n",
              " 720.2002280535921]"
            ]
          },
          "metadata": {}
        },
        {
          "output_type": "display_data",
          "data": {
            "text/plain": [
              "265"
            ]
          },
          "metadata": {}
        },
        {
          "output_type": "stream",
          "name": "stdout",
          "text": [
            "\n"
          ]
        },
        {
          "output_type": "display_data",
          "data": {
            "text/plain": [
              "[[0.16958409000256103,\n",
              "  0.8510646128143668,\n",
              "  0.13271899084134905,\n",
              "  0.008416534485318473],\n",
              " [0.16958409000256103,\n",
              "  0.7268097546983396,\n",
              "  0.7169731931594889,\n",
              "  0.008416534485318473],\n",
              " [-0.43779228500071143,\n",
              "  -3.019935001802769,\n",
              "  -0.7664624825585382,\n",
              "  -0.6397552605453134],\n",
              " [-1.1867383427568647,\n",
              "  -3.019935001802769,\n",
              "  -0.7664624825585382,\n",
              "  -0.6397552605453134]]"
            ]
          },
          "metadata": {}
        },
        {
          "output_type": "stream",
          "name": "stdout",
          "text": [
            "\n"
          ]
        },
        {
          "output_type": "display_data",
          "data": {
            "text/plain": [
              "[0.029497315267036507,\n",
              " 0.1981824616699875,\n",
              " 614.3568599399216,\n",
              " 720.2002280535921]"
            ]
          },
          "metadata": {}
        },
        {
          "output_type": "display_data",
          "data": {
            "text/plain": [
              "266"
            ]
          },
          "metadata": {}
        },
        {
          "output_type": "stream",
          "name": "stdout",
          "text": [
            "\n"
          ]
        },
        {
          "output_type": "display_data",
          "data": {
            "text/plain": [
              "[[0.16958409000256103,\n",
              "  0.8510646128143668,\n",
              "  0.13271899084134905,\n",
              "  0.008416534485318473],\n",
              " [0.16958409000256103,\n",
              "  0.7268097546983396,\n",
              "  0.7169731931594889,\n",
              "  0.008416534485318473],\n",
              " [-0.43779228500071143,\n",
              "  -3.019935001802769,\n",
              "  -0.7664624825585382,\n",
              "  -0.6397552605453134],\n",
              " [-0.8221815193998068,\n",
              "  -3.019935001802769,\n",
              "  -0.7664624825585382,\n",
              "  -0.6397552605453134]]"
            ]
          },
          "metadata": {}
        },
        {
          "output_type": "stream",
          "name": "stdout",
          "text": [
            "\n"
          ]
        },
        {
          "output_type": "display_data",
          "data": {
            "text/plain": [
              "[0.029497315267036507,\n",
              " 0.1981824616699875,\n",
              " 667.6289448754972,\n",
              " 614.3568599399216]"
            ]
          },
          "metadata": {}
        },
        {
          "output_type": "display_data",
          "data": {
            "text/plain": [
              "267"
            ]
          },
          "metadata": {}
        },
        {
          "output_type": "stream",
          "name": "stdout",
          "text": [
            "\n"
          ]
        },
        {
          "output_type": "display_data",
          "data": {
            "text/plain": [
              "[[0.16958409000256103,\n",
              "  0.8510646128143668,\n",
              "  0.13271899084134905,\n",
              "  0.008416534485318473],\n",
              " [0.16958409000256103,\n",
              "  0.7268097546983396,\n",
              "  0.7169731931594889,\n",
              "  0.008416534485318473],\n",
              " [-0.8221815193998068,\n",
              "  -3.019935001802769,\n",
              "  -0.7664624825585382,\n",
              "  -0.6397552605453134],\n",
              " [-0.8221815193998068,\n",
              "  -3.019935001802769,\n",
              "  -0.7664624825585382,\n",
              "  -0.6397552605453134]]"
            ]
          },
          "metadata": {}
        },
        {
          "output_type": "stream",
          "name": "stdout",
          "text": [
            "\n"
          ]
        },
        {
          "output_type": "display_data",
          "data": {
            "text/plain": [
              "[0.029497315267036507,\n",
              " 0.1981824616699875,\n",
              " 667.6289448754972,\n",
              " 667.6289448754972]"
            ]
          },
          "metadata": {}
        },
        {
          "output_type": "display_data",
          "data": {
            "text/plain": [
              "268"
            ]
          },
          "metadata": {}
        },
        {
          "output_type": "stream",
          "name": "stdout",
          "text": [
            "\n"
          ]
        },
        {
          "output_type": "display_data",
          "data": {
            "text/plain": [
              "[[0.16958409000256103,\n",
              "  0.8510646128143668,\n",
              "  0.13271899084134905,\n",
              "  0.008416534485318473],\n",
              " [0.16958409000256103,\n",
              "  0.7268097546983396,\n",
              "  0.7169731931594889,\n",
              "  0.008416534485318473],\n",
              " [-0.8221815193998068,\n",
              "  -3.019935001802769,\n",
              "  -0.7664624825585382,\n",
              "  -0.6397552605453134],\n",
              " [-0.8221815193998068,\n",
              "  -3.019935001802769,\n",
              "  -0.7664624825585382,\n",
              "  -0.6397552605453134]]"
            ]
          },
          "metadata": {}
        },
        {
          "output_type": "stream",
          "name": "stdout",
          "text": [
            "\n"
          ]
        },
        {
          "output_type": "display_data",
          "data": {
            "text/plain": [
              "[0.029497315267036507,\n",
              " 0.1981824616699875,\n",
              " 667.6289448754972,\n",
              " 667.6289448754972]"
            ]
          },
          "metadata": {}
        },
        {
          "output_type": "display_data",
          "data": {
            "text/plain": [
              "269"
            ]
          },
          "metadata": {}
        },
        {
          "output_type": "stream",
          "name": "stdout",
          "text": [
            "\n"
          ]
        },
        {
          "output_type": "display_data",
          "data": {
            "text/plain": [
              "[[0.16958409000256103,\n",
              "  0.8510646128143668,\n",
              "  0.13271899084134905,\n",
              "  0.008416534485318473],\n",
              " [0.16958409000256103,\n",
              "  0.7268097546983396,\n",
              "  0.7169731931594889,\n",
              "  0.008416534485318473],\n",
              " [-0.8221815193998068,\n",
              "  -3.019935001802769,\n",
              "  -0.7664624825585382,\n",
              "  -0.6397552605453134],\n",
              " [-0.8221815193998068,\n",
              "  -3.019935001802769,\n",
              "  -1.4794624089383244,\n",
              "  -0.6397552605453134]]"
            ]
          },
          "metadata": {}
        },
        {
          "output_type": "stream",
          "name": "stdout",
          "text": [
            "\n"
          ]
        },
        {
          "output_type": "display_data",
          "data": {
            "text/plain": [
              "[0.029497315267036507,\n",
              " 0.1981824616699875,\n",
              " 702.1664331693037,\n",
              " 667.6289448754972]"
            ]
          },
          "metadata": {}
        },
        {
          "output_type": "display_data",
          "data": {
            "text/plain": [
              "270"
            ]
          },
          "metadata": {}
        },
        {
          "output_type": "stream",
          "name": "stdout",
          "text": [
            "\n"
          ]
        },
        {
          "output_type": "display_data",
          "data": {
            "text/plain": [
              "[[0.16958409000256103,\n",
              "  0.8510646128143668,\n",
              "  0.13271899084134905,\n",
              "  0.008416534485318473],\n",
              " [0.16958409000256103,\n",
              "  0.7268097546983396,\n",
              "  0.7169731931594889,\n",
              "  0.008416534485318473],\n",
              " [-0.624359249074216,\n",
              "  -3.019935001802769,\n",
              "  -0.7664624825585382,\n",
              "  -0.6397552605453134],\n",
              " [-0.8221815193998068,\n",
              "  -3.019935001802769,\n",
              "  -1.4794624089383244,\n",
              "  -0.6397552605453134]]"
            ]
          },
          "metadata": {}
        },
        {
          "output_type": "stream",
          "name": "stdout",
          "text": [
            "\n"
          ]
        },
        {
          "output_type": "display_data",
          "data": {
            "text/plain": [
              "[0.029497315267036507,\n",
              " 0.1981824616699875,\n",
              " 639.9361688432131,\n",
              " 702.1664331693037]"
            ]
          },
          "metadata": {}
        },
        {
          "output_type": "display_data",
          "data": {
            "text/plain": [
              "271"
            ]
          },
          "metadata": {}
        },
        {
          "output_type": "stream",
          "name": "stdout",
          "text": [
            "\n"
          ]
        },
        {
          "output_type": "display_data",
          "data": {
            "text/plain": [
              "[[0.16958409000256103,\n",
              "  0.8510646128143668,\n",
              "  0.13271899084134905,\n",
              "  0.008416534485318473],\n",
              " [0.16958409000256103,\n",
              "  0.7268097546983396,\n",
              "  0.7169731931594889,\n",
              "  0.008416534485318473],\n",
              " [-0.624359249074216,\n",
              "  -3.019935001802769,\n",
              "  -0.7664624825585382,\n",
              "  -0.6397552605453134],\n",
              " [-0.8221815193998068,\n",
              "  -3.019935001802769,\n",
              "  -1.4794624089383244,\n",
              "  -0.6397552605453134]]"
            ]
          },
          "metadata": {}
        },
        {
          "output_type": "stream",
          "name": "stdout",
          "text": [
            "\n"
          ]
        },
        {
          "output_type": "display_data",
          "data": {
            "text/plain": [
              "[0.029497315267036507,\n",
              " 0.1981824616699875,\n",
              " 702.1664331693037,\n",
              " 639.9361688432131]"
            ]
          },
          "metadata": {}
        },
        {
          "output_type": "display_data",
          "data": {
            "text/plain": [
              "272"
            ]
          },
          "metadata": {}
        },
        {
          "output_type": "stream",
          "name": "stdout",
          "text": [
            "\n"
          ]
        },
        {
          "output_type": "display_data",
          "data": {
            "text/plain": [
              "[[0.16958409000256103,\n",
              "  0.8510646128143668,\n",
              "  0.13271899084134905,\n",
              "  0.008416534485318473],\n",
              " [0.16958409000256103,\n",
              "  0.7268097546983396,\n",
              "  0.7169731931594889,\n",
              "  0.008416534485318473],\n",
              " [-0.624359249074216,\n",
              "  -3.019935001802769,\n",
              "  -0.7664624825585382,\n",
              "  -0.6397552605453134],\n",
              " [-0.624359249074216,\n",
              "  -3.019935001802769,\n",
              "  -0.7664624825585382,\n",
              "  -1.417457494428548]]"
            ]
          },
          "metadata": {}
        },
        {
          "output_type": "stream",
          "name": "stdout",
          "text": [
            "\n"
          ]
        },
        {
          "output_type": "display_data",
          "data": {
            "text/plain": [
              "[0.029497315267036507,\n",
              " 0.1981824616699875,\n",
              " 676.8889012309206,\n",
              " 639.9361688432131]"
            ]
          },
          "metadata": {}
        },
        {
          "output_type": "display_data",
          "data": {
            "text/plain": [
              "273"
            ]
          },
          "metadata": {}
        },
        {
          "output_type": "stream",
          "name": "stdout",
          "text": [
            "\n"
          ]
        },
        {
          "output_type": "display_data",
          "data": {
            "text/plain": [
              "[[0.16958409000256103,\n",
              "  0.8510646128143668,\n",
              "  0.13271899084134905,\n",
              "  0.008416534485318473],\n",
              " [0.16958409000256103,\n",
              "  0.7268097546983396,\n",
              "  0.7169731931594889,\n",
              "  0.008416534485318473],\n",
              " [-0.5105516285110236,\n",
              "  -3.019935001802769,\n",
              "  -0.7664624825585382,\n",
              "  -1.417457494428548],\n",
              " [-0.624359249074216,\n",
              "  -3.019935001802769,\n",
              "  -0.7664624825585382,\n",
              "  -1.417457494428548]]"
            ]
          },
          "metadata": {}
        },
        {
          "output_type": "stream",
          "name": "stdout",
          "text": [
            "\n"
          ]
        },
        {
          "output_type": "display_data",
          "data": {
            "text/plain": [
              "[0.029497315267036507,\n",
              " 0.1981824616699875,\n",
              " 660.7806333219232,\n",
              " 676.8889012309206]"
            ]
          },
          "metadata": {}
        },
        {
          "output_type": "display_data",
          "data": {
            "text/plain": [
              "274"
            ]
          },
          "metadata": {}
        },
        {
          "output_type": "stream",
          "name": "stdout",
          "text": [
            "\n"
          ]
        },
        {
          "output_type": "display_data",
          "data": {
            "text/plain": [
              "[[0.16958409000256103,\n",
              "  0.8510646128143668,\n",
              "  0.13271899084134905,\n",
              "  0.008416534485318473],\n",
              " [0.16958409000256103,\n",
              "  0.7268097546983396,\n",
              "  0.7169731931594889,\n",
              "  0.008416534485318473],\n",
              " [-0.5105516285110236,\n",
              "  -3.019935001802769,\n",
              "  -0.7664624825585382,\n",
              "  -1.417457494428548],\n",
              " [-1.4516657593714872,\n",
              "  -3.019935001802769,\n",
              "  -0.7664624825585382,\n",
              "  -1.417457494428548]]"
            ]
          },
          "metadata": {}
        },
        {
          "output_type": "stream",
          "name": "stdout",
          "text": [
            "\n"
          ]
        },
        {
          "output_type": "display_data",
          "data": {
            "text/plain": [
              "[0.029497315267036507,\n",
              " 0.1981824616699875,\n",
              " 799.8248327260042,\n",
              " 660.7806333219232]"
            ]
          },
          "metadata": {}
        },
        {
          "output_type": "display_data",
          "data": {
            "text/plain": [
              "275"
            ]
          },
          "metadata": {}
        },
        {
          "output_type": "stream",
          "name": "stdout",
          "text": [
            "\n"
          ]
        },
        {
          "output_type": "display_data",
          "data": {
            "text/plain": [
              "[[0.16958409000256103,\n",
              "  0.8510646128143668,\n",
              "  0.13271899084134905,\n",
              "  0.008416534485318473],\n",
              " [0.16958409000256103,\n",
              "  0.7268097546983396,\n",
              "  0.7169731931594889,\n",
              "  0.008416534485318473],\n",
              " [-1.4516657593714872,\n",
              "  -3.019935001802769,\n",
              "  -0.7664624825585382,\n",
              "  -1.127987549510263],\n",
              " [-1.4516657593714872,\n",
              "  -3.019935001802769,\n",
              "  -0.7664624825585382,\n",
              "  -1.417457494428548]]"
            ]
          },
          "metadata": {}
        },
        {
          "output_type": "stream",
          "name": "stdout",
          "text": [
            "\n"
          ]
        },
        {
          "output_type": "display_data",
          "data": {
            "text/plain": [
              "[0.029497315267036507,\n",
              " 0.1981824616699875,\n",
              " 784.7318594279062,\n",
              " 799.8248327260042]"
            ]
          },
          "metadata": {}
        },
        {
          "output_type": "display_data",
          "data": {
            "text/plain": [
              "276"
            ]
          },
          "metadata": {}
        },
        {
          "output_type": "stream",
          "name": "stdout",
          "text": [
            "\n"
          ]
        },
        {
          "output_type": "display_data",
          "data": {
            "text/plain": [
              "[[0.16958409000256103,\n",
              "  0.8510646128143668,\n",
              "  0.13271899084134905,\n",
              "  0.008416534485318473],\n",
              " [0.16958409000256103,\n",
              "  0.7268097546983396,\n",
              "  0.7169731931594889,\n",
              "  0.008416534485318473],\n",
              " [-1.4516657593714872,\n",
              "  -3.019935001802769,\n",
              "  -0.7664624825585382,\n",
              "  -1.417457494428548],\n",
              " [-1.4516657593714872,\n",
              "  -3.372618436996542,\n",
              "  -0.7664624825585382,\n",
              "  -1.127987549510263]]"
            ]
          },
          "metadata": {}
        },
        {
          "output_type": "stream",
          "name": "stdout",
          "text": [
            "\n"
          ]
        },
        {
          "output_type": "display_data",
          "data": {
            "text/plain": [
              "[0.029497315267036507,\n",
              " 0.1981824616699875,\n",
              " 898.5894562684978,\n",
              " 799.8248327260042]"
            ]
          },
          "metadata": {}
        },
        {
          "output_type": "display_data",
          "data": {
            "text/plain": [
              "277"
            ]
          },
          "metadata": {}
        },
        {
          "output_type": "stream",
          "name": "stdout",
          "text": [
            "\n"
          ]
        },
        {
          "output_type": "display_data",
          "data": {
            "text/plain": [
              "[[0.16958409000256103,\n",
              "  0.8510646128143668,\n",
              "  0.13271899084134905,\n",
              "  0.008416534485318473],\n",
              " [0.16958409000256103,\n",
              "  0.7268097546983396,\n",
              "  0.7169731931594889,\n",
              "  0.008416534485318473],\n",
              " [-1.4516657593714872,\n",
              "  -3.019935001802769,\n",
              "  -0.7664624825585382,\n",
              "  -1.417457494428548],\n",
              " [-1.4516657593714872,\n",
              "  -3.372618436996542,\n",
              "  -0.7664624825585382,\n",
              "  -1.127987549510263]]"
            ]
          },
          "metadata": {}
        },
        {
          "output_type": "stream",
          "name": "stdout",
          "text": [
            "\n"
          ]
        },
        {
          "output_type": "display_data",
          "data": {
            "text/plain": [
              "[0.029497315267036507,\n",
              " 0.1981824616699875,\n",
              " 799.8248327260042,\n",
              " 898.5894562684978]"
            ]
          },
          "metadata": {}
        },
        {
          "output_type": "display_data",
          "data": {
            "text/plain": [
              "278"
            ]
          },
          "metadata": {}
        },
        {
          "output_type": "stream",
          "name": "stdout",
          "text": [
            "\n"
          ]
        },
        {
          "output_type": "display_data",
          "data": {
            "text/plain": [
              "[[0.16958409000256103,\n",
              "  0.8510646128143668,\n",
              "  0.13271899084134905,\n",
              "  0.008416534485318473],\n",
              " [0.16958409000256103,\n",
              "  0.7268097546983396,\n",
              "  0.7169731931594889,\n",
              "  0.008416534485318473],\n",
              " [-1.4516657593714872,\n",
              "  -2.7448725751739422,\n",
              "  -0.7664624825585382,\n",
              "  -1.417457494428548],\n",
              " [-1.4516657593714872,\n",
              "  -3.019935001802769,\n",
              "  -0.7664624825585382,\n",
              "  -1.417457494428548]]"
            ]
          },
          "metadata": {}
        },
        {
          "output_type": "stream",
          "name": "stdout",
          "text": [
            "\n"
          ]
        },
        {
          "output_type": "display_data",
          "data": {
            "text/plain": [
              "[0.029497315267036507,\n",
              " 0.1981824616699875,\n",
              " 715.5681303896854,\n",
              " 799.8248327260042]"
            ]
          },
          "metadata": {}
        },
        {
          "output_type": "display_data",
          "data": {
            "text/plain": [
              "279"
            ]
          },
          "metadata": {}
        },
        {
          "output_type": "stream",
          "name": "stdout",
          "text": [
            "\n"
          ]
        },
        {
          "output_type": "display_data",
          "data": {
            "text/plain": [
              "[[0.16958409000256103,\n",
              "  0.8510646128143668,\n",
              "  0.13271899084134905,\n",
              "  0.008416534485318473],\n",
              " [0.16958409000256103,\n",
              "  0.7268097546983396,\n",
              "  0.7169731931594889,\n",
              "  0.008416534485318473],\n",
              " [-1.4516657593714872,\n",
              "  -2.7448725751739422,\n",
              "  -0.7664624825585382,\n",
              "  -1.417457494428548],\n",
              " [-1.4516657593714872,\n",
              "  -2.7448725751739422,\n",
              "  -1.627793846611002,\n",
              "  -1.417457494428548]]"
            ]
          },
          "metadata": {}
        },
        {
          "output_type": "stream",
          "name": "stdout",
          "text": [
            "\n"
          ]
        },
        {
          "output_type": "display_data",
          "data": {
            "text/plain": [
              "[0.029497315267036507,\n",
              " 0.1981824616699875,\n",
              " 759.0526168988811,\n",
              " 715.5681303896854]"
            ]
          },
          "metadata": {}
        },
        {
          "output_type": "display_data",
          "data": {
            "text/plain": [
              "280"
            ]
          },
          "metadata": {}
        },
        {
          "output_type": "stream",
          "name": "stdout",
          "text": [
            "\n"
          ]
        },
        {
          "output_type": "display_data",
          "data": {
            "text/plain": [
              "[[0.16958409000256103,\n",
              "  0.8510646128143668,\n",
              "  0.13271899084134905,\n",
              "  0.008416534485318473],\n",
              " [0.16958409000256103,\n",
              "  0.7268097546983396,\n",
              "  0.7169731931594889,\n",
              "  0.008416534485318473],\n",
              " [-1.4516657593714872,\n",
              "  -2.7448725751739422,\n",
              "  -0.7664624825585382,\n",
              "  -1.417457494428548],\n",
              " [-1.4516657593714872,\n",
              "  -2.7448725751739422,\n",
              "  -0.7664624825585382,\n",
              "  -1.417457494428548]]"
            ]
          },
          "metadata": {}
        },
        {
          "output_type": "stream",
          "name": "stdout",
          "text": [
            "\n"
          ]
        },
        {
          "output_type": "display_data",
          "data": {
            "text/plain": [
              "[0.029497315267036507,\n",
              " 0.1981824616699875,\n",
              " 715.5681303896854,\n",
              " 715.5681303896854]"
            ]
          },
          "metadata": {}
        },
        {
          "output_type": "display_data",
          "data": {
            "text/plain": [
              "281"
            ]
          },
          "metadata": {}
        },
        {
          "output_type": "stream",
          "name": "stdout",
          "text": [
            "\n"
          ]
        },
        {
          "output_type": "display_data",
          "data": {
            "text/plain": [
              "[[0.16958409000256103,\n",
              "  0.8510646128143668,\n",
              "  0.13271899084134905,\n",
              "  0.008416534485318473],\n",
              " [0.16958409000256103,\n",
              "  0.7268097546983396,\n",
              "  0.7169731931594889,\n",
              "  0.008416534485318473],\n",
              " [-1.4516657593714872,\n",
              "  -2.7448725751739422,\n",
              "  -0.7664624825585382,\n",
              "  -1.417457494428548],\n",
              " [-1.4516657593714872,\n",
              "  -2.7448725751739422,\n",
              "  -0.7664624825585382,\n",
              "  -1.9546448174385092]]"
            ]
          },
          "metadata": {}
        },
        {
          "output_type": "stream",
          "name": "stdout",
          "text": [
            "\n"
          ]
        },
        {
          "output_type": "display_data",
          "data": {
            "text/plain": [
              "[0.029497315267036507,\n",
              " 0.1981824616699875,\n",
              " 742.5140139646527,\n",
              " 715.5681303896854]"
            ]
          },
          "metadata": {}
        },
        {
          "output_type": "display_data",
          "data": {
            "text/plain": [
              "282"
            ]
          },
          "metadata": {}
        },
        {
          "output_type": "stream",
          "name": "stdout",
          "text": [
            "\n"
          ]
        },
        {
          "output_type": "display_data",
          "data": {
            "text/plain": [
              "[[0.16958409000256103,\n",
              "  0.8510646128143668,\n",
              "  0.13271899084134905,\n",
              "  0.008416534485318473],\n",
              " [0.16958409000256103,\n",
              "  0.7268097546983396,\n",
              "  0.7169731931594889,\n",
              "  0.008416534485318473],\n",
              " [-1.4516657593714872,\n",
              "  -2.7448725751739422,\n",
              "  -0.7664624825585382,\n",
              "  -1.417457494428548],\n",
              " [-1.4516657593714872,\n",
              "  -2.7448725751739422,\n",
              "  -0.7664624825585382,\n",
              "  -1.417457494428548]]"
            ]
          },
          "metadata": {}
        },
        {
          "output_type": "stream",
          "name": "stdout",
          "text": [
            "\n"
          ]
        },
        {
          "output_type": "display_data",
          "data": {
            "text/plain": [
              "[0.029497315267036507,\n",
              " 0.1981824616699875,\n",
              " 715.5681303896854,\n",
              " 715.5681303896854]"
            ]
          },
          "metadata": {}
        },
        {
          "output_type": "display_data",
          "data": {
            "text/plain": [
              "283"
            ]
          },
          "metadata": {}
        },
        {
          "output_type": "stream",
          "name": "stdout",
          "text": [
            "\n"
          ]
        },
        {
          "output_type": "display_data",
          "data": {
            "text/plain": [
              "[[0.16958409000256103,\n",
              "  0.8510646128143668,\n",
              "  0.13271899084134905,\n",
              "  0.008416534485318473],\n",
              " [0.16958409000256103,\n",
              "  0.7268097546983396,\n",
              "  0.7169731931594889,\n",
              "  0.008416534485318473],\n",
              " [-1.4516657593714872,\n",
              "  -2.7448725751739422,\n",
              "  -0.7664624825585382,\n",
              "  -1.417457494428548],\n",
              " [-1.4516657593714872,\n",
              "  -2.7448725751739422,\n",
              "  -0.7664624825585382,\n",
              "  -1.417457494428548]]"
            ]
          },
          "metadata": {}
        },
        {
          "output_type": "stream",
          "name": "stdout",
          "text": [
            "\n"
          ]
        },
        {
          "output_type": "display_data",
          "data": {
            "text/plain": [
              "[0.029497315267036507,\n",
              " 0.1981824616699875,\n",
              " 715.5681303896854,\n",
              " 715.5681303896854]"
            ]
          },
          "metadata": {}
        },
        {
          "output_type": "display_data",
          "data": {
            "text/plain": [
              "284"
            ]
          },
          "metadata": {}
        },
        {
          "output_type": "stream",
          "name": "stdout",
          "text": [
            "\n"
          ]
        },
        {
          "output_type": "display_data",
          "data": {
            "text/plain": [
              "[[0.16958409000256103,\n",
              "  0.8510646128143668,\n",
              "  0.13271899084134905,\n",
              "  0.008416534485318473],\n",
              " [0.16958409000256103,\n",
              "  0.7268097546983396,\n",
              "  0.7169731931594889,\n",
              "  0.008416534485318473],\n",
              " [-1.4516657593714872,\n",
              "  -2.7448725751739422,\n",
              "  -0.7664624825585382,\n",
              "  -1.417457494428548],\n",
              " [-1.4516657593714872,\n",
              "  -2.7448725751739422,\n",
              "  -0.7664624825585382,\n",
              "  -1.417457494428548]]"
            ]
          },
          "metadata": {}
        },
        {
          "output_type": "stream",
          "name": "stdout",
          "text": [
            "\n"
          ]
        },
        {
          "output_type": "display_data",
          "data": {
            "text/plain": [
              "[0.029497315267036507,\n",
              " 0.1981824616699875,\n",
              " 715.5681303896854,\n",
              " 715.5681303896854]"
            ]
          },
          "metadata": {}
        },
        {
          "output_type": "display_data",
          "data": {
            "text/plain": [
              "285"
            ]
          },
          "metadata": {}
        },
        {
          "output_type": "stream",
          "name": "stdout",
          "text": [
            "\n"
          ]
        },
        {
          "output_type": "display_data",
          "data": {
            "text/plain": [
              "[[0.16958409000256103,\n",
              "  0.8510646128143668,\n",
              "  0.13271899084134905,\n",
              "  0.008416534485318473],\n",
              " [0.16958409000256103,\n",
              "  0.7268097546983396,\n",
              "  0.7169731931594889,\n",
              "  0.008416534485318473],\n",
              " [-1.4516657593714872,\n",
              "  -2.7448725751739422,\n",
              "  -0.7664624825585382,\n",
              "  -1.417457494428548],\n",
              " [-1.4516657593714872,\n",
              "  -2.7448725751739422,\n",
              "  -0.7664624825585382,\n",
              "  -1.417457494428548]]"
            ]
          },
          "metadata": {}
        },
        {
          "output_type": "stream",
          "name": "stdout",
          "text": [
            "\n"
          ]
        },
        {
          "output_type": "display_data",
          "data": {
            "text/plain": [
              "[0.029497315267036507,\n",
              " 0.1981824616699875,\n",
              " 715.5681303896854,\n",
              " 715.5681303896854]"
            ]
          },
          "metadata": {}
        },
        {
          "output_type": "display_data",
          "data": {
            "text/plain": [
              "286"
            ]
          },
          "metadata": {}
        },
        {
          "output_type": "stream",
          "name": "stdout",
          "text": [
            "\n"
          ]
        },
        {
          "output_type": "display_data",
          "data": {
            "text/plain": [
              "[[0.16958409000256103,\n",
              "  0.8510646128143668,\n",
              "  0.13271899084134905,\n",
              "  0.008416534485318473],\n",
              " [0.16958409000256103,\n",
              "  0.7268097546983396,\n",
              "  0.7169731931594889,\n",
              "  0.008416534485318473],\n",
              " [-1.4516657593714872,\n",
              "  -1.9515906953228122,\n",
              "  -0.7664624825585382,\n",
              "  -1.417457494428548],\n",
              " [-1.4516657593714872,\n",
              "  -2.7448725751739422,\n",
              "  -0.7664624825585382,\n",
              "  -1.417457494428548]]"
            ]
          },
          "metadata": {}
        },
        {
          "output_type": "stream",
          "name": "stdout",
          "text": [
            "\n"
          ]
        },
        {
          "output_type": "display_data",
          "data": {
            "text/plain": [
              "[0.029497315267036507,\n",
              " 0.1981824616699875,\n",
              " 498.8521553352406,\n",
              " 715.5681303896854]"
            ]
          },
          "metadata": {}
        },
        {
          "output_type": "display_data",
          "data": {
            "text/plain": [
              "287"
            ]
          },
          "metadata": {}
        },
        {
          "output_type": "stream",
          "name": "stdout",
          "text": [
            "\n"
          ]
        },
        {
          "output_type": "display_data",
          "data": {
            "text/plain": [
              "[[0.16958409000256103,\n",
              "  0.8510646128143668,\n",
              "  0.13271899084134905,\n",
              "  0.008416534485318473],\n",
              " [0.16958409000256103,\n",
              "  0.7268097546983396,\n",
              "  0.7169731931594889,\n",
              "  0.008416534485318473],\n",
              " [-1.4516657593714872,\n",
              "  -1.9515906953228122,\n",
              "  -0.7664624825585382,\n",
              "  -0.8716489052010579],\n",
              " [-1.4516657593714872,\n",
              "  -2.7448725751739422,\n",
              "  -0.7664624825585382,\n",
              "  -1.417457494428548]]"
            ]
          },
          "metadata": {}
        },
        {
          "output_type": "stream",
          "name": "stdout",
          "text": [
            "\n"
          ]
        },
        {
          "output_type": "display_data",
          "data": {
            "text/plain": [
              "[0.029497315267036507, 0.1981824616699875, 476.481325060559, 715.5681303896854]"
            ]
          },
          "metadata": {}
        },
        {
          "output_type": "display_data",
          "data": {
            "text/plain": [
              "288"
            ]
          },
          "metadata": {}
        },
        {
          "output_type": "stream",
          "name": "stdout",
          "text": [
            "\n"
          ]
        },
        {
          "output_type": "display_data",
          "data": {
            "text/plain": [
              "[[0.16958409000256103,\n",
              "  0.8510646128143668,\n",
              "  0.13271899084134905,\n",
              "  0.008416534485318473],\n",
              " [0.16958409000256103,\n",
              "  0.7268097546983396,\n",
              "  0.7169731931594889,\n",
              "  0.008416534485318473],\n",
              " [-1.4516657593714872,\n",
              "  -1.9515906953228122,\n",
              "  -0.7664624825585382,\n",
              "  -1.417457494428548],\n",
              " [-1.4516657593714872,\n",
              "  -2.7448725751739422,\n",
              "  -0.7664624825585382,\n",
              "  -0.8716489052010579]]"
            ]
          },
          "metadata": {}
        },
        {
          "output_type": "stream",
          "name": "stdout",
          "text": [
            "\n"
          ]
        },
        {
          "output_type": "display_data",
          "data": {
            "text/plain": [
              "[0.029497315267036507,\n",
              " 0.1981824616699875,\n",
              " 498.8521553352406,\n",
              " 688.7809034652508]"
            ]
          },
          "metadata": {}
        },
        {
          "output_type": "display_data",
          "data": {
            "text/plain": [
              "289"
            ]
          },
          "metadata": {}
        },
        {
          "output_type": "stream",
          "name": "stdout",
          "text": [
            "\n"
          ]
        },
        {
          "output_type": "display_data",
          "data": {
            "text/plain": [
              "[[0.16958409000256103,\n",
              "  0.8510646128143668,\n",
              "  0.13271899084134905,\n",
              "  0.008416534485318473],\n",
              " [0.16958409000256103,\n",
              "  0.7268097546983396,\n",
              "  0.7169731931594889,\n",
              "  0.008416534485318473],\n",
              " [-1.4516657593714872,\n",
              "  -1.9515906953228122,\n",
              "  -1.0168587568092948,\n",
              "  -0.8716489052010579],\n",
              " [-1.4516657593714872,\n",
              "  -2.7448725751739422,\n",
              "  -0.7664624825585382,\n",
              "  -1.417457494428548]]"
            ]
          },
          "metadata": {}
        },
        {
          "output_type": "stream",
          "name": "stdout",
          "text": [
            "\n"
          ]
        },
        {
          "output_type": "display_data",
          "data": {
            "text/plain": [
              "[0.029497315267036507,\n",
              " 0.1981824616699875,\n",
              " 486.6702431593579,\n",
              " 715.5681303896854]"
            ]
          },
          "metadata": {}
        },
        {
          "output_type": "display_data",
          "data": {
            "text/plain": [
              "290"
            ]
          },
          "metadata": {}
        },
        {
          "output_type": "stream",
          "name": "stdout",
          "text": [
            "\n"
          ]
        },
        {
          "output_type": "display_data",
          "data": {
            "text/plain": [
              "[[0.16958409000256103,\n",
              "  0.8510646128143668,\n",
              "  0.13271899084134905,\n",
              "  0.008416534485318473],\n",
              " [0.16958409000256103,\n",
              "  0.7268097546983396,\n",
              "  0.7169731931594889,\n",
              "  0.008416534485318473],\n",
              " [-1.4516657593714872,\n",
              "  -1.9515906953228122,\n",
              "  -1.0168587568092948,\n",
              "  -0.8716489052010579],\n",
              " [-2.0144892120334705,\n",
              "  -1.9515906953228122,\n",
              "  -1.0168587568092948,\n",
              "  -0.8716489052010579]]"
            ]
          },
          "metadata": {}
        },
        {
          "output_type": "stream",
          "name": "stdout",
          "text": [
            "\n"
          ]
        },
        {
          "output_type": "display_data",
          "data": {
            "text/plain": [
              "[0.029497315267036507,\n",
              " 0.1981824616699875,\n",
              " 557.0019094726811,\n",
              " 486.6702431593579]"
            ]
          },
          "metadata": {}
        },
        {
          "output_type": "display_data",
          "data": {
            "text/plain": [
              "291"
            ]
          },
          "metadata": {}
        },
        {
          "output_type": "stream",
          "name": "stdout",
          "text": [
            "\n"
          ]
        },
        {
          "output_type": "display_data",
          "data": {
            "text/plain": [
              "[[0.16958409000256103,\n",
              "  0.8510646128143668,\n",
              "  0.13271899084134905,\n",
              "  0.008416534485318473],\n",
              " [0.16958409000256103,\n",
              "  0.7268097546983396,\n",
              "  0.7169731931594889,\n",
              "  0.008416534485318473],\n",
              " [-2.0144892120334705,\n",
              "  -1.9515906953228122,\n",
              "  -1.0168587568092948,\n",
              "  -0.8716489052010579],\n",
              " [-2.0144892120334705,\n",
              "  -1.9515906953228122,\n",
              "  -1.0168587568092948,\n",
              "  -0.8716489052010579]]"
            ]
          },
          "metadata": {}
        },
        {
          "output_type": "stream",
          "name": "stdout",
          "text": [
            "\n"
          ]
        },
        {
          "output_type": "display_data",
          "data": {
            "text/plain": [
              "[0.029497315267036507,\n",
              " 0.1981824616699875,\n",
              " 557.0019094726811,\n",
              " 557.0019094726811]"
            ]
          },
          "metadata": {}
        },
        {
          "output_type": "display_data",
          "data": {
            "text/plain": [
              "292"
            ]
          },
          "metadata": {}
        },
        {
          "output_type": "stream",
          "name": "stdout",
          "text": [
            "\n"
          ]
        },
        {
          "output_type": "display_data",
          "data": {
            "text/plain": [
              "[[0.16958409000256103,\n",
              "  0.8510646128143668,\n",
              "  0.13271899084134905,\n",
              "  0.008416534485318473],\n",
              " [0.16958409000256103,\n",
              "  0.7268097546983396,\n",
              "  0.7169731931594889,\n",
              "  0.008416534485318473],\n",
              " [-2.0144892120334705,\n",
              "  -1.9515906953228122,\n",
              "  -1.0168587568092948,\n",
              "  -0.8716489052010579],\n",
              " [-2.0144892120334705,\n",
              "  -1.9515906953228122,\n",
              "  -1.0168587568092948,\n",
              "  -0.8716489052010579]]"
            ]
          },
          "metadata": {}
        },
        {
          "output_type": "stream",
          "name": "stdout",
          "text": [
            "\n"
          ]
        },
        {
          "output_type": "display_data",
          "data": {
            "text/plain": [
              "[0.029497315267036507,\n",
              " 0.1981824616699875,\n",
              " 557.0019094726811,\n",
              " 557.0019094726811]"
            ]
          },
          "metadata": {}
        },
        {
          "output_type": "display_data",
          "data": {
            "text/plain": [
              "293"
            ]
          },
          "metadata": {}
        },
        {
          "output_type": "stream",
          "name": "stdout",
          "text": [
            "\n"
          ]
        },
        {
          "output_type": "display_data",
          "data": {
            "text/plain": [
              "[[0.16958409000256103,\n",
              "  0.8510646128143668,\n",
              "  0.13271899084134905,\n",
              "  0.008416534485318473],\n",
              " [0.16958409000256103,\n",
              "  0.7268097546983396,\n",
              "  0.7169731931594889,\n",
              "  0.008416534485318473],\n",
              " [-2.0144892120334705,\n",
              "  -1.9515906953228122,\n",
              "  -1.0168587568092948,\n",
              "  -0.8716489052010579],\n",
              " [-2.0144892120334705,\n",
              "  -2.9488635122008025,\n",
              "  -1.0168587568092948,\n",
              "  -0.8716489052010579]]"
            ]
          },
          "metadata": {}
        },
        {
          "output_type": "stream",
          "name": "stdout",
          "text": [
            "\n"
          ]
        },
        {
          "output_type": "display_data",
          "data": {
            "text/plain": [
              "[0.029497315267036507, 0.1981824616699875, 849.868807743253, 557.0019094726811]"
            ]
          },
          "metadata": {}
        },
        {
          "output_type": "display_data",
          "data": {
            "text/plain": [
              "294"
            ]
          },
          "metadata": {}
        },
        {
          "output_type": "stream",
          "name": "stdout",
          "text": [
            "\n"
          ]
        },
        {
          "output_type": "display_data",
          "data": {
            "text/plain": [
              "[[0.16958409000256103,\n",
              "  0.8510646128143668,\n",
              "  0.13271899084134905,\n",
              "  0.008416534485318473],\n",
              " [0.16958409000256103,\n",
              "  0.7268097546983396,\n",
              "  0.7169731931594889,\n",
              "  0.008416534485318473],\n",
              " [-2.0144892120334705,\n",
              "  -1.9515906953228122,\n",
              "  -1.0168587568092948,\n",
              "  -0.8716489052010579],\n",
              " [-2.0144892120334705,\n",
              "  -1.9515906953228122,\n",
              "  -1.0168587568092948,\n",
              "  -0.8716489052010579]]"
            ]
          },
          "metadata": {}
        },
        {
          "output_type": "stream",
          "name": "stdout",
          "text": [
            "\n"
          ]
        },
        {
          "output_type": "display_data",
          "data": {
            "text/plain": [
              "[0.029497315267036507,\n",
              " 0.1981824616699875,\n",
              " 557.0019094726811,\n",
              " 557.0019094726811]"
            ]
          },
          "metadata": {}
        },
        {
          "output_type": "display_data",
          "data": {
            "text/plain": [
              "295"
            ]
          },
          "metadata": {}
        },
        {
          "output_type": "stream",
          "name": "stdout",
          "text": [
            "\n"
          ]
        },
        {
          "output_type": "display_data",
          "data": {
            "text/plain": [
              "[[0.16958409000256103,\n",
              "  0.8510646128143668,\n",
              "  0.13271899084134905,\n",
              "  0.008416534485318473],\n",
              " [0.16958409000256103,\n",
              "  0.7268097546983396,\n",
              "  0.7169731931594889,\n",
              "  0.008416534485318473],\n",
              " [-2.0144892120334705,\n",
              "  -1.9515906953228122,\n",
              "  -1.0168587568092948,\n",
              "  -0.8716489052010579],\n",
              " [-2.0144892120334705,\n",
              "  -1.9515906953228122,\n",
              "  -1.0168587568092948,\n",
              "  -0.8716489052010579]]"
            ]
          },
          "metadata": {}
        },
        {
          "output_type": "stream",
          "name": "stdout",
          "text": [
            "\n"
          ]
        },
        {
          "output_type": "display_data",
          "data": {
            "text/plain": [
              "[0.029497315267036507,\n",
              " 0.1981824616699875,\n",
              " 557.0019094726811,\n",
              " 557.0019094726811]"
            ]
          },
          "metadata": {}
        },
        {
          "output_type": "display_data",
          "data": {
            "text/plain": [
              "296"
            ]
          },
          "metadata": {}
        },
        {
          "output_type": "stream",
          "name": "stdout",
          "text": [
            "\n"
          ]
        },
        {
          "output_type": "display_data",
          "data": {
            "text/plain": [
              "[[0.16958409000256103,\n",
              "  0.8510646128143668,\n",
              "  0.13271899084134905,\n",
              "  0.008416534485318473],\n",
              " [0.16958409000256103,\n",
              "  0.7268097546983396,\n",
              "  0.7169731931594889,\n",
              "  0.008416534485318473],\n",
              " [-2.0144892120334705,\n",
              "  -1.9515906953228122,\n",
              "  -1.0168587568092948,\n",
              "  -0.8716489052010579],\n",
              " [-2.0144892120334705,\n",
              "  -1.9515906953228122,\n",
              "  -1.0168587568092948,\n",
              "  -0.8716489052010579]]"
            ]
          },
          "metadata": {}
        },
        {
          "output_type": "stream",
          "name": "stdout",
          "text": [
            "\n"
          ]
        },
        {
          "output_type": "display_data",
          "data": {
            "text/plain": [
              "[0.029497315267036507,\n",
              " 0.1981824616699875,\n",
              " 557.0019094726811,\n",
              " 557.0019094726811]"
            ]
          },
          "metadata": {}
        },
        {
          "output_type": "display_data",
          "data": {
            "text/plain": [
              "297"
            ]
          },
          "metadata": {}
        },
        {
          "output_type": "stream",
          "name": "stdout",
          "text": [
            "\n"
          ]
        },
        {
          "output_type": "display_data",
          "data": {
            "text/plain": [
              "[[0.16958409000256103,\n",
              "  0.8510646128143668,\n",
              "  0.13271899084134905,\n",
              "  0.008416534485318473],\n",
              " [0.16958409000256103,\n",
              "  0.7268097546983396,\n",
              "  0.7169731931594889,\n",
              "  0.008416534485318473],\n",
              " [-2.0144892120334705,\n",
              "  -1.9515906953228122,\n",
              "  -1.0168587568092948,\n",
              "  -0.8716489052010579],\n",
              " [-2.0144892120334705,\n",
              "  -1.9515906953228122,\n",
              "  -1.0168587568092948,\n",
              "  -0.8716489052010579]]"
            ]
          },
          "metadata": {}
        },
        {
          "output_type": "stream",
          "name": "stdout",
          "text": [
            "\n"
          ]
        },
        {
          "output_type": "display_data",
          "data": {
            "text/plain": [
              "[0.029497315267036507,\n",
              " 0.1981824616699875,\n",
              " 557.0019094726811,\n",
              " 557.0019094726811]"
            ]
          },
          "metadata": {}
        },
        {
          "output_type": "display_data",
          "data": {
            "text/plain": [
              "298"
            ]
          },
          "metadata": {}
        },
        {
          "output_type": "stream",
          "name": "stdout",
          "text": [
            "\n"
          ]
        },
        {
          "output_type": "display_data",
          "data": {
            "text/plain": [
              "[[0.16958409000256103,\n",
              "  0.8510646128143668,\n",
              "  0.13271899084134905,\n",
              "  0.008416534485318473],\n",
              " [0.16958409000256103,\n",
              "  0.7268097546983396,\n",
              "  0.7169731931594889,\n",
              "  0.008416534485318473],\n",
              " [-2.0144892120334705,\n",
              "  -1.9515906953228122,\n",
              "  -1.0168587568092948,\n",
              "  -0.11966174690925735],\n",
              " [-2.0144892120334705,\n",
              "  -1.9515906953228122,\n",
              "  -1.0168587568092948,\n",
              "  -0.8716489052010579]]"
            ]
          },
          "metadata": {}
        },
        {
          "output_type": "stream",
          "name": "stdout",
          "text": [
            "\n"
          ]
        },
        {
          "output_type": "display_data",
          "data": {
            "text/plain": [
              "[0.029497315267036507,\n",
              " 0.1981824616699875,\n",
              " 524.6636798263611,\n",
              " 557.0019094726811]"
            ]
          },
          "metadata": {}
        },
        {
          "output_type": "display_data",
          "data": {
            "text/plain": [
              "299"
            ]
          },
          "metadata": {}
        },
        {
          "output_type": "stream",
          "name": "stdout",
          "text": [
            "\n"
          ]
        },
        {
          "output_type": "display_data",
          "data": {
            "text/plain": [
              "[[0.16958409000256103,\n",
              "  0.8510646128143668,\n",
              "  0.13271899084134905,\n",
              "  0.008416534485318473],\n",
              " [0.16958409000256103,\n",
              "  0.7268097546983396,\n",
              "  0.7169731931594889,\n",
              "  0.008416534485318473],\n",
              " [-2.0144892120334705,\n",
              "  -1.9632845672077022,\n",
              "  -1.0168587568092948,\n",
              "  -0.11966174690925735],\n",
              " [-2.0144892120334705,\n",
              "  -1.9515906953228122,\n",
              "  -1.0168587568092948,\n",
              "  -0.8716489052010579]]"
            ]
          },
          "metadata": {}
        },
        {
          "output_type": "stream",
          "name": "stdout",
          "text": [
            "\n"
          ]
        },
        {
          "output_type": "display_data",
          "data": {
            "text/plain": [
              "[0.029497315267036507,\n",
              " 0.1981824616699875,\n",
              " 527.6507006233962,\n",
              " 557.0019094726811]"
            ]
          },
          "metadata": {}
        },
        {
          "output_type": "stream",
          "name": "stdout",
          "text": [
            "best solution: [0.16958409000256103, 0.8510646128143668, 0.13271899084134905, 0.008416534485318473]\n",
            "Fitness: 0.029497315267036507\n",
            "Y_hat: [2.097955302239399, 3.9696686178706937, 5.841381933501989, 7.713095249133284]\n"
          ]
        }
      ]
    },
    {
      "cell_type": "code",
      "source": [
        "import matplotlib.pyplot as plt #gráficas\n",
        "import matplotlib as mpl\n",
        "import seaborn as sns #gráficas\n",
        "plt.style.use('ggplot') #estilo de graficas\n",
        "\n",
        "mse_GA = mse(Y_bar[0],Y)\n",
        "T = list(range(len(Y)))\n",
        "\n",
        "# Plot data and results\n",
        "plt.figure(figsize = (12, 6));\n",
        "plt.plot(T, Y, '-o', label='Y')\n",
        "plt.plot(T, Y_bar[0], '-o', label='$\\hat{Y}_{GA}$')\n",
        "plt.xticks(fontsize = 15);\n",
        "plt.yticks(fontsize = 15);\n",
        "plt.xlabel('index', fontsize = 15);\n",
        "plt.ylabel('y', fontsize = 15);\n",
        "plt.legend()\n",
        "plt.title('MSE =' + str(round(mse_GA, 4)), fontsize = 15);"
      ],
      "metadata": {
        "colab": {
          "base_uri": "https://localhost:8080/",
          "height": 416
        },
        "id": "mFMxXh0Xen5z",
        "outputId": "004a9018-9d3f-4c05-d313-81dacffaf944"
      },
      "execution_count": 33,
      "outputs": [
        {
          "output_type": "display_data",
          "data": {
            "text/plain": [
              "<Figure size 864x432 with 1 Axes>"
            ],
            "image/png": "[encoded data removed]"
          },
          "metadata": {}
        }
      ]
    },
    {
      "cell_type": "code",
      "source": [
        "# Plot model fit\n",
        "\n",
        "plt.figure(figsize = (12, 6));\n",
        "plt.plot(Y, Y_bar[0], 'o')\n",
        "plt.xticks(fontsize = 15);\n",
        "plt.yticks(fontsize = 15);\n",
        "plt.xlabel('Y', fontsize = 15);\n",
        "plt.ylabel('$\\hat{Y}_{GA}$', fontsize = 15);\n",
        "RES = sum([(Y[i] - Y_bar[0][i])**2 for i in range(len(Y))]) # residual error\n",
        "TOT = sum([(Y[i] - np.mean(Y))**2 for i in range(len(Y))]) # total error\n",
        "R2 = 1-(RES/TOT) # definition of R2 metric\n",
        "plt.title('$R^2$ =' + str(round(R2, 4)), fontsize = 15);\n",
        "\n",
        "#obtain m (slope) and b(intercept) of linear regression line\n",
        "m, b = np.polyfit(Y, Y_bar[0], 1);\n",
        "\n",
        "#add linear regression line to scatterplot \n",
        "plt.plot(Y, [m*i+b for i in Y], '--');"
      ],
      "metadata": {
        "colab": {
          "base_uri": "https://localhost:8080/",
          "height": 420
        },
        "id": "p3P3Sn_4BZiP",
        "outputId": "9380ec83-5478-445a-f42f-c2d40ed772fe"
      },
      "execution_count": 34,
      "outputs": [
        {
          "output_type": "display_data",
          "data": {
            "text/plain": [
              "<Figure size 864x432 with 1 Axes>"
            ],
            "image/png": "[encoded data removed]"
          },
          "metadata": {}
        }
      ]
    }
  ]
}