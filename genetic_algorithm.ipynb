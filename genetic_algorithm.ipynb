{
  "nbformat": 4,
  "nbformat_minor": 0,
  "metadata": {
    "colab": {
      "name": "genetic_algorithm.ipynb",
      "provenance": [],
      "collapsed_sections": [],
      "authorship_tag": "ABX9TyN92Rn+1Hx8cQw9KQ7v9xYW",
      "include_colab_link": true
    },
    "kernelspec": {
      "name": "python3",
      "display_name": "Python 3"
    },
    "language_info": {
      "name": "python"
    }
  },
  "cells": [
    {
      "cell_type": "markdown",
      "metadata": {
        "id": "view-in-github",
        "colab_type": "text"
      },
      "source": [
        "<a href=\"https://colab.research.google.com/github/scardenol/RP_argos/blob/main/genetic_algorithm.ipynb\" target=\"_parent\"><img src=\"https://colab.research.google.com/assets/colab-badge.svg\" alt=\"Open In Colab\"/></a>"
      ]
    },
    {
      "cell_type": "code",
      "execution_count": 14,
      "metadata": {
        "id": "0FNHo4eQcNA-"
      },
      "outputs": [],
      "source": [
        "import numpy as np\n",
        "import random\n",
        "# np.random.seed(42)\n",
        "\n",
        "# array: np.array, [list, ..., list], list\n",
        "\n",
        "def generate_population(P_size: 'tuple') -> 'array':\n",
        "  P = 0.1*np.random.chisquare(df=1, size=P_size) # Initial population\n",
        "  return P.tolist()\n",
        "\n",
        "def mse(A: 'array', B: 'array') -> float: # Cleanest way to calculate MSE\n",
        "  return np.square(np.subtract(A, B)).mean()\n",
        "\n",
        "def fitness(X: 'array', Y: list, P: 'array', fun: 'function') -> list:\n",
        "  '''\n",
        "  X = [X1, X2, ..., Xn]: observations of predictors\n",
        "  Y: observations of variable of interest\n",
        "  P = [theta1, theta2, ..., thetan]: population (possible parameters)\n",
        "  '''\n",
        "  Y_bar = [[fun(*[item[i] for item in X], *P[j]) for i in range(len(X[0]))] for j in range(len(P))]\n",
        "  fitness = [mse(Y_bar[i], Y) for i in range(len(P))]\n",
        "  return fitness, Y_bar\n",
        "\n",
        "def selection(P: 'array', fitness: list) -> 'array':\n",
        "  return random.choices(population=P, weights=fitness, k=2)\n",
        "\n",
        "def crossover(x: list, y: list) -> 'Tuple' : # Single point\n",
        "  if len(x) != len(y):\n",
        "    raise ValueError(\"Parents x and y need to be of same length\")\n",
        "\n",
        "  length = len(x)\n",
        "\n",
        "  if length < 2:\n",
        "    return x, y\n",
        "\n",
        "  p = random.randint(1, length-1)\n",
        "  return x[0:p] + y[p:], y[0:p] + x[p:]\n",
        "\n",
        "def mutation(x: list, probability: float, num: int) -> list:\n",
        "  for _ in range(num):\n",
        "    index = random.randrange(len(x))\n",
        "    value = random.randint(1,1)*np.random.uniform(-1.0, 1.0, 1) # Uniform mutation\n",
        "    x[index] = x[index] if random.random() > probability else x[index] * value[0]\n",
        "  return x\n",
        "\n",
        "def evolution():\n",
        "  return"
      ]
    },
    {
      "cell_type": "code",
      "source": [
        "X = [[1,2,3,4], [2.1, 4.1, 6.1, 8.1]]\n",
        "Y = [2, 4, 6, 8]\n",
        "P = [[0.1, 0.2, 0.3, 0.4], [0, 1, 2, 3], [4, 3, 2, 1], [10, 8, 6, 4], [4, 6, 8, 10]]\n",
        "\n",
        "def fun(x1, x2, a, b, c, d):\n",
        "  return (a*x1 + b*x2 + c + d)\n",
        "\n",
        "fit, _ = fitness(X,Y,P,fun)\n",
        "generate_population(np.array(P).shape)\n",
        "sel = selection(P, fit)\n",
        "print(sel)\n",
        "x, y = crossover(sel[0], sel[1])\n",
        "print(x, y)\n",
        "mutation(x, 1, 1)\n",
        "lambda X, Y, P, fun: fitness(X,Y,P,fun)"
      ],
      "metadata": {
        "colab": {
          "base_uri": "https://localhost:8080/"
        },
        "id": "HljBhoPPsH1U",
        "outputId": "c561bc6a-2794-40f2-96a8-572e4ea86ff3"
      },
      "execution_count": 15,
      "outputs": [
        {
          "output_type": "stream",
          "name": "stdout",
          "text": [
            "[[10, 8, 6, 4], [4, 6, 8, 10]]\n",
            "[10, 8, 6, 10] [4, 6, 8, 4]\n"
          ]
        },
        {
          "output_type": "execute_result",
          "data": {
            "text/plain": [
              "<function __main__.<lambda>>"
            ]
          },
          "metadata": {},
          "execution_count": 15
        }
      ]
    },
    {
      "cell_type": "code",
      "source": [
        "m_prob = 0.5 # Probabilidad de mutación\n",
        "P = generate_population((5,4)) # (individuos, parámetros)\n",
        "generations = 200\n",
        "for i in range(generations):\n",
        "  fit, _ = fitness(X,Y,P,fun)\n",
        "  P = [a for _, a in sorted(zip(fit, P))] # Ordena la población de menor a mayor fitness\n",
        "  \n",
        "  next_generation = P[0:2] # Guarda los 2 mejores\n",
        "\n",
        "  for j in range(int(len(P) / 2) - 1):\n",
        "    parents = selection(P,fit)\n",
        "    x, y = crossover(parents[0], parents[1])\n",
        "    x = mutation(x, m_prob, 1)\n",
        "    next_generation += [x,y]\n",
        "\n",
        "  P = next_generation\n",
        "  fit, Y_bar = fitness(X,Y,P,fun)\n",
        "  P = [a for _, a in sorted(zip(fit, P))] # Ordena la población de menor a mayor fitness\n",
        "  display(i)\n",
        "  print('')\n",
        "  display(P)\n",
        "  print('')\n",
        "  display(fit)\n",
        "\n",
        "print(f'best solution: {P[0]}')\n",
        "print(f'Fitness: {fit[0]}')\n",
        "print(f'Y_hat: {Y_bar[0]}')"
      ],
      "metadata": {
        "colab": {
          "base_uri": "https://localhost:8080/",
          "height": 1000
        },
        "id": "ImPuuQd1U8zz",
        "outputId": "dfb476ca-11de-40e6-d365-8720f2533c8e"
      },
      "execution_count": 16,
      "outputs": [
        {
          "output_type": "display_data",
          "data": {
            "text/plain": [
              "0"
            ]
          },
          "metadata": {}
        },
        {
          "output_type": "stream",
          "name": "stdout",
          "text": [
            "\n"
          ]
        },
        {
          "output_type": "display_data",
          "data": {
            "text/plain": [
              "[[0.017993405573442988,\n",
              "  0.9857749665219719,\n",
              "  0.0338682504345929,\n",
              "  0.06868968943108826],\n",
              " [0.038608643025930145,\n",
              "  0.6008211125797206,\n",
              "  0.016820444246505247,\n",
              "  0.0022321489915459007],\n",
              " [0.0530579936786346,\n",
              "  0.24339035157762906,\n",
              "  0.0959845600191348,\n",
              "  0.004660569956653924],\n",
              " [0.0530579936786346,\n",
              "  0.24339035157762906,\n",
              "  0.0959845600191348,\n",
              "  0.004660569956653924]]"
            ]
          },
          "metadata": {}
        },
        {
          "output_type": "stream",
          "name": "stdout",
          "text": [
            "\n"
          ]
        },
        {
          "output_type": "display_data",
          "data": {
            "text/plain": [
              "[0.03075950131920962,\n",
              " 4.034790260967483,\n",
              " 15.093668568829543,\n",
              " 15.093668568829543]"
            ]
          },
          "metadata": {}
        },
        {
          "output_type": "display_data",
          "data": {
            "text/plain": [
              "1"
            ]
          },
          "metadata": {}
        },
        {
          "output_type": "stream",
          "name": "stdout",
          "text": [
            "\n"
          ]
        },
        {
          "output_type": "display_data",
          "data": {
            "text/plain": [
              "[[0.017993405573442988,\n",
              "  0.9857749665219719,\n",
              "  0.0338682504345929,\n",
              "  0.06868968943108826],\n",
              " [0.038608643025930145,\n",
              "  0.6008211125797206,\n",
              "  0.016820444246505247,\n",
              "  0.0022321489915459007],\n",
              " [0.02182169575628502,\n",
              "  0.6008211125797206,\n",
              "  0.016820444246505247,\n",
              "  0.004660569956653924],\n",
              " [0.0530579936786346,\n",
              "  0.24339035157762906,\n",
              "  0.0959845600191348,\n",
              "  0.0022321489915459007]]"
            ]
          },
          "metadata": {}
        },
        {
          "output_type": "stream",
          "name": "stdout",
          "text": [
            "\n"
          ]
        },
        {
          "output_type": "display_data",
          "data": {
            "text/plain": [
              "[0.03075950131920962,\n",
              " 4.034790260967483,\n",
              " 4.2125311111145916,\n",
              " 15.110796869329333]"
            ]
          },
          "metadata": {}
        },
        {
          "output_type": "display_data",
          "data": {
            "text/plain": [
              "2"
            ]
          },
          "metadata": {}
        },
        {
          "output_type": "stream",
          "name": "stdout",
          "text": [
            "\n"
          ]
        },
        {
          "output_type": "display_data",
          "data": {
            "text/plain": [
              "[[0.017993405573442988,\n",
              "  0.9857749665219719,\n",
              "  0.0338682504345929,\n",
              "  0.06868968943108826],\n",
              " [0.038608643025930145,\n",
              "  0.6008211125797206,\n",
              "  0.016820444246505247,\n",
              "  0.0022321489915459007],\n",
              " [0.0530579936786346,\n",
              "  0.24339035157762906,\n",
              "  0.0959845600191348,\n",
              "  0.0022321489915459007],\n",
              " [0.0530579936786346,\n",
              "  0.24339035157762906,\n",
              "  0.0959845600191348,\n",
              "  -0.0016539202667094771]]"
            ]
          },
          "metadata": {}
        },
        {
          "output_type": "stream",
          "name": "stdout",
          "text": [
            "\n"
          ]
        },
        {
          "output_type": "display_data",
          "data": {
            "text/plain": [
              "[0.03075950131920962,\n",
              " 4.034790260967483,\n",
              " 15.138230890405582,\n",
              " 15.110796869329333]"
            ]
          },
          "metadata": {}
        },
        {
          "output_type": "display_data",
          "data": {
            "text/plain": [
              "3"
            ]
          },
          "metadata": {}
        },
        {
          "output_type": "stream",
          "name": "stdout",
          "text": [
            "\n"
          ]
        },
        {
          "output_type": "display_data",
          "data": {
            "text/plain": [
              "[[0.017993405573442988,\n",
              "  0.9857749665219719,\n",
              "  0.0338682504345929,\n",
              "  0.06868968943108826],\n",
              " [0.0530579936786346,\n",
              "  0.6008211125797206,\n",
              "  0.016820444246505247,\n",
              "  0.0022321489915459007],\n",
              " [0.038608643025930145,\n",
              "  0.6008211125797206,\n",
              "  0.016820444246505247,\n",
              "  0.0022321489915459007],\n",
              " [0.038608643025930145,\n",
              "  0.24339035157762906,\n",
              "  0.0959845600191348,\n",
              "  -0.0016539202667094771]]"
            ]
          },
          "metadata": {}
        },
        {
          "output_type": "stream",
          "name": "stdout",
          "text": [
            "\n"
          ]
        },
        {
          "output_type": "display_data",
          "data": {
            "text/plain": [
              "[0.03075950131920962, 4.034790260967483, 3.877405140239766, 15.447699009873975]"
            ]
          },
          "metadata": {}
        },
        {
          "output_type": "display_data",
          "data": {
            "text/plain": [
              "4"
            ]
          },
          "metadata": {}
        },
        {
          "output_type": "stream",
          "name": "stdout",
          "text": [
            "\n"
          ]
        },
        {
          "output_type": "display_data",
          "data": {
            "text/plain": [
              "[[0.017993405573442988,\n",
              "  0.9857749665219719,\n",
              "  0.0338682504345929,\n",
              "  0.06868968943108826],\n",
              " [0.0530579936786346,\n",
              "  0.6008211125797206,\n",
              "  0.016820444246505247,\n",
              "  0.0022321489915459007],\n",
              " [0.0530579936786346,\n",
              "  0.6008211125797206,\n",
              "  0.016820444246505247,\n",
              "  0.0022321489915459007],\n",
              " [0.038608643025930145,\n",
              "  0.6008211125797206,\n",
              "  0.016820444246505247,\n",
              "  -0.001837162242669562]]"
            ]
          },
          "metadata": {}
        },
        {
          "output_type": "stream",
          "name": "stdout",
          "text": [
            "\n"
          ]
        },
        {
          "output_type": "display_data",
          "data": {
            "text/plain": [
              "[0.03075950131920962, 3.877405140239766, 4.0496210511637525, 3.877405140239766]"
            ]
          },
          "metadata": {}
        },
        {
          "output_type": "display_data",
          "data": {
            "text/plain": [
              "5"
            ]
          },
          "metadata": {}
        },
        {
          "output_type": "stream",
          "name": "stdout",
          "text": [
            "\n"
          ]
        },
        {
          "output_type": "display_data",
          "data": {
            "text/plain": [
              "[[0.017993405573442988,\n",
              "  0.9857749665219719,\n",
              "  0.0338682504345929,\n",
              "  0.06868968943108826],\n",
              " [0.0530579936786346,\n",
              "  0.6008211125797206,\n",
              "  0.016820444246505247,\n",
              "  0.0022321489915459007],\n",
              " [0.038608643025930145,\n",
              "  0.6008211125797206,\n",
              "  0.016820444246505247,\n",
              "  0.0022321489915459007],\n",
              " [0.029626846484605382,\n",
              "  0.6008211125797206,\n",
              "  0.016820444246505247,\n",
              "  -0.001837162242669562]]"
            ]
          },
          "metadata": {}
        },
        {
          "output_type": "stream",
          "name": "stdout",
          "text": [
            "\n"
          ]
        },
        {
          "output_type": "display_data",
          "data": {
            "text/plain": [
              "[0.03075950131920962, 3.877405140239766, 4.149213667600322, 4.034790260967483]"
            ]
          },
          "metadata": {}
        },
        {
          "output_type": "display_data",
          "data": {
            "text/plain": [
              "6"
            ]
          },
          "metadata": {}
        },
        {
          "output_type": "stream",
          "name": "stdout",
          "text": [
            "\n"
          ]
        },
        {
          "output_type": "display_data",
          "data": {
            "text/plain": [
              "[[0.017993405573442988,\n",
              "  0.9857749665219719,\n",
              "  0.0338682504345929,\n",
              "  0.06868968943108826],\n",
              " [0.0530579936786346,\n",
              "  0.6008211125797206,\n",
              "  0.016820444246505247,\n",
              "  0.0022321489915459007],\n",
              " [0.0530579936786346,\n",
              "  0.6008211125797206,\n",
              "  0.016820444246505247,\n",
              "  -0.001837162242669562],\n",
              " [0.029626846484605382,\n",
              "  0.6008211125797206,\n",
              "  0.016820444246505247,\n",
              "  0.0022321489915459007]]"
            ]
          },
          "metadata": {}
        },
        {
          "output_type": "stream",
          "name": "stdout",
          "text": [
            "\n"
          ]
        },
        {
          "output_type": "display_data",
          "data": {
            "text/plain": [
              "[0.03075950131920962, 3.877405140239766, 3.8919419359113445, 4.134200128776207]"
            ]
          },
          "metadata": {}
        },
        {
          "output_type": "display_data",
          "data": {
            "text/plain": [
              "7"
            ]
          },
          "metadata": {}
        },
        {
          "output_type": "stream",
          "name": "stdout",
          "text": [
            "\n"
          ]
        },
        {
          "output_type": "display_data",
          "data": {
            "text/plain": [
              "[[0.017993405573442988,\n",
              "  0.9857749665219719,\n",
              "  0.0338682504345929,\n",
              "  0.06868968943108826],\n",
              " [0.0530579936786346,\n",
              "  0.6008211125797206,\n",
              "  0.016820444246505247,\n",
              "  0.0022321489915459007],\n",
              " [0.0530579936786346,\n",
              "  0.6008211125797206,\n",
              "  0.016820444246505247,\n",
              "  -0.001837162242669562],\n",
              " [0.0530579936786346,\n",
              "  0.2699027081748492,\n",
              "  0.016820444246505247,\n",
              "  0.0022321489915459007]]"
            ]
          },
          "metadata": {}
        },
        {
          "output_type": "stream",
          "name": "stdout",
          "text": [
            "\n"
          ]
        },
        {
          "output_type": "display_data",
          "data": {
            "text/plain": [
              "[0.03075950131920962,\n",
              " 3.877405140239766,\n",
              " 14.528427323010442,\n",
              " 3.8919419359113445]"
            ]
          },
          "metadata": {}
        },
        {
          "output_type": "display_data",
          "data": {
            "text/plain": [
              "8"
            ]
          },
          "metadata": {}
        },
        {
          "output_type": "stream",
          "name": "stdout",
          "text": [
            "\n"
          ]
        },
        {
          "output_type": "display_data",
          "data": {
            "text/plain": [
              "[[0.017993405573442988,\n",
              "  0.9857749665219719,\n",
              "  0.0338682504345929,\n",
              "  0.06868968943108826],\n",
              " [0.0530579936786346,\n",
              "  0.6008211125797206,\n",
              "  0.016820444246505247,\n",
              "  0.0022321489915459007],\n",
              " [0.0530579936786346,\n",
              "  0.2699027081748492,\n",
              "  0.016820444246505247,\n",
              "  0.0022321489915459007],\n",
              " [0.0530579936786346,\n",
              "  0.2699027081748492,\n",
              "  0.016820444246505247,\n",
              "  0.0022321489915459007]]"
            ]
          },
          "metadata": {}
        },
        {
          "output_type": "stream",
          "name": "stdout",
          "text": [
            "\n"
          ]
        },
        {
          "output_type": "display_data",
          "data": {
            "text/plain": [
              "[0.03075950131920962,\n",
              " 3.877405140239766,\n",
              " 14.528427323010442,\n",
              " 14.528427323010442]"
            ]
          },
          "metadata": {}
        },
        {
          "output_type": "display_data",
          "data": {
            "text/plain": [
              "9"
            ]
          },
          "metadata": {}
        },
        {
          "output_type": "stream",
          "name": "stdout",
          "text": [
            "\n"
          ]
        },
        {
          "output_type": "display_data",
          "data": {
            "text/plain": [
              "[[0.017993405573442988,\n",
              "  0.9857749665219719,\n",
              "  0.0338682504345929,\n",
              "  0.06868968943108826],\n",
              " [0.0530579936786346,\n",
              "  0.6008211125797206,\n",
              "  0.016820444246505247,\n",
              "  0.0022321489915459007],\n",
              " [0.0530579936786346,\n",
              "  0.2699027081748492,\n",
              "  0.016820444246505247,\n",
              "  0.0022321489915459007],\n",
              " [0.0530579936786346,\n",
              "  0.2699027081748492,\n",
              "  0.016820444246505247,\n",
              "  0.0022321489915459007]]"
            ]
          },
          "metadata": {}
        },
        {
          "output_type": "stream",
          "name": "stdout",
          "text": [
            "\n"
          ]
        },
        {
          "output_type": "display_data",
          "data": {
            "text/plain": [
              "[0.03075950131920962,\n",
              " 3.877405140239766,\n",
              " 14.528427323010442,\n",
              " 14.528427323010442]"
            ]
          },
          "metadata": {}
        },
        {
          "output_type": "display_data",
          "data": {
            "text/plain": [
              "10"
            ]
          },
          "metadata": {}
        },
        {
          "output_type": "stream",
          "name": "stdout",
          "text": [
            "\n"
          ]
        },
        {
          "output_type": "display_data",
          "data": {
            "text/plain": [
              "[[0.017993405573442988,\n",
              "  0.9857749665219719,\n",
              "  0.0338682504345929,\n",
              "  0.06868968943108826],\n",
              " [0.0530579936786346,\n",
              "  0.6008211125797206,\n",
              "  0.016820444246505247,\n",
              "  0.0022321489915459007],\n",
              " [0.0530579936786346,\n",
              "  0.2699027081748492,\n",
              "  0.016820444246505247,\n",
              "  0.0022321489915459007],\n",
              " [0.0530579936786346,\n",
              "  0.2699027081748492,\n",
              "  0.016820444246505247,\n",
              "  -0.0011429343555167482]]"
            ]
          },
          "metadata": {}
        },
        {
          "output_type": "stream",
          "name": "stdout",
          "text": [
            "\n"
          ]
        },
        {
          "output_type": "display_data",
          "data": {
            "text/plain": [
              "[0.03075950131920962, 3.877405140239766, 14.55187393354987, 14.528427323010442]"
            ]
          },
          "metadata": {}
        },
        {
          "output_type": "display_data",
          "data": {
            "text/plain": [
              "11"
            ]
          },
          "metadata": {}
        },
        {
          "output_type": "stream",
          "name": "stdout",
          "text": [
            "\n"
          ]
        },
        {
          "output_type": "display_data",
          "data": {
            "text/plain": [
              "[[0.017993405573442988,\n",
              "  0.9857749665219719,\n",
              "  0.0338682504345929,\n",
              "  0.06868968943108826],\n",
              " [0.0530579936786346,\n",
              "  0.6008211125797206,\n",
              "  0.016820444246505247,\n",
              "  0.0022321489915459007],\n",
              " [0.0530579936786346,\n",
              "  0.6008211125797206,\n",
              "  0.016820444246505247,\n",
              "  0.0022321489915459007],\n",
              " [0.0530579936786346,\n",
              "  0.2699027081748492,\n",
              "  0.016820444246505247,\n",
              "  -0.0011429343555167482]]"
            ]
          },
          "metadata": {}
        },
        {
          "output_type": "stream",
          "name": "stdout",
          "text": [
            "\n"
          ]
        },
        {
          "output_type": "display_data",
          "data": {
            "text/plain": [
              "[0.03075950131920962, 3.877405140239766, 14.55187393354987, 3.877405140239766]"
            ]
          },
          "metadata": {}
        },
        {
          "output_type": "display_data",
          "data": {
            "text/plain": [
              "12"
            ]
          },
          "metadata": {}
        },
        {
          "output_type": "stream",
          "name": "stdout",
          "text": [
            "\n"
          ]
        },
        {
          "output_type": "display_data",
          "data": {
            "text/plain": [
              "[[0.017993405573442988,\n",
              "  0.9857749665219719,\n",
              "  0.0338682504345929,\n",
              "  0.06868968943108826],\n",
              " [0.0530579936786346,\n",
              "  0.6008211125797206,\n",
              "  0.016820444246505247,\n",
              "  0.0022321489915459007],\n",
              " [0.0530579936786346,\n",
              "  0.6008211125797206,\n",
              "  0.016820444246505247,\n",
              "  0.0022321489915459007],\n",
              " [0.0530579936786346,\n",
              "  0.08764799078502471,\n",
              "  0.016820444246505247,\n",
              "  0.0022321489915459007]]"
            ]
          },
          "metadata": {}
        },
        {
          "output_type": "stream",
          "name": "stdout",
          "text": [
            "\n"
          ]
        },
        {
          "output_type": "display_data",
          "data": {
            "text/plain": [
              "[0.03075950131920962, 3.877405140239766, 23.294833222361, 3.877405140239766]"
            ]
          },
          "metadata": {}
        },
        {
          "output_type": "display_data",
          "data": {
            "text/plain": [
              "13"
            ]
          },
          "metadata": {}
        },
        {
          "output_type": "stream",
          "name": "stdout",
          "text": [
            "\n"
          ]
        },
        {
          "output_type": "display_data",
          "data": {
            "text/plain": [
              "[[0.017993405573442988,\n",
              "  0.9857749665219719,\n",
              "  0.0338682504345929,\n",
              "  0.06868968943108826],\n",
              " [0.0530579936786346,\n",
              "  0.6008211125797206,\n",
              "  0.016820444246505247,\n",
              "  0.0022321489915459007],\n",
              " [-0.046587789707345936,\n",
              "  0.6008211125797206,\n",
              "  0.016820444246505247,\n",
              "  0.0022321489915459007],\n",
              " [0.0530579936786346,\n",
              "  0.08764799078502471,\n",
              "  0.016820444246505247,\n",
              "  0.0022321489915459007]]"
            ]
          },
          "metadata": {}
        },
        {
          "output_type": "stream",
          "name": "stdout",
          "text": [
            "\n"
          ]
        },
        {
          "output_type": "display_data",
          "data": {
            "text/plain": [
              "[0.03075950131920962, 3.877405140239766, 5.026437266495884, 23.294833222361]"
            ]
          },
          "metadata": {}
        },
        {
          "output_type": "display_data",
          "data": {
            "text/plain": [
              "14"
            ]
          },
          "metadata": {}
        },
        {
          "output_type": "stream",
          "name": "stdout",
          "text": [
            "\n"
          ]
        },
        {
          "output_type": "display_data",
          "data": {
            "text/plain": [
              "[[0.017993405573442988,\n",
              "  0.9857749665219719,\n",
              "  0.0338682504345929,\n",
              "  0.06868968943108826],\n",
              " [0.0530579936786346,\n",
              "  0.6008211125797206,\n",
              "  0.016820444246505247,\n",
              "  0.0022321489915459007],\n",
              " [0.0530579936786346,\n",
              "  0.08764799078502471,\n",
              "  0.016820444246505247,\n",
              "  0.0022321489915459007],\n",
              " [0.0530579936786346,\n",
              "  0.08764799078502471,\n",
              "  0.016820444246505247,\n",
              "  0.0022321489915459007]]"
            ]
          },
          "metadata": {}
        },
        {
          "output_type": "stream",
          "name": "stdout",
          "text": [
            "\n"
          ]
        },
        {
          "output_type": "display_data",
          "data": {
            "text/plain": [
              "[0.03075950131920962, 3.877405140239766, 23.294833222361, 23.294833222361]"
            ]
          },
          "metadata": {}
        },
        {
          "output_type": "display_data",
          "data": {
            "text/plain": [
              "15"
            ]
          },
          "metadata": {}
        },
        {
          "output_type": "stream",
          "name": "stdout",
          "text": [
            "\n"
          ]
        },
        {
          "output_type": "display_data",
          "data": {
            "text/plain": [
              "[[0.017993405573442988,\n",
              "  0.9857749665219719,\n",
              "  0.0338682504345929,\n",
              "  0.06868968943108826],\n",
              " [0.0530579936786346,\n",
              "  0.6008211125797206,\n",
              "  0.016820444246505247,\n",
              "  0.0022321489915459007],\n",
              " [0.0530579936786346,\n",
              "  0.6008211125797206,\n",
              "  0.016820444246505247,\n",
              "  0.0022321489915459007],\n",
              " [0.0530579936786346,\n",
              "  0.08764799078502471,\n",
              "  0.016820444246505247,\n",
              "  -9.219465660916722e-05]]"
            ]
          },
          "metadata": {}
        },
        {
          "output_type": "stream",
          "name": "stdout",
          "text": [
            "\n"
          ]
        },
        {
          "output_type": "display_data",
          "data": {
            "text/plain": [
              "[0.03075950131920962, 3.877405140239766, 23.315298881498165, 3.877405140239766]"
            ]
          },
          "metadata": {}
        },
        {
          "output_type": "display_data",
          "data": {
            "text/plain": [
              "16"
            ]
          },
          "metadata": {}
        },
        {
          "output_type": "stream",
          "name": "stdout",
          "text": [
            "\n"
          ]
        },
        {
          "output_type": "display_data",
          "data": {
            "text/plain": [
              "[[0.017993405573442988,\n",
              "  0.9857749665219719,\n",
              "  0.0338682504345929,\n",
              "  0.06868968943108826],\n",
              " [0.0530579936786346,\n",
              "  0.6008211125797206,\n",
              "  0.016820444246505247,\n",
              "  0.0022321489915459007],\n",
              " [0.0530579936786346,\n",
              "  0.08764799078502471,\n",
              "  0.016820444246505247,\n",
              "  -2.7461805393562592e-05],\n",
              " [0.0530579936786346,\n",
              "  0.08764799078502471,\n",
              "  0.016820444246505247,\n",
              "  -9.219465660916722e-05]]"
            ]
          },
          "metadata": {}
        },
        {
          "output_type": "stream",
          "name": "stdout",
          "text": [
            "\n"
          ]
        },
        {
          "output_type": "display_data",
          "data": {
            "text/plain": [
              "[0.03075950131920962,\n",
              " 3.877405140239766,\n",
              " 23.314728767671326,\n",
              " 23.315298881498165]"
            ]
          },
          "metadata": {}
        },
        {
          "output_type": "display_data",
          "data": {
            "text/plain": [
              "17"
            ]
          },
          "metadata": {}
        },
        {
          "output_type": "stream",
          "name": "stdout",
          "text": [
            "\n"
          ]
        },
        {
          "output_type": "display_data",
          "data": {
            "text/plain": [
              "[[0.017993405573442988,\n",
              "  0.9857749665219719,\n",
              "  0.0338682504345929,\n",
              "  0.06868968943108826],\n",
              " [0.0530579936786346,\n",
              "  0.6008211125797206,\n",
              "  0.016820444246505247,\n",
              "  0.0022321489915459007],\n",
              " [0.0530579936786346,\n",
              "  0.08764799078502471,\n",
              "  0.016820444246505247,\n",
              "  -2.7461805393562592e-05],\n",
              " [0.0530579936786346,\n",
              "  0.08764799078502471,\n",
              "  0.01094414240888523,\n",
              "  -2.7461805393562592e-05]]"
            ]
          },
          "metadata": {}
        },
        {
          "output_type": "stream",
          "name": "stdout",
          "text": [
            "\n"
          ]
        },
        {
          "output_type": "display_data",
          "data": {
            "text/plain": [
              "[0.03075950131920962,\n",
              " 3.877405140239766,\n",
              " 23.366516562071883,\n",
              " 23.314728767671326]"
            ]
          },
          "metadata": {}
        },
        {
          "output_type": "display_data",
          "data": {
            "text/plain": [
              "18"
            ]
          },
          "metadata": {}
        },
        {
          "output_type": "stream",
          "name": "stdout",
          "text": [
            "\n"
          ]
        },
        {
          "output_type": "display_data",
          "data": {
            "text/plain": [
              "[[0.017993405573442988,\n",
              "  0.9857749665219719,\n",
              "  0.0338682504345929,\n",
              "  0.06868968943108826],\n",
              " [0.0530579936786346,\n",
              "  0.6008211125797206,\n",
              "  0.016820444246505247,\n",
              "  0.0022321489915459007],\n",
              " [0.0530579936786346,\n",
              "  0.6008211125797206,\n",
              "  0.016820444246505247,\n",
              "  0.0022321489915459007],\n",
              " [0.0530579936786346,\n",
              "  0.08764799078502471,\n",
              "  0.016820444246505247,\n",
              "  -2.7461805393562592e-05]]"
            ]
          },
          "metadata": {}
        },
        {
          "output_type": "stream",
          "name": "stdout",
          "text": [
            "\n"
          ]
        },
        {
          "output_type": "display_data",
          "data": {
            "text/plain": [
              "[0.03075950131920962, 3.877405140239766, 23.314728767671326, 3.877405140239766]"
            ]
          },
          "metadata": {}
        },
        {
          "output_type": "display_data",
          "data": {
            "text/plain": [
              "19"
            ]
          },
          "metadata": {}
        },
        {
          "output_type": "stream",
          "name": "stdout",
          "text": [
            "\n"
          ]
        },
        {
          "output_type": "display_data",
          "data": {
            "text/plain": [
              "[[0.017993405573442988,\n",
              "  0.9857749665219719,\n",
              "  0.0338682504345929,\n",
              "  0.06868968943108826],\n",
              " [0.0530579936786346,\n",
              "  0.6008211125797206,\n",
              "  0.016820444246505247,\n",
              "  0.0022321489915459007],\n",
              " [0.0530579936786346,\n",
              "  0.08764799078502471,\n",
              "  0.016820444246505247,\n",
              "  -1.4128740929102683e-05],\n",
              " [0.0530579936786346,\n",
              "  0.08764799078502471,\n",
              "  0.016820444246505247,\n",
              "  -2.7461805393562592e-05]]"
            ]
          },
          "metadata": {}
        },
        {
          "output_type": "stream",
          "name": "stdout",
          "text": [
            "\n"
          ]
        },
        {
          "output_type": "display_data",
          "data": {
            "text/plain": [
              "[0.03075950131920962, 3.877405140239766, 23.31461134202291, 23.314728767671326]"
            ]
          },
          "metadata": {}
        },
        {
          "output_type": "display_data",
          "data": {
            "text/plain": [
              "20"
            ]
          },
          "metadata": {}
        },
        {
          "output_type": "stream",
          "name": "stdout",
          "text": [
            "\n"
          ]
        },
        {
          "output_type": "display_data",
          "data": {
            "text/plain": [
              "[[0.017993405573442988,\n",
              "  0.9857749665219719,\n",
              "  0.0338682504345929,\n",
              "  0.06868968943108826],\n",
              " [0.0530579936786346,\n",
              "  0.6008211125797206,\n",
              "  0.016820444246505247,\n",
              "  0.0022321489915459007],\n",
              " [0.0530579936786346,\n",
              "  0.08764799078502471,\n",
              "  0.016820444246505247,\n",
              "  -1.4128740929102683e-05],\n",
              " [0.0530579936786346,\n",
              "  -0.048300275769499246,\n",
              "  0.016820444246505247,\n",
              "  -1.4128740929102683e-05]]"
            ]
          },
          "metadata": {}
        },
        {
          "output_type": "stream",
          "name": "stdout",
          "text": [
            "\n"
          ]
        },
        {
          "output_type": "display_data",
          "data": {
            "text/plain": [
              "[0.03075950131920962, 3.877405140239766, 31.198269554534455, 23.31461134202291]"
            ]
          },
          "metadata": {}
        },
        {
          "output_type": "display_data",
          "data": {
            "text/plain": [
              "21"
            ]
          },
          "metadata": {}
        },
        {
          "output_type": "stream",
          "name": "stdout",
          "text": [
            "\n"
          ]
        },
        {
          "output_type": "display_data",
          "data": {
            "text/plain": [
              "[[0.017993405573442988,\n",
              "  0.9857749665219719,\n",
              "  0.0338682504345929,\n",
              "  0.06868968943108826],\n",
              " [0.0530579936786346,\n",
              "  0.6008211125797206,\n",
              "  0.016820444246505247,\n",
              "  0.0022321489915459007],\n",
              " [0.0530579936786346,\n",
              "  0.08764799078502471,\n",
              "  0.016820444246505247,\n",
              "  -1.4128740929102683e-05],\n",
              " [0.0530579936786346,\n",
              "  -0.048300275769499246,\n",
              "  0.016820444246505247,\n",
              "  -1.4128740929102683e-05]]"
            ]
          },
          "metadata": {}
        },
        {
          "output_type": "stream",
          "name": "stdout",
          "text": [
            "\n"
          ]
        },
        {
          "output_type": "display_data",
          "data": {
            "text/plain": [
              "[0.03075950131920962, 3.877405140239766, 31.198269554534455, 23.31461134202291]"
            ]
          },
          "metadata": {}
        },
        {
          "output_type": "display_data",
          "data": {
            "text/plain": [
              "22"
            ]
          },
          "metadata": {}
        },
        {
          "output_type": "stream",
          "name": "stdout",
          "text": [
            "\n"
          ]
        },
        {
          "output_type": "display_data",
          "data": {
            "text/plain": [
              "[[0.017993405573442988,\n",
              "  0.9857749665219719,\n",
              "  0.0338682504345929,\n",
              "  0.06868968943108826],\n",
              " [0.0530579936786346,\n",
              "  0.6008211125797206,\n",
              "  0.016820444246505247,\n",
              "  0.0022321489915459007],\n",
              " [0.0530579936786346,\n",
              "  0.08764799078502471,\n",
              "  0.016820444246505247,\n",
              "  -1.4128740929102683e-05],\n",
              " [0.0530579936786346,\n",
              "  -0.048300275769499246,\n",
              "  0.016820444246505247,\n",
              "  -1.4128740929102683e-05]]"
            ]
          },
          "metadata": {}
        },
        {
          "output_type": "stream",
          "name": "stdout",
          "text": [
            "\n"
          ]
        },
        {
          "output_type": "display_data",
          "data": {
            "text/plain": [
              "[0.03075950131920962, 3.877405140239766, 31.198269554534455, 23.31461134202291]"
            ]
          },
          "metadata": {}
        },
        {
          "output_type": "display_data",
          "data": {
            "text/plain": [
              "23"
            ]
          },
          "metadata": {}
        },
        {
          "output_type": "stream",
          "name": "stdout",
          "text": [
            "\n"
          ]
        },
        {
          "output_type": "display_data",
          "data": {
            "text/plain": [
              "[[0.017993405573442988,\n",
              "  0.9857749665219719,\n",
              "  0.0338682504345929,\n",
              "  0.06868968943108826],\n",
              " [0.0530579936786346,\n",
              "  0.6008211125797206,\n",
              "  0.016820444246505247,\n",
              "  0.0022321489915459007],\n",
              " [0.0530579936786346,\n",
              "  0.013474091156827519,\n",
              "  0.016820444246505247,\n",
              "  -1.4128740929102683e-05],\n",
              " [0.0530579936786346,\n",
              "  -0.048300275769499246,\n",
              "  0.016820444246505247,\n",
              "  -1.4128740929102683e-05]]"
            ]
          },
          "metadata": {}
        },
        {
          "output_type": "stream",
          "name": "stdout",
          "text": [
            "\n"
          ]
        },
        {
          "output_type": "display_data",
          "data": {
            "text/plain": [
              "[0.03075950131920962,\n",
              " 3.877405140239766,\n",
              " 27.473876493647985,\n",
              " 31.198269554534455]"
            ]
          },
          "metadata": {}
        },
        {
          "output_type": "display_data",
          "data": {
            "text/plain": [
              "24"
            ]
          },
          "metadata": {}
        },
        {
          "output_type": "stream",
          "name": "stdout",
          "text": [
            "\n"
          ]
        },
        {
          "output_type": "display_data",
          "data": {
            "text/plain": [
              "[[0.017993405573442988,\n",
              "  0.9857749665219719,\n",
              "  0.0338682504345929,\n",
              "  0.06868968943108826],\n",
              " [0.0530579936786346,\n",
              "  0.6008211125797206,\n",
              "  0.016820444246505247,\n",
              "  0.0022321489915459007],\n",
              " [0.0530579936786346,\n",
              "  0.013474091156827519,\n",
              "  0.016820444246505247,\n",
              "  -1.4128740929102683e-05],\n",
              " [0.0530579936786346,\n",
              "  0.0014052162420950043,\n",
              "  0.016820444246505247,\n",
              "  -1.4128740929102683e-05]]"
            ]
          },
          "metadata": {}
        },
        {
          "output_type": "stream",
          "name": "stdout",
          "text": [
            "\n"
          ]
        },
        {
          "output_type": "display_data",
          "data": {
            "text/plain": [
              "[0.03075950131920962,\n",
              " 3.877405140239766,\n",
              " 28.182909612514834,\n",
              " 27.473876493647985]"
            ]
          },
          "metadata": {}
        },
        {
          "output_type": "display_data",
          "data": {
            "text/plain": [
              "25"
            ]
          },
          "metadata": {}
        },
        {
          "output_type": "stream",
          "name": "stdout",
          "text": [
            "\n"
          ]
        },
        {
          "output_type": "display_data",
          "data": {
            "text/plain": [
              "[[0.017993405573442988,\n",
              "  0.9857749665219719,\n",
              "  0.0338682504345929,\n",
              "  0.06868968943108826],\n",
              " [0.0530579936786346,\n",
              "  0.6008211125797206,\n",
              "  0.016820444246505247,\n",
              "  0.0022321489915459007],\n",
              " [0.0530579936786346,\n",
              "  0.0014052162420950043,\n",
              "  0.016820444246505247,\n",
              "  -1.4128740929102683e-05],\n",
              " [0.0530579936786346,\n",
              "  0.0014052162420950043,\n",
              "  0.016820444246505247,\n",
              "  -1.4128740929102683e-05]]"
            ]
          },
          "metadata": {}
        },
        {
          "output_type": "stream",
          "name": "stdout",
          "text": [
            "\n"
          ]
        },
        {
          "output_type": "display_data",
          "data": {
            "text/plain": [
              "[0.03075950131920962,\n",
              " 3.877405140239766,\n",
              " 28.182909612514834,\n",
              " 28.182909612514834]"
            ]
          },
          "metadata": {}
        },
        {
          "output_type": "display_data",
          "data": {
            "text/plain": [
              "26"
            ]
          },
          "metadata": {}
        },
        {
          "output_type": "stream",
          "name": "stdout",
          "text": [
            "\n"
          ]
        },
        {
          "output_type": "display_data",
          "data": {
            "text/plain": [
              "[[0.017993405573442988,\n",
              "  0.9857749665219719,\n",
              "  0.0338682504345929,\n",
              "  0.06868968943108826],\n",
              " [0.0530579936786346,\n",
              "  0.6008211125797206,\n",
              "  0.016820444246505247,\n",
              "  0.0022321489915459007],\n",
              " [0.0530579936786346,\n",
              "  0.0014052162420950043,\n",
              "  0.016820444246505247,\n",
              "  -1.4128740929102683e-05],\n",
              " [0.0530579936786346,\n",
              "  0.0014052162420950043,\n",
              "  0.016820444246505247,\n",
              "  -1.4128740929102683e-05]]"
            ]
          },
          "metadata": {}
        },
        {
          "output_type": "stream",
          "name": "stdout",
          "text": [
            "\n"
          ]
        },
        {
          "output_type": "display_data",
          "data": {
            "text/plain": [
              "[0.03075950131920962,\n",
              " 3.877405140239766,\n",
              " 28.182909612514834,\n",
              " 28.182909612514834]"
            ]
          },
          "metadata": {}
        },
        {
          "output_type": "display_data",
          "data": {
            "text/plain": [
              "27"
            ]
          },
          "metadata": {}
        },
        {
          "output_type": "stream",
          "name": "stdout",
          "text": [
            "\n"
          ]
        },
        {
          "output_type": "display_data",
          "data": {
            "text/plain": [
              "[[0.017993405573442988,\n",
              "  0.9857749665219719,\n",
              "  0.0338682504345929,\n",
              "  0.06868968943108826],\n",
              " [0.0530579936786346,\n",
              "  0.6008211125797206,\n",
              "  0.016820444246505247,\n",
              "  0.0022321489915459007],\n",
              " [0.0530579936786346,\n",
              "  0.0014052162420950043,\n",
              "  0.016820444246505247,\n",
              "  -1.4128740929102683e-05],\n",
              " [0.0530579936786346,\n",
              "  0.0014052162420950043,\n",
              "  -0.015770835834465938,\n",
              "  -1.4128740929102683e-05]]"
            ]
          },
          "metadata": {}
        },
        {
          "output_type": "stream",
          "name": "stdout",
          "text": [
            "\n"
          ]
        },
        {
          "output_type": "display_data",
          "data": {
            "text/plain": [
              "[0.03075950131920962, 3.877405140239766, 28.49967584900732, 28.182909612514834]"
            ]
          },
          "metadata": {}
        },
        {
          "output_type": "display_data",
          "data": {
            "text/plain": [
              "28"
            ]
          },
          "metadata": {}
        },
        {
          "output_type": "stream",
          "name": "stdout",
          "text": [
            "\n"
          ]
        },
        {
          "output_type": "display_data",
          "data": {
            "text/plain": [
              "[[0.017993405573442988,\n",
              "  0.9857749665219719,\n",
              "  0.0338682504345929,\n",
              "  0.06868968943108826],\n",
              " [0.0530579936786346,\n",
              "  0.6008211125797206,\n",
              "  0.016820444246505247,\n",
              "  0.0022321489915459007],\n",
              " [0.0530579936786346,\n",
              "  0.0014052162420950043,\n",
              "  0.016820444246505247,\n",
              "  -1.4128740929102683e-05],\n",
              " [0.0530579936786346,\n",
              "  0.0014052162420950043,\n",
              "  0.016820444246505247,\n",
              "  -1.4128740929102683e-05]]"
            ]
          },
          "metadata": {}
        },
        {
          "output_type": "stream",
          "name": "stdout",
          "text": [
            "\n"
          ]
        },
        {
          "output_type": "display_data",
          "data": {
            "text/plain": [
              "[0.03075950131920962,\n",
              " 3.877405140239766,\n",
              " 28.182909612514834,\n",
              " 28.182909612514834]"
            ]
          },
          "metadata": {}
        },
        {
          "output_type": "display_data",
          "data": {
            "text/plain": [
              "29"
            ]
          },
          "metadata": {}
        },
        {
          "output_type": "stream",
          "name": "stdout",
          "text": [
            "\n"
          ]
        },
        {
          "output_type": "display_data",
          "data": {
            "text/plain": [
              "[[0.017993405573442988,\n",
              "  0.9857749665219719,\n",
              "  0.0338682504345929,\n",
              "  0.06868968943108826],\n",
              " [0.0530579936786346,\n",
              "  0.6008211125797206,\n",
              "  0.016820444246505247,\n",
              "  0.0022321489915459007],\n",
              " [0.0530579936786346,\n",
              "  0.0014052162420950043,\n",
              "  0.016820444246505247,\n",
              "  -1.4128740929102683e-05],\n",
              " [0.0530579936786346,\n",
              "  0.0014052162420950043,\n",
              "  0.013482787016321305,\n",
              "  -1.4128740929102683e-05]]"
            ]
          },
          "metadata": {}
        },
        {
          "output_type": "stream",
          "name": "stdout",
          "text": [
            "\n"
          ]
        },
        {
          "output_type": "display_data",
          "data": {
            "text/plain": [
              "[0.03075950131920962,\n",
              " 3.877405140239766,\n",
              " 28.215251851022906,\n",
              " 28.182909612514834]"
            ]
          },
          "metadata": {}
        },
        {
          "output_type": "display_data",
          "data": {
            "text/plain": [
              "30"
            ]
          },
          "metadata": {}
        },
        {
          "output_type": "stream",
          "name": "stdout",
          "text": [
            "\n"
          ]
        },
        {
          "output_type": "display_data",
          "data": {
            "text/plain": [
              "[[0.017993405573442988,\n",
              "  0.9857749665219719,\n",
              "  0.0338682504345929,\n",
              "  0.06868968943108826],\n",
              " [0.0530579936786346,\n",
              "  0.6008211125797206,\n",
              "  0.016820444246505247,\n",
              "  0.0022321489915459007],\n",
              " [-0.039232052108567735,\n",
              "  0.6008211125797206,\n",
              "  0.016820444246505247,\n",
              "  -1.4128740929102683e-05],\n",
              " [0.0530579936786346,\n",
              "  0.0014052162420950043,\n",
              "  0.016820444246505247,\n",
              "  0.0022321489915459007]]"
            ]
          },
          "metadata": {}
        },
        {
          "output_type": "stream",
          "name": "stdout",
          "text": [
            "\n"
          ]
        },
        {
          "output_type": "display_data",
          "data": {
            "text/plain": [
              "[0.03075950131920962, 3.877405140239766, 4.945582396398828, 28.161155495567687]"
            ]
          },
          "metadata": {}
        },
        {
          "output_type": "display_data",
          "data": {
            "text/plain": [
              "31"
            ]
          },
          "metadata": {}
        },
        {
          "output_type": "stream",
          "name": "stdout",
          "text": [
            "\n"
          ]
        },
        {
          "output_type": "display_data",
          "data": {
            "text/plain": [
              "[[0.017993405573442988,\n",
              "  0.9857749665219719,\n",
              "  0.0338682504345929,\n",
              "  0.06868968943108826],\n",
              " [0.0530579936786346,\n",
              "  0.6008211125797206,\n",
              "  0.016820444246505247,\n",
              "  0.0022321489915459007],\n",
              " [0.0530579936786346,\n",
              "  0.0014052162420950043,\n",
              "  0.016820444246505247,\n",
              "  0.0022321489915459007],\n",
              " [0.0530579936786346,\n",
              "  0.0014052162420950043,\n",
              "  0.016820444246505247,\n",
              "  -0.0021869446923809144]]"
            ]
          },
          "metadata": {}
        },
        {
          "output_type": "stream",
          "name": "stdout",
          "text": [
            "\n"
          ]
        },
        {
          "output_type": "display_data",
          "data": {
            "text/plain": [
              "[0.03075950131920962, 3.877405140239766, 28.20396188940468, 28.161155495567687]"
            ]
          },
          "metadata": {}
        },
        {
          "output_type": "display_data",
          "data": {
            "text/plain": [
              "32"
            ]
          },
          "metadata": {}
        },
        {
          "output_type": "stream",
          "name": "stdout",
          "text": [
            "\n"
          ]
        },
        {
          "output_type": "display_data",
          "data": {
            "text/plain": [
              "[[0.017993405573442988,\n",
              "  0.9857749665219719,\n",
              "  0.0338682504345929,\n",
              "  0.06868968943108826],\n",
              " [0.0530579936786346,\n",
              "  0.6008211125797206,\n",
              "  0.016820444246505247,\n",
              "  0.0022321489915459007],\n",
              " [0.0530579936786346,\n",
              "  0.0014052162420950043,\n",
              "  0.016820444246505247,\n",
              "  0.0022321489915459007],\n",
              " [0.0530579936786346,\n",
              "  0.0014052162420950043,\n",
              "  -0.013761279512111653,\n",
              "  -0.0021869446923809144]]"
            ]
          },
          "metadata": {}
        },
        {
          "output_type": "stream",
          "name": "stdout",
          "text": [
            "\n"
          ]
        },
        {
          "output_type": "display_data",
          "data": {
            "text/plain": [
              "[0.03075950131920962, 3.877405140239766, 28.50126797487124, 28.161155495567687]"
            ]
          },
          "metadata": {}
        },
        {
          "output_type": "display_data",
          "data": {
            "text/plain": [
              "33"
            ]
          },
          "metadata": {}
        },
        {
          "output_type": "stream",
          "name": "stdout",
          "text": [
            "\n"
          ]
        },
        {
          "output_type": "display_data",
          "data": {
            "text/plain": [
              "[[0.017993405573442988,\n",
              "  0.9857749665219719,\n",
              "  0.0338682504345929,\n",
              "  0.06868968943108826],\n",
              " [0.0530579936786346,\n",
              "  0.6008211125797206,\n",
              "  0.016820444246505247,\n",
              "  0.0022321489915459007],\n",
              " [0.0530579936786346,\n",
              "  0.0014052162420950043,\n",
              "  -0.013761279512111653,\n",
              "  0.0022321489915459007],\n",
              " [-0.009476250263942304,\n",
              "  0.0014052162420950043,\n",
              "  0.016820444246505247,\n",
              "  -0.0021869446923809144]]"
            ]
          },
          "metadata": {}
        },
        {
          "output_type": "stream",
          "name": "stdout",
          "text": [
            "\n"
          ]
        },
        {
          "output_type": "display_data",
          "data": {
            "text/plain": [
              "[0.03075950131920962,\n",
              " 3.877405140239766,\n",
              " 30.052293437095813,\n",
              " 28.458191294029636]"
            ]
          },
          "metadata": {}
        },
        {
          "output_type": "display_data",
          "data": {
            "text/plain": [
              "34"
            ]
          },
          "metadata": {}
        },
        {
          "output_type": "stream",
          "name": "stdout",
          "text": [
            "\n"
          ]
        },
        {
          "output_type": "display_data",
          "data": {
            "text/plain": [
              "[[0.017993405573442988,\n",
              "  0.9857749665219719,\n",
              "  0.0338682504345929,\n",
              "  0.06868968943108826],\n",
              " [0.0530579936786346,\n",
              "  0.6008211125797206,\n",
              "  0.016820444246505247,\n",
              "  0.0022321489915459007],\n",
              " [-0.009476250263942304,\n",
              "  0.0014052162420950043,\n",
              "  0.016820444246505247,\n",
              "  -0.0021869446923809144],\n",
              " [-0.009476250263942304,\n",
              "  0.0014052162420950043,\n",
              "  0.0032581781857678243,\n",
              "  -0.0021869446923809144]]"
            ]
          },
          "metadata": {}
        },
        {
          "output_type": "stream",
          "name": "stdout",
          "text": [
            "\n"
          ]
        },
        {
          "output_type": "display_data",
          "data": {
            "text/plain": [
              "[0.03075950131920962,\n",
              " 3.877405140239766,\n",
              " 30.188151312323075,\n",
              " 30.052293437095813]"
            ]
          },
          "metadata": {}
        },
        {
          "output_type": "display_data",
          "data": {
            "text/plain": [
              "35"
            ]
          },
          "metadata": {}
        },
        {
          "output_type": "stream",
          "name": "stdout",
          "text": [
            "\n"
          ]
        },
        {
          "output_type": "display_data",
          "data": {
            "text/plain": [
              "[[0.017993405573442988,\n",
              "  0.9857749665219719,\n",
              "  0.0338682504345929,\n",
              "  0.06868968943108826],\n",
              " [0.0530579936786346,\n",
              "  0.6008211125797206,\n",
              "  0.016820444246505247,\n",
              "  0.0022321489915459007],\n",
              " [-0.009476250263942304,\n",
              "  0.0014052162420950043,\n",
              "  0.016820444246505247,\n",
              "  -0.0021869446923809144],\n",
              " [-0.009476250263942304,\n",
              "  0.0014052162420950043,\n",
              "  0.0032581781857678243,\n",
              "  -0.0017070137920304383]]"
            ]
          },
          "metadata": {}
        },
        {
          "output_type": "stream",
          "name": "stdout",
          "text": [
            "\n"
          ]
        },
        {
          "output_type": "display_data",
          "data": {
            "text/plain": [
              "[0.03075950131920962, 3.877405140239766, 30.18333740111105, 30.052293437095813]"
            ]
          },
          "metadata": {}
        },
        {
          "output_type": "display_data",
          "data": {
            "text/plain": [
              "36"
            ]
          },
          "metadata": {}
        },
        {
          "output_type": "stream",
          "name": "stdout",
          "text": [
            "\n"
          ]
        },
        {
          "output_type": "display_data",
          "data": {
            "text/plain": [
              "[[0.017993405573442988,\n",
              "  0.9857749665219719,\n",
              "  0.0338682504345929,\n",
              "  0.06868968943108826],\n",
              " [0.0530579936786346,\n",
              "  0.6008211125797206,\n",
              "  0.016820444246505247,\n",
              "  0.0022321489915459007],\n",
              " [-0.009476250263942304,\n",
              "  0.0014052162420950043,\n",
              "  0.016820444246505247,\n",
              "  -0.0017070137920304383],\n",
              " [-0.009476250263942304,\n",
              "  0.0014052162420950043,\n",
              "  0.0032581781857678243,\n",
              "  -0.0021869446923809144]]"
            ]
          },
          "metadata": {}
        },
        {
          "output_type": "stream",
          "name": "stdout",
          "text": [
            "\n"
          ]
        },
        {
          "output_type": "display_data",
          "data": {
            "text/plain": [
              "[0.03075950131920962,\n",
              " 3.877405140239766,\n",
              " 30.047492543784905,\n",
              " 30.188151312323075]"
            ]
          },
          "metadata": {}
        },
        {
          "output_type": "display_data",
          "data": {
            "text/plain": [
              "37"
            ]
          },
          "metadata": {}
        },
        {
          "output_type": "stream",
          "name": "stdout",
          "text": [
            "\n"
          ]
        },
        {
          "output_type": "display_data",
          "data": {
            "text/plain": [
              "[[0.017993405573442988,\n",
              "  0.9857749665219719,\n",
              "  0.0338682504345929,\n",
              "  0.06868968943108826],\n",
              " [0.0530579936786346,\n",
              "  0.6008211125797206,\n",
              "  0.016820444246505247,\n",
              "  0.0022321489915459007],\n",
              " [-0.009476250263942304,\n",
              "  0.0014052162420950043,\n",
              "  0.016820444246505247,\n",
              "  -0.0017070137920304383],\n",
              " [-0.009476250263942304,\n",
              "  0.0014052162420950043,\n",
              "  0.016820444246505247,\n",
              "  -0.0017070137920304383]]"
            ]
          },
          "metadata": {}
        },
        {
          "output_type": "stream",
          "name": "stdout",
          "text": [
            "\n"
          ]
        },
        {
          "output_type": "display_data",
          "data": {
            "text/plain": [
              "[0.03075950131920962,\n",
              " 3.877405140239766,\n",
              " 30.047492543784905,\n",
              " 30.047492543784905]"
            ]
          },
          "metadata": {}
        },
        {
          "output_type": "display_data",
          "data": {
            "text/plain": [
              "38"
            ]
          },
          "metadata": {}
        },
        {
          "output_type": "stream",
          "name": "stdout",
          "text": [
            "\n"
          ]
        },
        {
          "output_type": "display_data",
          "data": {
            "text/plain": [
              "[[0.017993405573442988,\n",
              "  0.9857749665219719,\n",
              "  0.0338682504345929,\n",
              "  0.06868968943108826],\n",
              " [0.0530579936786346,\n",
              "  0.6008211125797206,\n",
              "  0.016820444246505247,\n",
              "  0.0022321489915459007],\n",
              " [-0.009476250263942304,\n",
              "  0.0014052162420950043,\n",
              "  0.016820444246505247,\n",
              "  -0.0017070137920304383],\n",
              " [-0.009476250263942304,\n",
              "  0.0014052162420950043,\n",
              "  0.016820444246505247,\n",
              "  -0.0017070137920304383]]"
            ]
          },
          "metadata": {}
        },
        {
          "output_type": "stream",
          "name": "stdout",
          "text": [
            "\n"
          ]
        },
        {
          "output_type": "display_data",
          "data": {
            "text/plain": [
              "[0.03075950131920962,\n",
              " 3.877405140239766,\n",
              " 30.047492543784905,\n",
              " 30.047492543784905]"
            ]
          },
          "metadata": {}
        },
        {
          "output_type": "display_data",
          "data": {
            "text/plain": [
              "39"
            ]
          },
          "metadata": {}
        },
        {
          "output_type": "stream",
          "name": "stdout",
          "text": [
            "\n"
          ]
        },
        {
          "output_type": "display_data",
          "data": {
            "text/plain": [
              "[[0.017993405573442988,\n",
              "  0.9857749665219719,\n",
              "  0.0338682504345929,\n",
              "  0.06868968943108826],\n",
              " [0.0530579936786346,\n",
              "  0.6008211125797206,\n",
              "  0.016820444246505247,\n",
              "  0.0022321489915459007],\n",
              " [-0.009476250263942304,\n",
              "  0.0014052162420950043,\n",
              "  0.016820444246505247,\n",
              "  -0.0017070137920304383],\n",
              " [-0.009476250263942304,\n",
              "  0.0014052162420950043,\n",
              "  0.016820444246505247,\n",
              "  -0.0017070137920304383]]"
            ]
          },
          "metadata": {}
        },
        {
          "output_type": "stream",
          "name": "stdout",
          "text": [
            "\n"
          ]
        },
        {
          "output_type": "display_data",
          "data": {
            "text/plain": [
              "[0.03075950131920962,\n",
              " 3.877405140239766,\n",
              " 30.047492543784905,\n",
              " 30.047492543784905]"
            ]
          },
          "metadata": {}
        },
        {
          "output_type": "display_data",
          "data": {
            "text/plain": [
              "40"
            ]
          },
          "metadata": {}
        },
        {
          "output_type": "stream",
          "name": "stdout",
          "text": [
            "\n"
          ]
        },
        {
          "output_type": "display_data",
          "data": {
            "text/plain": [
              "[[0.017993405573442988,\n",
              "  0.9857749665219719,\n",
              "  0.0338682504345929,\n",
              "  0.06868968943108826],\n",
              " [0.0530579936786346,\n",
              "  0.6008211125797206,\n",
              "  0.016820444246505247,\n",
              "  0.0022321489915459007],\n",
              " [-0.009476250263942304,\n",
              "  0.0014052162420950043,\n",
              "  0.016820444246505247,\n",
              "  -0.0006314878747264355],\n",
              " [-0.009476250263942304,\n",
              "  0.0014052162420950043,\n",
              "  0.016820444246505247,\n",
              "  -0.0017070137920304383]]"
            ]
          },
          "metadata": {}
        },
        {
          "output_type": "stream",
          "name": "stdout",
          "text": [
            "\n"
          ]
        },
        {
          "output_type": "display_data",
          "data": {
            "text/plain": [
              "[0.03075950131920962,\n",
              " 3.877405140239766,\n",
              " 30.036735407110555,\n",
              " 30.047492543784905]"
            ]
          },
          "metadata": {}
        },
        {
          "output_type": "display_data",
          "data": {
            "text/plain": [
              "41"
            ]
          },
          "metadata": {}
        },
        {
          "output_type": "stream",
          "name": "stdout",
          "text": [
            "\n"
          ]
        },
        {
          "output_type": "display_data",
          "data": {
            "text/plain": [
              "[[0.017993405573442988,\n",
              "  0.9857749665219719,\n",
              "  0.0338682504345929,\n",
              "  0.06868968943108826],\n",
              " [0.0530579936786346,\n",
              "  0.6008211125797206,\n",
              "  0.016820444246505247,\n",
              "  0.0022321489915459007],\n",
              " [-0.009476250263942304,\n",
              "  0.0014052162420950043,\n",
              "  0.016820444246505247,\n",
              "  -0.0006314878747264355],\n",
              " [-0.009476250263942304,\n",
              "  0.0014052162420950043,\n",
              "  0.016820444246505247,\n",
              "  -0.0017070137920304383]]"
            ]
          },
          "metadata": {}
        },
        {
          "output_type": "stream",
          "name": "stdout",
          "text": [
            "\n"
          ]
        },
        {
          "output_type": "display_data",
          "data": {
            "text/plain": [
              "[0.03075950131920962,\n",
              " 3.877405140239766,\n",
              " 30.036735407110555,\n",
              " 30.047492543784905]"
            ]
          },
          "metadata": {}
        },
        {
          "output_type": "display_data",
          "data": {
            "text/plain": [
              "42"
            ]
          },
          "metadata": {}
        },
        {
          "output_type": "stream",
          "name": "stdout",
          "text": [
            "\n"
          ]
        },
        {
          "output_type": "display_data",
          "data": {
            "text/plain": [
              "[[0.017993405573442988,\n",
              "  0.9857749665219719,\n",
              "  0.0338682504345929,\n",
              "  0.06868968943108826],\n",
              " [0.0530579936786346,\n",
              "  0.6008211125797206,\n",
              "  0.016820444246505247,\n",
              "  0.0022321489915459007],\n",
              " [-0.009476250263942304,\n",
              "  0.0014052162420950043,\n",
              "  0.016820444246505247,\n",
              "  -0.0006314878747264355],\n",
              " [-0.009476250263942304,\n",
              "  0.0014052162420950043,\n",
              "  0.016820444246505247,\n",
              "  -0.0017070137920304383]]"
            ]
          },
          "metadata": {}
        },
        {
          "output_type": "stream",
          "name": "stdout",
          "text": [
            "\n"
          ]
        },
        {
          "output_type": "display_data",
          "data": {
            "text/plain": [
              "[0.03075950131920962,\n",
              " 3.877405140239766,\n",
              " 30.047492543784905,\n",
              " 30.036735407110555]"
            ]
          },
          "metadata": {}
        },
        {
          "output_type": "display_data",
          "data": {
            "text/plain": [
              "43"
            ]
          },
          "metadata": {}
        },
        {
          "output_type": "stream",
          "name": "stdout",
          "text": [
            "\n"
          ]
        },
        {
          "output_type": "display_data",
          "data": {
            "text/plain": [
              "[[0.017993405573442988,\n",
              "  0.9857749665219719,\n",
              "  0.0338682504345929,\n",
              "  0.06868968943108826],\n",
              " [0.0530579936786346,\n",
              "  0.6008211125797206,\n",
              "  0.016820444246505247,\n",
              "  0.0022321489915459007],\n",
              " [-0.009476250263942304,\n",
              "  0.0014052162420950043,\n",
              "  0.016820444246505247,\n",
              "  -0.0017070137920304383],\n",
              " [-0.009476250263942304,\n",
              "  -0.000996012065352969,\n",
              "  0.016820444246505247,\n",
              "  -0.0017070137920304383]]"
            ]
          },
          "metadata": {}
        },
        {
          "output_type": "stream",
          "name": "stdout",
          "text": [
            "\n"
          ]
        },
        {
          "output_type": "display_data",
          "data": {
            "text/plain": [
              "[0.03075950131920962, 3.877405140239766, 30.19426085074302, 30.047492543784905]"
            ]
          },
          "metadata": {}
        },
        {
          "output_type": "display_data",
          "data": {
            "text/plain": [
              "44"
            ]
          },
          "metadata": {}
        },
        {
          "output_type": "stream",
          "name": "stdout",
          "text": [
            "\n"
          ]
        },
        {
          "output_type": "display_data",
          "data": {
            "text/plain": [
              "[[0.017993405573442988,\n",
              "  0.9857749665219719,\n",
              "  0.0338682504345929,\n",
              "  0.06868968943108826],\n",
              " [0.0530579936786346,\n",
              "  0.6008211125797206,\n",
              "  0.016820444246505247,\n",
              "  0.0022321489915459007],\n",
              " [-0.009476250263942304,\n",
              "  0.0014052162420950043,\n",
              "  0.016820444246505247,\n",
              "  -0.0017070137920304383],\n",
              " [-0.009476250263942304,\n",
              "  -0.000996012065352969,\n",
              "  0.016820444246505247,\n",
              "  -0.0017070137920304383]]"
            ]
          },
          "metadata": {}
        },
        {
          "output_type": "stream",
          "name": "stdout",
          "text": [
            "\n"
          ]
        },
        {
          "output_type": "display_data",
          "data": {
            "text/plain": [
              "[0.03075950131920962, 3.877405140239766, 30.19426085074302, 30.047492543784905]"
            ]
          },
          "metadata": {}
        },
        {
          "output_type": "display_data",
          "data": {
            "text/plain": [
              "45"
            ]
          },
          "metadata": {}
        },
        {
          "output_type": "stream",
          "name": "stdout",
          "text": [
            "\n"
          ]
        },
        {
          "output_type": "display_data",
          "data": {
            "text/plain": [
              "[[0.017993405573442988,\n",
              "  0.9857749665219719,\n",
              "  0.0338682504345929,\n",
              "  0.06868968943108826],\n",
              " [0.0530579936786346,\n",
              "  0.6008211125797206,\n",
              "  0.016820444246505247,\n",
              "  0.0022321489915459007],\n",
              " [-0.009476250263942304,\n",
              "  0.0014052162420950043,\n",
              "  0.016820444246505247,\n",
              "  0.001574552701505512],\n",
              " [-0.009476250263942304,\n",
              "  0.0014052162420950043,\n",
              "  0.016820444246505247,\n",
              "  -0.0017070137920304383]]"
            ]
          },
          "metadata": {}
        },
        {
          "output_type": "stream",
          "name": "stdout",
          "text": [
            "\n"
          ]
        },
        {
          "output_type": "display_data",
          "data": {
            "text/plain": [
              "[0.03075950131920962, 3.877405140239766, 30.01467838962288, 30.047492543784905]"
            ]
          },
          "metadata": {}
        },
        {
          "output_type": "display_data",
          "data": {
            "text/plain": [
              "46"
            ]
          },
          "metadata": {}
        },
        {
          "output_type": "stream",
          "name": "stdout",
          "text": [
            "\n"
          ]
        },
        {
          "output_type": "display_data",
          "data": {
            "text/plain": [
              "[[0.017993405573442988,\n",
              "  0.9857749665219719,\n",
              "  0.0338682504345929,\n",
              "  0.06868968943108826],\n",
              " [0.0530579936786346,\n",
              "  0.6008211125797206,\n",
              "  0.016820444246505247,\n",
              "  0.0022321489915459007],\n",
              " [-0.009476250263942304,\n",
              "  0.0014052162420950043,\n",
              "  0.016820444246505247,\n",
              "  -0.0017070137920304383],\n",
              " [-0.009476250263942304,\n",
              "  0.0014052162420950043,\n",
              "  0.0046508411648230365,\n",
              "  -0.0017070137920304383]]"
            ]
          },
          "metadata": {}
        },
        {
          "output_type": "stream",
          "name": "stdout",
          "text": [
            "\n"
          ]
        },
        {
          "output_type": "display_data",
          "data": {
            "text/plain": [
              "[0.03075950131920962,\n",
              " 3.877405140239766,\n",
              " 30.169371006539414,\n",
              " 30.047492543784905]"
            ]
          },
          "metadata": {}
        },
        {
          "output_type": "display_data",
          "data": {
            "text/plain": [
              "47"
            ]
          },
          "metadata": {}
        },
        {
          "output_type": "stream",
          "name": "stdout",
          "text": [
            "\n"
          ]
        },
        {
          "output_type": "display_data",
          "data": {
            "text/plain": [
              "[[0.017993405573442988,\n",
              "  0.9857749665219719,\n",
              "  0.0338682504345929,\n",
              "  0.06868968943108826],\n",
              " [0.0530579936786346,\n",
              "  0.6008211125797206,\n",
              "  0.016820444246505247,\n",
              "  0.0022321489915459007],\n",
              " [-0.00825864649211562,\n",
              "  0.0014052162420950043,\n",
              "  0.0046508411648230365,\n",
              "  -0.0017070137920304383],\n",
              " [-0.009476250263942304,\n",
              "  0.0014052162420950043,\n",
              "  0.0046508411648230365,\n",
              "  -0.0017070137920304383]]"
            ]
          },
          "metadata": {}
        },
        {
          "output_type": "stream",
          "name": "stdout",
          "text": [
            "\n"
          ]
        },
        {
          "output_type": "display_data",
          "data": {
            "text/plain": [
              "[0.03075950131920962,\n",
              " 3.877405140239766,\n",
              " 30.132751045278503,\n",
              " 30.169371006539414]"
            ]
          },
          "metadata": {}
        },
        {
          "output_type": "display_data",
          "data": {
            "text/plain": [
              "48"
            ]
          },
          "metadata": {}
        },
        {
          "output_type": "stream",
          "name": "stdout",
          "text": [
            "\n"
          ]
        },
        {
          "output_type": "display_data",
          "data": {
            "text/plain": [
              "[[0.017993405573442988,\n",
              "  0.9857749665219719,\n",
              "  0.0338682504345929,\n",
              "  0.06868968943108826],\n",
              " [0.0530579936786346,\n",
              "  0.6008211125797206,\n",
              "  0.016820444246505247,\n",
              "  0.0022321489915459007],\n",
              " [-0.009476250263942304,\n",
              "  0.0014052162420950043,\n",
              "  0.0046508411648230365,\n",
              "  -0.0017070137920304383],\n",
              " [-0.009476250263942304,\n",
              "  0.0014052162420950043,\n",
              "  0.0046508411648230365,\n",
              "  -0.0017070137920304383]]"
            ]
          },
          "metadata": {}
        },
        {
          "output_type": "stream",
          "name": "stdout",
          "text": [
            "\n"
          ]
        },
        {
          "output_type": "display_data",
          "data": {
            "text/plain": [
              "[0.03075950131920962,\n",
              " 3.877405140239766,\n",
              " 30.169371006539414,\n",
              " 30.169371006539414]"
            ]
          },
          "metadata": {}
        },
        {
          "output_type": "display_data",
          "data": {
            "text/plain": [
              "49"
            ]
          },
          "metadata": {}
        },
        {
          "output_type": "stream",
          "name": "stdout",
          "text": [
            "\n"
          ]
        },
        {
          "output_type": "display_data",
          "data": {
            "text/plain": [
              "[[0.017993405573442988,\n",
              "  0.9857749665219719,\n",
              "  0.0338682504345929,\n",
              "  0.06868968943108826],\n",
              " [0.0530579936786346,\n",
              "  0.6008211125797206,\n",
              "  0.016820444246505247,\n",
              "  0.0022321489915459007],\n",
              " [-0.009476250263942304,\n",
              "  0.0014052162420950043,\n",
              "  0.0046508411648230365,\n",
              "  -0.0017070137920304383],\n",
              " [-0.009476250263942304,\n",
              "  0.0014052162420950043,\n",
              "  -0.0036429143792731326,\n",
              "  -0.0017070137920304383]]"
            ]
          },
          "metadata": {}
        },
        {
          "output_type": "stream",
          "name": "stdout",
          "text": [
            "\n"
          ]
        },
        {
          "output_type": "display_data",
          "data": {
            "text/plain": [
              "[0.03075950131920962,\n",
              " 3.877405140239766,\n",
              " 30.252602610004047,\n",
              " 30.169371006539414]"
            ]
          },
          "metadata": {}
        },
        {
          "output_type": "display_data",
          "data": {
            "text/plain": [
              "50"
            ]
          },
          "metadata": {}
        },
        {
          "output_type": "stream",
          "name": "stdout",
          "text": [
            "\n"
          ]
        },
        {
          "output_type": "display_data",
          "data": {
            "text/plain": [
              "[[0.017993405573442988,\n",
              "  0.9857749665219719,\n",
              "  0.0338682504345929,\n",
              "  0.06868968943108826],\n",
              " [0.0530579936786346,\n",
              "  0.6008211125797206,\n",
              "  0.016820444246505247,\n",
              "  0.0022321489915459007],\n",
              " [-0.009476250263942304,\n",
              "  0.0014052162420950043,\n",
              "  0.0046508411648230365,\n",
              "  -0.0017070137920304383],\n",
              " [-0.009476250263942304,\n",
              "  0.0014052162420950043,\n",
              "  -0.0036429143792731326,\n",
              "  -0.0017070137920304383]]"
            ]
          },
          "metadata": {}
        },
        {
          "output_type": "stream",
          "name": "stdout",
          "text": [
            "\n"
          ]
        },
        {
          "output_type": "display_data",
          "data": {
            "text/plain": [
              "[0.03075950131920962,\n",
              " 3.877405140239766,\n",
              " 30.252602610004047,\n",
              " 30.169371006539414]"
            ]
          },
          "metadata": {}
        },
        {
          "output_type": "display_data",
          "data": {
            "text/plain": [
              "51"
            ]
          },
          "metadata": {}
        },
        {
          "output_type": "stream",
          "name": "stdout",
          "text": [
            "\n"
          ]
        },
        {
          "output_type": "display_data",
          "data": {
            "text/plain": [
              "[[0.017993405573442988,\n",
              "  0.9857749665219719,\n",
              "  0.0338682504345929,\n",
              "  0.06868968943108826],\n",
              " [0.0530579936786346,\n",
              "  0.6008211125797206,\n",
              "  0.016820444246505247,\n",
              "  0.0022321489915459007],\n",
              " [0.0530579936786346,\n",
              "  0.6008211125797206,\n",
              "  -0.0036429143792731326,\n",
              "  -0.0017070137920304383],\n",
              " [-0.009476250263942304,\n",
              "  -0.001379453891087727,\n",
              "  0.016820444246505247,\n",
              "  0.0022321489915459007]]"
            ]
          },
          "metadata": {}
        },
        {
          "output_type": "stream",
          "name": "stdout",
          "text": [
            "\n"
          ]
        },
        {
          "output_type": "display_data",
          "data": {
            "text/plain": [
              "[0.03075950131920962,\n",
              " 3.877405140239766,\n",
              " 30.178231651461367,\n",
              " 3.9650744199804815]"
            ]
          },
          "metadata": {}
        },
        {
          "output_type": "display_data",
          "data": {
            "text/plain": [
              "52"
            ]
          },
          "metadata": {}
        },
        {
          "output_type": "stream",
          "name": "stdout",
          "text": [
            "\n"
          ]
        },
        {
          "output_type": "display_data",
          "data": {
            "text/plain": [
              "[[0.017993405573442988,\n",
              "  0.9857749665219719,\n",
              "  0.0338682504345929,\n",
              "  0.06868968943108826],\n",
              " [0.0530579936786346,\n",
              "  0.6008211125797206,\n",
              "  0.016820444246505247,\n",
              "  0.0022321489915459007],\n",
              " [-0.009476250263942304,\n",
              "  -0.001379453891087727,\n",
              "  0.016820444246505247,\n",
              "  0.0022321489915459007],\n",
              " [-0.009476250263942304,\n",
              "  -0.001379453891087727,\n",
              "  0.016820444246505247,\n",
              "  0.0022321489915459007]]"
            ]
          },
          "metadata": {}
        },
        {
          "output_type": "stream",
          "name": "stdout",
          "text": [
            "\n"
          ]
        },
        {
          "output_type": "display_data",
          "data": {
            "text/plain": [
              "[0.03075950131920962,\n",
              " 3.877405140239766,\n",
              " 30.178231651461367,\n",
              " 30.178231651461367]"
            ]
          },
          "metadata": {}
        },
        {
          "output_type": "display_data",
          "data": {
            "text/plain": [
              "53"
            ]
          },
          "metadata": {}
        },
        {
          "output_type": "stream",
          "name": "stdout",
          "text": [
            "\n"
          ]
        },
        {
          "output_type": "display_data",
          "data": {
            "text/plain": [
              "[[0.017993405573442988,\n",
              "  0.9857749665219719,\n",
              "  0.0338682504345929,\n",
              "  0.06868968943108826],\n",
              " [0.0530579936786346,\n",
              "  0.6008211125797206,\n",
              "  0.016820444246505247,\n",
              "  0.0022321489915459007],\n",
              " [-0.009476250263942304,\n",
              "  -0.001379453891087727,\n",
              "  0.016820444246505247,\n",
              "  0.0022321489915459007],\n",
              " [-0.009476250263942304,\n",
              "  -0.001379453891087727,\n",
              "  0.016820444246505247,\n",
              "  0.0016652353204545337]]"
            ]
          },
          "metadata": {}
        },
        {
          "output_type": "stream",
          "name": "stdout",
          "text": [
            "\n"
          ]
        },
        {
          "output_type": "display_data",
          "data": {
            "text/plain": [
              "[0.03075950131920962,\n",
              " 3.877405140239766,\n",
              " 30.183914345010315,\n",
              " 30.178231651461367]"
            ]
          },
          "metadata": {}
        },
        {
          "output_type": "display_data",
          "data": {
            "text/plain": [
              "54"
            ]
          },
          "metadata": {}
        },
        {
          "output_type": "stream",
          "name": "stdout",
          "text": [
            "\n"
          ]
        },
        {
          "output_type": "display_data",
          "data": {
            "text/plain": [
              "[[0.017993405573442988,\n",
              "  0.9857749665219719,\n",
              "  0.0338682504345929,\n",
              "  0.06868968943108826],\n",
              " [0.0530579936786346,\n",
              "  0.6008211125797206,\n",
              "  0.016820444246505247,\n",
              "  0.0022321489915459007],\n",
              " [-0.009476250263942304,\n",
              "  -0.001379453891087727,\n",
              "  0.016820444246505247,\n",
              "  0.0022321489915459007],\n",
              " [-0.009476250263942304,\n",
              "  -0.001379453891087727,\n",
              "  0.016820444246505247,\n",
              "  0.0016652353204545337]]"
            ]
          },
          "metadata": {}
        },
        {
          "output_type": "stream",
          "name": "stdout",
          "text": [
            "\n"
          ]
        },
        {
          "output_type": "display_data",
          "data": {
            "text/plain": [
              "[0.03075950131920962,\n",
              " 3.877405140239766,\n",
              " 30.178231651461367,\n",
              " 30.183914345010315]"
            ]
          },
          "metadata": {}
        },
        {
          "output_type": "display_data",
          "data": {
            "text/plain": [
              "55"
            ]
          },
          "metadata": {}
        },
        {
          "output_type": "stream",
          "name": "stdout",
          "text": [
            "\n"
          ]
        },
        {
          "output_type": "display_data",
          "data": {
            "text/plain": [
              "[[0.017993405573442988,\n",
              "  0.9857749665219719,\n",
              "  0.0338682504345929,\n",
              "  0.06868968943108826],\n",
              " [0.0530579936786346,\n",
              "  0.6008211125797206,\n",
              "  0.016820444246505247,\n",
              "  0.0022321489915459007],\n",
              " [-0.009476250263942304,\n",
              "  -0.001379453891087727,\n",
              "  0.016820444246505247,\n",
              "  0.0016652353204545337],\n",
              " [-0.009476250263942304,\n",
              "  -0.001379453891087727,\n",
              "  0.016820444246505247,\n",
              "  0.0009234458904075302]]"
            ]
          },
          "metadata": {}
        },
        {
          "output_type": "stream",
          "name": "stdout",
          "text": [
            "\n"
          ]
        },
        {
          "output_type": "display_data",
          "data": {
            "text/plain": [
              "[0.03075950131920962,\n",
              " 3.877405140239766,\n",
              " 30.191350948806353,\n",
              " 30.183914345010315]"
            ]
          },
          "metadata": {}
        },
        {
          "output_type": "display_data",
          "data": {
            "text/plain": [
              "56"
            ]
          },
          "metadata": {}
        },
        {
          "output_type": "stream",
          "name": "stdout",
          "text": [
            "\n"
          ]
        },
        {
          "output_type": "display_data",
          "data": {
            "text/plain": [
              "[[0.017993405573442988,\n",
              "  0.9857749665219719,\n",
              "  0.0338682504345929,\n",
              "  0.06868968943108826],\n",
              " [0.0530579936786346,\n",
              "  0.6008211125797206,\n",
              "  0.016820444246505247,\n",
              "  0.0022321489915459007],\n",
              " [0.0530579936786346,\n",
              "  0.6008211125797206,\n",
              "  0.016820444246505247,\n",
              "  0.0009234458904075302],\n",
              " [-0.009476250263942304,\n",
              "  -0.001379453891087727,\n",
              "  -0.004881826612065845,\n",
              "  0.0022321489915459007]]"
            ]
          },
          "metadata": {}
        },
        {
          "output_type": "stream",
          "name": "stdout",
          "text": [
            "\n"
          ]
        },
        {
          "output_type": "display_data",
          "data": {
            "text/plain": [
              "[0.03075950131920962, 3.877405140239766, 30.39623202055544, 3.882076605951631]"
            ]
          },
          "metadata": {}
        },
        {
          "output_type": "display_data",
          "data": {
            "text/plain": [
              "57"
            ]
          },
          "metadata": {}
        },
        {
          "output_type": "stream",
          "name": "stdout",
          "text": [
            "\n"
          ]
        },
        {
          "output_type": "display_data",
          "data": {
            "text/plain": [
              "[[0.017993405573442988,\n",
              "  0.9857749665219719,\n",
              "  0.0338682504345929,\n",
              "  0.06868968943108826],\n",
              " [0.0530579936786346,\n",
              "  0.6008211125797206,\n",
              "  0.016820444246505247,\n",
              "  0.0022321489915459007],\n",
              " [-0.009476250263942304,\n",
              "  -0.0009950151499043425,\n",
              "  -0.004881826612065845,\n",
              "  0.0022321489915459007],\n",
              " [-0.009476250263942304,\n",
              "  -0.001379453891087727,\n",
              "  -0.004881826612065845,\n",
              "  0.0022321489915459007]]"
            ]
          },
          "metadata": {}
        },
        {
          "output_type": "stream",
          "name": "stdout",
          "text": [
            "\n"
          ]
        },
        {
          "output_type": "display_data",
          "data": {
            "text/plain": [
              "[0.03075950131920962, 3.877405140239766, 30.372631447474745, 30.39623202055544]"
            ]
          },
          "metadata": {}
        },
        {
          "output_type": "display_data",
          "data": {
            "text/plain": [
              "58"
            ]
          },
          "metadata": {}
        },
        {
          "output_type": "stream",
          "name": "stdout",
          "text": [
            "\n"
          ]
        },
        {
          "output_type": "display_data",
          "data": {
            "text/plain": [
              "[[0.017993405573442988,\n",
              "  0.9857749665219719,\n",
              "  0.0338682504345929,\n",
              "  0.06868968943108826],\n",
              " [0.0530579936786346,\n",
              "  0.6008211125797206,\n",
              "  0.016820444246505247,\n",
              "  0.0022321489915459007],\n",
              " [0.004785956639441188,\n",
              "  -0.0009950151499043425,\n",
              "  -0.004881826612065845,\n",
              "  0.0022321489915459007],\n",
              " [-0.009476250263942304,\n",
              "  -0.001379453891087727,\n",
              "  -0.004881826612065845,\n",
              "  0.0022321489915459007]]"
            ]
          },
          "metadata": {}
        },
        {
          "output_type": "stream",
          "name": "stdout",
          "text": [
            "\n"
          ]
        },
        {
          "output_type": "display_data",
          "data": {
            "text/plain": [
              "[0.03075950131920962, 3.877405140239766, 29.94364175567099, 30.39623202055544]"
            ]
          },
          "metadata": {}
        },
        {
          "output_type": "display_data",
          "data": {
            "text/plain": [
              "59"
            ]
          },
          "metadata": {}
        },
        {
          "output_type": "stream",
          "name": "stdout",
          "text": [
            "\n"
          ]
        },
        {
          "output_type": "display_data",
          "data": {
            "text/plain": [
              "[[0.017993405573442988,\n",
              "  0.9857749665219719,\n",
              "  0.0338682504345929,\n",
              "  0.06868968943108826],\n",
              " [0.0530579936786346,\n",
              "  0.6008211125797206,\n",
              "  0.016820444246505247,\n",
              "  0.0022321489915459007],\n",
              " [0.004785956639441188,\n",
              "  -0.0009950151499043425,\n",
              "  -0.004881826612065845,\n",
              "  0.0022321489915459007],\n",
              " [-0.00442310827449554,\n",
              "  -0.0009950151499043425,\n",
              "  -0.004881826612065845,\n",
              "  0.0022321489915459007]]"
            ]
          },
          "metadata": {}
        },
        {
          "output_type": "stream",
          "name": "stdout",
          "text": [
            "\n"
          ]
        },
        {
          "output_type": "display_data",
          "data": {
            "text/plain": [
              "[0.03075950131920962, 3.877405140239766, 30.220290123501755, 29.94364175567099]"
            ]
          },
          "metadata": {}
        },
        {
          "output_type": "display_data",
          "data": {
            "text/plain": [
              "60"
            ]
          },
          "metadata": {}
        },
        {
          "output_type": "stream",
          "name": "stdout",
          "text": [
            "\n"
          ]
        },
        {
          "output_type": "display_data",
          "data": {
            "text/plain": [
              "[[0.017993405573442988,\n",
              "  0.9857749665219719,\n",
              "  0.0338682504345929,\n",
              "  0.06868968943108826],\n",
              " [0.0530579936786346,\n",
              "  0.6008211125797206,\n",
              "  0.016820444246505247,\n",
              "  0.0022321489915459007],\n",
              " [0.004785956639441188,\n",
              "  -0.0009950151499043425,\n",
              "  -0.004881826612065845,\n",
              "  0.0022321489915459007],\n",
              " [0.0007872908665803468,\n",
              "  -0.0009950151499043425,\n",
              "  -0.004881826612065845,\n",
              "  0.0022321489915459007]]"
            ]
          },
          "metadata": {}
        },
        {
          "output_type": "stream",
          "name": "stdout",
          "text": [
            "\n"
          ]
        },
        {
          "output_type": "display_data",
          "data": {
            "text/plain": [
              "[0.03075950131920962, 3.877405140239766, 30.06360891443473, 29.94364175567099]"
            ]
          },
          "metadata": {}
        },
        {
          "output_type": "display_data",
          "data": {
            "text/plain": [
              "61"
            ]
          },
          "metadata": {}
        },
        {
          "output_type": "stream",
          "name": "stdout",
          "text": [
            "\n"
          ]
        },
        {
          "output_type": "display_data",
          "data": {
            "text/plain": [
              "[[0.017993405573442988,\n",
              "  0.9857749665219719,\n",
              "  0.0338682504345929,\n",
              "  0.06868968943108826],\n",
              " [0.0530579936786346,\n",
              "  0.6008211125797206,\n",
              "  0.016820444246505247,\n",
              "  0.0022321489915459007],\n",
              " [0.004785956639441188,\n",
              "  -0.0009950151499043425,\n",
              "  -0.004881826612065845,\n",
              "  0.0022321489915459007],\n",
              " [0.0007872908665803468,\n",
              "  -0.0009950151499043425,\n",
              "  -0.004881826612065845,\n",
              "  0.0022321489915459007]]"
            ]
          },
          "metadata": {}
        },
        {
          "output_type": "stream",
          "name": "stdout",
          "text": [
            "\n"
          ]
        },
        {
          "output_type": "display_data",
          "data": {
            "text/plain": [
              "[0.03075950131920962, 3.877405140239766, 29.94364175567099, 30.06360891443473]"
            ]
          },
          "metadata": {}
        },
        {
          "output_type": "display_data",
          "data": {
            "text/plain": [
              "62"
            ]
          },
          "metadata": {}
        },
        {
          "output_type": "stream",
          "name": "stdout",
          "text": [
            "\n"
          ]
        },
        {
          "output_type": "display_data",
          "data": {
            "text/plain": [
              "[[0.017993405573442988,\n",
              "  0.9857749665219719,\n",
              "  0.0338682504345929,\n",
              "  0.06868968943108826],\n",
              " [0.0530579936786346,\n",
              "  0.6008211125797206,\n",
              "  0.016820444246505247,\n",
              "  0.0022321489915459007],\n",
              " [0.004785956639441188,\n",
              "  -0.0009950151499043425,\n",
              "  -0.004881826612065845,\n",
              "  0.0022321489915459007],\n",
              " [0.0007872908665803468,\n",
              "  -0.0009950151499043425,\n",
              "  -0.004881826612065845,\n",
              "  0.0006123987312922432]]"
            ]
          },
          "metadata": {}
        },
        {
          "output_type": "stream",
          "name": "stdout",
          "text": [
            "\n"
          ]
        },
        {
          "output_type": "display_data",
          "data": {
            "text/plain": [
              "[0.03075950131920962, 3.877405140239766, 30.079827687282965, 29.94364175567099]"
            ]
          },
          "metadata": {}
        },
        {
          "output_type": "display_data",
          "data": {
            "text/plain": [
              "63"
            ]
          },
          "metadata": {}
        },
        {
          "output_type": "stream",
          "name": "stdout",
          "text": [
            "\n"
          ]
        },
        {
          "output_type": "display_data",
          "data": {
            "text/plain": [
              "[[0.017993405573442988,\n",
              "  0.9857749665219719,\n",
              "  0.0338682504345929,\n",
              "  0.06868968943108826],\n",
              " [0.0530579936786346,\n",
              "  0.6008211125797206,\n",
              "  0.016820444246505247,\n",
              "  0.0022321489915459007],\n",
              " [0.004785956639441188,\n",
              "  5.482357435839353e-05,\n",
              "  -0.004881826612065845,\n",
              "  0.0022321489915459007],\n",
              " [0.004785956639441188,\n",
              "  -0.0009950151499043425,\n",
              "  -0.004881826612065845,\n",
              "  0.0022321489915459007]]"
            ]
          },
          "metadata": {}
        },
        {
          "output_type": "stream",
          "name": "stdout",
          "text": [
            "\n"
          ]
        },
        {
          "output_type": "display_data",
          "data": {
            "text/plain": [
              "[0.03075950131920962, 3.877405140239766, 29.879695858116335, 29.94364175567099]"
            ]
          },
          "metadata": {}
        },
        {
          "output_type": "display_data",
          "data": {
            "text/plain": [
              "64"
            ]
          },
          "metadata": {}
        },
        {
          "output_type": "stream",
          "name": "stdout",
          "text": [
            "\n"
          ]
        },
        {
          "output_type": "display_data",
          "data": {
            "text/plain": [
              "[[0.017993405573442988,\n",
              "  0.9857749665219719,\n",
              "  0.0338682504345929,\n",
              "  0.06868968943108826],\n",
              " [0.0530579936786346,\n",
              "  0.6008211125797206,\n",
              "  0.016820444246505247,\n",
              "  0.0022321489915459007],\n",
              " [0.004785956639441188,\n",
              "  -0.0009950151499043425,\n",
              "  -0.004881826612065845,\n",
              "  0.0022321489915459007],\n",
              " [0.0008697303402004313,\n",
              "  -0.0009950151499043425,\n",
              "  -0.004881826612065845,\n",
              "  0.0022321489915459007]]"
            ]
          },
          "metadata": {}
        },
        {
          "output_type": "stream",
          "name": "stdout",
          "text": [
            "\n"
          ]
        },
        {
          "output_type": "display_data",
          "data": {
            "text/plain": [
              "[0.03075950131920962, 3.877405140239766, 30.06113316069564, 29.94364175567099]"
            ]
          },
          "metadata": {}
        },
        {
          "output_type": "display_data",
          "data": {
            "text/plain": [
              "65"
            ]
          },
          "metadata": {}
        },
        {
          "output_type": "stream",
          "name": "stdout",
          "text": [
            "\n"
          ]
        },
        {
          "output_type": "display_data",
          "data": {
            "text/plain": [
              "[[0.017993405573442988,\n",
              "  0.9857749665219719,\n",
              "  0.0338682504345929,\n",
              "  0.06868968943108826],\n",
              " [0.0530579936786346,\n",
              "  0.6008211125797206,\n",
              "  0.016820444246505247,\n",
              "  0.0022321489915459007],\n",
              " [0.0008697303402004313,\n",
              "  -0.0009950151499043425,\n",
              "  -0.004881826612065845,\n",
              "  0.0022321489915459007],\n",
              " [0.0008697303402004313,\n",
              "  -0.0009950151499043425,\n",
              "  -0.004881826612065845,\n",
              "  0.0022321489915459007]]"
            ]
          },
          "metadata": {}
        },
        {
          "output_type": "stream",
          "name": "stdout",
          "text": [
            "\n"
          ]
        },
        {
          "output_type": "display_data",
          "data": {
            "text/plain": [
              "[0.03075950131920962, 3.877405140239766, 30.06113316069564, 30.06113316069564]"
            ]
          },
          "metadata": {}
        },
        {
          "output_type": "display_data",
          "data": {
            "text/plain": [
              "66"
            ]
          },
          "metadata": {}
        },
        {
          "output_type": "stream",
          "name": "stdout",
          "text": [
            "\n"
          ]
        },
        {
          "output_type": "display_data",
          "data": {
            "text/plain": [
              "[[0.017993405573442988,\n",
              "  0.9857749665219719,\n",
              "  0.0338682504345929,\n",
              "  0.06868968943108826],\n",
              " [0.0530579936786346,\n",
              "  0.6008211125797206,\n",
              "  0.016820444246505247,\n",
              "  0.0022321489915459007],\n",
              " [0.0008697303402004313,\n",
              "  -0.0009950151499043425,\n",
              "  -0.004881826612065845,\n",
              "  0.0022321489915459007],\n",
              " [0.0008697303402004313,\n",
              "  -0.0009950151499043425,\n",
              "  -0.004881826612065845,\n",
              "  -0.0016902109679691895]]"
            ]
          },
          "metadata": {}
        },
        {
          "output_type": "stream",
          "name": "stdout",
          "text": [
            "\n"
          ]
        },
        {
          "output_type": "display_data",
          "data": {
            "text/plain": [
              "[0.03075950131920962, 3.877405140239766, 30.10041568283729, 30.06113316069564]"
            ]
          },
          "metadata": {}
        },
        {
          "output_type": "display_data",
          "data": {
            "text/plain": [
              "67"
            ]
          },
          "metadata": {}
        },
        {
          "output_type": "stream",
          "name": "stdout",
          "text": [
            "\n"
          ]
        },
        {
          "output_type": "display_data",
          "data": {
            "text/plain": [
              "[[0.017993405573442988,\n",
              "  0.9857749665219719,\n",
              "  0.0338682504345929,\n",
              "  0.06868968943108826],\n",
              " [0.0530579936786346,\n",
              "  0.6008211125797206,\n",
              "  0.016820444246505247,\n",
              "  0.0022321489915459007],\n",
              " [0.0008697303402004313,\n",
              "  0.6008211125797206,\n",
              "  0.016820444246505247,\n",
              "  0.0022321489915459007],\n",
              " [0.0530579936786346,\n",
              "  -0.0009950151499043425,\n",
              "  -0.004881826612065845,\n",
              "  -0.0016902109679691895]]"
            ]
          },
          "metadata": {}
        },
        {
          "output_type": "stream",
          "name": "stdout",
          "text": [
            "\n"
          ]
        },
        {
          "output_type": "display_data",
          "data": {
            "text/plain": [
              "[0.03075950131920962, 3.877405140239766, 28.552577016075908, 4.460621256159979]"
            ]
          },
          "metadata": {}
        },
        {
          "output_type": "display_data",
          "data": {
            "text/plain": [
              "68"
            ]
          },
          "metadata": {}
        },
        {
          "output_type": "stream",
          "name": "stdout",
          "text": [
            "\n"
          ]
        },
        {
          "output_type": "display_data",
          "data": {
            "text/plain": [
              "[[0.017993405573442988,\n",
              "  0.9857749665219719,\n",
              "  0.0338682504345929,\n",
              "  0.06868968943108826],\n",
              " [0.0530579936786346,\n",
              "  0.6008211125797206,\n",
              "  0.016820444246505247,\n",
              "  0.0022321489915459007],\n",
              " [0.0530579936786346,\n",
              "  0.6008211125797206,\n",
              "  0.016820444246505247,\n",
              "  0.0022321489915459007],\n",
              " [0.0008697303402004313,\n",
              "  -0.0009950151499043425,\n",
              "  -0.004881826612065845,\n",
              "  -0.0016902109679691895]]"
            ]
          },
          "metadata": {}
        },
        {
          "output_type": "stream",
          "name": "stdout",
          "text": [
            "\n"
          ]
        },
        {
          "output_type": "display_data",
          "data": {
            "text/plain": [
              "[0.03075950131920962, 3.877405140239766, 30.10041568283729, 3.877405140239766]"
            ]
          },
          "metadata": {}
        },
        {
          "output_type": "display_data",
          "data": {
            "text/plain": [
              "69"
            ]
          },
          "metadata": {}
        },
        {
          "output_type": "stream",
          "name": "stdout",
          "text": [
            "\n"
          ]
        },
        {
          "output_type": "display_data",
          "data": {
            "text/plain": [
              "[[0.017993405573442988,\n",
              "  0.9857749665219719,\n",
              "  0.0338682504345929,\n",
              "  0.06868968943108826],\n",
              " [0.0530579936786346,\n",
              "  0.6008211125797206,\n",
              "  0.016820444246505247,\n",
              "  0.0022321489915459007],\n",
              " [0.0008697303402004313,\n",
              "  -0.0009950151499043425,\n",
              "  -0.004881826612065845,\n",
              "  -0.0016902109679691895],\n",
              " [0.0008697303402004313,\n",
              "  -0.0009950151499043425,\n",
              "  -0.004881826612065845,\n",
              "  -0.0016902109679691895]]"
            ]
          },
          "metadata": {}
        },
        {
          "output_type": "stream",
          "name": "stdout",
          "text": [
            "\n"
          ]
        },
        {
          "output_type": "display_data",
          "data": {
            "text/plain": [
              "[0.03075950131920962, 3.877405140239766, 30.10041568283729, 30.10041568283729]"
            ]
          },
          "metadata": {}
        },
        {
          "output_type": "display_data",
          "data": {
            "text/plain": [
              "70"
            ]
          },
          "metadata": {}
        },
        {
          "output_type": "stream",
          "name": "stdout",
          "text": [
            "\n"
          ]
        },
        {
          "output_type": "display_data",
          "data": {
            "text/plain": [
              "[[0.017993405573442988,\n",
              "  0.9857749665219719,\n",
              "  0.0338682504345929,\n",
              "  0.06868968943108826],\n",
              " [0.0530579936786346,\n",
              "  0.6008211125797206,\n",
              "  0.016820444246505247,\n",
              "  0.0022321489915459007],\n",
              " [0.0530579936786346,\n",
              "  0.6008211125797206,\n",
              "  -0.004881826612065845,\n",
              "  -0.0016902109679691895],\n",
              " [0.0008697303402004313,\n",
              "  -0.0009950151499043425,\n",
              "  0.016820444246505247,\n",
              "  0.0022321489915459007]]"
            ]
          },
          "metadata": {}
        },
        {
          "output_type": "stream",
          "name": "stdout",
          "text": [
            "\n"
          ]
        },
        {
          "output_type": "display_data",
          "data": {
            "text/plain": [
              "[0.03075950131920962, 3.877405140239766, 29.84434054854404, 3.969496325474486]"
            ]
          },
          "metadata": {}
        },
        {
          "output_type": "display_data",
          "data": {
            "text/plain": [
              "71"
            ]
          },
          "metadata": {}
        },
        {
          "output_type": "stream",
          "name": "stdout",
          "text": [
            "\n"
          ]
        },
        {
          "output_type": "display_data",
          "data": {
            "text/plain": [
              "[[0.017993405573442988,\n",
              "  0.9857749665219719,\n",
              "  0.0338682504345929,\n",
              "  0.06868968943108826],\n",
              " [0.0530579936786346,\n",
              "  0.6008211125797206,\n",
              "  0.016820444246505247,\n",
              "  0.0022321489915459007],\n",
              " [0.0530579936786346,\n",
              "  0.6008211125797206,\n",
              "  -0.004881826612065845,\n",
              "  0.0022321489915459007],\n",
              " [0.0008697303402004313,\n",
              "  -0.0009950151499043425,\n",
              "  0.016820444246505247,\n",
              "  -0.0016902109679691895]]"
            ]
          },
          "metadata": {}
        },
        {
          "output_type": "stream",
          "name": "stdout",
          "text": [
            "\n"
          ]
        },
        {
          "output_type": "display_data",
          "data": {
            "text/plain": [
              "[0.03075950131920962, 3.877405140239766, 29.8834528224492, 3.955314811825663]"
            ]
          },
          "metadata": {}
        },
        {
          "output_type": "display_data",
          "data": {
            "text/plain": [
              "72"
            ]
          },
          "metadata": {}
        },
        {
          "output_type": "stream",
          "name": "stdout",
          "text": [
            "\n"
          ]
        },
        {
          "output_type": "display_data",
          "data": {
            "text/plain": [
              "[[0.017993405573442988,\n",
              "  0.9857749665219719,\n",
              "  0.0338682504345929,\n",
              "  0.06868968943108826],\n",
              " [0.0530579936786346,\n",
              "  0.6008211125797206,\n",
              "  0.016820444246505247,\n",
              "  0.0022321489915459007],\n",
              " [0.0008697303402004313,\n",
              "  -0.0009950151499043425,\n",
              "  0.016820444246505247,\n",
              "  -0.0016902109679691895],\n",
              " [-0.00032956341626838885,\n",
              "  -0.0009950151499043425,\n",
              "  0.016820444246505247,\n",
              "  -0.0016902109679691895]]"
            ]
          },
          "metadata": {}
        },
        {
          "output_type": "stream",
          "name": "stdout",
          "text": [
            "\n"
          ]
        },
        {
          "output_type": "display_data",
          "data": {
            "text/plain": [
              "[0.03075950131920962, 3.877405140239766, 29.919372444652026, 29.8834528224492]"
            ]
          },
          "metadata": {}
        },
        {
          "output_type": "display_data",
          "data": {
            "text/plain": [
              "73"
            ]
          },
          "metadata": {}
        },
        {
          "output_type": "stream",
          "name": "stdout",
          "text": [
            "\n"
          ]
        },
        {
          "output_type": "display_data",
          "data": {
            "text/plain": [
              "[[0.017993405573442988,\n",
              "  0.9857749665219719,\n",
              "  0.0338682504345929,\n",
              "  0.06868968943108826],\n",
              " [0.0530579936786346,\n",
              "  0.6008211125797206,\n",
              "  0.016820444246505247,\n",
              "  0.0022321489915459007],\n",
              " [0.0008697303402004313,\n",
              "  -0.0009950151499043425,\n",
              "  0.016820444246505247,\n",
              "  -0.0016902109679691895],\n",
              " [-0.00032956341626838885,\n",
              "  -0.0009950151499043425,\n",
              "  0.016820444246505247,\n",
              "  -0.0016902109679691895]]"
            ]
          },
          "metadata": {}
        },
        {
          "output_type": "stream",
          "name": "stdout",
          "text": [
            "\n"
          ]
        },
        {
          "output_type": "display_data",
          "data": {
            "text/plain": [
              "[0.03075950131920962, 3.877405140239766, 29.8834528224492, 29.919372444652026]"
            ]
          },
          "metadata": {}
        },
        {
          "output_type": "display_data",
          "data": {
            "text/plain": [
              "74"
            ]
          },
          "metadata": {}
        },
        {
          "output_type": "stream",
          "name": "stdout",
          "text": [
            "\n"
          ]
        },
        {
          "output_type": "display_data",
          "data": {
            "text/plain": [
              "[[0.017993405573442988,\n",
              "  0.9857749665219719,\n",
              "  0.0338682504345929,\n",
              "  0.06868968943108826],\n",
              " [0.0530579936786346,\n",
              "  0.6008211125797206,\n",
              "  0.016820444246505247,\n",
              "  0.0022321489915459007],\n",
              " [0.0008697303402004313,\n",
              "  -0.0009950151499043425,\n",
              "  0.016820444246505247,\n",
              "  -0.0016902109679691895],\n",
              " [-0.00032956341626838885,\n",
              "  -0.0009950151499043425,\n",
              "  0.016820444246505247,\n",
              "  -0.0016902109679691895]]"
            ]
          },
          "metadata": {}
        },
        {
          "output_type": "stream",
          "name": "stdout",
          "text": [
            "\n"
          ]
        },
        {
          "output_type": "display_data",
          "data": {
            "text/plain": [
              "[0.03075950131920962, 3.877405140239766, 29.8834528224492, 29.919372444652026]"
            ]
          },
          "metadata": {}
        },
        {
          "output_type": "display_data",
          "data": {
            "text/plain": [
              "75"
            ]
          },
          "metadata": {}
        },
        {
          "output_type": "stream",
          "name": "stdout",
          "text": [
            "\n"
          ]
        },
        {
          "output_type": "display_data",
          "data": {
            "text/plain": [
              "[[0.017993405573442988,\n",
              "  0.9857749665219719,\n",
              "  0.0338682504345929,\n",
              "  0.06868968943108826],\n",
              " [0.0530579936786346,\n",
              "  0.6008211125797206,\n",
              "  0.016820444246505247,\n",
              "  0.0022321489915459007],\n",
              " [-0.00032956341626838885,\n",
              "  -0.00017399151169242215,\n",
              "  0.016820444246505247,\n",
              "  -0.0016902109679691895],\n",
              " [-0.00032956341626838885,\n",
              "  -0.0009950151499043425,\n",
              "  0.016820444246505247,\n",
              "  -0.0016902109679691895]]"
            ]
          },
          "metadata": {}
        },
        {
          "output_type": "stream",
          "name": "stdout",
          "text": [
            "\n"
          ]
        },
        {
          "output_type": "display_data",
          "data": {
            "text/plain": [
              "[0.03075950131920962,\n",
              " 3.877405140239766,\n",
              " 29.869378694455342,\n",
              " 29.919372444652026]"
            ]
          },
          "metadata": {}
        },
        {
          "output_type": "display_data",
          "data": {
            "text/plain": [
              "76"
            ]
          },
          "metadata": {}
        },
        {
          "output_type": "stream",
          "name": "stdout",
          "text": [
            "\n"
          ]
        },
        {
          "output_type": "display_data",
          "data": {
            "text/plain": [
              "[[0.017993405573442988,\n",
              "  0.9857749665219719,\n",
              "  0.0338682504345929,\n",
              "  0.06868968943108826],\n",
              " [0.0530579936786346,\n",
              "  0.6008211125797206,\n",
              "  0.016820444246505247,\n",
              "  0.0022321489915459007],\n",
              " [-0.00032956341626838885,\n",
              "  -0.0009950151499043425,\n",
              "  0.016820444246505247,\n",
              "  -0.0016902109679691895],\n",
              " [-0.00032956341626838885,\n",
              "  -0.00017399151169242215,\n",
              "  -0.005613206815001074,\n",
              "  -0.0016902109679691895]]"
            ]
          },
          "metadata": {}
        },
        {
          "output_type": "stream",
          "name": "stdout",
          "text": [
            "\n"
          ]
        },
        {
          "output_type": "display_data",
          "data": {
            "text/plain": [
              "[0.03075950131920962,\n",
              " 3.877405140239766,\n",
              " 30.093616400877654,\n",
              " 29.919372444652026]"
            ]
          },
          "metadata": {}
        },
        {
          "output_type": "display_data",
          "data": {
            "text/plain": [
              "77"
            ]
          },
          "metadata": {}
        },
        {
          "output_type": "stream",
          "name": "stdout",
          "text": [
            "\n"
          ]
        },
        {
          "output_type": "display_data",
          "data": {
            "text/plain": [
              "[[0.017993405573442988,\n",
              "  0.9857749665219719,\n",
              "  0.0338682504345929,\n",
              "  0.06868968943108826],\n",
              " [0.0530579936786346,\n",
              "  0.6008211125797206,\n",
              "  0.016820444246505247,\n",
              "  0.0022321489915459007],\n",
              " [-0.00032956341626838885,\n",
              "  -0.00017399151169242215,\n",
              "  -0.005613206815001074,\n",
              "  -0.0016902109679691895],\n",
              " [-0.00032956341626838885,\n",
              "  -0.00017399151169242215,\n",
              "  -0.005613206815001074,\n",
              "  -0.0016902109679691895]]"
            ]
          },
          "metadata": {}
        },
        {
          "output_type": "stream",
          "name": "stdout",
          "text": [
            "\n"
          ]
        },
        {
          "output_type": "display_data",
          "data": {
            "text/plain": [
              "[0.03075950131920962,\n",
              " 3.877405140239766,\n",
              " 30.093616400877654,\n",
              " 30.093616400877654]"
            ]
          },
          "metadata": {}
        },
        {
          "output_type": "display_data",
          "data": {
            "text/plain": [
              "78"
            ]
          },
          "metadata": {}
        },
        {
          "output_type": "stream",
          "name": "stdout",
          "text": [
            "\n"
          ]
        },
        {
          "output_type": "display_data",
          "data": {
            "text/plain": [
              "[[0.017993405573442988,\n",
              "  0.9857749665219719,\n",
              "  0.0338682504345929,\n",
              "  0.06868968943108826],\n",
              " [0.0530579936786346,\n",
              "  0.6008211125797206,\n",
              "  0.016820444246505247,\n",
              "  0.0022321489915459007],\n",
              " [-0.00032956341626838885,\n",
              "  -0.00017399151169242215,\n",
              "  -0.005613206815001074,\n",
              "  -0.0016902109679691895],\n",
              " [-0.00032956341626838885,\n",
              "  -0.00017399151169242215,\n",
              "  -0.005613206815001074,\n",
              "  -0.0016902109679691895]]"
            ]
          },
          "metadata": {}
        },
        {
          "output_type": "stream",
          "name": "stdout",
          "text": [
            "\n"
          ]
        },
        {
          "output_type": "display_data",
          "data": {
            "text/plain": [
              "[0.03075950131920962,\n",
              " 3.877405140239766,\n",
              " 30.093616400877654,\n",
              " 30.093616400877654]"
            ]
          },
          "metadata": {}
        },
        {
          "output_type": "display_data",
          "data": {
            "text/plain": [
              "79"
            ]
          },
          "metadata": {}
        },
        {
          "output_type": "stream",
          "name": "stdout",
          "text": [
            "\n"
          ]
        },
        {
          "output_type": "display_data",
          "data": {
            "text/plain": [
              "[[0.017993405573442988,\n",
              "  0.9857749665219719,\n",
              "  0.0338682504345929,\n",
              "  0.06868968943108826],\n",
              " [0.0530579936786346,\n",
              "  0.6008211125797206,\n",
              "  0.016820444246505247,\n",
              "  0.0022321489915459007],\n",
              " [-0.00032956341626838885,\n",
              "  -0.00017399151169242215,\n",
              "  -0.005613206815001074,\n",
              "  -0.0016902109679691895],\n",
              " [-0.00032956341626838885,\n",
              "  -0.00017399151169242215,\n",
              "  -0.005613206815001074,\n",
              "  -0.0016902109679691895]]"
            ]
          },
          "metadata": {}
        },
        {
          "output_type": "stream",
          "name": "stdout",
          "text": [
            "\n"
          ]
        },
        {
          "output_type": "display_data",
          "data": {
            "text/plain": [
              "[0.03075950131920962,\n",
              " 3.877405140239766,\n",
              " 30.093616400877654,\n",
              " 30.093616400877654]"
            ]
          },
          "metadata": {}
        },
        {
          "output_type": "display_data",
          "data": {
            "text/plain": [
              "80"
            ]
          },
          "metadata": {}
        },
        {
          "output_type": "stream",
          "name": "stdout",
          "text": [
            "\n"
          ]
        },
        {
          "output_type": "display_data",
          "data": {
            "text/plain": [
              "[[0.017993405573442988,\n",
              "  0.9857749665219719,\n",
              "  0.0338682504345929,\n",
              "  0.06868968943108826],\n",
              " [0.0530579936786346,\n",
              "  0.6008211125797206,\n",
              "  0.016820444246505247,\n",
              "  0.0022321489915459007],\n",
              " [-0.00032956341626838885,\n",
              "  -0.00017399151169242215,\n",
              "  -0.005613206815001074,\n",
              "  -0.00023508569068259237],\n",
              " [-0.00032956341626838885,\n",
              "  -0.00017399151169242215,\n",
              "  -0.005613206815001074,\n",
              "  -0.0016902109679691895]]"
            ]
          },
          "metadata": {}
        },
        {
          "output_type": "stream",
          "name": "stdout",
          "text": [
            "\n"
          ]
        },
        {
          "output_type": "display_data",
          "data": {
            "text/plain": [
              "[0.03075950131920962,\n",
              " 3.877405140239766,\n",
              " 30.079041030508062,\n",
              " 30.093616400877654]"
            ]
          },
          "metadata": {}
        },
        {
          "output_type": "display_data",
          "data": {
            "text/plain": [
              "81"
            ]
          },
          "metadata": {}
        },
        {
          "output_type": "stream",
          "name": "stdout",
          "text": [
            "\n"
          ]
        },
        {
          "output_type": "display_data",
          "data": {
            "text/plain": [
              "[[0.017993405573442988,\n",
              "  0.9857749665219719,\n",
              "  0.0338682504345929,\n",
              "  0.06868968943108826],\n",
              " [0.0530579936786346,\n",
              "  0.6008211125797206,\n",
              "  0.016820444246505247,\n",
              "  0.0022321489915459007],\n",
              " [-0.00032956341626838885,\n",
              "  0.00015947983931323867,\n",
              "  -0.005613206815001074,\n",
              "  -0.00023508569068259237],\n",
              " [-0.00032956341626838885,\n",
              "  -0.00017399151169242215,\n",
              "  -0.005613206815001074,\n",
              "  -0.0016902109679691895]]"
            ]
          },
          "metadata": {}
        },
        {
          "output_type": "stream",
          "name": "stdout",
          "text": [
            "\n"
          ]
        },
        {
          "output_type": "display_data",
          "data": {
            "text/plain": [
              "[0.03075950131920962, 3.877405140239766, 30.05867588365595, 30.093616400877654]"
            ]
          },
          "metadata": {}
        },
        {
          "output_type": "display_data",
          "data": {
            "text/plain": [
              "82"
            ]
          },
          "metadata": {}
        },
        {
          "output_type": "stream",
          "name": "stdout",
          "text": [
            "\n"
          ]
        },
        {
          "output_type": "display_data",
          "data": {
            "text/plain": [
              "[[0.017993405573442988,\n",
              "  0.9857749665219719,\n",
              "  0.0338682504345929,\n",
              "  0.06868968943108826],\n",
              " [0.0530579936786346,\n",
              "  0.6008211125797206,\n",
              "  0.016820444246505247,\n",
              "  0.0022321489915459007],\n",
              " [-0.00032956341626838885,\n",
              "  0.00015947983931323867,\n",
              "  -0.005613206815001074,\n",
              "  -0.0016902109679691895],\n",
              " [-0.00020890098802947945,\n",
              "  -0.00017399151169242215,\n",
              "  -0.005613206815001074,\n",
              "  -0.00023508569068259237]]"
            ]
          },
          "metadata": {}
        },
        {
          "output_type": "stream",
          "name": "stdout",
          "text": [
            "\n"
          ]
        },
        {
          "output_type": "display_data",
          "data": {
            "text/plain": [
              "[0.03075950131920962,\n",
              " 3.877405140239766,\n",
              " 30.075416501697585,\n",
              " 30.073246304551105]"
            ]
          },
          "metadata": {}
        },
        {
          "output_type": "display_data",
          "data": {
            "text/plain": [
              "83"
            ]
          },
          "metadata": {}
        },
        {
          "output_type": "stream",
          "name": "stdout",
          "text": [
            "\n"
          ]
        },
        {
          "output_type": "display_data",
          "data": {
            "text/plain": [
              "[[0.017993405573442988,\n",
              "  0.9857749665219719,\n",
              "  0.0338682504345929,\n",
              "  0.06868968943108826],\n",
              " [0.0530579936786346,\n",
              "  0.6008211125797206,\n",
              "  0.016820444246505247,\n",
              "  0.0022321489915459007],\n",
              " [-0.00032956341626838885,\n",
              "  0.00015947983931323867,\n",
              "  -0.005613206815001074,\n",
              "  -0.00023508569068259237],\n",
              " [-0.00020890098802947945,\n",
              "  -0.00017399151169242215,\n",
              "  -0.005613206815001074,\n",
              "  -0.0016902109679691895]]"
            ]
          },
          "metadata": {}
        },
        {
          "output_type": "stream",
          "name": "stdout",
          "text": [
            "\n"
          ]
        },
        {
          "output_type": "display_data",
          "data": {
            "text/plain": [
              "[0.03075950131920962, 3.877405140239766, 30.05867588365595, 30.08999099417243]"
            ]
          },
          "metadata": {}
        },
        {
          "output_type": "display_data",
          "data": {
            "text/plain": [
              "84"
            ]
          },
          "metadata": {}
        },
        {
          "output_type": "stream",
          "name": "stdout",
          "text": [
            "\n"
          ]
        },
        {
          "output_type": "display_data",
          "data": {
            "text/plain": [
              "[[0.017993405573442988,\n",
              "  0.9857749665219719,\n",
              "  0.0338682504345929,\n",
              "  0.06868968943108826],\n",
              " [0.0530579936786346,\n",
              "  0.6008211125797206,\n",
              "  0.016820444246505247,\n",
              "  0.0022321489915459007],\n",
              " [-0.00020890098802947945,\n",
              "  0.00015947983931323867,\n",
              "  -0.005613206815001074,\n",
              "  -0.00023508569068259237],\n",
              " [-0.00032956341626838885,\n",
              "  -0.00017399151169242215,\n",
              "  -0.005613206815001074,\n",
              "  -0.0016902109679691895]]"
            ]
          },
          "metadata": {}
        },
        {
          "output_type": "stream",
          "name": "stdout",
          "text": [
            "\n"
          ]
        },
        {
          "output_type": "display_data",
          "data": {
            "text/plain": [
              "[0.03075950131920962,\n",
              " 3.877405140239766,\n",
              " 30.055052582088095,\n",
              " 30.093616400877654]"
            ]
          },
          "metadata": {}
        },
        {
          "output_type": "display_data",
          "data": {
            "text/plain": [
              "85"
            ]
          },
          "metadata": {}
        },
        {
          "output_type": "stream",
          "name": "stdout",
          "text": [
            "\n"
          ]
        },
        {
          "output_type": "display_data",
          "data": {
            "text/plain": [
              "[[0.017993405573442988,\n",
              "  0.9857749665219719,\n",
              "  0.0338682504345929,\n",
              "  0.06868968943108826],\n",
              " [0.0530579936786346,\n",
              "  0.6008211125797206,\n",
              "  0.016820444246505247,\n",
              "  0.0022321489915459007],\n",
              " [-0.00020890098802947945,\n",
              "  0.00015947983931323867,\n",
              "  -0.005613206815001074,\n",
              "  -0.00023508569068259237],\n",
              " [-0.00020890098802947945,\n",
              "  0.00015947983931323867,\n",
              "  -0.005613206815001074,\n",
              "  -0.00023508569068259237]]"
            ]
          },
          "metadata": {}
        },
        {
          "output_type": "stream",
          "name": "stdout",
          "text": [
            "\n"
          ]
        },
        {
          "output_type": "display_data",
          "data": {
            "text/plain": [
              "[0.03075950131920962,\n",
              " 3.877405140239766,\n",
              " 30.055052582088095,\n",
              " 30.055052582088095]"
            ]
          },
          "metadata": {}
        },
        {
          "output_type": "display_data",
          "data": {
            "text/plain": [
              "86"
            ]
          },
          "metadata": {}
        },
        {
          "output_type": "stream",
          "name": "stdout",
          "text": [
            "\n"
          ]
        },
        {
          "output_type": "display_data",
          "data": {
            "text/plain": [
              "[[0.017993405573442988,\n",
              "  0.9857749665219719,\n",
              "  0.0338682504345929,\n",
              "  0.06868968943108826],\n",
              " [0.0530579936786346,\n",
              "  0.6008211125797206,\n",
              "  0.016820444246505247,\n",
              "  0.0022321489915459007],\n",
              " [-0.00020890098802947945,\n",
              "  0.00015947983931323867,\n",
              "  -0.003991176942861341,\n",
              "  -0.00023508569068259237],\n",
              " [-0.00020890098802947945,\n",
              "  0.00015947983931323867,\n",
              "  -0.005613206815001074,\n",
              "  -0.00023508569068259237]]"
            ]
          },
          "metadata": {}
        },
        {
          "output_type": "stream",
          "name": "stdout",
          "text": [
            "\n"
          ]
        },
        {
          "output_type": "display_data",
          "data": {
            "text/plain": [
              "[0.03075950131920962,\n",
              " 3.877405140239766,\n",
              " 30.038816886465945,\n",
              " 30.055052582088095]"
            ]
          },
          "metadata": {}
        },
        {
          "output_type": "display_data",
          "data": {
            "text/plain": [
              "87"
            ]
          },
          "metadata": {}
        },
        {
          "output_type": "stream",
          "name": "stdout",
          "text": [
            "\n"
          ]
        },
        {
          "output_type": "display_data",
          "data": {
            "text/plain": [
              "[[0.017993405573442988,\n",
              "  0.9857749665219719,\n",
              "  0.0338682504345929,\n",
              "  0.06868968943108826],\n",
              " [0.0530579936786346,\n",
              "  0.6008211125797206,\n",
              "  0.016820444246505247,\n",
              "  0.0022321489915459007],\n",
              " [-0.00020890098802947945,\n",
              "  0.00015947983931323867,\n",
              "  -0.005613206815001074,\n",
              "  -0.00023508569068259237],\n",
              " [-0.00020890098802947945,\n",
              "  0.00010247574809999254,\n",
              "  -0.005613206815001074,\n",
              "  -0.00023508569068259237]]"
            ]
          },
          "metadata": {}
        },
        {
          "output_type": "stream",
          "name": "stdout",
          "text": [
            "\n"
          ]
        },
        {
          "output_type": "display_data",
          "data": {
            "text/plain": [
              "[0.03075950131920962, 3.877405140239766, 30.05853313223578, 30.055052582088095]"
            ]
          },
          "metadata": {}
        },
        {
          "output_type": "display_data",
          "data": {
            "text/plain": [
              "88"
            ]
          },
          "metadata": {}
        },
        {
          "output_type": "stream",
          "name": "stdout",
          "text": [
            "\n"
          ]
        },
        {
          "output_type": "display_data",
          "data": {
            "text/plain": [
              "[[0.017993405573442988,\n",
              "  0.9857749665219719,\n",
              "  0.0338682504345929,\n",
              "  0.06868968943108826],\n",
              " [0.0530579936786346,\n",
              "  0.6008211125797206,\n",
              "  0.016820444246505247,\n",
              "  0.0022321489915459007],\n",
              " [-0.00020890098802947945,\n",
              "  0.00015947983931323867,\n",
              "  -0.005613206815001074,\n",
              "  -0.00023508569068259237],\n",
              " [-0.00020890098802947945,\n",
              "  0.00015947983931323867,\n",
              "  -0.005613206815001074,\n",
              "  -0.00023508569068259237]]"
            ]
          },
          "metadata": {}
        },
        {
          "output_type": "stream",
          "name": "stdout",
          "text": [
            "\n"
          ]
        },
        {
          "output_type": "display_data",
          "data": {
            "text/plain": [
              "[0.03075950131920962,\n",
              " 3.877405140239766,\n",
              " 30.055052582088095,\n",
              " 30.055052582088095]"
            ]
          },
          "metadata": {}
        },
        {
          "output_type": "display_data",
          "data": {
            "text/plain": [
              "89"
            ]
          },
          "metadata": {}
        },
        {
          "output_type": "stream",
          "name": "stdout",
          "text": [
            "\n"
          ]
        },
        {
          "output_type": "display_data",
          "data": {
            "text/plain": [
              "[[0.017993405573442988,\n",
              "  0.9857749665219719,\n",
              "  0.0338682504345929,\n",
              "  0.06868968943108826],\n",
              " [0.0530579936786346,\n",
              "  0.6008211125797206,\n",
              "  0.016820444246505247,\n",
              "  0.0022321489915459007],\n",
              " [-0.00020890098802947945,\n",
              "  0.00015947983931323867,\n",
              "  0.005196169016113527,\n",
              "  -0.00023508569068259237],\n",
              " [-0.00020890098802947945,\n",
              "  0.00015947983931323867,\n",
              "  -0.005613206815001074,\n",
              "  -0.00023508569068259237]]"
            ]
          },
          "metadata": {}
        },
        {
          "output_type": "stream",
          "name": "stdout",
          "text": [
            "\n"
          ]
        },
        {
          "output_type": "display_data",
          "data": {
            "text/plain": [
              "[0.03075950131920962,\n",
              " 3.877405140239766,\n",
              " 29.946955526703732,\n",
              " 30.055052582088095]"
            ]
          },
          "metadata": {}
        },
        {
          "output_type": "display_data",
          "data": {
            "text/plain": [
              "90"
            ]
          },
          "metadata": {}
        },
        {
          "output_type": "stream",
          "name": "stdout",
          "text": [
            "\n"
          ]
        },
        {
          "output_type": "display_data",
          "data": {
            "text/plain": [
              "[[0.017993405573442988,\n",
              "  0.9857749665219719,\n",
              "  0.0338682504345929,\n",
              "  0.06868968943108826],\n",
              " [0.0530579936786346,\n",
              "  0.6008211125797206,\n",
              "  0.016820444246505247,\n",
              "  0.0022321489915459007],\n",
              " [-0.00020890098802947945,\n",
              "  0.00015947983931323867,\n",
              "  0.005196169016113527,\n",
              "  -0.00023508569068259237],\n",
              " [-0.00020890098802947945,\n",
              "  0.00015947983931323867,\n",
              "  0.005196169016113527,\n",
              "  -0.00023508569068259237]]"
            ]
          },
          "metadata": {}
        },
        {
          "output_type": "stream",
          "name": "stdout",
          "text": [
            "\n"
          ]
        },
        {
          "output_type": "display_data",
          "data": {
            "text/plain": [
              "[0.03075950131920962,\n",
              " 3.877405140239766,\n",
              " 29.946955526703732,\n",
              " 29.946955526703732]"
            ]
          },
          "metadata": {}
        },
        {
          "output_type": "display_data",
          "data": {
            "text/plain": [
              "91"
            ]
          },
          "metadata": {}
        },
        {
          "output_type": "stream",
          "name": "stdout",
          "text": [
            "\n"
          ]
        },
        {
          "output_type": "display_data",
          "data": {
            "text/plain": [
              "[[0.017993405573442988,\n",
              "  0.9857749665219719,\n",
              "  0.0338682504345929,\n",
              "  0.06868968943108826],\n",
              " [0.0530579936786346,\n",
              "  0.6008211125797206,\n",
              "  0.016820444246505247,\n",
              "  0.0022321489915459007],\n",
              " [-0.00020890098802947945,\n",
              "  0.00015947983931323867,\n",
              "  0.005196169016113527,\n",
              "  -0.00023508569068259237],\n",
              " [-0.00020890098802947945,\n",
              "  0.00015947983931323867,\n",
              "  0.005196169016113527,\n",
              "  -0.00023508569068259237]]"
            ]
          },
          "metadata": {}
        },
        {
          "output_type": "stream",
          "name": "stdout",
          "text": [
            "\n"
          ]
        },
        {
          "output_type": "display_data",
          "data": {
            "text/plain": [
              "[0.03075950131920962,\n",
              " 3.877405140239766,\n",
              " 29.946955526703732,\n",
              " 29.946955526703732]"
            ]
          },
          "metadata": {}
        },
        {
          "output_type": "display_data",
          "data": {
            "text/plain": [
              "92"
            ]
          },
          "metadata": {}
        },
        {
          "output_type": "stream",
          "name": "stdout",
          "text": [
            "\n"
          ]
        },
        {
          "output_type": "display_data",
          "data": {
            "text/plain": [
              "[[0.017993405573442988,\n",
              "  0.9857749665219719,\n",
              "  0.0338682504345929,\n",
              "  0.06868968943108826],\n",
              " [0.0530579936786346,\n",
              "  0.6008211125797206,\n",
              "  0.016820444246505247,\n",
              "  0.0022321489915459007],\n",
              " [-0.00020890098802947945,\n",
              "  0.00015947983931323867,\n",
              "  0.005196169016113527,\n",
              "  0.00010142902758559411],\n",
              " [-0.00020890098802947945,\n",
              "  0.00015947983931323867,\n",
              "  0.005196169016113527,\n",
              "  -0.00023508569068259237]]"
            ]
          },
          "metadata": {}
        },
        {
          "output_type": "stream",
          "name": "stdout",
          "text": [
            "\n"
          ]
        },
        {
          "output_type": "display_data",
          "data": {
            "text/plain": [
              "[0.03075950131920962, 3.877405140239766, 29.94359402763363, 29.946955526703732]"
            ]
          },
          "metadata": {}
        },
        {
          "output_type": "display_data",
          "data": {
            "text/plain": [
              "93"
            ]
          },
          "metadata": {}
        },
        {
          "output_type": "stream",
          "name": "stdout",
          "text": [
            "\n"
          ]
        },
        {
          "output_type": "display_data",
          "data": {
            "text/plain": [
              "[[0.017993405573442988,\n",
              "  0.9857749665219719,\n",
              "  0.0338682504345929,\n",
              "  0.06868968943108826],\n",
              " [0.0530579936786346,\n",
              "  0.6008211125797206,\n",
              "  0.016820444246505247,\n",
              "  0.0022321489915459007],\n",
              " [-0.00020890098802947945,\n",
              "  0.00015947983931323867,\n",
              "  0.005196169016113527,\n",
              "  4.07233131889154e-05],\n",
              " [-0.00020890098802947945,\n",
              "  0.00015947983931323867,\n",
              "  0.005196169016113527,\n",
              "  -0.00023508569068259237]]"
            ]
          },
          "metadata": {}
        },
        {
          "output_type": "stream",
          "name": "stdout",
          "text": [
            "\n"
          ]
        },
        {
          "output_type": "display_data",
          "data": {
            "text/plain": [
              "[0.03075950131920962,\n",
              " 3.877405140239766,\n",
              " 29.944200409931607,\n",
              " 29.946955526703732]"
            ]
          },
          "metadata": {}
        },
        {
          "output_type": "display_data",
          "data": {
            "text/plain": [
              "94"
            ]
          },
          "metadata": {}
        },
        {
          "output_type": "stream",
          "name": "stdout",
          "text": [
            "\n"
          ]
        },
        {
          "output_type": "display_data",
          "data": {
            "text/plain": [
              "[[0.017993405573442988,\n",
              "  0.9857749665219719,\n",
              "  0.0338682504345929,\n",
              "  0.06868968943108826],\n",
              " [0.0530579936786346,\n",
              "  0.6008211125797206,\n",
              "  0.016820444246505247,\n",
              "  0.0022321489915459007],\n",
              " [-0.00020890098802947945,\n",
              "  0.00015947983931323867,\n",
              "  0.005196169016113527,\n",
              "  -0.00023508569068259237],\n",
              " [-0.00020890098802947945,\n",
              "  -0.00014733947139853072,\n",
              "  0.005196169016113527,\n",
              "  4.07233131889154e-05]]"
            ]
          },
          "metadata": {}
        },
        {
          "output_type": "stream",
          "name": "stdout",
          "text": [
            "\n"
          ]
        },
        {
          "output_type": "display_data",
          "data": {
            "text/plain": [
              "[0.03075950131920962,\n",
              " 3.877405140239766,\n",
              " 29.962901838116153,\n",
              " 29.946955526703732]"
            ]
          },
          "metadata": {}
        },
        {
          "output_type": "display_data",
          "data": {
            "text/plain": [
              "95"
            ]
          },
          "metadata": {}
        },
        {
          "output_type": "stream",
          "name": "stdout",
          "text": [
            "\n"
          ]
        },
        {
          "output_type": "display_data",
          "data": {
            "text/plain": [
              "[[0.017993405573442988,\n",
              "  0.9857749665219719,\n",
              "  0.0338682504345929,\n",
              "  0.06868968943108826],\n",
              " [0.0530579936786346,\n",
              "  0.6008211125797206,\n",
              "  0.016820444246505247,\n",
              "  0.0022321489915459007],\n",
              " [-0.00020890098802947945,\n",
              "  0.00015947983931323867,\n",
              "  0.005196169016113527,\n",
              "  4.07233131889154e-05],\n",
              " [-0.00020890098802947945,\n",
              "  -0.00014733947139853072,\n",
              "  0.005196169016113527,\n",
              "  -0.00023508569068259237]]"
            ]
          },
          "metadata": {}
        },
        {
          "output_type": "stream",
          "name": "stdout",
          "text": [
            "\n"
          ]
        },
        {
          "output_type": "display_data",
          "data": {
            "text/plain": [
              "[0.03075950131920962, 3.877405140239766, 29.96565781804827, 29.944200409931607]"
            ]
          },
          "metadata": {}
        },
        {
          "output_type": "display_data",
          "data": {
            "text/plain": [
              "96"
            ]
          },
          "metadata": {}
        },
        {
          "output_type": "stream",
          "name": "stdout",
          "text": [
            "\n"
          ]
        },
        {
          "output_type": "display_data",
          "data": {
            "text/plain": [
              "[[0.017993405573442988,\n",
              "  0.9857749665219719,\n",
              "  0.0338682504345929,\n",
              "  0.06868968943108826],\n",
              " [0.0530579936786346,\n",
              "  0.6008211125797206,\n",
              "  0.016820444246505247,\n",
              "  0.0022321489915459007],\n",
              " [-0.00020890098802947945,\n",
              "  -0.00014733947139853072,\n",
              "  0.005196169016113527,\n",
              "  -0.00023508569068259237],\n",
              " [-0.00020890098802947945,\n",
              "  -0.00014733947139853072,\n",
              "  0.005196169016113527,\n",
              "  -0.00023508569068259237]]"
            ]
          },
          "metadata": {}
        },
        {
          "output_type": "stream",
          "name": "stdout",
          "text": [
            "\n"
          ]
        },
        {
          "output_type": "display_data",
          "data": {
            "text/plain": [
              "[0.03075950131920962, 3.877405140239766, 29.96565781804827, 29.96565781804827]"
            ]
          },
          "metadata": {}
        },
        {
          "output_type": "display_data",
          "data": {
            "text/plain": [
              "97"
            ]
          },
          "metadata": {}
        },
        {
          "output_type": "stream",
          "name": "stdout",
          "text": [
            "\n"
          ]
        },
        {
          "output_type": "display_data",
          "data": {
            "text/plain": [
              "[[0.017993405573442988,\n",
              "  0.9857749665219719,\n",
              "  0.0338682504345929,\n",
              "  0.06868968943108826],\n",
              " [0.0530579936786346,\n",
              "  0.6008211125797206,\n",
              "  0.016820444246505247,\n",
              "  0.0022321489915459007],\n",
              " [8.737178003144502e-05,\n",
              "  -0.00014733947139853072,\n",
              "  0.005196169016113527,\n",
              "  -0.00023508569068259237],\n",
              " [-0.00020890098802947945,\n",
              "  -0.00014733947139853072,\n",
              "  0.005196169016113527,\n",
              "  -0.00023508569068259237]]"
            ]
          },
          "metadata": {}
        },
        {
          "output_type": "stream",
          "name": "stdout",
          "text": [
            "\n"
          ]
        },
        {
          "output_type": "display_data",
          "data": {
            "text/plain": [
              "[0.03075950131920962, 3.877405140239766, 29.9567753827259, 29.96565781804827]"
            ]
          },
          "metadata": {}
        },
        {
          "output_type": "display_data",
          "data": {
            "text/plain": [
              "98"
            ]
          },
          "metadata": {}
        },
        {
          "output_type": "stream",
          "name": "stdout",
          "text": [
            "\n"
          ]
        },
        {
          "output_type": "display_data",
          "data": {
            "text/plain": [
              "[[0.017993405573442988,\n",
              "  0.9857749665219719,\n",
              "  0.0338682504345929,\n",
              "  0.06868968943108826],\n",
              " [0.0530579936786346,\n",
              "  0.6008211125797206,\n",
              "  0.016820444246505247,\n",
              "  0.0022321489915459007],\n",
              " [8.737178003144502e-05,\n",
              "  -0.00014733947139853072,\n",
              "  0.005196169016113527,\n",
              "  -0.00023508569068259237],\n",
              " [8.737178003144502e-05,\n",
              "  -0.00014733947139853072,\n",
              "  0.005196169016113527,\n",
              "  -0.00023508569068259237]]"
            ]
          },
          "metadata": {}
        },
        {
          "output_type": "stream",
          "name": "stdout",
          "text": [
            "\n"
          ]
        },
        {
          "output_type": "display_data",
          "data": {
            "text/plain": [
              "[0.03075950131920962, 3.877405140239766, 29.9567753827259, 29.9567753827259]"
            ]
          },
          "metadata": {}
        },
        {
          "output_type": "display_data",
          "data": {
            "text/plain": [
              "99"
            ]
          },
          "metadata": {}
        },
        {
          "output_type": "stream",
          "name": "stdout",
          "text": [
            "\n"
          ]
        },
        {
          "output_type": "display_data",
          "data": {
            "text/plain": [
              "[[0.017993405573442988,\n",
              "  0.9857749665219719,\n",
              "  0.0338682504345929,\n",
              "  0.06868968943108826],\n",
              " [0.0530579936786346,\n",
              "  0.6008211125797206,\n",
              "  0.016820444246505247,\n",
              "  0.0022321489915459007],\n",
              " [8.737178003144502e-05,\n",
              "  -0.00014733947139853072,\n",
              "  0.005196169016113527,\n",
              "  0.00020008021153322726],\n",
              " [8.737178003144502e-05,\n",
              "  -0.00014733947139853072,\n",
              "  0.005196169016113527,\n",
              "  -0.00023508569068259237]]"
            ]
          },
          "metadata": {}
        },
        {
          "output_type": "stream",
          "name": "stdout",
          "text": [
            "\n"
          ]
        },
        {
          "output_type": "display_data",
          "data": {
            "text/plain": [
              "[0.03075950131920962, 3.877405140239766, 29.952427766973244, 29.9567753827259]"
            ]
          },
          "metadata": {}
        },
        {
          "output_type": "display_data",
          "data": {
            "text/plain": [
              "100"
            ]
          },
          "metadata": {}
        },
        {
          "output_type": "stream",
          "name": "stdout",
          "text": [
            "\n"
          ]
        },
        {
          "output_type": "display_data",
          "data": {
            "text/plain": [
              "[[0.017993405573442988,\n",
              "  0.9857749665219719,\n",
              "  0.0338682504345929,\n",
              "  0.06868968943108826],\n",
              " [0.0530579936786346,\n",
              "  0.6008211125797206,\n",
              "  0.016820444246505247,\n",
              "  0.0022321489915459007],\n",
              " [8.737178003144502e-05,\n",
              "  -0.00014733947139853072,\n",
              "  0.005196169016113527,\n",
              "  -0.00023508569068259237],\n",
              " [8.737178003144502e-05,\n",
              "  -0.00014733947139853072,\n",
              "  0.005196169016113527,\n",
              "  -0.00023508569068259237]]"
            ]
          },
          "metadata": {}
        },
        {
          "output_type": "stream",
          "name": "stdout",
          "text": [
            "\n"
          ]
        },
        {
          "output_type": "display_data",
          "data": {
            "text/plain": [
              "[0.03075950131920962, 3.877405140239766, 29.9567753827259, 29.9567753827259]"
            ]
          },
          "metadata": {}
        },
        {
          "output_type": "display_data",
          "data": {
            "text/plain": [
              "101"
            ]
          },
          "metadata": {}
        },
        {
          "output_type": "stream",
          "name": "stdout",
          "text": [
            "\n"
          ]
        },
        {
          "output_type": "display_data",
          "data": {
            "text/plain": [
              "[[0.017993405573442988,\n",
              "  0.9857749665219719,\n",
              "  0.0338682504345929,\n",
              "  0.06868968943108826],\n",
              " [0.0530579936786346,\n",
              "  0.6008211125797206,\n",
              "  0.016820444246505247,\n",
              "  0.0022321489915459007],\n",
              " [8.737178003144502e-05,\n",
              "  -0.00014733947139853072,\n",
              "  0.005196169016113527,\n",
              "  -0.00023508569068259237],\n",
              " [8.737178003144502e-05,\n",
              "  -0.00014733947139853072,\n",
              "  0.005196169016113527,\n",
              "  -0.00023508569068259237]]"
            ]
          },
          "metadata": {}
        },
        {
          "output_type": "stream",
          "name": "stdout",
          "text": [
            "\n"
          ]
        },
        {
          "output_type": "display_data",
          "data": {
            "text/plain": [
              "[0.03075950131920962, 3.877405140239766, 29.9567753827259, 29.9567753827259]"
            ]
          },
          "metadata": {}
        },
        {
          "output_type": "display_data",
          "data": {
            "text/plain": [
              "102"
            ]
          },
          "metadata": {}
        },
        {
          "output_type": "stream",
          "name": "stdout",
          "text": [
            "\n"
          ]
        },
        {
          "output_type": "display_data",
          "data": {
            "text/plain": [
              "[[0.017993405573442988,\n",
              "  0.9857749665219719,\n",
              "  0.0338682504345929,\n",
              "  0.06868968943108826],\n",
              " [0.0530579936786346,\n",
              "  0.6008211125797206,\n",
              "  0.016820444246505247,\n",
              "  0.0022321489915459007],\n",
              " [8.737178003144502e-05,\n",
              "  -0.00011092565788444167,\n",
              "  0.005196169016113527,\n",
              "  -0.00023508569068259237],\n",
              " [8.737178003144502e-05,\n",
              "  -0.00014733947139853072,\n",
              "  0.005196169016113527,\n",
              "  -0.00023508569068259237]]"
            ]
          },
          "metadata": {}
        },
        {
          "output_type": "stream",
          "name": "stdout",
          "text": [
            "\n"
          ]
        },
        {
          "output_type": "display_data",
          "data": {
            "text/plain": [
              "[0.03075950131920962, 3.877405140239766, 29.954555788157514, 29.9567753827259]"
            ]
          },
          "metadata": {}
        },
        {
          "output_type": "display_data",
          "data": {
            "text/plain": [
              "103"
            ]
          },
          "metadata": {}
        },
        {
          "output_type": "stream",
          "name": "stdout",
          "text": [
            "\n"
          ]
        },
        {
          "output_type": "display_data",
          "data": {
            "text/plain": [
              "[[0.017993405573442988,\n",
              "  0.9857749665219719,\n",
              "  0.0338682504345929,\n",
              "  0.06868968943108826],\n",
              " [0.0530579936786346,\n",
              "  0.6008211125797206,\n",
              "  0.016820444246505247,\n",
              "  0.0022321489915459007],\n",
              " [8.737178003144502e-05,\n",
              "  -0.00011092565788444167,\n",
              "  0.005196169016113527,\n",
              "  -0.00023508569068259237],\n",
              " [8.737178003144502e-05,\n",
              "  -0.00011092565788444167,\n",
              "  0.00030441266302967484,\n",
              "  -0.00023508569068259237]]"
            ]
          },
          "metadata": {}
        },
        {
          "output_type": "stream",
          "name": "stdout",
          "text": [
            "\n"
          ]
        },
        {
          "output_type": "display_data",
          "data": {
            "text/plain": [
              "[0.03075950131920962,\n",
              " 3.877405140239766,\n",
              " 30.003452141876693,\n",
              " 29.954555788157514]"
            ]
          },
          "metadata": {}
        },
        {
          "output_type": "display_data",
          "data": {
            "text/plain": [
              "104"
            ]
          },
          "metadata": {}
        },
        {
          "output_type": "stream",
          "name": "stdout",
          "text": [
            "\n"
          ]
        },
        {
          "output_type": "display_data",
          "data": {
            "text/plain": [
              "[[0.017993405573442988,\n",
              "  0.9857749665219719,\n",
              "  0.0338682504345929,\n",
              "  0.06868968943108826],\n",
              " [0.0530579936786346,\n",
              "  0.6008211125797206,\n",
              "  0.016820444246505247,\n",
              "  0.0022321489915459007],\n",
              " [8.737178003144502e-05,\n",
              "  -0.00011092565788444167,\n",
              "  0.005196169016113527,\n",
              "  -0.00023508569068259237],\n",
              " [4.924460320294247e-05,\n",
              "  -0.00011092565788444167,\n",
              "  0.00030441266302967484,\n",
              "  -0.00023508569068259237]]"
            ]
          },
          "metadata": {}
        },
        {
          "output_type": "stream",
          "name": "stdout",
          "text": [
            "\n"
          ]
        },
        {
          "output_type": "display_data",
          "data": {
            "text/plain": [
              "[0.03075950131920962, 3.877405140239766, 30.00459603389247, 29.954555788157514]"
            ]
          },
          "metadata": {}
        },
        {
          "output_type": "display_data",
          "data": {
            "text/plain": [
              "105"
            ]
          },
          "metadata": {}
        },
        {
          "output_type": "stream",
          "name": "stdout",
          "text": [
            "\n"
          ]
        },
        {
          "output_type": "display_data",
          "data": {
            "text/plain": [
              "[[0.017993405573442988,\n",
              "  0.9857749665219719,\n",
              "  0.0338682504345929,\n",
              "  0.06868968943108826],\n",
              " [0.0530579936786346,\n",
              "  0.6008211125797206,\n",
              "  0.016820444246505247,\n",
              "  0.0022321489915459007],\n",
              " [4.924460320294247e-05,\n",
              "  -0.00011092565788444167,\n",
              "  0.00030441266302967484,\n",
              "  -0.00023508569068259237],\n",
              " [4.924460320294247e-05,\n",
              "  -0.00011092565788444167,\n",
              "  0.00030441266302967484,\n",
              "  -0.00023508569068259237]]"
            ]
          },
          "metadata": {}
        },
        {
          "output_type": "stream",
          "name": "stdout",
          "text": [
            "\n"
          ]
        },
        {
          "output_type": "display_data",
          "data": {
            "text/plain": [
              "[0.03075950131920962, 3.877405140239766, 30.00459603389247, 30.00459603389247]"
            ]
          },
          "metadata": {}
        },
        {
          "output_type": "display_data",
          "data": {
            "text/plain": [
              "106"
            ]
          },
          "metadata": {}
        },
        {
          "output_type": "stream",
          "name": "stdout",
          "text": [
            "\n"
          ]
        },
        {
          "output_type": "display_data",
          "data": {
            "text/plain": [
              "[[0.017993405573442988,\n",
              "  0.9857749665219719,\n",
              "  0.0338682504345929,\n",
              "  0.06868968943108826],\n",
              " [0.0530579936786346,\n",
              "  0.6008211125797206,\n",
              "  0.016820444246505247,\n",
              "  0.0022321489915459007],\n",
              " [4.924460320294247e-05,\n",
              "  -0.00011092565788444167,\n",
              "  0.00030441266302967484,\n",
              "  -0.00023508569068259237],\n",
              " [4.924460320294247e-05,\n",
              "  -0.00011092565788444167,\n",
              "  6.852506017878779e-05,\n",
              "  -0.00023508569068259237]]"
            ]
          },
          "metadata": {}
        },
        {
          "output_type": "stream",
          "name": "stdout",
          "text": [
            "\n"
          ]
        },
        {
          "output_type": "display_data",
          "data": {
            "text/plain": [
              "[0.03075950131920962, 3.877405140239766, 30.006955141669312, 30.00459603389247]"
            ]
          },
          "metadata": {}
        },
        {
          "output_type": "display_data",
          "data": {
            "text/plain": [
              "107"
            ]
          },
          "metadata": {}
        },
        {
          "output_type": "stream",
          "name": "stdout",
          "text": [
            "\n"
          ]
        },
        {
          "output_type": "display_data",
          "data": {
            "text/plain": [
              "[[0.017993405573442988,\n",
              "  0.9857749665219719,\n",
              "  0.0338682504345929,\n",
              "  0.06868968943108826],\n",
              " [0.0530579936786346,\n",
              "  0.6008211125797206,\n",
              "  0.016820444246505247,\n",
              "  0.0022321489915459007],\n",
              " [4.924460320294247e-05,\n",
              "  4.644496189281724e-05,\n",
              "  6.852506017878779e-05,\n",
              "  -0.00023508569068259237],\n",
              " [4.924460320294247e-05,\n",
              "  -0.00011092565788444167,\n",
              "  0.00030441266302967484,\n",
              "  -0.00023508569068259237]]"
            ]
          },
          "metadata": {}
        },
        {
          "output_type": "stream",
          "name": "stdout",
          "text": [
            "\n"
          ]
        },
        {
          "output_type": "display_data",
          "data": {
            "text/plain": [
              "[0.03075950131920962, 3.877405140239766, 29.997355188197634, 30.00459603389247]"
            ]
          },
          "metadata": {}
        },
        {
          "output_type": "display_data",
          "data": {
            "text/plain": [
              "108"
            ]
          },
          "metadata": {}
        },
        {
          "output_type": "stream",
          "name": "stdout",
          "text": [
            "\n"
          ]
        },
        {
          "output_type": "display_data",
          "data": {
            "text/plain": [
              "[[0.017993405573442988,\n",
              "  0.9857749665219719,\n",
              "  0.0338682504345929,\n",
              "  0.06868968943108826],\n",
              " [0.0530579936786346,\n",
              "  0.6008211125797206,\n",
              "  0.016820444246505247,\n",
              "  0.0022321489915459007],\n",
              " [4.924460320294247e-05,\n",
              "  4.644496189281724e-05,\n",
              "  6.852506017878779e-05,\n",
              "  -0.00023508569068259237],\n",
              " [4.924460320294247e-05,\n",
              "  4.644496189281724e-05,\n",
              "  6.852506017878779e-05,\n",
              "  -0.00023508569068259237]]"
            ]
          },
          "metadata": {}
        },
        {
          "output_type": "stream",
          "name": "stdout",
          "text": [
            "\n"
          ]
        },
        {
          "output_type": "display_data",
          "data": {
            "text/plain": [
              "[0.03075950131920962,\n",
              " 3.877405140239766,\n",
              " 29.997355188197634,\n",
              " 29.997355188197634]"
            ]
          },
          "metadata": {}
        },
        {
          "output_type": "display_data",
          "data": {
            "text/plain": [
              "109"
            ]
          },
          "metadata": {}
        },
        {
          "output_type": "stream",
          "name": "stdout",
          "text": [
            "\n"
          ]
        },
        {
          "output_type": "display_data",
          "data": {
            "text/plain": [
              "[[0.017993405573442988,\n",
              "  0.9857749665219719,\n",
              "  0.0338682504345929,\n",
              "  0.06868968943108826],\n",
              " [0.0530579936786346,\n",
              "  0.6008211125797206,\n",
              "  0.016820444246505247,\n",
              "  0.0022321489915459007],\n",
              " [4.924460320294247e-05,\n",
              "  4.644496189281724e-05,\n",
              "  6.852506017878779e-05,\n",
              "  0.00011174486749635283],\n",
              " [4.924460320294247e-05,\n",
              "  4.644496189281724e-05,\n",
              "  6.852506017878779e-05,\n",
              "  -0.00023508569068259237]]"
            ]
          },
          "metadata": {}
        },
        {
          "output_type": "stream",
          "name": "stdout",
          "text": [
            "\n"
          ]
        },
        {
          "output_type": "display_data",
          "data": {
            "text/plain": [
              "[0.03075950131920962,\n",
              " 3.877405140239766,\n",
              " 29.993887137075344,\n",
              " 29.997355188197634]"
            ]
          },
          "metadata": {}
        },
        {
          "output_type": "display_data",
          "data": {
            "text/plain": [
              "110"
            ]
          },
          "metadata": {}
        },
        {
          "output_type": "stream",
          "name": "stdout",
          "text": [
            "\n"
          ]
        },
        {
          "output_type": "display_data",
          "data": {
            "text/plain": [
              "[[0.017993405573442988,\n",
              "  0.9857749665219719,\n",
              "  0.0338682504345929,\n",
              "  0.06868968943108826],\n",
              " [0.0530579936786346,\n",
              "  0.6008211125797206,\n",
              "  0.016820444246505247,\n",
              "  0.0022321489915459007],\n",
              " [0.0530579936786346,\n",
              "  0.6008211125797206,\n",
              "  0.016820444246505247,\n",
              "  -0.00023508569068259237],\n",
              " [4.924460320294247e-05,\n",
              "  4.644496189281724e-05,\n",
              "  6.852506017878779e-05,\n",
              "  0.0022321489915459007]]"
            ]
          },
          "metadata": {}
        },
        {
          "output_type": "stream",
          "name": "stdout",
          "text": [
            "\n"
          ]
        },
        {
          "output_type": "display_data",
          "data": {
            "text/plain": [
              "[0.03075950131920962,\n",
              " 3.877405140239766,\n",
              " 29.972689883048297,\n",
              " 3.8862148870554423]"
            ]
          },
          "metadata": {}
        },
        {
          "output_type": "display_data",
          "data": {
            "text/plain": [
              "111"
            ]
          },
          "metadata": {}
        },
        {
          "output_type": "stream",
          "name": "stdout",
          "text": [
            "\n"
          ]
        },
        {
          "output_type": "display_data",
          "data": {
            "text/plain": [
              "[[0.017993405573442988,\n",
              "  0.9857749665219719,\n",
              "  0.0338682504345929,\n",
              "  0.06868968943108826],\n",
              " [0.0530579936786346,\n",
              "  0.6008211125797206,\n",
              "  0.016820444246505247,\n",
              "  0.0022321489915459007],\n",
              " [4.924460320294247e-05,\n",
              "  4.644496189281724e-05,\n",
              "  6.852506017878779e-05,\n",
              "  0.0022321489915459007],\n",
              " [4.924460320294247e-05,\n",
              "  4.644496189281724e-05,\n",
              "  6.852506017878779e-05,\n",
              "  0.0022321489915459007]]"
            ]
          },
          "metadata": {}
        },
        {
          "output_type": "stream",
          "name": "stdout",
          "text": [
            "\n"
          ]
        },
        {
          "output_type": "display_data",
          "data": {
            "text/plain": [
              "[0.03075950131920962,\n",
              " 3.877405140239766,\n",
              " 29.972689883048297,\n",
              " 29.972689883048297]"
            ]
          },
          "metadata": {}
        },
        {
          "output_type": "display_data",
          "data": {
            "text/plain": [
              "112"
            ]
          },
          "metadata": {}
        },
        {
          "output_type": "stream",
          "name": "stdout",
          "text": [
            "\n"
          ]
        },
        {
          "output_type": "display_data",
          "data": {
            "text/plain": [
              "[[0.017993405573442988,\n",
              "  0.9857749665219719,\n",
              "  0.0338682504345929,\n",
              "  0.06868968943108826],\n",
              " [0.0530579936786346,\n",
              "  0.6008211125797206,\n",
              "  0.016820444246505247,\n",
              "  0.0022321489915459007],\n",
              " [4.924460320294247e-05,\n",
              "  4.644496189281724e-05,\n",
              "  6.852506017878779e-05,\n",
              "  0.0022321489915459007],\n",
              " [4.924460320294247e-05,\n",
              "  4.644496189281724e-05,\n",
              "  6.852506017878779e-05,\n",
              "  0.0022321489915459007]]"
            ]
          },
          "metadata": {}
        },
        {
          "output_type": "stream",
          "name": "stdout",
          "text": [
            "\n"
          ]
        },
        {
          "output_type": "display_data",
          "data": {
            "text/plain": [
              "[0.03075950131920962,\n",
              " 3.877405140239766,\n",
              " 29.972689883048297,\n",
              " 29.972689883048297]"
            ]
          },
          "metadata": {}
        },
        {
          "output_type": "display_data",
          "data": {
            "text/plain": [
              "113"
            ]
          },
          "metadata": {}
        },
        {
          "output_type": "stream",
          "name": "stdout",
          "text": [
            "\n"
          ]
        },
        {
          "output_type": "display_data",
          "data": {
            "text/plain": [
              "[[0.017993405573442988,\n",
              "  0.9857749665219719,\n",
              "  0.0338682504345929,\n",
              "  0.06868968943108826],\n",
              " [0.0530579936786346,\n",
              "  0.6008211125797206,\n",
              "  0.016820444246505247,\n",
              "  0.0022321489915459007],\n",
              " [4.924460320294247e-05,\n",
              "  4.644496189281724e-05,\n",
              "  6.852506017878779e-05,\n",
              "  0.0022321489915459007],\n",
              " [4.924460320294247e-05,\n",
              "  4.644496189281724e-05,\n",
              "  6.852506017878779e-05,\n",
              "  0.0022321489915459007]]"
            ]
          },
          "metadata": {}
        },
        {
          "output_type": "stream",
          "name": "stdout",
          "text": [
            "\n"
          ]
        },
        {
          "output_type": "display_data",
          "data": {
            "text/plain": [
              "[0.03075950131920962,\n",
              " 3.877405140239766,\n",
              " 29.972689883048297,\n",
              " 29.972689883048297]"
            ]
          },
          "metadata": {}
        },
        {
          "output_type": "display_data",
          "data": {
            "text/plain": [
              "114"
            ]
          },
          "metadata": {}
        },
        {
          "output_type": "stream",
          "name": "stdout",
          "text": [
            "\n"
          ]
        },
        {
          "output_type": "display_data",
          "data": {
            "text/plain": [
              "[[0.017993405573442988,\n",
              "  0.9857749665219719,\n",
              "  0.0338682504345929,\n",
              "  0.06868968943108826],\n",
              " [0.0530579936786346,\n",
              "  0.6008211125797206,\n",
              "  0.016820444246505247,\n",
              "  0.0022321489915459007],\n",
              " [4.924460320294247e-05,\n",
              "  4.644496189281724e-05,\n",
              "  6.852506017878779e-05,\n",
              "  0.0022321489915459007],\n",
              " [4.924460320294247e-05,\n",
              "  4.644496189281724e-05,\n",
              "  6.852506017878779e-05,\n",
              "  0.0022321489915459007]]"
            ]
          },
          "metadata": {}
        },
        {
          "output_type": "stream",
          "name": "stdout",
          "text": [
            "\n"
          ]
        },
        {
          "output_type": "display_data",
          "data": {
            "text/plain": [
              "[0.03075950131920962,\n",
              " 3.877405140239766,\n",
              " 29.972689883048297,\n",
              " 29.972689883048297]"
            ]
          },
          "metadata": {}
        },
        {
          "output_type": "display_data",
          "data": {
            "text/plain": [
              "115"
            ]
          },
          "metadata": {}
        },
        {
          "output_type": "stream",
          "name": "stdout",
          "text": [
            "\n"
          ]
        },
        {
          "output_type": "display_data",
          "data": {
            "text/plain": [
              "[[0.017993405573442988,\n",
              "  0.9857749665219719,\n",
              "  0.0338682504345929,\n",
              "  0.06868968943108826],\n",
              " [0.0530579936786346,\n",
              "  0.6008211125797206,\n",
              "  0.016820444246505247,\n",
              "  0.0022321489915459007],\n",
              " [4.924460320294247e-05,\n",
              "  4.644496189281724e-05,\n",
              "  6.852506017878779e-05,\n",
              "  0.0022321489915459007],\n",
              " [5.370571325274053e-06,\n",
              "  4.644496189281724e-05,\n",
              "  6.852506017878779e-05,\n",
              "  0.0022321489915459007]]"
            ]
          },
          "metadata": {}
        },
        {
          "output_type": "stream",
          "name": "stdout",
          "text": [
            "\n"
          ]
        },
        {
          "output_type": "display_data",
          "data": {
            "text/plain": [
              "[0.03075950131920962,\n",
              " 3.877405140239766,\n",
              " 29.974005519183287,\n",
              " 29.972689883048297]"
            ]
          },
          "metadata": {}
        },
        {
          "output_type": "display_data",
          "data": {
            "text/plain": [
              "116"
            ]
          },
          "metadata": {}
        },
        {
          "output_type": "stream",
          "name": "stdout",
          "text": [
            "\n"
          ]
        },
        {
          "output_type": "display_data",
          "data": {
            "text/plain": [
              "[[0.017993405573442988,\n",
              "  0.9857749665219719,\n",
              "  0.0338682504345929,\n",
              "  0.06868968943108826],\n",
              " [0.0530579936786346,\n",
              "  0.6008211125797206,\n",
              "  0.016820444246505247,\n",
              "  0.0022321489915459007],\n",
              " [5.370571325274053e-06,\n",
              "  4.644496189281724e-05,\n",
              "  6.852506017878779e-05,\n",
              "  0.0022321489915459007],\n",
              " [5.370571325274053e-06,\n",
              "  4.644496189281724e-05,\n",
              "  6.852506017878779e-05,\n",
              "  0.0022321489915459007]]"
            ]
          },
          "metadata": {}
        },
        {
          "output_type": "stream",
          "name": "stdout",
          "text": [
            "\n"
          ]
        },
        {
          "output_type": "display_data",
          "data": {
            "text/plain": [
              "[0.03075950131920962,\n",
              " 3.877405140239766,\n",
              " 29.974005519183287,\n",
              " 29.974005519183287]"
            ]
          },
          "metadata": {}
        },
        {
          "output_type": "display_data",
          "data": {
            "text/plain": [
              "117"
            ]
          },
          "metadata": {}
        },
        {
          "output_type": "stream",
          "name": "stdout",
          "text": [
            "\n"
          ]
        },
        {
          "output_type": "display_data",
          "data": {
            "text/plain": [
              "[[0.017993405573442988,\n",
              "  0.9857749665219719,\n",
              "  0.0338682504345929,\n",
              "  0.06868968943108826],\n",
              " [0.0530579936786346,\n",
              "  0.6008211125797206,\n",
              "  0.016820444246505247,\n",
              "  0.0022321489915459007],\n",
              " [5.370571325274053e-06,\n",
              "  4.644496189281724e-05,\n",
              "  6.852506017878779e-05,\n",
              "  0.0022321489915459007],\n",
              " [5.370571325274053e-06,\n",
              "  4.644496189281724e-05,\n",
              "  6.852506017878779e-05,\n",
              "  0.0022321489915459007]]"
            ]
          },
          "metadata": {}
        },
        {
          "output_type": "stream",
          "name": "stdout",
          "text": [
            "\n"
          ]
        },
        {
          "output_type": "display_data",
          "data": {
            "text/plain": [
              "[0.03075950131920962,\n",
              " 3.877405140239766,\n",
              " 29.974005519183287,\n",
              " 29.974005519183287]"
            ]
          },
          "metadata": {}
        },
        {
          "output_type": "display_data",
          "data": {
            "text/plain": [
              "118"
            ]
          },
          "metadata": {}
        },
        {
          "output_type": "stream",
          "name": "stdout",
          "text": [
            "\n"
          ]
        },
        {
          "output_type": "display_data",
          "data": {
            "text/plain": [
              "[[0.017993405573442988,\n",
              "  0.9857749665219719,\n",
              "  0.0338682504345929,\n",
              "  0.06868968943108826],\n",
              " [0.0530579936786346,\n",
              "  0.6008211125797206,\n",
              "  0.016820444246505247,\n",
              "  0.0022321489915459007],\n",
              " [5.370571325274053e-06,\n",
              "  4.644496189281724e-05,\n",
              "  6.852506017878779e-05,\n",
              "  0.0022321489915459007],\n",
              " [5.370571325274053e-06,\n",
              "  1.7315040380595012e-05,\n",
              "  6.852506017878779e-05,\n",
              "  0.0022321489915459007]]"
            ]
          },
          "metadata": {}
        },
        {
          "output_type": "stream",
          "name": "stdout",
          "text": [
            "\n"
          ]
        },
        {
          "output_type": "display_data",
          "data": {
            "text/plain": [
              "[0.03075950131920962, 3.877405140239766, 29.97578169844013, 29.974005519183287]"
            ]
          },
          "metadata": {}
        },
        {
          "output_type": "display_data",
          "data": {
            "text/plain": [
              "119"
            ]
          },
          "metadata": {}
        },
        {
          "output_type": "stream",
          "name": "stdout",
          "text": [
            "\n"
          ]
        },
        {
          "output_type": "display_data",
          "data": {
            "text/plain": [
              "[[0.017993405573442988,\n",
              "  0.9857749665219719,\n",
              "  0.0338682504345929,\n",
              "  0.06868968943108826],\n",
              " [0.0530579936786346,\n",
              "  0.6008211125797206,\n",
              "  0.016820444246505247,\n",
              "  0.0022321489915459007],\n",
              " [5.370571325274053e-06,\n",
              "  1.733152007447185e-05,\n",
              "  6.852506017878779e-05,\n",
              "  0.0022321489915459007],\n",
              " [5.370571325274053e-06,\n",
              "  1.7315040380595012e-05,\n",
              "  6.852506017878779e-05,\n",
              "  0.0022321489915459007]]"
            ]
          },
          "metadata": {}
        },
        {
          "output_type": "stream",
          "name": "stdout",
          "text": [
            "\n"
          ]
        },
        {
          "output_type": "display_data",
          "data": {
            "text/plain": [
              "[0.03075950131920962, 3.877405140239766, 29.97578069358594, 29.97578169844013]"
            ]
          },
          "metadata": {}
        },
        {
          "output_type": "display_data",
          "data": {
            "text/plain": [
              "120"
            ]
          },
          "metadata": {}
        },
        {
          "output_type": "stream",
          "name": "stdout",
          "text": [
            "\n"
          ]
        },
        {
          "output_type": "display_data",
          "data": {
            "text/plain": [
              "[[0.017993405573442988,\n",
              "  0.9857749665219719,\n",
              "  0.0338682504345929,\n",
              "  0.06868968943108826],\n",
              " [0.0530579936786346,\n",
              "  0.6008211125797206,\n",
              "  0.016820444246505247,\n",
              "  0.0022321489915459007],\n",
              " [5.370571325274053e-06,\n",
              "  1.733152007447185e-05,\n",
              "  6.852506017878779e-05,\n",
              "  0.0022321489915459007],\n",
              " [5.370571325274053e-06,\n",
              "  1.733152007447185e-05,\n",
              "  6.852506017878779e-05,\n",
              "  0.0022321489915459007]]"
            ]
          },
          "metadata": {}
        },
        {
          "output_type": "stream",
          "name": "stdout",
          "text": [
            "\n"
          ]
        },
        {
          "output_type": "display_data",
          "data": {
            "text/plain": [
              "[0.03075950131920962, 3.877405140239766, 29.97578069358594, 29.97578069358594]"
            ]
          },
          "metadata": {}
        },
        {
          "output_type": "display_data",
          "data": {
            "text/plain": [
              "121"
            ]
          },
          "metadata": {}
        },
        {
          "output_type": "stream",
          "name": "stdout",
          "text": [
            "\n"
          ]
        },
        {
          "output_type": "display_data",
          "data": {
            "text/plain": [
              "[[0.017993405573442988,\n",
              "  0.9857749665219719,\n",
              "  0.0338682504345929,\n",
              "  0.06868968943108826],\n",
              " [0.0530579936786346,\n",
              "  0.6008211125797206,\n",
              "  0.016820444246505247,\n",
              "  0.0022321489915459007],\n",
              " [5.370571325274053e-06,\n",
              "  1.733152007447185e-05,\n",
              "  6.852506017878779e-05,\n",
              "  0.0022321489915459007],\n",
              " [1.8161420726065861e-06,\n",
              "  1.733152007447185e-05,\n",
              "  6.852506017878779e-05,\n",
              "  0.0022321489915459007]]"
            ]
          },
          "metadata": {}
        },
        {
          "output_type": "stream",
          "name": "stdout",
          "text": [
            "\n"
          ]
        },
        {
          "output_type": "display_data",
          "data": {
            "text/plain": [
              "[0.03075950131920962, 3.877405140239766, 29.975887283505102, 29.97578069358594]"
            ]
          },
          "metadata": {}
        },
        {
          "output_type": "display_data",
          "data": {
            "text/plain": [
              "122"
            ]
          },
          "metadata": {}
        },
        {
          "output_type": "stream",
          "name": "stdout",
          "text": [
            "\n"
          ]
        },
        {
          "output_type": "display_data",
          "data": {
            "text/plain": [
              "[[0.017993405573442988,\n",
              "  0.9857749665219719,\n",
              "  0.0338682504345929,\n",
              "  0.06868968943108826],\n",
              " [0.0530579936786346,\n",
              "  0.6008211125797206,\n",
              "  0.016820444246505247,\n",
              "  0.0022321489915459007],\n",
              " [1.8161420726065861e-06,\n",
              "  1.733152007447185e-05,\n",
              "  6.852506017878779e-05,\n",
              "  0.0022321489915459007],\n",
              " [-3.229585432178098e-07,\n",
              "  1.733152007447185e-05,\n",
              "  6.852506017878779e-05,\n",
              "  0.0022321489915459007]]"
            ]
          },
          "metadata": {}
        },
        {
          "output_type": "stream",
          "name": "stdout",
          "text": [
            "\n"
          ]
        },
        {
          "output_type": "display_data",
          "data": {
            "text/plain": [
              "[0.03075950131920962,\n",
              " 3.877405140239766,\n",
              " 29.975951430762006,\n",
              " 29.975887283505102]"
            ]
          },
          "metadata": {}
        },
        {
          "output_type": "display_data",
          "data": {
            "text/plain": [
              "123"
            ]
          },
          "metadata": {}
        },
        {
          "output_type": "stream",
          "name": "stdout",
          "text": [
            "\n"
          ]
        },
        {
          "output_type": "display_data",
          "data": {
            "text/plain": [
              "[[0.017993405573442988,\n",
              "  0.9857749665219719,\n",
              "  0.0338682504345929,\n",
              "  0.06868968943108826],\n",
              " [0.0530579936786346,\n",
              "  0.6008211125797206,\n",
              "  0.016820444246505247,\n",
              "  0.0022321489915459007],\n",
              " [-3.229585432178098e-07,\n",
              "  1.733152007447185e-05,\n",
              "  6.852506017878779e-05,\n",
              "  0.0022321489915459007],\n",
              " [-3.229585432178098e-07,\n",
              "  1.733152007447185e-05,\n",
              "  6.852506017878779e-05,\n",
              "  0.0022321489915459007]]"
            ]
          },
          "metadata": {}
        },
        {
          "output_type": "stream",
          "name": "stdout",
          "text": [
            "\n"
          ]
        },
        {
          "output_type": "display_data",
          "data": {
            "text/plain": [
              "[0.03075950131920962,\n",
              " 3.877405140239766,\n",
              " 29.975951430762006,\n",
              " 29.975951430762006]"
            ]
          },
          "metadata": {}
        },
        {
          "output_type": "display_data",
          "data": {
            "text/plain": [
              "124"
            ]
          },
          "metadata": {}
        },
        {
          "output_type": "stream",
          "name": "stdout",
          "text": [
            "\n"
          ]
        },
        {
          "output_type": "display_data",
          "data": {
            "text/plain": [
              "[[0.017993405573442988,\n",
              "  0.9857749665219719,\n",
              "  0.0338682504345929,\n",
              "  0.06868968943108826],\n",
              " [0.0530579936786346,\n",
              "  0.6008211125797206,\n",
              "  0.016820444246505247,\n",
              "  0.0022321489915459007],\n",
              " [-3.229585432178098e-07,\n",
              "  1.733152007447185e-05,\n",
              "  6.852506017878779e-05,\n",
              "  0.0022321489915459007],\n",
              " [-3.229585432178098e-07,\n",
              "  1.733152007447185e-05,\n",
              "  6.852506017878779e-05,\n",
              "  0.0022321489915459007]]"
            ]
          },
          "metadata": {}
        },
        {
          "output_type": "stream",
          "name": "stdout",
          "text": [
            "\n"
          ]
        },
        {
          "output_type": "display_data",
          "data": {
            "text/plain": [
              "[0.03075950131920962,\n",
              " 3.877405140239766,\n",
              " 29.975951430762006,\n",
              " 29.975951430762006]"
            ]
          },
          "metadata": {}
        },
        {
          "output_type": "display_data",
          "data": {
            "text/plain": [
              "125"
            ]
          },
          "metadata": {}
        },
        {
          "output_type": "stream",
          "name": "stdout",
          "text": [
            "\n"
          ]
        },
        {
          "output_type": "display_data",
          "data": {
            "text/plain": [
              "[[0.017993405573442988,\n",
              "  0.9857749665219719,\n",
              "  0.0338682504345929,\n",
              "  0.06868968943108826],\n",
              " [0.0530579936786346,\n",
              "  0.6008211125797206,\n",
              "  0.016820444246505247,\n",
              "  0.0022321489915459007],\n",
              " [1.761036700926104e-08,\n",
              "  1.733152007447185e-05,\n",
              "  6.852506017878779e-05,\n",
              "  0.0022321489915459007],\n",
              " [-3.229585432178098e-07,\n",
              "  1.733152007447185e-05,\n",
              "  6.852506017878779e-05,\n",
              "  0.0022321489915459007]]"
            ]
          },
          "metadata": {}
        },
        {
          "output_type": "stream",
          "name": "stdout",
          "text": [
            "\n"
          ]
        },
        {
          "output_type": "display_data",
          "data": {
            "text/plain": [
              "[0.03075950131920962, 3.877405140239766, 29.97594121779164, 29.975951430762006]"
            ]
          },
          "metadata": {}
        },
        {
          "output_type": "display_data",
          "data": {
            "text/plain": [
              "126"
            ]
          },
          "metadata": {}
        },
        {
          "output_type": "stream",
          "name": "stdout",
          "text": [
            "\n"
          ]
        },
        {
          "output_type": "display_data",
          "data": {
            "text/plain": [
              "[[0.017993405573442988,\n",
              "  0.9857749665219719,\n",
              "  0.0338682504345929,\n",
              "  0.06868968943108826],\n",
              " [0.0530579936786346,\n",
              "  0.6008211125797206,\n",
              "  0.016820444246505247,\n",
              "  0.0022321489915459007],\n",
              " [1.761036700926104e-08,\n",
              "  1.733152007447185e-05,\n",
              "  6.852506017878779e-05,\n",
              "  0.0022321489915459007],\n",
              " [-3.229585432178098e-07,\n",
              "  1.733152007447185e-05,\n",
              "  6.852506017878779e-05,\n",
              "  0.001235207628971369]]"
            ]
          },
          "metadata": {}
        },
        {
          "output_type": "stream",
          "name": "stdout",
          "text": [
            "\n"
          ]
        },
        {
          "output_type": "display_data",
          "data": {
            "text/plain": [
              "[0.03075950131920962, 3.877405140239766, 29.98591707637464, 29.97594121779164]"
            ]
          },
          "metadata": {}
        },
        {
          "output_type": "display_data",
          "data": {
            "text/plain": [
              "127"
            ]
          },
          "metadata": {}
        },
        {
          "output_type": "stream",
          "name": "stdout",
          "text": [
            "\n"
          ]
        },
        {
          "output_type": "display_data",
          "data": {
            "text/plain": [
              "[[0.017993405573442988,\n",
              "  0.9857749665219719,\n",
              "  0.0338682504345929,\n",
              "  0.06868968943108826],\n",
              " [0.0530579936786346,\n",
              "  0.6008211125797206,\n",
              "  0.016820444246505247,\n",
              "  0.0022321489915459007],\n",
              " [1.761036700926104e-08,\n",
              "  1.733152007447185e-05,\n",
              "  6.852506017878779e-05,\n",
              "  0.0022321489915459007],\n",
              " [1.761036700926104e-08,\n",
              "  1.733152007447185e-05,\n",
              "  6.852506017878779e-05,\n",
              "  0.0022321489915459007]]"
            ]
          },
          "metadata": {}
        },
        {
          "output_type": "stream",
          "name": "stdout",
          "text": [
            "\n"
          ]
        },
        {
          "output_type": "display_data",
          "data": {
            "text/plain": [
              "[0.03075950131920962, 3.877405140239766, 29.97594121779164, 29.97594121779164]"
            ]
          },
          "metadata": {}
        },
        {
          "output_type": "display_data",
          "data": {
            "text/plain": [
              "128"
            ]
          },
          "metadata": {}
        },
        {
          "output_type": "stream",
          "name": "stdout",
          "text": [
            "\n"
          ]
        },
        {
          "output_type": "display_data",
          "data": {
            "text/plain": [
              "[[0.017993405573442988,\n",
              "  0.9857749665219719,\n",
              "  0.0338682504345929,\n",
              "  0.06868968943108826],\n",
              " [0.0530579936786346,\n",
              "  0.6008211125797206,\n",
              "  0.016820444246505247,\n",
              "  0.0022321489915459007],\n",
              " [1.761036700926104e-08,\n",
              "  1.733152007447185e-05,\n",
              "  6.852506017878779e-05,\n",
              "  0.0022321489915459007],\n",
              " [1.761036700926104e-08,\n",
              "  1.733152007447185e-05,\n",
              "  6.852506017878779e-05,\n",
              "  0.00021451583977472236]]"
            ]
          },
          "metadata": {}
        },
        {
          "output_type": "stream",
          "name": "stdout",
          "text": [
            "\n"
          ]
        },
        {
          "output_type": "display_data",
          "data": {
            "text/plain": [
              "[0.03075950131920962, 3.877405140239766, 29.996111979462526, 29.97594121779164]"
            ]
          },
          "metadata": {}
        },
        {
          "output_type": "display_data",
          "data": {
            "text/plain": [
              "129"
            ]
          },
          "metadata": {}
        },
        {
          "output_type": "stream",
          "name": "stdout",
          "text": [
            "\n"
          ]
        },
        {
          "output_type": "display_data",
          "data": {
            "text/plain": [
              "[[0.017993405573442988,\n",
              "  0.9857749665219719,\n",
              "  0.0338682504345929,\n",
              "  0.06868968943108826],\n",
              " [0.0530579936786346,\n",
              "  0.6008211125797206,\n",
              "  0.016820444246505247,\n",
              "  0.0022321489915459007],\n",
              " [1.761036700926104e-08,\n",
              "  1.733152007447185e-05,\n",
              "  6.852506017878779e-05,\n",
              "  0.00021451583977472236],\n",
              " [1.761036700926104e-08,\n",
              "  1.733152007447185e-05,\n",
              "  6.852506017878779e-05,\n",
              "  0.00021451583977472236]]"
            ]
          },
          "metadata": {}
        },
        {
          "output_type": "stream",
          "name": "stdout",
          "text": [
            "\n"
          ]
        },
        {
          "output_type": "display_data",
          "data": {
            "text/plain": [
              "[0.03075950131920962,\n",
              " 3.877405140239766,\n",
              " 29.996111979462526,\n",
              " 29.996111979462526]"
            ]
          },
          "metadata": {}
        },
        {
          "output_type": "display_data",
          "data": {
            "text/plain": [
              "130"
            ]
          },
          "metadata": {}
        },
        {
          "output_type": "stream",
          "name": "stdout",
          "text": [
            "\n"
          ]
        },
        {
          "output_type": "display_data",
          "data": {
            "text/plain": [
              "[[0.017993405573442988,\n",
              "  0.9857749665219719,\n",
              "  0.0338682504345929,\n",
              "  0.06868968943108826],\n",
              " [0.0530579936786346,\n",
              "  0.6008211125797206,\n",
              "  0.016820444246505247,\n",
              "  0.0022321489915459007],\n",
              " [1.761036700926104e-08,\n",
              "  1.733152007447185e-05,\n",
              "  6.852506017878779e-05,\n",
              "  0.00021451583977472236],\n",
              " [1.761036700926104e-08,\n",
              "  9.747501855767231e-06,\n",
              "  6.852506017878779e-05,\n",
              "  0.00021451583977472236]]"
            ]
          },
          "metadata": {}
        },
        {
          "output_type": "stream",
          "name": "stdout",
          "text": [
            "\n"
          ]
        },
        {
          "output_type": "display_data",
          "data": {
            "text/plain": [
              "[0.03075950131920962,\n",
              " 3.877405140239766,\n",
              " 29.996574576306145,\n",
              " 29.996111979462526]"
            ]
          },
          "metadata": {}
        },
        {
          "output_type": "display_data",
          "data": {
            "text/plain": [
              "131"
            ]
          },
          "metadata": {}
        },
        {
          "output_type": "stream",
          "name": "stdout",
          "text": [
            "\n"
          ]
        },
        {
          "output_type": "display_data",
          "data": {
            "text/plain": [
              "[[0.017993405573442988,\n",
              "  0.9857749665219719,\n",
              "  0.0338682504345929,\n",
              "  0.06868968943108826],\n",
              " [0.0530579936786346,\n",
              "  0.6008211125797206,\n",
              "  0.016820444246505247,\n",
              "  0.0022321489915459007],\n",
              " [1.761036700926104e-08,\n",
              "  9.747501855767231e-06,\n",
              "  6.852506017878779e-05,\n",
              "  0.00021451583977472236],\n",
              " [1.761036700926104e-08,\n",
              "  1.733152007447185e-05,\n",
              "  -1.914306586058709e-05,\n",
              "  0.00021451583977472236]]"
            ]
          },
          "metadata": {}
        },
        {
          "output_type": "stream",
          "name": "stdout",
          "text": [
            "\n"
          ]
        },
        {
          "output_type": "display_data",
          "data": {
            "text/plain": [
              "[0.03075950131920962, 3.877405140239766, 29.99698860327547, 29.996574576306145]"
            ]
          },
          "metadata": {}
        },
        {
          "output_type": "display_data",
          "data": {
            "text/plain": [
              "132"
            ]
          },
          "metadata": {}
        },
        {
          "output_type": "stream",
          "name": "stdout",
          "text": [
            "\n"
          ]
        },
        {
          "output_type": "display_data",
          "data": {
            "text/plain": [
              "[[0.017993405573442988,\n",
              "  0.9857749665219719,\n",
              "  0.0338682504345929,\n",
              "  0.06868968943108826],\n",
              " [0.0530579936786346,\n",
              "  0.6008211125797206,\n",
              "  0.016820444246505247,\n",
              "  0.0022321489915459007],\n",
              " [1.761036700926104e-08,\n",
              "  9.747501855767231e-06,\n",
              "  6.852506017878779e-05,\n",
              "  0.00021451583977472236],\n",
              " [1.761036700926104e-08,\n",
              "  1.733152007447185e-05,\n",
              "  -1.914306586058709e-05,\n",
              "  0.00021451583977472236]]"
            ]
          },
          "metadata": {}
        },
        {
          "output_type": "stream",
          "name": "stdout",
          "text": [
            "\n"
          ]
        },
        {
          "output_type": "display_data",
          "data": {
            "text/plain": [
              "[0.03075950131920962, 3.877405140239766, 29.99698860327547, 29.996574576306145]"
            ]
          },
          "metadata": {}
        },
        {
          "output_type": "display_data",
          "data": {
            "text/plain": [
              "133"
            ]
          },
          "metadata": {}
        },
        {
          "output_type": "stream",
          "name": "stdout",
          "text": [
            "\n"
          ]
        },
        {
          "output_type": "display_data",
          "data": {
            "text/plain": [
              "[[0.017993405573442988,\n",
              "  0.9857749665219719,\n",
              "  0.0338682504345929,\n",
              "  0.06868968943108826],\n",
              " [0.0530579936786346,\n",
              "  0.6008211125797206,\n",
              "  0.016820444246505247,\n",
              "  0.0022321489915459007],\n",
              " [1.761036700926104e-08,\n",
              "  1.733152007447185e-05,\n",
              "  -1.914306586058709e-05,\n",
              "  0.00021451583977472236],\n",
              " [1.761036700926104e-08,\n",
              "  -3.6076919766069443e-06,\n",
              "  -1.914306586058709e-05,\n",
              "  0.00021451583977472236]]"
            ]
          },
          "metadata": {}
        },
        {
          "output_type": "stream",
          "name": "stdout",
          "text": [
            "\n"
          ]
        },
        {
          "output_type": "display_data",
          "data": {
            "text/plain": [
              "[0.03075950131920962, 3.877405140239766, 29.9982658445604, 29.99698860327547]"
            ]
          },
          "metadata": {}
        },
        {
          "output_type": "display_data",
          "data": {
            "text/plain": [
              "134"
            ]
          },
          "metadata": {}
        },
        {
          "output_type": "stream",
          "name": "stdout",
          "text": [
            "\n"
          ]
        },
        {
          "output_type": "display_data",
          "data": {
            "text/plain": [
              "[[0.017993405573442988,\n",
              "  0.9857749665219719,\n",
              "  0.0338682504345929,\n",
              "  0.06868968943108826],\n",
              " [0.0530579936786346,\n",
              "  0.6008211125797206,\n",
              "  0.016820444246505247,\n",
              "  0.0022321489915459007],\n",
              " [1.761036700926104e-08,\n",
              "  1.733152007447185e-05,\n",
              "  -1.914306586058709e-05,\n",
              "  0.00021451583977472236],\n",
              " [1.761036700926104e-08,\n",
              "  -3.6076919766069443e-06,\n",
              "  -1.914306586058709e-05,\n",
              "  0.00021451583977472236]]"
            ]
          },
          "metadata": {}
        },
        {
          "output_type": "stream",
          "name": "stdout",
          "text": [
            "\n"
          ]
        },
        {
          "output_type": "display_data",
          "data": {
            "text/plain": [
              "[0.03075950131920962, 3.877405140239766, 29.99698860327547, 29.9982658445604]"
            ]
          },
          "metadata": {}
        },
        {
          "output_type": "display_data",
          "data": {
            "text/plain": [
              "135"
            ]
          },
          "metadata": {}
        },
        {
          "output_type": "stream",
          "name": "stdout",
          "text": [
            "\n"
          ]
        },
        {
          "output_type": "display_data",
          "data": {
            "text/plain": [
              "[[0.017993405573442988,\n",
              "  0.9857749665219719,\n",
              "  0.0338682504345929,\n",
              "  0.06868968943108826],\n",
              " [0.0530579936786346,\n",
              "  0.6008211125797206,\n",
              "  0.016820444246505247,\n",
              "  0.0022321489915459007],\n",
              " [1.761036700926104e-08,\n",
              "  1.733152007447185e-05,\n",
              "  -1.914306586058709e-05,\n",
              "  0.00021451583977472236],\n",
              " [1.761036700926104e-08,\n",
              "  1.733152007447185e-05,\n",
              "  -1.914306586058709e-05,\n",
              "  0.00021451583977472236]]"
            ]
          },
          "metadata": {}
        },
        {
          "output_type": "stream",
          "name": "stdout",
          "text": [
            "\n"
          ]
        },
        {
          "output_type": "display_data",
          "data": {
            "text/plain": [
              "[0.03075950131920962, 3.877405140239766, 29.99698860327547, 29.99698860327547]"
            ]
          },
          "metadata": {}
        },
        {
          "output_type": "display_data",
          "data": {
            "text/plain": [
              "136"
            ]
          },
          "metadata": {}
        },
        {
          "output_type": "stream",
          "name": "stdout",
          "text": [
            "\n"
          ]
        },
        {
          "output_type": "display_data",
          "data": {
            "text/plain": [
              "[[0.017993405573442988,\n",
              "  0.9857749665219719,\n",
              "  0.0338682504345929,\n",
              "  0.06868968943108826],\n",
              " [0.0530579936786346,\n",
              "  0.6008211125797206,\n",
              "  0.016820444246505247,\n",
              "  0.0022321489915459007],\n",
              " [1.761036700926104e-08,\n",
              "  1.733152007447185e-05,\n",
              "  -1.914306586058709e-05,\n",
              "  0.00021451583977472236],\n",
              " [1.761036700926104e-08,\n",
              "  1.733152007447185e-05,\n",
              "  -1.914306586058709e-05,\n",
              "  0.00021451583977472236]]"
            ]
          },
          "metadata": {}
        },
        {
          "output_type": "stream",
          "name": "stdout",
          "text": [
            "\n"
          ]
        },
        {
          "output_type": "display_data",
          "data": {
            "text/plain": [
              "[0.03075950131920962, 3.877405140239766, 29.99698860327547, 29.99698860327547]"
            ]
          },
          "metadata": {}
        },
        {
          "output_type": "display_data",
          "data": {
            "text/plain": [
              "137"
            ]
          },
          "metadata": {}
        },
        {
          "output_type": "stream",
          "name": "stdout",
          "text": [
            "\n"
          ]
        },
        {
          "output_type": "display_data",
          "data": {
            "text/plain": [
              "[[0.017993405573442988,\n",
              "  0.9857749665219719,\n",
              "  0.0338682504345929,\n",
              "  0.06868968943108826],\n",
              " [0.0530579936786346,\n",
              "  0.6008211125797206,\n",
              "  0.016820444246505247,\n",
              "  0.0022321489915459007],\n",
              " [0.0530579936786346,\n",
              "  0.6008211125797206,\n",
              "  0.016820444246505247,\n",
              "  0.00021451583977472236],\n",
              " [1.761036700926104e-08,\n",
              "  -1.718885485173687e-05,\n",
              "  -1.914306586058709e-05,\n",
              "  0.0022321489915459007]]"
            ]
          },
          "metadata": {}
        },
        {
          "output_type": "stream",
          "name": "stdout",
          "text": [
            "\n"
          ]
        },
        {
          "output_type": "display_data",
          "data": {
            "text/plain": [
              "[0.03075950131920962, 3.877405140239766, 29.978922451322873, 3.884608589209207]"
            ]
          },
          "metadata": {}
        },
        {
          "output_type": "display_data",
          "data": {
            "text/plain": [
              "138"
            ]
          },
          "metadata": {}
        },
        {
          "output_type": "stream",
          "name": "stdout",
          "text": [
            "\n"
          ]
        },
        {
          "output_type": "display_data",
          "data": {
            "text/plain": [
              "[[0.017993405573442988,\n",
              "  0.9857749665219719,\n",
              "  0.0338682504345929,\n",
              "  0.06868968943108826],\n",
              " [0.0530579936786346,\n",
              "  0.6008211125797206,\n",
              "  0.016820444246505247,\n",
              "  0.0022321489915459007],\n",
              " [1.761036700926104e-08,\n",
              "  -1.718885485173687e-05,\n",
              "  -1.914306586058709e-05,\n",
              "  0.0022321489915459007],\n",
              " [1.761036700926104e-08,\n",
              "  -1.718885485173687e-05,\n",
              "  -1.914306586058709e-05,\n",
              "  0.0022321489915459007]]"
            ]
          },
          "metadata": {}
        },
        {
          "output_type": "stream",
          "name": "stdout",
          "text": [
            "\n"
          ]
        },
        {
          "output_type": "display_data",
          "data": {
            "text/plain": [
              "[0.03075950131920962,\n",
              " 3.877405140239766,\n",
              " 29.978922451322873,\n",
              " 29.978922451322873]"
            ]
          },
          "metadata": {}
        },
        {
          "output_type": "display_data",
          "data": {
            "text/plain": [
              "139"
            ]
          },
          "metadata": {}
        },
        {
          "output_type": "stream",
          "name": "stdout",
          "text": [
            "\n"
          ]
        },
        {
          "output_type": "display_data",
          "data": {
            "text/plain": [
              "[[0.017993405573442988,\n",
              "  0.9857749665219719,\n",
              "  0.0338682504345929,\n",
              "  0.06868968943108826],\n",
              " [0.0530579936786346,\n",
              "  0.6008211125797206,\n",
              "  0.016820444246505247,\n",
              "  0.0022321489915459007],\n",
              " [0.0530579936786346,\n",
              "  0.6008211125797206,\n",
              "  0.016820444246505247,\n",
              "  0.0022321489915459007],\n",
              " [1.761036700926104e-08,\n",
              "  -1.718885485173687e-05,\n",
              "  -1.914306586058709e-05,\n",
              "  0.0022321489915459007]]"
            ]
          },
          "metadata": {}
        },
        {
          "output_type": "stream",
          "name": "stdout",
          "text": [
            "\n"
          ]
        },
        {
          "output_type": "display_data",
          "data": {
            "text/plain": [
              "[0.03075950131920962, 3.877405140239766, 3.877405140239766, 29.978922451322873]"
            ]
          },
          "metadata": {}
        },
        {
          "output_type": "display_data",
          "data": {
            "text/plain": [
              "140"
            ]
          },
          "metadata": {}
        },
        {
          "output_type": "stream",
          "name": "stdout",
          "text": [
            "\n"
          ]
        },
        {
          "output_type": "display_data",
          "data": {
            "text/plain": [
              "[[0.017993405573442988,\n",
              "  0.9857749665219719,\n",
              "  0.0338682504345929,\n",
              "  0.06868968943108826],\n",
              " [0.0530579936786346,\n",
              "  0.6008211125797206,\n",
              "  0.016820444246505247,\n",
              "  0.0022321489915459007],\n",
              " [1.761036700926104e-08,\n",
              "  -1.718885485173687e-05,\n",
              "  -1.914306586058709e-05,\n",
              "  0.0022321489915459007],\n",
              " [1.761036700926104e-08,\n",
              "  -1.718885485173687e-05,\n",
              "  -1.914306586058709e-05,\n",
              "  0.0001645308581529285]]"
            ]
          },
          "metadata": {}
        },
        {
          "output_type": "stream",
          "name": "stdout",
          "text": [
            "\n"
          ]
        },
        {
          "output_type": "display_data",
          "data": {
            "text/plain": [
              "[0.03075950131920962,\n",
              " 3.877405140239766,\n",
              " 29.999594118725014,\n",
              " 29.978922451322873]"
            ]
          },
          "metadata": {}
        },
        {
          "output_type": "display_data",
          "data": {
            "text/plain": [
              "141"
            ]
          },
          "metadata": {}
        },
        {
          "output_type": "stream",
          "name": "stdout",
          "text": [
            "\n"
          ]
        },
        {
          "output_type": "display_data",
          "data": {
            "text/plain": [
              "[[0.017993405573442988,\n",
              "  0.9857749665219719,\n",
              "  0.0338682504345929,\n",
              "  0.06868968943108826],\n",
              " [0.0530579936786346,\n",
              "  0.6008211125797206,\n",
              "  0.016820444246505247,\n",
              "  0.0022321489915459007],\n",
              " [1.761036700926104e-08,\n",
              "  1.1528502002404788e-05,\n",
              "  -1.914306586058709e-05,\n",
              "  0.0022321489915459007],\n",
              " [1.761036700926104e-08,\n",
              "  -1.718885485173687e-05,\n",
              "  -1.914306586058709e-05,\n",
              "  0.0022321489915459007]]"
            ]
          },
          "metadata": {}
        },
        {
          "output_type": "stream",
          "name": "stdout",
          "text": [
            "\n"
          ]
        },
        {
          "output_type": "display_data",
          "data": {
            "text/plain": [
              "[0.03075950131920962, 3.877405140239766, 29.97717133575666, 29.978922451322873]"
            ]
          },
          "metadata": {}
        },
        {
          "output_type": "display_data",
          "data": {
            "text/plain": [
              "142"
            ]
          },
          "metadata": {}
        },
        {
          "output_type": "stream",
          "name": "stdout",
          "text": [
            "\n"
          ]
        },
        {
          "output_type": "display_data",
          "data": {
            "text/plain": [
              "[[0.017993405573442988,\n",
              "  0.9857749665219719,\n",
              "  0.0338682504345929,\n",
              "  0.06868968943108826],\n",
              " [0.0530579936786346,\n",
              "  0.6008211125797206,\n",
              "  0.016820444246505247,\n",
              "  0.0022321489915459007],\n",
              " [1.761036700926104e-08,\n",
              "  1.1528502002404788e-05,\n",
              "  -1.914306586058709e-05,\n",
              "  0.0022321489915459007],\n",
              " [1.761036700926104e-08,\n",
              "  -1.718885485173687e-05,\n",
              "  -1.914306586058709e-05,\n",
              "  0.0022321489915459007]]"
            ]
          },
          "metadata": {}
        },
        {
          "output_type": "stream",
          "name": "stdout",
          "text": [
            "\n"
          ]
        },
        {
          "output_type": "display_data",
          "data": {
            "text/plain": [
              "[0.03075950131920962, 3.877405140239766, 29.978922451322873, 29.97717133575666]"
            ]
          },
          "metadata": {}
        },
        {
          "output_type": "display_data",
          "data": {
            "text/plain": [
              "143"
            ]
          },
          "metadata": {}
        },
        {
          "output_type": "stream",
          "name": "stdout",
          "text": [
            "\n"
          ]
        },
        {
          "output_type": "display_data",
          "data": {
            "text/plain": [
              "[[0.017993405573442988,\n",
              "  0.9857749665219719,\n",
              "  0.0338682504345929,\n",
              "  0.06868968943108826],\n",
              " [0.0530579936786346,\n",
              "  0.6008211125797206,\n",
              "  0.016820444246505247,\n",
              "  0.0022321489915459007],\n",
              " [1.761036700926104e-08,\n",
              "  1.1528502002404788e-05,\n",
              "  -1.3667410950099222e-06,\n",
              "  0.0022321489915459007],\n",
              " [1.761036700926104e-08,\n",
              "  -1.718885485173687e-05,\n",
              "  -1.914306586058709e-05,\n",
              "  0.0022321489915459007]]"
            ]
          },
          "metadata": {}
        },
        {
          "output_type": "stream",
          "name": "stdout",
          "text": [
            "\n"
          ]
        },
        {
          "output_type": "display_data",
          "data": {
            "text/plain": [
              "[0.03075950131920962,\n",
              " 3.877405140239766,\n",
              " 29.976993653595116,\n",
              " 29.978922451322873]"
            ]
          },
          "metadata": {}
        },
        {
          "output_type": "display_data",
          "data": {
            "text/plain": [
              "144"
            ]
          },
          "metadata": {}
        },
        {
          "output_type": "stream",
          "name": "stdout",
          "text": [
            "\n"
          ]
        },
        {
          "output_type": "display_data",
          "data": {
            "text/plain": [
              "[[0.017993405573442988,\n",
              "  0.9857749665219719,\n",
              "  0.0338682504345929,\n",
              "  0.06868968943108826],\n",
              " [0.0530579936786346,\n",
              "  0.6008211125797206,\n",
              "  0.016820444246505247,\n",
              "  0.0022321489915459007],\n",
              " [1.761036700926104e-08,\n",
              "  -1.718885485173687e-05,\n",
              "  -1.914306586058709e-05,\n",
              "  0.0022321489915459007],\n",
              " [1.761036700926104e-08,\n",
              "  -1.718885485173687e-05,\n",
              "  -1.914306586058709e-05,\n",
              "  0.0022321489915459007]]"
            ]
          },
          "metadata": {}
        },
        {
          "output_type": "stream",
          "name": "stdout",
          "text": [
            "\n"
          ]
        },
        {
          "output_type": "display_data",
          "data": {
            "text/plain": [
              "[0.03075950131920962,\n",
              " 3.877405140239766,\n",
              " 29.978922451322873,\n",
              " 29.978922451322873]"
            ]
          },
          "metadata": {}
        },
        {
          "output_type": "display_data",
          "data": {
            "text/plain": [
              "145"
            ]
          },
          "metadata": {}
        },
        {
          "output_type": "stream",
          "name": "stdout",
          "text": [
            "\n"
          ]
        },
        {
          "output_type": "display_data",
          "data": {
            "text/plain": [
              "[[0.017993405573442988,\n",
              "  0.9857749665219719,\n",
              "  0.0338682504345929,\n",
              "  0.06868968943108826],\n",
              " [0.0530579936786346,\n",
              "  0.6008211125797206,\n",
              "  0.016820444246505247,\n",
              "  0.0022321489915459007],\n",
              " [1.761036700926104e-08,\n",
              "  -1.718885485173687e-05,\n",
              "  -1.914306586058709e-05,\n",
              "  0.0022321489915459007],\n",
              " [2.2274033645050705e-10,\n",
              "  -1.718885485173687e-05,\n",
              "  -1.914306586058709e-05,\n",
              "  0.0022321489915459007]]"
            ]
          },
          "metadata": {}
        },
        {
          "output_type": "stream",
          "name": "stdout",
          "text": [
            "\n"
          ]
        },
        {
          "output_type": "display_data",
          "data": {
            "text/plain": [
              "[0.03075950131920962,\n",
              " 3.877405140239766,\n",
              " 29.978922972768395,\n",
              " 29.978922451322873]"
            ]
          },
          "metadata": {}
        },
        {
          "output_type": "display_data",
          "data": {
            "text/plain": [
              "146"
            ]
          },
          "metadata": {}
        },
        {
          "output_type": "stream",
          "name": "stdout",
          "text": [
            "\n"
          ]
        },
        {
          "output_type": "display_data",
          "data": {
            "text/plain": [
              "[[0.017993405573442988,\n",
              "  0.9857749665219719,\n",
              "  0.0338682504345929,\n",
              "  0.06868968943108826],\n",
              " [0.0530579936786346,\n",
              "  0.6008211125797206,\n",
              "  0.016820444246505247,\n",
              "  0.0022321489915459007],\n",
              " [2.2274033645050705e-10,\n",
              "  -1.718885485173687e-05,\n",
              "  -1.914306586058709e-05,\n",
              "  0.0022321489915459007],\n",
              " [2.2274033645050705e-10,\n",
              "  -1.718885485173687e-05,\n",
              "  -1.914306586058709e-05,\n",
              "  0.0022321489915459007]]"
            ]
          },
          "metadata": {}
        },
        {
          "output_type": "stream",
          "name": "stdout",
          "text": [
            "\n"
          ]
        },
        {
          "output_type": "display_data",
          "data": {
            "text/plain": [
              "[0.03075950131920962,\n",
              " 3.877405140239766,\n",
              " 29.978922972768395,\n",
              " 29.978922972768395]"
            ]
          },
          "metadata": {}
        },
        {
          "output_type": "display_data",
          "data": {
            "text/plain": [
              "147"
            ]
          },
          "metadata": {}
        },
        {
          "output_type": "stream",
          "name": "stdout",
          "text": [
            "\n"
          ]
        },
        {
          "output_type": "display_data",
          "data": {
            "text/plain": [
              "[[0.017993405573442988,\n",
              "  0.9857749665219719,\n",
              "  0.0338682504345929,\n",
              "  0.06868968943108826],\n",
              " [0.0530579936786346,\n",
              "  0.6008211125797206,\n",
              "  0.016820444246505247,\n",
              "  0.0022321489915459007],\n",
              " [2.2274033645050705e-10,\n",
              "  -1.718885485173687e-05,\n",
              "  -1.914306586058709e-05,\n",
              "  0.0022321489915459007],\n",
              " [-1.8886526930894634e-11,\n",
              "  -1.718885485173687e-05,\n",
              "  -1.914306586058709e-05,\n",
              "  0.0022321489915459007]]"
            ]
          },
          "metadata": {}
        },
        {
          "output_type": "stream",
          "name": "stdout",
          "text": [
            "\n"
          ]
        },
        {
          "output_type": "display_data",
          "data": {
            "text/plain": [
              "[0.03075950131920962,\n",
              " 3.877405140239766,\n",
              " 29.978922980014655,\n",
              " 29.978922972768395]"
            ]
          },
          "metadata": {}
        },
        {
          "output_type": "display_data",
          "data": {
            "text/plain": [
              "148"
            ]
          },
          "metadata": {}
        },
        {
          "output_type": "stream",
          "name": "stdout",
          "text": [
            "\n"
          ]
        },
        {
          "output_type": "display_data",
          "data": {
            "text/plain": [
              "[[0.017993405573442988,\n",
              "  0.9857749665219719,\n",
              "  0.0338682504345929,\n",
              "  0.06868968943108826],\n",
              " [0.0530579936786346,\n",
              "  0.6008211125797206,\n",
              "  0.016820444246505247,\n",
              "  0.0022321489915459007],\n",
              " [-1.8886526930894634e-11,\n",
              "  -1.718885485173687e-05,\n",
              "  -1.914306586058709e-05,\n",
              "  0.0022321489915459007],\n",
              " [-1.8886526930894634e-11,\n",
              "  -1.718885485173687e-05,\n",
              "  -1.914306586058709e-05,\n",
              "  0.0022321489915459007]]"
            ]
          },
          "metadata": {}
        },
        {
          "output_type": "stream",
          "name": "stdout",
          "text": [
            "\n"
          ]
        },
        {
          "output_type": "display_data",
          "data": {
            "text/plain": [
              "[0.03075950131920962,\n",
              " 3.877405140239766,\n",
              " 29.978922980014655,\n",
              " 29.978922980014655]"
            ]
          },
          "metadata": {}
        },
        {
          "output_type": "display_data",
          "data": {
            "text/plain": [
              "149"
            ]
          },
          "metadata": {}
        },
        {
          "output_type": "stream",
          "name": "stdout",
          "text": [
            "\n"
          ]
        },
        {
          "output_type": "display_data",
          "data": {
            "text/plain": [
              "[[0.017993405573442988,\n",
              "  0.9857749665219719,\n",
              "  0.0338682504345929,\n",
              "  0.06868968943108826],\n",
              " [0.0530579936786346,\n",
              "  0.6008211125797206,\n",
              "  0.016820444246505247,\n",
              "  0.0022321489915459007],\n",
              " [-1.8886526930894634e-11,\n",
              "  -1.718885485173687e-05,\n",
              "  3.0482400393820237e-06,\n",
              "  0.0022321489915459007],\n",
              " [-1.8886526930894634e-11,\n",
              "  -1.718885485173687e-05,\n",
              "  -1.914306586058709e-05,\n",
              "  0.0022321489915459007]]"
            ]
          },
          "metadata": {}
        },
        {
          "output_type": "stream",
          "name": "stdout",
          "text": [
            "\n"
          ]
        },
        {
          "output_type": "display_data",
          "data": {
            "text/plain": [
              "[0.03075950131920962, 3.877405140239766, 29.97870116177637, 29.978922980014655]"
            ]
          },
          "metadata": {}
        },
        {
          "output_type": "display_data",
          "data": {
            "text/plain": [
              "150"
            ]
          },
          "metadata": {}
        },
        {
          "output_type": "stream",
          "name": "stdout",
          "text": [
            "\n"
          ]
        },
        {
          "output_type": "display_data",
          "data": {
            "text/plain": [
              "[[0.017993405573442988,\n",
              "  0.9857749665219719,\n",
              "  0.0338682504345929,\n",
              "  0.06868968943108826],\n",
              " [0.0530579936786346,\n",
              "  0.6008211125797206,\n",
              "  0.016820444246505247,\n",
              "  0.0022321489915459007],\n",
              " [5.27937563730623e-12,\n",
              "  -1.718885485173687e-05,\n",
              "  -1.914306586058709e-05,\n",
              "  0.0022321489915459007],\n",
              " [-1.8886526930894634e-11,\n",
              "  -1.718885485173687e-05,\n",
              "  -1.914306586058709e-05,\n",
              "  0.0022321489915459007]]"
            ]
          },
          "metadata": {}
        },
        {
          "output_type": "stream",
          "name": "stdout",
          "text": [
            "\n"
          ]
        },
        {
          "output_type": "display_data",
          "data": {
            "text/plain": [
              "[0.03075950131920962,\n",
              " 3.877405140239766,\n",
              " 29.978922979289933,\n",
              " 29.978922980014655]"
            ]
          },
          "metadata": {}
        },
        {
          "output_type": "display_data",
          "data": {
            "text/plain": [
              "151"
            ]
          },
          "metadata": {}
        },
        {
          "output_type": "stream",
          "name": "stdout",
          "text": [
            "\n"
          ]
        },
        {
          "output_type": "display_data",
          "data": {
            "text/plain": [
              "[[0.017993405573442988,\n",
              "  0.9857749665219719,\n",
              "  0.0338682504345929,\n",
              "  0.06868968943108826],\n",
              " [0.0530579936786346,\n",
              "  0.6008211125797206,\n",
              "  0.016820444246505247,\n",
              "  0.0022321489915459007],\n",
              " [-1.8886526930894634e-11,\n",
              "  -1.718885485173687e-05,\n",
              "  5.966067358663775e-06,\n",
              "  0.0022321489915459007],\n",
              " [-1.8886526930894634e-11,\n",
              "  -1.718885485173687e-05,\n",
              "  -1.914306586058709e-05,\n",
              "  0.0022321489915459007]]"
            ]
          },
          "metadata": {}
        },
        {
          "output_type": "stream",
          "name": "stdout",
          "text": [
            "\n"
          ]
        },
        {
          "output_type": "display_data",
          "data": {
            "text/plain": [
              "[0.03075950131920962, 3.877405140239766, 29.97867199604396, 29.978922980014655]"
            ]
          },
          "metadata": {}
        },
        {
          "output_type": "display_data",
          "data": {
            "text/plain": [
              "152"
            ]
          },
          "metadata": {}
        },
        {
          "output_type": "stream",
          "name": "stdout",
          "text": [
            "\n"
          ]
        },
        {
          "output_type": "display_data",
          "data": {
            "text/plain": [
              "[[0.017993405573442988,\n",
              "  0.9857749665219719,\n",
              "  0.0338682504345929,\n",
              "  0.06868968943108826],\n",
              " [0.0530579936786346,\n",
              "  0.6008211125797206,\n",
              "  0.016820444246505247,\n",
              "  0.0022321489915459007],\n",
              " [0.0530579936786346,\n",
              "  0.6008211125797206,\n",
              "  5.966067358663775e-06,\n",
              "  0.0022321489915459007],\n",
              " [-1.8886526930894634e-11,\n",
              "  -1.718885485173687e-05,\n",
              "  0.016820444246505247,\n",
              "  0.0001162558042084077]]"
            ]
          },
          "metadata": {}
        },
        {
          "output_type": "stream",
          "name": "stdout",
          "text": [
            "\n"
          ]
        },
        {
          "output_type": "display_data",
          "data": {
            "text/plain": [
              "[0.03075950131920962,\n",
              " 3.877405140239766,\n",
              " 29.831965411725257,\n",
              " 3.9376857839286297]"
            ]
          },
          "metadata": {}
        },
        {
          "output_type": "display_data",
          "data": {
            "text/plain": [
              "153"
            ]
          },
          "metadata": {}
        },
        {
          "output_type": "stream",
          "name": "stdout",
          "text": [
            "\n"
          ]
        },
        {
          "output_type": "display_data",
          "data": {
            "text/plain": [
              "[[0.017993405573442988,\n",
              "  0.9857749665219719,\n",
              "  0.0338682504345929,\n",
              "  0.06868968943108826],\n",
              " [0.0530579936786346,\n",
              "  0.6008211125797206,\n",
              "  0.016820444246505247,\n",
              "  0.0022321489915459007],\n",
              " [-1.8886526930894634e-11,\n",
              "  -1.718885485173687e-05,\n",
              "  0.016820444246505247,\n",
              "  0.0001162558042084077],\n",
              " [-1.8886526930894634e-11,\n",
              "  -1.718885485173687e-05,\n",
              "  0.016820444246505247,\n",
              "  0.0001162558042084077]]"
            ]
          },
          "metadata": {}
        },
        {
          "output_type": "stream",
          "name": "stdout",
          "text": [
            "\n"
          ]
        },
        {
          "output_type": "display_data",
          "data": {
            "text/plain": [
              "[0.03075950131920962,\n",
              " 3.877405140239766,\n",
              " 29.831965411725257,\n",
              " 29.831965411725257]"
            ]
          },
          "metadata": {}
        },
        {
          "output_type": "display_data",
          "data": {
            "text/plain": [
              "154"
            ]
          },
          "metadata": {}
        },
        {
          "output_type": "stream",
          "name": "stdout",
          "text": [
            "\n"
          ]
        },
        {
          "output_type": "display_data",
          "data": {
            "text/plain": [
              "[[0.017993405573442988,\n",
              "  0.9857749665219719,\n",
              "  0.0338682504345929,\n",
              "  0.06868968943108826],\n",
              " [0.0530579936786346,\n",
              "  0.6008211125797206,\n",
              "  0.016820444246505247,\n",
              "  0.0022321489915459007],\n",
              " [-1.8886526930894634e-11,\n",
              "  -1.718885485173687e-05,\n",
              "  0.016820444246505247,\n",
              "  0.0001162558042084077],\n",
              " [-1.8886526930894634e-11,\n",
              "  -1.718885485173687e-05,\n",
              "  0.016820444246505247,\n",
              "  0.0001162558042084077]]"
            ]
          },
          "metadata": {}
        },
        {
          "output_type": "stream",
          "name": "stdout",
          "text": [
            "\n"
          ]
        },
        {
          "output_type": "display_data",
          "data": {
            "text/plain": [
              "[0.03075950131920962,\n",
              " 3.877405140239766,\n",
              " 29.831965411725257,\n",
              " 29.831965411725257]"
            ]
          },
          "metadata": {}
        },
        {
          "output_type": "display_data",
          "data": {
            "text/plain": [
              "155"
            ]
          },
          "metadata": {}
        },
        {
          "output_type": "stream",
          "name": "stdout",
          "text": [
            "\n"
          ]
        },
        {
          "output_type": "display_data",
          "data": {
            "text/plain": [
              "[[0.017993405573442988,\n",
              "  0.9857749665219719,\n",
              "  0.0338682504345929,\n",
              "  0.06868968943108826],\n",
              " [0.0530579936786346,\n",
              "  0.6008211125797206,\n",
              "  0.016820444246505247,\n",
              "  0.0022321489915459007],\n",
              " [-1.8886526930894634e-11,\n",
              "  -1.718885485173687e-05,\n",
              "  0.016820444246505247,\n",
              "  0.0001162558042084077],\n",
              " [-1.8886526930894634e-11,\n",
              "  -1.718885485173687e-05,\n",
              "  0.016820444246505247,\n",
              "  0.0001162558042084077]]"
            ]
          },
          "metadata": {}
        },
        {
          "output_type": "stream",
          "name": "stdout",
          "text": [
            "\n"
          ]
        },
        {
          "output_type": "display_data",
          "data": {
            "text/plain": [
              "[0.03075950131920962,\n",
              " 3.877405140239766,\n",
              " 29.831965411725257,\n",
              " 29.831965411725257]"
            ]
          },
          "metadata": {}
        },
        {
          "output_type": "display_data",
          "data": {
            "text/plain": [
              "156"
            ]
          },
          "metadata": {}
        },
        {
          "output_type": "stream",
          "name": "stdout",
          "text": [
            "\n"
          ]
        },
        {
          "output_type": "display_data",
          "data": {
            "text/plain": [
              "[[0.017993405573442988,\n",
              "  0.9857749665219719,\n",
              "  0.0338682504345929,\n",
              "  0.06868968943108826],\n",
              " [0.0530579936786346,\n",
              "  0.6008211125797206,\n",
              "  0.016820444246505247,\n",
              "  0.0022321489915459007],\n",
              " [-1.8886526930894634e-11,\n",
              "  0.6008211125797206,\n",
              "  0.016820444246505247,\n",
              "  0.0022321489915459007],\n",
              " [0.0530579936786346,\n",
              "  -1.718885485173687e-05,\n",
              "  0.016820444246505247,\n",
              "  4.414915660189866e-05]]"
            ]
          },
          "metadata": {}
        },
        {
          "output_type": "stream",
          "name": "stdout",
          "text": [
            "\n"
          ]
        },
        {
          "output_type": "display_data",
          "data": {
            "text/plain": [
              "[0.03075950131920962, 3.877405140239766, 28.266504064083772, 4.470686793566584]"
            ]
          },
          "metadata": {}
        },
        {
          "output_type": "display_data",
          "data": {
            "text/plain": [
              "157"
            ]
          },
          "metadata": {}
        },
        {
          "output_type": "stream",
          "name": "stdout",
          "text": [
            "\n"
          ]
        },
        {
          "output_type": "display_data",
          "data": {
            "text/plain": [
              "[[0.017993405573442988,\n",
              "  0.9857749665219719,\n",
              "  0.0338682504345929,\n",
              "  0.06868968943108826],\n",
              " [0.0530579936786346,\n",
              "  0.6008211125797206,\n",
              "  0.016820444246505247,\n",
              "  0.0022321489915459007],\n",
              " [-9.565949025867246e-12,\n",
              "  0.6008211125797206,\n",
              "  0.016820444246505247,\n",
              "  4.414915660189866e-05],\n",
              " [0.0530579936786346,\n",
              "  -1.718885485173687e-05,\n",
              "  0.016820444246505247,\n",
              "  0.0022321489915459007]]"
            ]
          },
          "metadata": {}
        },
        {
          "output_type": "stream",
          "name": "stdout",
          "text": [
            "\n"
          ]
        },
        {
          "output_type": "display_data",
          "data": {
            "text/plain": [
              "[0.03075950131920962, 3.877405140239766, 4.479079320759173, 28.24528272332587]"
            ]
          },
          "metadata": {}
        },
        {
          "output_type": "display_data",
          "data": {
            "text/plain": [
              "158"
            ]
          },
          "metadata": {}
        },
        {
          "output_type": "stream",
          "name": "stdout",
          "text": [
            "\n"
          ]
        },
        {
          "output_type": "display_data",
          "data": {
            "text/plain": [
              "[[0.017993405573442988,\n",
              "  0.9857749665219719,\n",
              "  0.0338682504345929,\n",
              "  0.06868968943108826],\n",
              " [0.0530579936786346,\n",
              "  0.6008211125797206,\n",
              "  0.016820444246505247,\n",
              "  0.0022321489915459007],\n",
              " [-9.565949025867246e-12,\n",
              "  0.6008211125797206,\n",
              "  0.016820444246505247,\n",
              "  0.0022321489915459007],\n",
              " [0.0530579936786346,\n",
              "  -1.718885485173687e-05,\n",
              "  0.016820444246505247,\n",
              "  4.414915660189866e-05]]"
            ]
          },
          "metadata": {}
        },
        {
          "output_type": "stream",
          "name": "stdout",
          "text": [
            "\n"
          ]
        },
        {
          "output_type": "display_data",
          "data": {
            "text/plain": [
              "[0.03075950131920962, 3.877405140239766, 4.470686793458655, 28.266504064083772]"
            ]
          },
          "metadata": {}
        },
        {
          "output_type": "display_data",
          "data": {
            "text/plain": [
              "159"
            ]
          },
          "metadata": {}
        },
        {
          "output_type": "stream",
          "name": "stdout",
          "text": [
            "\n"
          ]
        },
        {
          "output_type": "display_data",
          "data": {
            "text/plain": [
              "[[0.017993405573442988,\n",
              "  0.9857749665219719,\n",
              "  0.0338682504345929,\n",
              "  0.06868968943108826],\n",
              " [0.0530579936786346,\n",
              "  0.6008211125797206,\n",
              "  0.016820444246505247,\n",
              "  0.0022321489915459007],\n",
              " [0.0530579936786346,\n",
              "  -1.718885485173687e-05,\n",
              "  0.016820444246505247,\n",
              "  4.414915660189866e-05],\n",
              " [0.0530579936786346,\n",
              "  -1.718885485173687e-05,\n",
              "  0.016820444246505247,\n",
              "  4.414915660189866e-05]]"
            ]
          },
          "metadata": {}
        },
        {
          "output_type": "stream",
          "name": "stdout",
          "text": [
            "\n"
          ]
        },
        {
          "output_type": "display_data",
          "data": {
            "text/plain": [
              "[0.03075950131920962,\n",
              " 3.877405140239766,\n",
              " 28.266504064083772,\n",
              " 28.266504064083772]"
            ]
          },
          "metadata": {}
        },
        {
          "output_type": "display_data",
          "data": {
            "text/plain": [
              "160"
            ]
          },
          "metadata": {}
        },
        {
          "output_type": "stream",
          "name": "stdout",
          "text": [
            "\n"
          ]
        },
        {
          "output_type": "display_data",
          "data": {
            "text/plain": [
              "[[0.017993405573442988,\n",
              "  0.9857749665219719,\n",
              "  0.0338682504345929,\n",
              "  0.06868968943108826],\n",
              " [0.0530579936786346,\n",
              "  0.6008211125797206,\n",
              "  0.016820444246505247,\n",
              "  0.0022321489915459007],\n",
              " [0.0530579936786346,\n",
              "  -1.718885485173687e-05,\n",
              "  0.016820444246505247,\n",
              "  4.414915660189866e-05],\n",
              " [0.0530579936786346,\n",
              "  -1.718885485173687e-05,\n",
              "  0.016820444246505247,\n",
              "  4.414915660189866e-05]]"
            ]
          },
          "metadata": {}
        },
        {
          "output_type": "stream",
          "name": "stdout",
          "text": [
            "\n"
          ]
        },
        {
          "output_type": "display_data",
          "data": {
            "text/plain": [
              "[0.03075950131920962,\n",
              " 3.877405140239766,\n",
              " 28.266504064083772,\n",
              " 28.266504064083772]"
            ]
          },
          "metadata": {}
        },
        {
          "output_type": "display_data",
          "data": {
            "text/plain": [
              "161"
            ]
          },
          "metadata": {}
        },
        {
          "output_type": "stream",
          "name": "stdout",
          "text": [
            "\n"
          ]
        },
        {
          "output_type": "display_data",
          "data": {
            "text/plain": [
              "[[0.017993405573442988,\n",
              "  0.9857749665219719,\n",
              "  0.0338682504345929,\n",
              "  0.06868968943108826],\n",
              " [0.0530579936786346,\n",
              "  0.6008211125797206,\n",
              "  0.016820444246505247,\n",
              "  0.0022321489915459007],\n",
              " [0.0530579936786346,\n",
              "  -1.718885485173687e-05,\n",
              "  0.016820444246505247,\n",
              "  4.414915660189866e-05],\n",
              " [0.0530579936786346,\n",
              "  -1.718885485173687e-05,\n",
              "  0.016820444246505247,\n",
              "  3.940365381372771e-05]]"
            ]
          },
          "metadata": {}
        },
        {
          "output_type": "stream",
          "name": "stdout",
          "text": [
            "\n"
          ]
        },
        {
          "output_type": "display_data",
          "data": {
            "text/plain": [
              "[0.03075950131920962, 3.877405140239766, 28.26655010096995, 28.266504064083772]"
            ]
          },
          "metadata": {}
        },
        {
          "output_type": "display_data",
          "data": {
            "text/plain": [
              "162"
            ]
          },
          "metadata": {}
        },
        {
          "output_type": "stream",
          "name": "stdout",
          "text": [
            "\n"
          ]
        },
        {
          "output_type": "display_data",
          "data": {
            "text/plain": [
              "[[0.017993405573442988,\n",
              "  0.9857749665219719,\n",
              "  0.0338682504345929,\n",
              "  0.06868968943108826],\n",
              " [0.0530579936786346,\n",
              "  0.6008211125797206,\n",
              "  0.016820444246505247,\n",
              "  0.0022321489915459007],\n",
              " [0.0530579936786346,\n",
              "  -1.718885485173687e-05,\n",
              "  0.016820444246505247,\n",
              "  4.414915660189866e-05],\n",
              " [0.0530579936786346,\n",
              "  -1.718885485173687e-05,\n",
              "  0.016820444246505247,\n",
              "  4.414915660189866e-05]]"
            ]
          },
          "metadata": {}
        },
        {
          "output_type": "stream",
          "name": "stdout",
          "text": [
            "\n"
          ]
        },
        {
          "output_type": "display_data",
          "data": {
            "text/plain": [
              "[0.03075950131920962,\n",
              " 3.877405140239766,\n",
              " 28.266504064083772,\n",
              " 28.266504064083772]"
            ]
          },
          "metadata": {}
        },
        {
          "output_type": "display_data",
          "data": {
            "text/plain": [
              "163"
            ]
          },
          "metadata": {}
        },
        {
          "output_type": "stream",
          "name": "stdout",
          "text": [
            "\n"
          ]
        },
        {
          "output_type": "display_data",
          "data": {
            "text/plain": [
              "[[0.017993405573442988,\n",
              "  0.9857749665219719,\n",
              "  0.0338682504345929,\n",
              "  0.06868968943108826],\n",
              " [0.0530579936786346,\n",
              "  0.6008211125797206,\n",
              "  0.016820444246505247,\n",
              "  0.0022321489915459007],\n",
              " [0.0530579936786346,\n",
              "  -1.718885485173687e-05,\n",
              "  0.016820444246505247,\n",
              "  4.414915660189866e-05],\n",
              " [0.02479789516805612,\n",
              "  -1.718885485173687e-05,\n",
              "  0.016820444246505247,\n",
              "  4.414915660189866e-05]]"
            ]
          },
          "metadata": {}
        },
        {
          "output_type": "stream",
          "name": "stdout",
          "text": [
            "\n"
          ]
        },
        {
          "output_type": "display_data",
          "data": {
            "text/plain": [
              "[0.03075950131920962, 3.877405140239766, 29.0954372465246, 28.266504064083772]"
            ]
          },
          "metadata": {}
        },
        {
          "output_type": "display_data",
          "data": {
            "text/plain": [
              "164"
            ]
          },
          "metadata": {}
        },
        {
          "output_type": "stream",
          "name": "stdout",
          "text": [
            "\n"
          ]
        },
        {
          "output_type": "display_data",
          "data": {
            "text/plain": [
              "[[0.017993405573442988,\n",
              "  0.9857749665219719,\n",
              "  0.0338682504345929,\n",
              "  0.06868968943108826],\n",
              " [0.0530579936786346,\n",
              "  0.6008211125797206,\n",
              "  0.016820444246505247,\n",
              "  0.0022321489915459007],\n",
              " [0.0530579936786346,\n",
              "  -1.718885485173687e-05,\n",
              "  0.016820444246505247,\n",
              "  -2.8470050706881233e-05],\n",
              " [0.02479789516805612,\n",
              "  -1.718885485173687e-05,\n",
              "  0.016820444246505247,\n",
              "  4.414915660189866e-05]]"
            ]
          },
          "metadata": {}
        },
        {
          "output_type": "stream",
          "name": "stdout",
          "text": [
            "\n"
          ]
        },
        {
          "output_type": "display_data",
          "data": {
            "text/plain": [
              "[0.03075950131920962, 3.877405140239766, 28.26720855962845, 29.0954372465246]"
            ]
          },
          "metadata": {}
        },
        {
          "output_type": "display_data",
          "data": {
            "text/plain": [
              "165"
            ]
          },
          "metadata": {}
        },
        {
          "output_type": "stream",
          "name": "stdout",
          "text": [
            "\n"
          ]
        },
        {
          "output_type": "display_data",
          "data": {
            "text/plain": [
              "[[0.017993405573442988,\n",
              "  0.9857749665219719,\n",
              "  0.0338682504345929,\n",
              "  0.06868968943108826],\n",
              " [0.0530579936786346,\n",
              "  0.6008211125797206,\n",
              "  0.016820444246505247,\n",
              "  0.0022321489915459007],\n",
              " [0.0530579936786346,\n",
              "  -1.718885485173687e-05,\n",
              "  0.016820444246505247,\n",
              "  -3.390266894742353e-05],\n",
              " [0.02479789516805612,\n",
              "  -1.718885485173687e-05,\n",
              "  0.016820444246505247,\n",
              "  -2.8470050706881233e-05]]"
            ]
          },
          "metadata": {}
        },
        {
          "output_type": "stream",
          "name": "stdout",
          "text": [
            "\n"
          ]
        },
        {
          "output_type": "display_data",
          "data": {
            "text/plain": [
              "[0.03075950131920962,\n",
              " 3.877405140239766,\n",
              " 28.267261263124954,\n",
              " 29.096152003199037]"
            ]
          },
          "metadata": {}
        },
        {
          "output_type": "display_data",
          "data": {
            "text/plain": [
              "166"
            ]
          },
          "metadata": {}
        },
        {
          "output_type": "stream",
          "name": "stdout",
          "text": [
            "\n"
          ]
        },
        {
          "output_type": "display_data",
          "data": {
            "text/plain": [
              "[[0.017993405573442988,\n",
              "  0.9857749665219719,\n",
              "  0.0338682504345929,\n",
              "  0.06868968943108826],\n",
              " [0.0530579936786346,\n",
              "  0.6008211125797206,\n",
              "  0.016820444246505247,\n",
              "  0.0022321489915459007],\n",
              " [0.0530579936786346,\n",
              "  -1.718885485173687e-05,\n",
              "  0.016820444246505247,\n",
              "  -2.8470050706881233e-05],\n",
              " [0.02479789516805612,\n",
              "  -1.718885485173687e-05,\n",
              "  0.016820444246505247,\n",
              "  -3.390266894742353e-05]]"
            ]
          },
          "metadata": {}
        },
        {
          "output_type": "stream",
          "name": "stdout",
          "text": [
            "\n"
          ]
        },
        {
          "output_type": "display_data",
          "data": {
            "text/plain": [
              "[0.03075950131920962, 3.877405140239766, 29.096205474327178, 28.26720855962845]"
            ]
          },
          "metadata": {}
        },
        {
          "output_type": "display_data",
          "data": {
            "text/plain": [
              "167"
            ]
          },
          "metadata": {}
        },
        {
          "output_type": "stream",
          "name": "stdout",
          "text": [
            "\n"
          ]
        },
        {
          "output_type": "display_data",
          "data": {
            "text/plain": [
              "[[0.017993405573442988,\n",
              "  0.9857749665219719,\n",
              "  0.0338682504345929,\n",
              "  0.06868968943108826],\n",
              " [0.0530579936786346,\n",
              "  0.6008211125797206,\n",
              "  0.016820444246505247,\n",
              "  0.0022321489915459007],\n",
              " [0.0530579936786346,\n",
              "  -5.3825877348533125e-06,\n",
              "  0.016820444246505247,\n",
              "  -2.8470050706881233e-05],\n",
              " [0.0530579936786346,\n",
              "  -1.718885485173687e-05,\n",
              "  0.016820444246505247,\n",
              "  -2.8470050706881233e-05]]"
            ]
          },
          "metadata": {}
        },
        {
          "output_type": "stream",
          "name": "stdout",
          "text": [
            "\n"
          ]
        },
        {
          "output_type": "display_data",
          "data": {
            "text/plain": [
              "[0.03075950131920962, 3.877405140239766, 28.266509496939875, 28.26720855962845]"
            ]
          },
          "metadata": {}
        },
        {
          "output_type": "display_data",
          "data": {
            "text/plain": [
              "168"
            ]
          },
          "metadata": {}
        },
        {
          "output_type": "stream",
          "name": "stdout",
          "text": [
            "\n"
          ]
        },
        {
          "output_type": "display_data",
          "data": {
            "text/plain": [
              "[[0.017993405573442988,\n",
              "  0.9857749665219719,\n",
              "  0.0338682504345929,\n",
              "  0.06868968943108826],\n",
              " [0.0530579936786346,\n",
              "  0.6008211125797206,\n",
              "  0.016820444246505247,\n",
              "  0.0022321489915459007],\n",
              " [0.0530579936786346,\n",
              "  -1.718885485173687e-05,\n",
              "  0.016820444246505247,\n",
              "  -2.8470050706881233e-05],\n",
              " [0.019302571745842743,\n",
              "  -5.3825877348533125e-06,\n",
              "  0.016820444246505247,\n",
              "  -2.8470050706881233e-05]]"
            ]
          },
          "metadata": {}
        },
        {
          "output_type": "stream",
          "name": "stdout",
          "text": [
            "\n"
          ]
        },
        {
          "output_type": "display_data",
          "data": {
            "text/plain": [
              "[0.03075950131920962, 3.877405140239766, 29.25802438501568, 28.26720855962845]"
            ]
          },
          "metadata": {}
        },
        {
          "output_type": "display_data",
          "data": {
            "text/plain": [
              "169"
            ]
          },
          "metadata": {}
        },
        {
          "output_type": "stream",
          "name": "stdout",
          "text": [
            "\n"
          ]
        },
        {
          "output_type": "display_data",
          "data": {
            "text/plain": [
              "[[0.017993405573442988,\n",
              "  0.9857749665219719,\n",
              "  0.0338682504345929,\n",
              "  0.06868968943108826],\n",
              " [0.0530579936786346,\n",
              "  0.6008211125797206,\n",
              "  0.016820444246505247,\n",
              "  0.0022321489915459007],\n",
              " [0.0530579936786346,\n",
              "  -1.718885485173687e-05,\n",
              "  0.016820444246505247,\n",
              "  -2.8470050706881233e-05],\n",
              " [0.019302571745842743,\n",
              "  -5.3825877348533125e-06,\n",
              "  0.016820444246505247,\n",
              "  -2.8470050706881233e-05]]"
            ]
          },
          "metadata": {}
        },
        {
          "output_type": "stream",
          "name": "stdout",
          "text": [
            "\n"
          ]
        },
        {
          "output_type": "display_data",
          "data": {
            "text/plain": [
              "[0.03075950131920962, 3.877405140239766, 29.25802438501568, 28.26720855962845]"
            ]
          },
          "metadata": {}
        },
        {
          "output_type": "display_data",
          "data": {
            "text/plain": [
              "170"
            ]
          },
          "metadata": {}
        },
        {
          "output_type": "stream",
          "name": "stdout",
          "text": [
            "\n"
          ]
        },
        {
          "output_type": "display_data",
          "data": {
            "text/plain": [
              "[[0.017993405573442988,\n",
              "  0.9857749665219719,\n",
              "  0.0338682504345929,\n",
              "  0.06868968943108826],\n",
              " [0.0530579936786346,\n",
              "  0.6008211125797206,\n",
              "  0.016820444246505247,\n",
              "  0.0022321489915459007],\n",
              " [0.0530579936786346,\n",
              "  -5.3825877348533125e-06,\n",
              "  0.016820444246505247,\n",
              "  -2.8470050706881233e-05],\n",
              " [0.019302571745842743,\n",
              "  -1.718885485173687e-05,\n",
              "  0.016820444246505247,\n",
              "  -2.8470050706881233e-05]]"
            ]
          },
          "metadata": {}
        },
        {
          "output_type": "stream",
          "name": "stdout",
          "text": [
            "\n"
          ]
        },
        {
          "output_type": "display_data",
          "data": {
            "text/plain": [
              "[0.03075950131920962, 3.877405140239766, 29.25873560273286, 28.266509496939875]"
            ]
          },
          "metadata": {}
        },
        {
          "output_type": "display_data",
          "data": {
            "text/plain": [
              "171"
            ]
          },
          "metadata": {}
        },
        {
          "output_type": "stream",
          "name": "stdout",
          "text": [
            "\n"
          ]
        },
        {
          "output_type": "display_data",
          "data": {
            "text/plain": [
              "[[0.017993405573442988,\n",
              "  0.9857749665219719,\n",
              "  0.0338682504345929,\n",
              "  0.06868968943108826],\n",
              " [0.0530579936786346,\n",
              "  0.6008211125797206,\n",
              "  0.016820444246505247,\n",
              "  0.0022321489915459007],\n",
              " [0.0530579936786346,\n",
              "  1.3365466147549873e-05,\n",
              "  0.016820444246505247,\n",
              "  -2.8470050706881233e-05],\n",
              " [0.019302571745842743,\n",
              "  -5.3825877348533125e-06,\n",
              "  0.016820444246505247,\n",
              "  -2.8470050706881233e-05]]"
            ]
          },
          "metadata": {}
        },
        {
          "output_type": "stream",
          "name": "stdout",
          "text": [
            "\n"
          ]
        },
        {
          "output_type": "display_data",
          "data": {
            "text/plain": [
              "[0.03075950131920962, 3.877405140239766, 28.26539942081664, 29.25802438501568]"
            ]
          },
          "metadata": {}
        },
        {
          "output_type": "display_data",
          "data": {
            "text/plain": [
              "172"
            ]
          },
          "metadata": {}
        },
        {
          "output_type": "stream",
          "name": "stdout",
          "text": [
            "\n"
          ]
        },
        {
          "output_type": "display_data",
          "data": {
            "text/plain": [
              "[[0.017993405573442988,\n",
              "  0.9857749665219719,\n",
              "  0.0338682504345929,\n",
              "  0.06868968943108826],\n",
              " [0.0530579936786346,\n",
              "  0.6008211125797206,\n",
              "  0.016820444246505247,\n",
              "  0.0022321489915459007],\n",
              " [0.0530579936786346,\n",
              "  -5.3825877348533125e-06,\n",
              "  0.016820444246505247,\n",
              "  -2.8470050706881233e-05],\n",
              " [0.019302571745842743,\n",
              "  1.3365466147549873e-05,\n",
              "  0.016820444246505247,\n",
              "  -2.8470050706881233e-05]]"
            ]
          },
          "metadata": {}
        },
        {
          "output_type": "stream",
          "name": "stdout",
          "text": [
            "\n"
          ]
        },
        {
          "output_type": "display_data",
          "data": {
            "text/plain": [
              "[0.03075950131920962,\n",
              " 3.877405140239766,\n",
              " 29.256895007014137,\n",
              " 28.266509496939875]"
            ]
          },
          "metadata": {}
        },
        {
          "output_type": "display_data",
          "data": {
            "text/plain": [
              "173"
            ]
          },
          "metadata": {}
        },
        {
          "output_type": "stream",
          "name": "stdout",
          "text": [
            "\n"
          ]
        },
        {
          "output_type": "display_data",
          "data": {
            "text/plain": [
              "[[0.017993405573442988,\n",
              "  0.9857749665219719,\n",
              "  0.0338682504345929,\n",
              "  0.06868968943108826],\n",
              " [0.0530579936786346,\n",
              "  0.6008211125797206,\n",
              "  0.016820444246505247,\n",
              "  0.0022321489915459007],\n",
              " [0.0530579936786346,\n",
              "  -5.3825877348533125e-06,\n",
              "  0.016820444246505247,\n",
              "  -7.717361822131453e-06],\n",
              " [0.019302571745842743,\n",
              "  1.3365466147549873e-05,\n",
              "  0.016820444246505247,\n",
              "  -2.8470050706881233e-05]]"
            ]
          },
          "metadata": {}
        },
        {
          "output_type": "stream",
          "name": "stdout",
          "text": [
            "\n"
          ]
        },
        {
          "output_type": "display_data",
          "data": {
            "text/plain": [
              "[0.03075950131920962,\n",
              " 3.877405140239766,\n",
              " 28.266308171779738,\n",
              " 29.256895007014137]"
            ]
          },
          "metadata": {}
        },
        {
          "output_type": "display_data",
          "data": {
            "text/plain": [
              "174"
            ]
          },
          "metadata": {}
        },
        {
          "output_type": "stream",
          "name": "stdout",
          "text": [
            "\n"
          ]
        },
        {
          "output_type": "display_data",
          "data": {
            "text/plain": [
              "[[0.017993405573442988,\n",
              "  0.9857749665219719,\n",
              "  0.0338682504345929,\n",
              "  0.06868968943108826],\n",
              " [0.0530579936786346,\n",
              "  0.6008211125797206,\n",
              "  0.016820444246505247,\n",
              "  0.0022321489915459007],\n",
              " [0.0530579936786346,\n",
              "  0.6008211125797206,\n",
              "  -0.0011524971156934465,\n",
              "  -7.717361822131453e-06],\n",
              " [0.0530579936786346,\n",
              "  -5.3825877348533125e-06,\n",
              "  0.016820444246505247,\n",
              "  0.0022321489915459007]]"
            ]
          },
          "metadata": {}
        },
        {
          "output_type": "stream",
          "name": "stdout",
          "text": [
            "\n"
          ]
        },
        {
          "output_type": "display_data",
          "data": {
            "text/plain": [
              "[0.03075950131920962, 3.877405140239766, 3.9499376345397, 28.244583932869915]"
            ]
          },
          "metadata": {}
        },
        {
          "output_type": "display_data",
          "data": {
            "text/plain": [
              "175"
            ]
          },
          "metadata": {}
        },
        {
          "output_type": "stream",
          "name": "stdout",
          "text": [
            "\n"
          ]
        },
        {
          "output_type": "display_data",
          "data": {
            "text/plain": [
              "[[0.017993405573442988,\n",
              "  0.9857749665219719,\n",
              "  0.0338682504345929,\n",
              "  0.06868968943108826],\n",
              " [0.0530579936786346,\n",
              "  0.6008211125797206,\n",
              "  0.016820444246505247,\n",
              "  0.0022321489915459007],\n",
              " [0.0530579936786346,\n",
              "  4.791032881458842e-07,\n",
              "  0.016820444246505247,\n",
              "  0.0022321489915459007],\n",
              " [0.0530579936786346,\n",
              "  -5.3825877348533125e-06,\n",
              "  0.016820444246505247,\n",
              "  0.0022321489915459007]]"
            ]
          },
          "metadata": {}
        },
        {
          "output_type": "stream",
          "name": "stdout",
          "text": [
            "\n"
          ]
        },
        {
          "output_type": "display_data",
          "data": {
            "text/plain": [
              "[0.03075950131920962, 3.877405140239766, 28.24423699375817, 28.244583932869915]"
            ]
          },
          "metadata": {}
        },
        {
          "output_type": "display_data",
          "data": {
            "text/plain": [
              "176"
            ]
          },
          "metadata": {}
        },
        {
          "output_type": "stream",
          "name": "stdout",
          "text": [
            "\n"
          ]
        },
        {
          "output_type": "display_data",
          "data": {
            "text/plain": [
              "[[0.017993405573442988,\n",
              "  0.9857749665219719,\n",
              "  0.0338682504345929,\n",
              "  0.06868968943108826],\n",
              " [0.0530579936786346,\n",
              "  0.6008211125797206,\n",
              "  0.016820444246505247,\n",
              "  0.0022321489915459007],\n",
              " [0.0530579936786346,\n",
              "  0.6008211125797206,\n",
              "  0.016820444246505247,\n",
              "  0.0022321489915459007],\n",
              " [0.0530579936786346,\n",
              "  -5.3825877348533125e-06,\n",
              "  0.016820444246505247,\n",
              "  0.0022321489915459007]]"
            ]
          },
          "metadata": {}
        },
        {
          "output_type": "stream",
          "name": "stdout",
          "text": [
            "\n"
          ]
        },
        {
          "output_type": "display_data",
          "data": {
            "text/plain": [
              "[0.03075950131920962, 3.877405140239766, 3.877405140239766, 28.244583932869915]"
            ]
          },
          "metadata": {}
        },
        {
          "output_type": "display_data",
          "data": {
            "text/plain": [
              "177"
            ]
          },
          "metadata": {}
        },
        {
          "output_type": "stream",
          "name": "stdout",
          "text": [
            "\n"
          ]
        },
        {
          "output_type": "display_data",
          "data": {
            "text/plain": [
              "[[0.017993405573442988,\n",
              "  0.9857749665219719,\n",
              "  0.0338682504345929,\n",
              "  0.06868968943108826],\n",
              " [0.0530579936786346,\n",
              "  0.6008211125797206,\n",
              "  0.016820444246505247,\n",
              "  0.0022321489915459007],\n",
              " [0.0530579936786346,\n",
              "  0.6008211125797206,\n",
              "  0.016820444246505247,\n",
              "  -0.002180030437783508],\n",
              " [0.0530579936786346,\n",
              "  -5.3825877348533125e-06,\n",
              "  0.016820444246505247,\n",
              "  0.0022321489915459007]]"
            ]
          },
          "metadata": {}
        },
        {
          "output_type": "stream",
          "name": "stdout",
          "text": [
            "\n"
          ]
        },
        {
          "output_type": "display_data",
          "data": {
            "text/plain": [
              "[0.03075950131920962,\n",
              " 3.877405140239766,\n",
              " 3.8931682763520676,\n",
              " 28.244583932869915]"
            ]
          },
          "metadata": {}
        },
        {
          "output_type": "display_data",
          "data": {
            "text/plain": [
              "178"
            ]
          },
          "metadata": {}
        },
        {
          "output_type": "stream",
          "name": "stdout",
          "text": [
            "\n"
          ]
        },
        {
          "output_type": "display_data",
          "data": {
            "text/plain": [
              "[[0.017993405573442988,\n",
              "  0.9857749665219719,\n",
              "  0.0338682504345929,\n",
              "  0.06868968943108826],\n",
              " [0.0530579936786346,\n",
              "  0.6008211125797206,\n",
              "  0.016820444246505247,\n",
              "  0.0022321489915459007],\n",
              " [0.0530579936786346,\n",
              "  0.6008211125797206,\n",
              "  0.016820444246505247,\n",
              "  0.0022321489915459007],\n",
              " [0.0530579936786346,\n",
              "  -5.3825877348533125e-06,\n",
              "  0.016820444246505247,\n",
              "  0.0022321489915459007]]"
            ]
          },
          "metadata": {}
        },
        {
          "output_type": "stream",
          "name": "stdout",
          "text": [
            "\n"
          ]
        },
        {
          "output_type": "display_data",
          "data": {
            "text/plain": [
              "[0.03075950131920962, 3.877405140239766, 28.244583932869915, 3.877405140239766]"
            ]
          },
          "metadata": {}
        },
        {
          "output_type": "display_data",
          "data": {
            "text/plain": [
              "179"
            ]
          },
          "metadata": {}
        },
        {
          "output_type": "stream",
          "name": "stdout",
          "text": [
            "\n"
          ]
        },
        {
          "output_type": "display_data",
          "data": {
            "text/plain": [
              "[[0.017993405573442988,\n",
              "  0.9857749665219719,\n",
              "  0.0338682504345929,\n",
              "  0.06868968943108826],\n",
              " [0.0530579936786346,\n",
              "  0.6008211125797206,\n",
              "  0.016820444246505247,\n",
              "  0.0022321489915459007],\n",
              " [0.0530579936786346,\n",
              "  -5.3825877348533125e-06,\n",
              "  0.016820444246505247,\n",
              "  0.0022321489915459007],\n",
              " [0.0530579936786346,\n",
              "  -5.3825877348533125e-06,\n",
              "  0.016820444246505247,\n",
              "  0.0022321489915459007]]"
            ]
          },
          "metadata": {}
        },
        {
          "output_type": "stream",
          "name": "stdout",
          "text": [
            "\n"
          ]
        },
        {
          "output_type": "display_data",
          "data": {
            "text/plain": [
              "[0.03075950131920962,\n",
              " 3.877405140239766,\n",
              " 28.244583932869915,\n",
              " 28.244583932869915]"
            ]
          },
          "metadata": {}
        },
        {
          "output_type": "display_data",
          "data": {
            "text/plain": [
              "180"
            ]
          },
          "metadata": {}
        },
        {
          "output_type": "stream",
          "name": "stdout",
          "text": [
            "\n"
          ]
        },
        {
          "output_type": "display_data",
          "data": {
            "text/plain": [
              "[[0.017993405573442988,\n",
              "  0.9857749665219719,\n",
              "  0.0338682504345929,\n",
              "  0.06868968943108826],\n",
              " [0.0530579936786346,\n",
              "  0.6008211125797206,\n",
              "  0.016820444246505247,\n",
              "  0.0022321489915459007],\n",
              " [-0.05174729248595839,\n",
              "  0.6008211125797206,\n",
              "  0.016820444246505247,\n",
              "  0.0022321489915459007],\n",
              " [0.0530579936786346,\n",
              "  -5.3825877348533125e-06,\n",
              "  0.016820444246505247,\n",
              "  0.0022321489915459007]]"
            ]
          },
          "metadata": {}
        },
        {
          "output_type": "stream",
          "name": "stdout",
          "text": [
            "\n"
          ]
        },
        {
          "output_type": "display_data",
          "data": {
            "text/plain": [
              "[0.03075950131920962, 3.877405140239766, 5.089987926195061, 28.244583932869915]"
            ]
          },
          "metadata": {}
        },
        {
          "output_type": "display_data",
          "data": {
            "text/plain": [
              "181"
            ]
          },
          "metadata": {}
        },
        {
          "output_type": "stream",
          "name": "stdout",
          "text": [
            "\n"
          ]
        },
        {
          "output_type": "display_data",
          "data": {
            "text/plain": [
              "[[0.017993405573442988,\n",
              "  0.9857749665219719,\n",
              "  0.0338682504345929,\n",
              "  0.06868968943108826],\n",
              " [0.0530579936786346,\n",
              "  0.6008211125797206,\n",
              "  0.016820444246505247,\n",
              "  0.0022321489915459007],\n",
              " [0.0530579936786346,\n",
              "  -5.3825877348533125e-06,\n",
              "  0.016820444246505247,\n",
              "  0.0022321489915459007],\n",
              " [0.004123890344569869,\n",
              "  -5.3825877348533125e-06,\n",
              "  0.016820444246505247,\n",
              "  0.0022321489915459007]]"
            ]
          },
          "metadata": {}
        },
        {
          "output_type": "stream",
          "name": "stdout",
          "text": [
            "\n"
          ]
        },
        {
          "output_type": "display_data",
          "data": {
            "text/plain": [
              "[0.03075950131920962,\n",
              " 3.877405140239766,\n",
              " 29.686967376857368,\n",
              " 28.244583932869915]"
            ]
          },
          "metadata": {}
        },
        {
          "output_type": "display_data",
          "data": {
            "text/plain": [
              "182"
            ]
          },
          "metadata": {}
        },
        {
          "output_type": "stream",
          "name": "stdout",
          "text": [
            "\n"
          ]
        },
        {
          "output_type": "display_data",
          "data": {
            "text/plain": [
              "[[0.017993405573442988,\n",
              "  0.9857749665219719,\n",
              "  0.0338682504345929,\n",
              "  0.06868968943108826],\n",
              " [0.0530579936786346,\n",
              "  0.6008211125797206,\n",
              "  0.016820444246505247,\n",
              "  0.0022321489915459007],\n",
              " [0.01327815573854522,\n",
              "  -5.3825877348533125e-06,\n",
              "  0.016820444246505247,\n",
              "  0.0022321489915459007],\n",
              " [0.004123890344569869,\n",
              "  -5.3825877348533125e-06,\n",
              "  0.016820444246505247,\n",
              "  0.0022321489915459007]]"
            ]
          },
          "metadata": {}
        },
        {
          "output_type": "stream",
          "name": "stdout",
          "text": [
            "\n"
          ]
        },
        {
          "output_type": "display_data",
          "data": {
            "text/plain": [
              "[0.03075950131920962,\n",
              " 3.877405140239766,\n",
              " 29.414404746778736,\n",
              " 29.686967376857368]"
            ]
          },
          "metadata": {}
        },
        {
          "output_type": "display_data",
          "data": {
            "text/plain": [
              "183"
            ]
          },
          "metadata": {}
        },
        {
          "output_type": "stream",
          "name": "stdout",
          "text": [
            "\n"
          ]
        },
        {
          "output_type": "display_data",
          "data": {
            "text/plain": [
              "[[0.017993405573442988,\n",
              "  0.9857749665219719,\n",
              "  0.0338682504345929,\n",
              "  0.06868968943108826],\n",
              " [0.0530579936786346,\n",
              "  0.6008211125797206,\n",
              "  0.016820444246505247,\n",
              "  0.0022321489915459007],\n",
              " [0.01327815573854522,\n",
              "  -5.3825877348533125e-06,\n",
              "  0.00293918566027254,\n",
              "  0.0022321489915459007],\n",
              " [0.004123890344569869,\n",
              "  -5.3825877348533125e-06,\n",
              "  0.016820444246505247,\n",
              "  0.0022321489915459007]]"
            ]
          },
          "metadata": {}
        },
        {
          "output_type": "stream",
          "name": "stdout",
          "text": [
            "\n"
          ]
        },
        {
          "output_type": "display_data",
          "data": {
            "text/plain": [
              "[0.03075950131920962,\n",
              " 3.877405140239766,\n",
              " 29.551960248581615,\n",
              " 29.686967376857368]"
            ]
          },
          "metadata": {}
        },
        {
          "output_type": "display_data",
          "data": {
            "text/plain": [
              "184"
            ]
          },
          "metadata": {}
        },
        {
          "output_type": "stream",
          "name": "stdout",
          "text": [
            "\n"
          ]
        },
        {
          "output_type": "display_data",
          "data": {
            "text/plain": [
              "[[0.017993405573442988,\n",
              "  0.9857749665219719,\n",
              "  0.0338682504345929,\n",
              "  0.06868968943108826],\n",
              " [0.0530579936786346,\n",
              "  0.6008211125797206,\n",
              "  0.016820444246505247,\n",
              "  0.0022321489915459007],\n",
              " [0.004123890344569869,\n",
              "  -5.3825877348533125e-06,\n",
              "  0.016820444246505247,\n",
              "  0.0022321489915459007],\n",
              " [0.004123890344569869,\n",
              "  -5.3825877348533125e-06,\n",
              "  0.007339474738645854,\n",
              "  0.0022321489915459007]]"
            ]
          },
          "metadata": {}
        },
        {
          "output_type": "stream",
          "name": "stdout",
          "text": [
            "\n"
          ]
        },
        {
          "output_type": "display_data",
          "data": {
            "text/plain": [
              "[0.03075950131920962, 3.877405140239766, 29.78131071474258, 29.686967376857368]"
            ]
          },
          "metadata": {}
        },
        {
          "output_type": "display_data",
          "data": {
            "text/plain": [
              "185"
            ]
          },
          "metadata": {}
        },
        {
          "output_type": "stream",
          "name": "stdout",
          "text": [
            "\n"
          ]
        },
        {
          "output_type": "display_data",
          "data": {
            "text/plain": [
              "[[0.017993405573442988,\n",
              "  0.9857749665219719,\n",
              "  0.0338682504345929,\n",
              "  0.06868968943108826],\n",
              " [0.0530579936786346,\n",
              "  0.6008211125797206,\n",
              "  0.016820444246505247,\n",
              "  0.0022321489915459007],\n",
              " [0.004123890344569869,\n",
              "  -5.3825877348533125e-06,\n",
              "  0.016820444246505247,\n",
              "  0.0022321489915459007],\n",
              " [0.004123890344569869,\n",
              "  -5.3825877348533125e-06,\n",
              "  0.007339474738645854,\n",
              "  0.0022321489915459007]]"
            ]
          },
          "metadata": {}
        },
        {
          "output_type": "stream",
          "name": "stdout",
          "text": [
            "\n"
          ]
        },
        {
          "output_type": "display_data",
          "data": {
            "text/plain": [
              "[0.03075950131920962, 3.877405140239766, 29.686967376857368, 29.78131071474258]"
            ]
          },
          "metadata": {}
        },
        {
          "output_type": "display_data",
          "data": {
            "text/plain": [
              "186"
            ]
          },
          "metadata": {}
        },
        {
          "output_type": "stream",
          "name": "stdout",
          "text": [
            "\n"
          ]
        },
        {
          "output_type": "display_data",
          "data": {
            "text/plain": [
              "[[0.017993405573442988,\n",
              "  0.9857749665219719,\n",
              "  0.0338682504345929,\n",
              "  0.06868968943108826],\n",
              " [0.0530579936786346,\n",
              "  0.6008211125797206,\n",
              "  0.016820444246505247,\n",
              "  0.0022321489915459007],\n",
              " [0.004123890344569869,\n",
              "  -5.3825877348533125e-06,\n",
              "  0.016820444246505247,\n",
              "  0.0022321489915459007],\n",
              " [0.004123890344569869,\n",
              "  -5.3825877348533125e-06,\n",
              "  0.007339474738645854,\n",
              "  0.0022321489915459007]]"
            ]
          },
          "metadata": {}
        },
        {
          "output_type": "stream",
          "name": "stdout",
          "text": [
            "\n"
          ]
        },
        {
          "output_type": "display_data",
          "data": {
            "text/plain": [
              "[0.03075950131920962, 3.877405140239766, 29.78131071474258, 29.686967376857368]"
            ]
          },
          "metadata": {}
        },
        {
          "output_type": "display_data",
          "data": {
            "text/plain": [
              "187"
            ]
          },
          "metadata": {}
        },
        {
          "output_type": "stream",
          "name": "stdout",
          "text": [
            "\n"
          ]
        },
        {
          "output_type": "display_data",
          "data": {
            "text/plain": [
              "[[0.017993405573442988,\n",
              "  0.9857749665219719,\n",
              "  0.0338682504345929,\n",
              "  0.06868968943108826],\n",
              " [0.0530579936786346,\n",
              "  0.6008211125797206,\n",
              "  0.016820444246505247,\n",
              "  0.0022321489915459007],\n",
              " [0.004123890344569869,\n",
              "  -5.3825877348533125e-06,\n",
              "  0.016820444246505247,\n",
              "  0.0021590232827665866],\n",
              " [0.004123890344569869,\n",
              "  -5.3825877348533125e-06,\n",
              "  0.007339474738645854,\n",
              "  0.0022321489915459007]]"
            ]
          },
          "metadata": {}
        },
        {
          "output_type": "stream",
          "name": "stdout",
          "text": [
            "\n"
          ]
        },
        {
          "output_type": "display_data",
          "data": {
            "text/plain": [
              "[0.03075950131920962, 3.877405140239766, 29.687694349026515, 29.78131071474258]"
            ]
          },
          "metadata": {}
        },
        {
          "output_type": "display_data",
          "data": {
            "text/plain": [
              "188"
            ]
          },
          "metadata": {}
        },
        {
          "output_type": "stream",
          "name": "stdout",
          "text": [
            "\n"
          ]
        },
        {
          "output_type": "display_data",
          "data": {
            "text/plain": [
              "[[0.017993405573442988,\n",
              "  0.9857749665219719,\n",
              "  0.0338682504345929,\n",
              "  0.06868968943108826],\n",
              " [0.0530579936786346,\n",
              "  0.6008211125797206,\n",
              "  0.016820444246505247,\n",
              "  0.0022321489915459007],\n",
              " [0.004123890344569869,\n",
              "  -5.3825877348533125e-06,\n",
              "  0.016820444246505247,\n",
              "  0.0021590232827665866],\n",
              " [0.004123890344569869,\n",
              "  -5.3825877348533125e-06,\n",
              "  0.007339474738645854,\n",
              "  0.0022321489915459007]]"
            ]
          },
          "metadata": {}
        },
        {
          "output_type": "stream",
          "name": "stdout",
          "text": [
            "\n"
          ]
        },
        {
          "output_type": "display_data",
          "data": {
            "text/plain": [
              "[0.03075950131920962, 3.877405140239766, 29.78131071474258, 29.687694349026515]"
            ]
          },
          "metadata": {}
        },
        {
          "output_type": "display_data",
          "data": {
            "text/plain": [
              "189"
            ]
          },
          "metadata": {}
        },
        {
          "output_type": "stream",
          "name": "stdout",
          "text": [
            "\n"
          ]
        },
        {
          "output_type": "display_data",
          "data": {
            "text/plain": [
              "[[0.017993405573442988,\n",
              "  0.9857749665219719,\n",
              "  0.0338682504345929,\n",
              "  0.06868968943108826],\n",
              " [0.0530579936786346,\n",
              "  0.6008211125797206,\n",
              "  0.016820444246505247,\n",
              "  0.0022321489915459007],\n",
              " [0.004123890344569869,\n",
              "  2.7287725062568408e-06,\n",
              "  0.016820444246505247,\n",
              "  0.0021590232827665866],\n",
              " [0.004123890344569869,\n",
              "  -5.3825877348533125e-06,\n",
              "  0.007339474738645854,\n",
              "  0.0022321489915459007]]"
            ]
          },
          "metadata": {}
        },
        {
          "output_type": "stream",
          "name": "stdout",
          "text": [
            "\n"
          ]
        },
        {
          "output_type": "display_data",
          "data": {
            "text/plain": [
              "[0.03075950131920962, 3.877405140239766, 29.687202145903115, 29.78131071474258]"
            ]
          },
          "metadata": {}
        },
        {
          "output_type": "display_data",
          "data": {
            "text/plain": [
              "190"
            ]
          },
          "metadata": {}
        },
        {
          "output_type": "stream",
          "name": "stdout",
          "text": [
            "\n"
          ]
        },
        {
          "output_type": "display_data",
          "data": {
            "text/plain": [
              "[[0.017993405573442988,\n",
              "  0.9857749665219719,\n",
              "  0.0338682504345929,\n",
              "  0.06868968943108826],\n",
              " [0.0530579936786346,\n",
              "  0.6008211125797206,\n",
              "  0.016820444246505247,\n",
              "  0.0022321489915459007],\n",
              " [0.0530579936786346,\n",
              "  0.6008211125797206,\n",
              "  -0.001634640768958217,\n",
              "  0.0021590232827665866],\n",
              " [0.004123890344569869,\n",
              "  2.7287725062568408e-06,\n",
              "  0.016820444246505247,\n",
              "  0.0022321489915459007]]"
            ]
          },
          "metadata": {}
        },
        {
          "output_type": "stream",
          "name": "stdout",
          "text": [
            "\n"
          ]
        },
        {
          "output_type": "display_data",
          "data": {
            "text/plain": [
              "[0.03075950131920962,\n",
              " 3.877405140239766,\n",
              " 3.9438613428619025,\n",
              " 29.686475179784082]"
            ]
          },
          "metadata": {}
        },
        {
          "output_type": "display_data",
          "data": {
            "text/plain": [
              "191"
            ]
          },
          "metadata": {}
        },
        {
          "output_type": "stream",
          "name": "stdout",
          "text": [
            "\n"
          ]
        },
        {
          "output_type": "display_data",
          "data": {
            "text/plain": [
              "[[0.017993405573442988,\n",
              "  0.9857749665219719,\n",
              "  0.0338682504345929,\n",
              "  0.06868968943108826],\n",
              " [0.0530579936786346,\n",
              "  0.6008211125797206,\n",
              "  0.016820444246505247,\n",
              "  0.0022321489915459007],\n",
              " [0.004123890344569869,\n",
              "  2.7287725062568408e-06,\n",
              "  0.016820444246505247,\n",
              "  0.0022321489915459007],\n",
              " [0.004123890344569869,\n",
              "  2.6890092285623867e-06,\n",
              "  0.016820444246505247,\n",
              "  0.0022321489915459007]]"
            ]
          },
          "metadata": {}
        },
        {
          "output_type": "stream",
          "name": "stdout",
          "text": [
            "\n"
          ]
        },
        {
          "output_type": "display_data",
          "data": {
            "text/plain": [
              "[0.03075950131920962, 3.877405140239766, 29.68647759260852, 29.686475179784082]"
            ]
          },
          "metadata": {}
        },
        {
          "output_type": "display_data",
          "data": {
            "text/plain": [
              "192"
            ]
          },
          "metadata": {}
        },
        {
          "output_type": "stream",
          "name": "stdout",
          "text": [
            "\n"
          ]
        },
        {
          "output_type": "display_data",
          "data": {
            "text/plain": [
              "[[0.017993405573442988,\n",
              "  0.9857749665219719,\n",
              "  0.0338682504345929,\n",
              "  0.06868968943108826],\n",
              " [0.0530579936786346,\n",
              "  0.6008211125797206,\n",
              "  0.016820444246505247,\n",
              "  0.0022321489915459007],\n",
              " [0.004123890344569869,\n",
              "  2.7287725062568408e-06,\n",
              "  0.016820444246505247,\n",
              "  0.0022321489915459007],\n",
              " [0.004123890344569869,\n",
              "  2.7287725062568408e-06,\n",
              "  0.016820444246505247,\n",
              "  0.0022321489915459007]]"
            ]
          },
          "metadata": {}
        },
        {
          "output_type": "stream",
          "name": "stdout",
          "text": [
            "\n"
          ]
        },
        {
          "output_type": "display_data",
          "data": {
            "text/plain": [
              "[0.03075950131920962,\n",
              " 3.877405140239766,\n",
              " 29.686475179784082,\n",
              " 29.686475179784082]"
            ]
          },
          "metadata": {}
        },
        {
          "output_type": "display_data",
          "data": {
            "text/plain": [
              "193"
            ]
          },
          "metadata": {}
        },
        {
          "output_type": "stream",
          "name": "stdout",
          "text": [
            "\n"
          ]
        },
        {
          "output_type": "display_data",
          "data": {
            "text/plain": [
              "[[0.017993405573442988,\n",
              "  0.9857749665219719,\n",
              "  0.0338682504345929,\n",
              "  0.06868968943108826],\n",
              " [0.0530579936786346,\n",
              "  0.6008211125797206,\n",
              "  0.016820444246505247,\n",
              "  0.0022321489915459007],\n",
              " [0.004123890344569869,\n",
              "  2.7287725062568408e-06,\n",
              "  0.016820444246505247,\n",
              "  0.0022321489915459007],\n",
              " [0.004123890344569869,\n",
              "  2.7287725062568408e-06,\n",
              "  0.016820444246505247,\n",
              "  0.0022321489915459007]]"
            ]
          },
          "metadata": {}
        },
        {
          "output_type": "stream",
          "name": "stdout",
          "text": [
            "\n"
          ]
        },
        {
          "output_type": "display_data",
          "data": {
            "text/plain": [
              "[0.03075950131920962,\n",
              " 3.877405140239766,\n",
              " 29.686475179784082,\n",
              " 29.686475179784082]"
            ]
          },
          "metadata": {}
        },
        {
          "output_type": "display_data",
          "data": {
            "text/plain": [
              "194"
            ]
          },
          "metadata": {}
        },
        {
          "output_type": "stream",
          "name": "stdout",
          "text": [
            "\n"
          ]
        },
        {
          "output_type": "display_data",
          "data": {
            "text/plain": [
              "[[0.017993405573442988,\n",
              "  0.9857749665219719,\n",
              "  0.0338682504345929,\n",
              "  0.06868968943108826],\n",
              " [0.0530579936786346,\n",
              "  0.6008211125797206,\n",
              "  0.016820444246505247,\n",
              "  0.0022321489915459007],\n",
              " [0.004123890344569869,\n",
              "  2.7287725062568408e-06,\n",
              "  0.016820444246505247,\n",
              "  0.0022321489915459007],\n",
              " [0.004123890344569869,\n",
              "  4.019235679881197e-07,\n",
              "  0.016820444246505247,\n",
              "  0.0022321489915459007]]"
            ]
          },
          "metadata": {}
        },
        {
          "output_type": "stream",
          "name": "stdout",
          "text": [
            "\n"
          ]
        },
        {
          "output_type": "display_data",
          "data": {
            "text/plain": [
              "[0.03075950131920962,\n",
              " 3.877405140239766,\n",
              " 29.686616372483925,\n",
              " 29.686475179784082]"
            ]
          },
          "metadata": {}
        },
        {
          "output_type": "display_data",
          "data": {
            "text/plain": [
              "195"
            ]
          },
          "metadata": {}
        },
        {
          "output_type": "stream",
          "name": "stdout",
          "text": [
            "\n"
          ]
        },
        {
          "output_type": "display_data",
          "data": {
            "text/plain": [
              "[[0.017993405573442988,\n",
              "  0.9857749665219719,\n",
              "  0.0338682504345929,\n",
              "  0.06868968943108826],\n",
              " [0.0530579936786346,\n",
              "  0.6008211125797206,\n",
              "  0.016820444246505247,\n",
              "  0.0022321489915459007],\n",
              " [0.004123890344569869,\n",
              "  2.7287725062568408e-06,\n",
              "  0.016820444246505247,\n",
              "  0.0022321489915459007],\n",
              " [-0.00234524790214029,\n",
              "  2.7287725062568408e-06,\n",
              "  0.016820444246505247,\n",
              "  0.0022321489915459007]]"
            ]
          },
          "metadata": {}
        },
        {
          "output_type": "stream",
          "name": "stdout",
          "text": [
            "\n"
          ]
        },
        {
          "output_type": "display_data",
          "data": {
            "text/plain": [
              "[0.03075950131920962,\n",
              " 3.877405140239766,\n",
              " 29.879846222347823,\n",
              " 29.686475179784082]"
            ]
          },
          "metadata": {}
        },
        {
          "output_type": "display_data",
          "data": {
            "text/plain": [
              "196"
            ]
          },
          "metadata": {}
        },
        {
          "output_type": "stream",
          "name": "stdout",
          "text": [
            "\n"
          ]
        },
        {
          "output_type": "display_data",
          "data": {
            "text/plain": [
              "[[0.017993405573442988,\n",
              "  0.9857749665219719,\n",
              "  0.0338682504345929,\n",
              "  0.06868968943108826],\n",
              " [0.0530579936786346,\n",
              "  0.6008211125797206,\n",
              "  0.016820444246505247,\n",
              "  0.0022321489915459007],\n",
              " [0.004123890344569869,\n",
              "  2.7287725062568408e-06,\n",
              "  0.016820444246505247,\n",
              "  0.0022321489915459007],\n",
              " [-0.00234524790214029,\n",
              "  2.7287725062568408e-06,\n",
              "  -0.003148323168840623,\n",
              "  0.0022321489915459007]]"
            ]
          },
          "metadata": {}
        },
        {
          "output_type": "stream",
          "name": "stdout",
          "text": [
            "\n"
          ]
        },
        {
          "output_type": "display_data",
          "data": {
            "text/plain": [
              "[0.03075950131920962, 3.877405140239766, 30.07940533731648, 29.686475179784082]"
            ]
          },
          "metadata": {}
        },
        {
          "output_type": "display_data",
          "data": {
            "text/plain": [
              "197"
            ]
          },
          "metadata": {}
        },
        {
          "output_type": "stream",
          "name": "stdout",
          "text": [
            "\n"
          ]
        },
        {
          "output_type": "display_data",
          "data": {
            "text/plain": [
              "[[0.017993405573442988,\n",
              "  0.9857749665219719,\n",
              "  0.0338682504345929,\n",
              "  0.06868968943108826],\n",
              " [0.0530579936786346,\n",
              "  0.6008211125797206,\n",
              "  0.016820444246505247,\n",
              "  0.0022321489915459007],\n",
              " [0.042309395470926076,\n",
              "  0.6008211125797206,\n",
              "  0.016820444246505247,\n",
              "  0.0022321489915459007],\n",
              " [0.004123890344569869,\n",
              "  2.7287725062568408e-06,\n",
              "  0.016820444246505247,\n",
              "  0.0022321489915459007]]"
            ]
          },
          "metadata": {}
        },
        {
          "output_type": "stream",
          "name": "stdout",
          "text": [
            "\n"
          ]
        },
        {
          "output_type": "display_data",
          "data": {
            "text/plain": [
              "[0.03075950131920962, 3.877405140239766, 3.994182615630968, 29.686475179784082]"
            ]
          },
          "metadata": {}
        },
        {
          "output_type": "display_data",
          "data": {
            "text/plain": [
              "198"
            ]
          },
          "metadata": {}
        },
        {
          "output_type": "stream",
          "name": "stdout",
          "text": [
            "\n"
          ]
        },
        {
          "output_type": "display_data",
          "data": {
            "text/plain": [
              "[[0.017993405573442988,\n",
              "  0.9857749665219719,\n",
              "  0.0338682504345929,\n",
              "  0.06868968943108826],\n",
              " [0.0530579936786346,\n",
              "  0.6008211125797206,\n",
              "  0.016820444246505247,\n",
              "  0.0022321489915459007],\n",
              " [0.004123890344569869,\n",
              "  2.7287725062568408e-06,\n",
              "  0.016820444246505247,\n",
              "  0.0022321489915459007],\n",
              " [0.004123890344569869,\n",
              "  2.7287725062568408e-06,\n",
              "  0.016820444246505247,\n",
              "  0.0022321489915459007]]"
            ]
          },
          "metadata": {}
        },
        {
          "output_type": "stream",
          "name": "stdout",
          "text": [
            "\n"
          ]
        },
        {
          "output_type": "display_data",
          "data": {
            "text/plain": [
              "[0.03075950131920962,\n",
              " 3.877405140239766,\n",
              " 29.686475179784082,\n",
              " 29.686475179784082]"
            ]
          },
          "metadata": {}
        },
        {
          "output_type": "display_data",
          "data": {
            "text/plain": [
              "199"
            ]
          },
          "metadata": {}
        },
        {
          "output_type": "stream",
          "name": "stdout",
          "text": [
            "\n"
          ]
        },
        {
          "output_type": "display_data",
          "data": {
            "text/plain": [
              "[[0.017993405573442988,\n",
              "  0.9857749665219719,\n",
              "  0.0338682504345929,\n",
              "  0.06868968943108826],\n",
              " [0.0530579936786346,\n",
              "  0.6008211125797206,\n",
              "  0.016820444246505247,\n",
              "  0.0022321489915459007],\n",
              " [0.004123890344569869,\n",
              "  0.6008211125797206,\n",
              "  0.016820444246505247,\n",
              "  0.0022321489915459007],\n",
              " [-0.0427247233312698,\n",
              "  2.7287725062568408e-06,\n",
              "  0.016820444246505247,\n",
              "  0.0022321489915459007]]"
            ]
          },
          "metadata": {}
        },
        {
          "output_type": "stream",
          "name": "stdout",
          "text": [
            "\n"
          ]
        },
        {
          "output_type": "display_data",
          "data": {
            "text/plain": [
              "[0.03075950131920962, 3.877405140239766, 31.101029719403936, 4.423060957315988]"
            ]
          },
          "metadata": {}
        },
        {
          "output_type": "stream",
          "name": "stdout",
          "text": [
            "best solution: [0.017993405573442988, 0.9857749665219719, 0.0338682504345929, 0.06868968943108826]\n",
            "Fitness: 0.03075950131920962\n",
            "Y_hat: [2.1906787751352654, 4.180222113752652, 6.169765452370039, 8.159308790987426]\n"
          ]
        }
      ]
    },
    {
      "cell_type": "code",
      "source": [
        "import matplotlib.pyplot as plt #gráficas\n",
        "import matplotlib as mpl\n",
        "import seaborn as sns #gráficas\n",
        "plt.style.use('ggplot') #estilo de graficas\n",
        "\n",
        "mse_GA = mse(Y_bar[0],Y)\n",
        "T = list(range(len(Y)))\n",
        "\n",
        "# Plot data and results\n",
        "plt.figure(figsize = (12, 6));\n",
        "plt.plot(T, Y, '-o', label='Y')\n",
        "plt.plot(T, Y_bar[0], '-o', label='$\\hat{Y}_{GA}$')\n",
        "plt.xticks(fontsize = 15);\n",
        "plt.yticks(fontsize = 15);\n",
        "plt.xlabel('index', fontsize = 15);\n",
        "plt.ylabel('y', fontsize = 15);\n",
        "plt.legend()\n",
        "plt.title('MSE =' + str(round(mse_GA, 4)), fontsize = 15);"
      ],
      "metadata": {
        "colab": {
          "base_uri": "https://localhost:8080/",
          "height": 416
        },
        "id": "mFMxXh0Xen5z",
        "outputId": "33714797-9c40-47ac-9b84-7abf3fd4351b"
      },
      "execution_count": 17,
      "outputs": [
        {
          "output_type": "display_data",
          "data": {
            "text/plain": [
              "<Figure size 864x432 with 1 Axes>"
            ],
            "image/png": "[encoded data removed]"
          },
          "metadata": {}
        }
      ]
    }
  ]
}