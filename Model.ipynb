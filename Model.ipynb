{
  "nbformat": 4,
  "nbformat_minor": 0,
  "metadata": {
    "colab": {
      "name": "Model.ipynb",
      "provenance": [],
      "collapsed_sections": [],
      "authorship_tag": "ABX9TyOqovq+nE3lUpWBsc2DC/+O",
      "include_colab_link": true
    },
    "kernelspec": {
      "name": "python3",
      "display_name": "Python 3"
    },
    "language_info": {
      "name": "python"
    }
  },
  "cells": [
    {
      "cell_type": "markdown",
      "metadata": {
        "id": "view-in-github",
        "colab_type": "text"
      },
      "source": [
        "<a href=\"https://colab.research.google.com/github/scardenol/RP_argos/blob/main/Model.ipynb\" target=\"_parent\"><img src=\"https://colab.research.google.com/assets/colab-badge.svg\" alt=\"Open In Colab\"/></a>"
      ]
    },
    {
      "cell_type": "markdown",
      "source": [
        "# Libraries and prefs"
      ],
      "metadata": {
        "id": "fyHgOpd2WLYn"
      }
    },
    {
      "cell_type": "code",
      "source": [
        "import sympy as sp\n",
        "from sympy import symbols, init_printing, Function, sympify, Derivative, simplify, ordered\n",
        "init_printing(use_latex='mathjax') # Printing preferences\n",
        "import numpy as np\n",
        "\n",
        "import pandas as pd # Modin to use pandas in a multi-core way\n",
        "pd.set_option('display.max_columns', None)\n",
        "import matplotlib.pyplot as plt #gráficas\n",
        "import matplotlib as mpl\n",
        "import seaborn as sns #gráficas\n",
        "plt.style.use('ggplot') #estilo de graficas"
      ],
      "metadata": {
        "id": "JYn1OXinWU0k"
      },
      "execution_count": 1007,
      "outputs": []
    },
    {
      "cell_type": "markdown",
      "source": [
        "# Read Data"
      ],
      "metadata": {
        "id": "9MYJaApxB566"
      }
    },
    {
      "cell_type": "code",
      "source": [
        "url = 'https://github.com/scardenol/RP_argos/blob/main/cement_data.xlsx?raw=true' # Raw link\n",
        "data = pd.read_excel(io=url, sheet_name='Sheet1')\n",
        "data.pop(data.columns[0]);"
      ],
      "metadata": {
        "id": "7VXtBBHBDL0L"
      },
      "execution_count": 1008,
      "outputs": []
    },
    {
      "cell_type": "code",
      "source": [
        "data.head(3)"
      ],
      "metadata": {
        "colab": {
          "base_uri": "https://localhost:8080/",
          "height": 277
        },
        "id": "r3KBlvfkDR1n",
        "outputId": "24089aa4-233b-4b72-eea5-4c2cc8d13e70"
      },
      "execution_count": 1009,
      "outputs": [
        {
          "output_type": "execute_result",
          "data": {
            "text/plain": [
              "       Fecha  Tipo Cemento  < 3um  3-30 um  >30 um  Blaine  Ret 325  \\\n",
              "0 2019-11-04             1  25.49    69.26    5.25  4846.0      1.5   \n",
              "1 2019-11-04             1  25.49    69.26    5.25  4846.0      1.5   \n",
              "2 2019-11-04             1  25.49    69.26    5.25  4846.0      1.5   \n",
              "\n",
              "   Cons Normal  F Inicial  F Final  Cons Agua  Fluidez   SiO2  Al2O3  Fe2O3  \\\n",
              "0        26.77       94.0    190.0      350.0   111.10  19.28    4.5   3.29   \n",
              "1        26.77       94.0    190.0      350.0   111.08  19.28    4.5   3.29   \n",
              "2        26.77       94.0    190.0      350.0   111.08  19.28    4.5   3.29   \n",
              "\n",
              "     CaO   MgO   SO3   K2O  Na2O  P Ignea  Cal libre       EA  Adición caliza  \\\n",
              "0  62.82  2.91  2.59  0.23  0.31     4.07       1.73  0.46134         0.11284   \n",
              "1  62.82  2.91  2.59  0.23  0.31     4.07       1.73  0.46134         0.11334   \n",
              "2  62.82  2.91  2.59  0.23  0.31     4.07       1.73  0.46134         0.11334   \n",
              "\n",
              "   Tiempo  Resistencia  \n",
              "0       1        16.96  \n",
              "1       3        25.59  \n",
              "2       7        26.44  "
            ],
            "text/html": [
              "\n",
              "  <div id=\"df-8fcc83e4-3bef-4008-b10f-6187a71565f3\">\n",
              "    <div class=\"colab-df-container\">\n",
              "      <div>\n",
              "<style scoped>\n",
              "    .dataframe tbody tr th:only-of-type {\n",
              "        vertical-align: middle;\n",
              "    }\n",
              "\n",
              "    .dataframe tbody tr th {\n",
              "        vertical-align: top;\n",
              "    }\n",
              "\n",
              "    .dataframe thead th {\n",
              "        text-align: right;\n",
              "    }\n",
              "</style>\n",
              "<table border=\"1\" class=\"dataframe\">\n",
              "  <thead>\n",
              "    <tr style=\"text-align: right;\">\n",
              "      <th></th>\n",
              "      <th>Fecha</th>\n",
              "      <th>Tipo Cemento</th>\n",
              "      <th>&lt; 3um</th>\n",
              "      <th>3-30 um</th>\n",
              "      <th>&gt;30 um</th>\n",
              "      <th>Blaine</th>\n",
              "      <th>Ret 325</th>\n",
              "      <th>Cons Normal</th>\n",
              "      <th>F Inicial</th>\n",
              "      <th>F Final</th>\n",
              "      <th>Cons Agua</th>\n",
              "      <th>Fluidez</th>\n",
              "      <th>SiO2</th>\n",
              "      <th>Al2O3</th>\n",
              "      <th>Fe2O3</th>\n",
              "      <th>CaO</th>\n",
              "      <th>MgO</th>\n",
              "      <th>SO3</th>\n",
              "      <th>K2O</th>\n",
              "      <th>Na2O</th>\n",
              "      <th>P Ignea</th>\n",
              "      <th>Cal libre</th>\n",
              "      <th>EA</th>\n",
              "      <th>Adición caliza</th>\n",
              "      <th>Tiempo</th>\n",
              "      <th>Resistencia</th>\n",
              "    </tr>\n",
              "  </thead>\n",
              "  <tbody>\n",
              "    <tr>\n",
              "      <th>0</th>\n",
              "      <td>2019-11-04</td>\n",
              "      <td>1</td>\n",
              "      <td>25.49</td>\n",
              "      <td>69.26</td>\n",
              "      <td>5.25</td>\n",
              "      <td>4846.0</td>\n",
              "      <td>1.5</td>\n",
              "      <td>26.77</td>\n",
              "      <td>94.0</td>\n",
              "      <td>190.0</td>\n",
              "      <td>350.0</td>\n",
              "      <td>111.10</td>\n",
              "      <td>19.28</td>\n",
              "      <td>4.5</td>\n",
              "      <td>3.29</td>\n",
              "      <td>62.82</td>\n",
              "      <td>2.91</td>\n",
              "      <td>2.59</td>\n",
              "      <td>0.23</td>\n",
              "      <td>0.31</td>\n",
              "      <td>4.07</td>\n",
              "      <td>1.73</td>\n",
              "      <td>0.46134</td>\n",
              "      <td>0.11284</td>\n",
              "      <td>1</td>\n",
              "      <td>16.96</td>\n",
              "    </tr>\n",
              "    <tr>\n",
              "      <th>1</th>\n",
              "      <td>2019-11-04</td>\n",
              "      <td>1</td>\n",
              "      <td>25.49</td>\n",
              "      <td>69.26</td>\n",
              "      <td>5.25</td>\n",
              "      <td>4846.0</td>\n",
              "      <td>1.5</td>\n",
              "      <td>26.77</td>\n",
              "      <td>94.0</td>\n",
              "      <td>190.0</td>\n",
              "      <td>350.0</td>\n",
              "      <td>111.08</td>\n",
              "      <td>19.28</td>\n",
              "      <td>4.5</td>\n",
              "      <td>3.29</td>\n",
              "      <td>62.82</td>\n",
              "      <td>2.91</td>\n",
              "      <td>2.59</td>\n",
              "      <td>0.23</td>\n",
              "      <td>0.31</td>\n",
              "      <td>4.07</td>\n",
              "      <td>1.73</td>\n",
              "      <td>0.46134</td>\n",
              "      <td>0.11334</td>\n",
              "      <td>3</td>\n",
              "      <td>25.59</td>\n",
              "    </tr>\n",
              "    <tr>\n",
              "      <th>2</th>\n",
              "      <td>2019-11-04</td>\n",
              "      <td>1</td>\n",
              "      <td>25.49</td>\n",
              "      <td>69.26</td>\n",
              "      <td>5.25</td>\n",
              "      <td>4846.0</td>\n",
              "      <td>1.5</td>\n",
              "      <td>26.77</td>\n",
              "      <td>94.0</td>\n",
              "      <td>190.0</td>\n",
              "      <td>350.0</td>\n",
              "      <td>111.08</td>\n",
              "      <td>19.28</td>\n",
              "      <td>4.5</td>\n",
              "      <td>3.29</td>\n",
              "      <td>62.82</td>\n",
              "      <td>2.91</td>\n",
              "      <td>2.59</td>\n",
              "      <td>0.23</td>\n",
              "      <td>0.31</td>\n",
              "      <td>4.07</td>\n",
              "      <td>1.73</td>\n",
              "      <td>0.46134</td>\n",
              "      <td>0.11334</td>\n",
              "      <td>7</td>\n",
              "      <td>26.44</td>\n",
              "    </tr>\n",
              "  </tbody>\n",
              "</table>\n",
              "</div>\n",
              "      <button class=\"colab-df-convert\" onclick=\"convertToInteractive('df-8fcc83e4-3bef-4008-b10f-6187a71565f3')\"\n",
              "              title=\"Convert this dataframe to an interactive table.\"\n",
              "              style=\"display:none;\">\n",
              "        \n",
              "  <svg xmlns=\"http://www.w3.org/2000/svg\" height=\"24px\"viewBox=\"0 0 24 24\"\n",
              "       width=\"24px\">\n",
              "    <path d=\"M0 0h24v24H0V0z\" fill=\"none\"/>\n",
              "    <path d=\"M18.56 5.44l.94 2.06.94-2.06 2.06-.94-2.06-.94-.94-2.06-.94 2.06-2.06.94zm-11 1L8.5 8.5l.94-2.06 2.06-.94-2.06-.94L8.5 2.5l-.94 2.06-2.06.94zm10 10l.94 2.06.94-2.06 2.06-.94-2.06-.94-.94-2.06-.94 2.06-2.06.94z\"/><path d=\"M17.41 7.96l-1.37-1.37c-.4-.4-.92-.59-1.43-.59-.52 0-1.04.2-1.43.59L10.3 9.45l-7.72 7.72c-.78.78-.78 2.05 0 2.83L4 21.41c.39.39.9.59 1.41.59.51 0 1.02-.2 1.41-.59l7.78-7.78 2.81-2.81c.8-.78.8-2.07 0-2.86zM5.41 20L4 18.59l7.72-7.72 1.47 1.35L5.41 20z\"/>\n",
              "  </svg>\n",
              "      </button>\n",
              "      \n",
              "  <style>\n",
              "    .colab-df-container {\n",
              "      display:flex;\n",
              "      flex-wrap:wrap;\n",
              "      gap: 12px;\n",
              "    }\n",
              "\n",
              "    .colab-df-convert {\n",
              "      background-color: #E8F0FE;\n",
              "      border: none;\n",
              "      border-radius: 50%;\n",
              "      cursor: pointer;\n",
              "      display: none;\n",
              "      fill: #1967D2;\n",
              "      height: 32px;\n",
              "      padding: 0 0 0 0;\n",
              "      width: 32px;\n",
              "    }\n",
              "\n",
              "    .colab-df-convert:hover {\n",
              "      background-color: #E2EBFA;\n",
              "      box-shadow: 0px 1px 2px rgba(60, 64, 67, 0.3), 0px 1px 3px 1px rgba(60, 64, 67, 0.15);\n",
              "      fill: #174EA6;\n",
              "    }\n",
              "\n",
              "    [theme=dark] .colab-df-convert {\n",
              "      background-color: #3B4455;\n",
              "      fill: #D2E3FC;\n",
              "    }\n",
              "\n",
              "    [theme=dark] .colab-df-convert:hover {\n",
              "      background-color: #434B5C;\n",
              "      box-shadow: 0px 1px 3px 1px rgba(0, 0, 0, 0.15);\n",
              "      filter: drop-shadow(0px 1px 2px rgba(0, 0, 0, 0.3));\n",
              "      fill: #FFFFFF;\n",
              "    }\n",
              "  </style>\n",
              "\n",
              "      <script>\n",
              "        const buttonEl =\n",
              "          document.querySelector('#df-8fcc83e4-3bef-4008-b10f-6187a71565f3 button.colab-df-convert');\n",
              "        buttonEl.style.display =\n",
              "          google.colab.kernel.accessAllowed ? 'block' : 'none';\n",
              "\n",
              "        async function convertToInteractive(key) {\n",
              "          const element = document.querySelector('#df-8fcc83e4-3bef-4008-b10f-6187a71565f3');\n",
              "          const dataTable =\n",
              "            await google.colab.kernel.invokeFunction('convertToInteractive',\n",
              "                                                     [key], {});\n",
              "          if (!dataTable) return;\n",
              "\n",
              "          const docLinkHtml = 'Like what you see? Visit the ' +\n",
              "            '<a target=\"_blank\" href=https://colab.research.google.com/notebooks/data_table.ipynb>data table notebook</a>'\n",
              "            + ' to learn more about interactive tables.';\n",
              "          element.innerHTML = '';\n",
              "          dataTable['output_type'] = 'display_data';\n",
              "          await google.colab.output.renderOutput(dataTable, element);\n",
              "          const docLink = document.createElement('div');\n",
              "          docLink.innerHTML = docLinkHtml;\n",
              "          element.appendChild(docLink);\n",
              "        }\n",
              "      </script>\n",
              "    </div>\n",
              "  </div>\n",
              "  "
            ]
          },
          "metadata": {},
          "execution_count": 1009
        }
      ]
    },
    {
      "cell_type": "code",
      "source": [
        "data.info()"
      ],
      "metadata": {
        "colab": {
          "base_uri": "https://localhost:8080/"
        },
        "id": "rPyAk-X5DTmZ",
        "outputId": "09035d4d-38a2-40a3-a87f-35891b82c332"
      },
      "execution_count": 1010,
      "outputs": [
        {
          "output_type": "stream",
          "name": "stdout",
          "text": [
            "<class 'pandas.core.frame.DataFrame'>\n",
            "RangeIndex: 2988 entries, 0 to 2987\n",
            "Data columns (total 26 columns):\n",
            " #   Column          Non-Null Count  Dtype         \n",
            "---  ------          --------------  -----         \n",
            " 0   Fecha           2988 non-null   datetime64[ns]\n",
            " 1   Tipo Cemento    2988 non-null   int64         \n",
            " 2   < 3um           2988 non-null   float64       \n",
            " 3   3-30 um         2988 non-null   float64       \n",
            " 4   >30 um          2988 non-null   float64       \n",
            " 5   Blaine          2988 non-null   float64       \n",
            " 6   Ret 325         2988 non-null   float64       \n",
            " 7   Cons Normal     2988 non-null   float64       \n",
            " 8   F Inicial       2988 non-null   float64       \n",
            " 9   F Final         2988 non-null   float64       \n",
            " 10  Cons Agua       2988 non-null   float64       \n",
            " 11  Fluidez         2988 non-null   float64       \n",
            " 12  SiO2            2988 non-null   float64       \n",
            " 13  Al2O3           2988 non-null   float64       \n",
            " 14  Fe2O3           2988 non-null   float64       \n",
            " 15  CaO             2988 non-null   float64       \n",
            " 16  MgO             2988 non-null   float64       \n",
            " 17  SO3             2988 non-null   float64       \n",
            " 18  K2O             2988 non-null   float64       \n",
            " 19  Na2O            2988 non-null   float64       \n",
            " 20  P Ignea         2988 non-null   float64       \n",
            " 21  Cal libre       2988 non-null   float64       \n",
            " 22  EA              2988 non-null   float64       \n",
            " 23  Adición caliza  2988 non-null   float64       \n",
            " 24  Tiempo          2988 non-null   int64         \n",
            " 25  Resistencia     2988 non-null   float64       \n",
            "dtypes: datetime64[ns](1), float64(23), int64(2)\n",
            "memory usage: 607.1 KB\n"
          ]
        }
      ]
    },
    {
      "cell_type": "code",
      "source": [
        "data.describe()"
      ],
      "metadata": {
        "colab": {
          "base_uri": "https://localhost:8080/",
          "height": 382
        },
        "id": "Rfy3GIeiDV65",
        "outputId": "496bcbfa-cd9c-478d-b965-be2fa421f152"
      },
      "execution_count": 1011,
      "outputs": [
        {
          "output_type": "execute_result",
          "data": {
            "text/plain": [
              "       Tipo Cemento        < 3um      3-30 um       >30 um       Blaine  \\\n",
              "count   2988.000000  2988.000000  2988.000000  2988.000000  2988.000000   \n",
              "mean       0.879853    21.784587    71.741754     6.398763  4756.762125   \n",
              "std        0.325188     2.691147     4.352730     2.132732   320.432091   \n",
              "min        0.000000     2.280000     7.700000     0.000000  3915.000000   \n",
              "25%        1.000000    20.250000    69.417500     5.210000  4520.000000   \n",
              "50%        1.000000    22.120000    71.668350     6.288700  4730.000000   \n",
              "75%        1.000000    23.280000    74.290000     7.240000  4969.000000   \n",
              "max        1.000000    31.910000    92.020000    28.330000  6041.000000   \n",
              "\n",
              "           Ret 325  Cons Normal    F Inicial      F Final    Cons Agua  \\\n",
              "count  2988.000000  2988.000000  2988.000000  2988.000000  2988.000000   \n",
              "mean      0.995865    26.759882   112.104247   216.878226   354.890044   \n",
              "std       0.729051     0.697346    19.706644    23.518137     5.770927   \n",
              "min       0.090000    24.770000    62.000000   117.000000   340.000000   \n",
              "25%       0.270000    26.310000   100.000000   200.000000   352.000000   \n",
              "50%       0.940000    26.770000   111.000000   220.000000   354.000000   \n",
              "75%       1.610000    27.230000   124.000000   230.000000   357.000000   \n",
              "max       2.910000    31.380000   172.000000   330.000000   380.000000   \n",
              "\n",
              "           Fluidez         SiO2        Al2O3        Fe2O3          CaO  \\\n",
              "count  2988.000000  2988.000000  2988.000000  2988.000000  2988.000000   \n",
              "mean    110.211673    20.133334     4.502215     3.057305    62.560509   \n",
              "std       2.750848     0.506143     0.147388     0.164173     0.831426   \n",
              "min     105.000000    18.760000     4.100000     2.120000    59.690000   \n",
              "25%     108.000000    19.837500     4.410000     2.950000    62.090000   \n",
              "50%     110.460000    20.210000     4.520000     3.040000    62.600000   \n",
              "75%     112.000000    20.450000     4.610000     3.170000    63.070000   \n",
              "max     115.000000    22.030000     4.880000     3.880000    67.270000   \n",
              "\n",
              "               MgO          SO3          K2O         Na2O      P Ignea  \\\n",
              "count  2988.000000  2988.000000  2988.000000  2988.000000  2988.000000   \n",
              "mean      2.435672     2.691496     0.204898     0.108033     4.117379   \n",
              "std       0.294099     0.252173     0.027271     0.095993     0.832241   \n",
              "min       1.840000     1.890000     0.020000     0.000000     1.410000   \n",
              "25%       2.240000     2.540000     0.190000     0.050000     3.620000   \n",
              "50%       2.390000     2.690000     0.200000     0.060000     4.140000   \n",
              "75%       2.580000     2.820000     0.220000     0.140000     4.730000   \n",
              "max       3.550000     3.790000     0.280000     0.950000     6.840000   \n",
              "\n",
              "         Cal libre           EA  Adición caliza       Tiempo  Resistencia  \n",
              "count  2988.000000  2988.000000     2988.000000  2988.000000  2988.000000  \n",
              "mean      1.092806     0.242816        0.090984     9.768742    33.334146  \n",
              "std       0.319576     0.104367        0.036096    10.765467    11.475799  \n",
              "min       0.480000     0.066320        0.020000     1.000000     3.010000  \n",
              "25%       0.890000     0.175020        0.070000     3.000000    24.047500  \n",
              "50%       1.030000     0.194760        0.090000     7.000000    33.800000  \n",
              "75%       1.210000     0.287920        0.106250    28.000000    43.097500  \n",
              "max       2.460000     1.081600        0.400000    28.000000    57.630000  "
            ],
            "text/html": [
              "\n",
              "  <div id=\"df-c8eb08cf-f536-4696-bf58-ef953fc74192\">\n",
              "    <div class=\"colab-df-container\">\n",
              "      <div>\n",
              "<style scoped>\n",
              "    .dataframe tbody tr th:only-of-type {\n",
              "        vertical-align: middle;\n",
              "    }\n",
              "\n",
              "    .dataframe tbody tr th {\n",
              "        vertical-align: top;\n",
              "    }\n",
              "\n",
              "    .dataframe thead th {\n",
              "        text-align: right;\n",
              "    }\n",
              "</style>\n",
              "<table border=\"1\" class=\"dataframe\">\n",
              "  <thead>\n",
              "    <tr style=\"text-align: right;\">\n",
              "      <th></th>\n",
              "      <th>Tipo Cemento</th>\n",
              "      <th>&lt; 3um</th>\n",
              "      <th>3-30 um</th>\n",
              "      <th>&gt;30 um</th>\n",
              "      <th>Blaine</th>\n",
              "      <th>Ret 325</th>\n",
              "      <th>Cons Normal</th>\n",
              "      <th>F Inicial</th>\n",
              "      <th>F Final</th>\n",
              "      <th>Cons Agua</th>\n",
              "      <th>Fluidez</th>\n",
              "      <th>SiO2</th>\n",
              "      <th>Al2O3</th>\n",
              "      <th>Fe2O3</th>\n",
              "      <th>CaO</th>\n",
              "      <th>MgO</th>\n",
              "      <th>SO3</th>\n",
              "      <th>K2O</th>\n",
              "      <th>Na2O</th>\n",
              "      <th>P Ignea</th>\n",
              "      <th>Cal libre</th>\n",
              "      <th>EA</th>\n",
              "      <th>Adición caliza</th>\n",
              "      <th>Tiempo</th>\n",
              "      <th>Resistencia</th>\n",
              "    </tr>\n",
              "  </thead>\n",
              "  <tbody>\n",
              "    <tr>\n",
              "      <th>count</th>\n",
              "      <td>2988.000000</td>\n",
              "      <td>2988.000000</td>\n",
              "      <td>2988.000000</td>\n",
              "      <td>2988.000000</td>\n",
              "      <td>2988.000000</td>\n",
              "      <td>2988.000000</td>\n",
              "      <td>2988.000000</td>\n",
              "      <td>2988.000000</td>\n",
              "      <td>2988.000000</td>\n",
              "      <td>2988.000000</td>\n",
              "      <td>2988.000000</td>\n",
              "      <td>2988.000000</td>\n",
              "      <td>2988.000000</td>\n",
              "      <td>2988.000000</td>\n",
              "      <td>2988.000000</td>\n",
              "      <td>2988.000000</td>\n",
              "      <td>2988.000000</td>\n",
              "      <td>2988.000000</td>\n",
              "      <td>2988.000000</td>\n",
              "      <td>2988.000000</td>\n",
              "      <td>2988.000000</td>\n",
              "      <td>2988.000000</td>\n",
              "      <td>2988.000000</td>\n",
              "      <td>2988.000000</td>\n",
              "      <td>2988.000000</td>\n",
              "    </tr>\n",
              "    <tr>\n",
              "      <th>mean</th>\n",
              "      <td>0.879853</td>\n",
              "      <td>21.784587</td>\n",
              "      <td>71.741754</td>\n",
              "      <td>6.398763</td>\n",
              "      <td>4756.762125</td>\n",
              "      <td>0.995865</td>\n",
              "      <td>26.759882</td>\n",
              "      <td>112.104247</td>\n",
              "      <td>216.878226</td>\n",
              "      <td>354.890044</td>\n",
              "      <td>110.211673</td>\n",
              "      <td>20.133334</td>\n",
              "      <td>4.502215</td>\n",
              "      <td>3.057305</td>\n",
              "      <td>62.560509</td>\n",
              "      <td>2.435672</td>\n",
              "      <td>2.691496</td>\n",
              "      <td>0.204898</td>\n",
              "      <td>0.108033</td>\n",
              "      <td>4.117379</td>\n",
              "      <td>1.092806</td>\n",
              "      <td>0.242816</td>\n",
              "      <td>0.090984</td>\n",
              "      <td>9.768742</td>\n",
              "      <td>33.334146</td>\n",
              "    </tr>\n",
              "    <tr>\n",
              "      <th>std</th>\n",
              "      <td>0.325188</td>\n",
              "      <td>2.691147</td>\n",
              "      <td>4.352730</td>\n",
              "      <td>2.132732</td>\n",
              "      <td>320.432091</td>\n",
              "      <td>0.729051</td>\n",
              "      <td>0.697346</td>\n",
              "      <td>19.706644</td>\n",
              "      <td>23.518137</td>\n",
              "      <td>5.770927</td>\n",
              "      <td>2.750848</td>\n",
              "      <td>0.506143</td>\n",
              "      <td>0.147388</td>\n",
              "      <td>0.164173</td>\n",
              "      <td>0.831426</td>\n",
              "      <td>0.294099</td>\n",
              "      <td>0.252173</td>\n",
              "      <td>0.027271</td>\n",
              "      <td>0.095993</td>\n",
              "      <td>0.832241</td>\n",
              "      <td>0.319576</td>\n",
              "      <td>0.104367</td>\n",
              "      <td>0.036096</td>\n",
              "      <td>10.765467</td>\n",
              "      <td>11.475799</td>\n",
              "    </tr>\n",
              "    <tr>\n",
              "      <th>min</th>\n",
              "      <td>0.000000</td>\n",
              "      <td>2.280000</td>\n",
              "      <td>7.700000</td>\n",
              "      <td>0.000000</td>\n",
              "      <td>3915.000000</td>\n",
              "      <td>0.090000</td>\n",
              "      <td>24.770000</td>\n",
              "      <td>62.000000</td>\n",
              "      <td>117.000000</td>\n",
              "      <td>340.000000</td>\n",
              "      <td>105.000000</td>\n",
              "      <td>18.760000</td>\n",
              "      <td>4.100000</td>\n",
              "      <td>2.120000</td>\n",
              "      <td>59.690000</td>\n",
              "      <td>1.840000</td>\n",
              "      <td>1.890000</td>\n",
              "      <td>0.020000</td>\n",
              "      <td>0.000000</td>\n",
              "      <td>1.410000</td>\n",
              "      <td>0.480000</td>\n",
              "      <td>0.066320</td>\n",
              "      <td>0.020000</td>\n",
              "      <td>1.000000</td>\n",
              "      <td>3.010000</td>\n",
              "    </tr>\n",
              "    <tr>\n",
              "      <th>25%</th>\n",
              "      <td>1.000000</td>\n",
              "      <td>20.250000</td>\n",
              "      <td>69.417500</td>\n",
              "      <td>5.210000</td>\n",
              "      <td>4520.000000</td>\n",
              "      <td>0.270000</td>\n",
              "      <td>26.310000</td>\n",
              "      <td>100.000000</td>\n",
              "      <td>200.000000</td>\n",
              "      <td>352.000000</td>\n",
              "      <td>108.000000</td>\n",
              "      <td>19.837500</td>\n",
              "      <td>4.410000</td>\n",
              "      <td>2.950000</td>\n",
              "      <td>62.090000</td>\n",
              "      <td>2.240000</td>\n",
              "      <td>2.540000</td>\n",
              "      <td>0.190000</td>\n",
              "      <td>0.050000</td>\n",
              "      <td>3.620000</td>\n",
              "      <td>0.890000</td>\n",
              "      <td>0.175020</td>\n",
              "      <td>0.070000</td>\n",
              "      <td>3.000000</td>\n",
              "      <td>24.047500</td>\n",
              "    </tr>\n",
              "    <tr>\n",
              "      <th>50%</th>\n",
              "      <td>1.000000</td>\n",
              "      <td>22.120000</td>\n",
              "      <td>71.668350</td>\n",
              "      <td>6.288700</td>\n",
              "      <td>4730.000000</td>\n",
              "      <td>0.940000</td>\n",
              "      <td>26.770000</td>\n",
              "      <td>111.000000</td>\n",
              "      <td>220.000000</td>\n",
              "      <td>354.000000</td>\n",
              "      <td>110.460000</td>\n",
              "      <td>20.210000</td>\n",
              "      <td>4.520000</td>\n",
              "      <td>3.040000</td>\n",
              "      <td>62.600000</td>\n",
              "      <td>2.390000</td>\n",
              "      <td>2.690000</td>\n",
              "      <td>0.200000</td>\n",
              "      <td>0.060000</td>\n",
              "      <td>4.140000</td>\n",
              "      <td>1.030000</td>\n",
              "      <td>0.194760</td>\n",
              "      <td>0.090000</td>\n",
              "      <td>7.000000</td>\n",
              "      <td>33.800000</td>\n",
              "    </tr>\n",
              "    <tr>\n",
              "      <th>75%</th>\n",
              "      <td>1.000000</td>\n",
              "      <td>23.280000</td>\n",
              "      <td>74.290000</td>\n",
              "      <td>7.240000</td>\n",
              "      <td>4969.000000</td>\n",
              "      <td>1.610000</td>\n",
              "      <td>27.230000</td>\n",
              "      <td>124.000000</td>\n",
              "      <td>230.000000</td>\n",
              "      <td>357.000000</td>\n",
              "      <td>112.000000</td>\n",
              "      <td>20.450000</td>\n",
              "      <td>4.610000</td>\n",
              "      <td>3.170000</td>\n",
              "      <td>63.070000</td>\n",
              "      <td>2.580000</td>\n",
              "      <td>2.820000</td>\n",
              "      <td>0.220000</td>\n",
              "      <td>0.140000</td>\n",
              "      <td>4.730000</td>\n",
              "      <td>1.210000</td>\n",
              "      <td>0.287920</td>\n",
              "      <td>0.106250</td>\n",
              "      <td>28.000000</td>\n",
              "      <td>43.097500</td>\n",
              "    </tr>\n",
              "    <tr>\n",
              "      <th>max</th>\n",
              "      <td>1.000000</td>\n",
              "      <td>31.910000</td>\n",
              "      <td>92.020000</td>\n",
              "      <td>28.330000</td>\n",
              "      <td>6041.000000</td>\n",
              "      <td>2.910000</td>\n",
              "      <td>31.380000</td>\n",
              "      <td>172.000000</td>\n",
              "      <td>330.000000</td>\n",
              "      <td>380.000000</td>\n",
              "      <td>115.000000</td>\n",
              "      <td>22.030000</td>\n",
              "      <td>4.880000</td>\n",
              "      <td>3.880000</td>\n",
              "      <td>67.270000</td>\n",
              "      <td>3.550000</td>\n",
              "      <td>3.790000</td>\n",
              "      <td>0.280000</td>\n",
              "      <td>0.950000</td>\n",
              "      <td>6.840000</td>\n",
              "      <td>2.460000</td>\n",
              "      <td>1.081600</td>\n",
              "      <td>0.400000</td>\n",
              "      <td>28.000000</td>\n",
              "      <td>57.630000</td>\n",
              "    </tr>\n",
              "  </tbody>\n",
              "</table>\n",
              "</div>\n",
              "      <button class=\"colab-df-convert\" onclick=\"convertToInteractive('df-c8eb08cf-f536-4696-bf58-ef953fc74192')\"\n",
              "              title=\"Convert this dataframe to an interactive table.\"\n",
              "              style=\"display:none;\">\n",
              "        \n",
              "  <svg xmlns=\"http://www.w3.org/2000/svg\" height=\"24px\"viewBox=\"0 0 24 24\"\n",
              "       width=\"24px\">\n",
              "    <path d=\"M0 0h24v24H0V0z\" fill=\"none\"/>\n",
              "    <path d=\"M18.56 5.44l.94 2.06.94-2.06 2.06-.94-2.06-.94-.94-2.06-.94 2.06-2.06.94zm-11 1L8.5 8.5l.94-2.06 2.06-.94-2.06-.94L8.5 2.5l-.94 2.06-2.06.94zm10 10l.94 2.06.94-2.06 2.06-.94-2.06-.94-.94-2.06-.94 2.06-2.06.94z\"/><path d=\"M17.41 7.96l-1.37-1.37c-.4-.4-.92-.59-1.43-.59-.52 0-1.04.2-1.43.59L10.3 9.45l-7.72 7.72c-.78.78-.78 2.05 0 2.83L4 21.41c.39.39.9.59 1.41.59.51 0 1.02-.2 1.41-.59l7.78-7.78 2.81-2.81c.8-.78.8-2.07 0-2.86zM5.41 20L4 18.59l7.72-7.72 1.47 1.35L5.41 20z\"/>\n",
              "  </svg>\n",
              "      </button>\n",
              "      \n",
              "  <style>\n",
              "    .colab-df-container {\n",
              "      display:flex;\n",
              "      flex-wrap:wrap;\n",
              "      gap: 12px;\n",
              "    }\n",
              "\n",
              "    .colab-df-convert {\n",
              "      background-color: #E8F0FE;\n",
              "      border: none;\n",
              "      border-radius: 50%;\n",
              "      cursor: pointer;\n",
              "      display: none;\n",
              "      fill: #1967D2;\n",
              "      height: 32px;\n",
              "      padding: 0 0 0 0;\n",
              "      width: 32px;\n",
              "    }\n",
              "\n",
              "    .colab-df-convert:hover {\n",
              "      background-color: #E2EBFA;\n",
              "      box-shadow: 0px 1px 2px rgba(60, 64, 67, 0.3), 0px 1px 3px 1px rgba(60, 64, 67, 0.15);\n",
              "      fill: #174EA6;\n",
              "    }\n",
              "\n",
              "    [theme=dark] .colab-df-convert {\n",
              "      background-color: #3B4455;\n",
              "      fill: #D2E3FC;\n",
              "    }\n",
              "\n",
              "    [theme=dark] .colab-df-convert:hover {\n",
              "      background-color: #434B5C;\n",
              "      box-shadow: 0px 1px 3px 1px rgba(0, 0, 0, 0.15);\n",
              "      filter: drop-shadow(0px 1px 2px rgba(0, 0, 0, 0.3));\n",
              "      fill: #FFFFFF;\n",
              "    }\n",
              "  </style>\n",
              "\n",
              "      <script>\n",
              "        const buttonEl =\n",
              "          document.querySelector('#df-c8eb08cf-f536-4696-bf58-ef953fc74192 button.colab-df-convert');\n",
              "        buttonEl.style.display =\n",
              "          google.colab.kernel.accessAllowed ? 'block' : 'none';\n",
              "\n",
              "        async function convertToInteractive(key) {\n",
              "          const element = document.querySelector('#df-c8eb08cf-f536-4696-bf58-ef953fc74192');\n",
              "          const dataTable =\n",
              "            await google.colab.kernel.invokeFunction('convertToInteractive',\n",
              "                                                     [key], {});\n",
              "          if (!dataTable) return;\n",
              "\n",
              "          const docLinkHtml = 'Like what you see? Visit the ' +\n",
              "            '<a target=\"_blank\" href=https://colab.research.google.com/notebooks/data_table.ipynb>data table notebook</a>'\n",
              "            + ' to learn more about interactive tables.';\n",
              "          element.innerHTML = '';\n",
              "          dataTable['output_type'] = 'display_data';\n",
              "          await google.colab.output.renderOutput(dataTable, element);\n",
              "          const docLink = document.createElement('div');\n",
              "          docLink.innerHTML = docLinkHtml;\n",
              "          element.appendChild(docLink);\n",
              "        }\n",
              "      </script>\n",
              "    </div>\n",
              "  </div>\n",
              "  "
            ]
          },
          "metadata": {},
          "execution_count": 1011
        }
      ]
    },
    {
      "cell_type": "code",
      "source": [
        "plt.figure(figsize = (30, 7))\n",
        "\n",
        "corr = data.corr(method = 'spearman')\n",
        "ax = sns.heatmap(\n",
        "    corr, \n",
        "    vmin=-1, vmax=1, center=0,\n",
        "    cmap=sns.diverging_palette(20, 220, n=200),\n",
        "    square=True\n",
        ")\n",
        "\n",
        "ax.set_xticklabels(\n",
        "    ax.get_xticklabels(),\n",
        "    rotation=45,\n",
        "    horizontalalignment='right'\n",
        ");"
      ],
      "metadata": {
        "colab": {
          "base_uri": "https://localhost:8080/",
          "height": 478
        },
        "id": "t0wlLp2lu1nQ",
        "outputId": "4cbe7b6b-b231-46be-c854-111a8f316f8a"
      },
      "execution_count": 1012,
      "outputs": [
        {
          "output_type": "display_data",
          "data": {
            "text/plain": [
              "<Figure size 2160x504 with 2 Axes>"
            ],
            "image/png": "[encoded data removed]"
          },
          "metadata": {}
        }
      ]
    },
    {
      "cell_type": "code",
      "source": [
        "corr['Resistencia'].sort_values()"
      ],
      "metadata": {
        "colab": {
          "base_uri": "https://localhost:8080/"
        },
        "id": "ds2_inEDQWR8",
        "outputId": "2cf53a0a-6420-4f90-c43d-464e359ea540"
      },
      "execution_count": 1013,
      "outputs": [
        {
          "output_type": "execute_result",
          "data": {
            "text/plain": [
              "Tipo Cemento     -0.120514\n",
              "F Inicial        -0.115945\n",
              "F Final          -0.106363\n",
              "P Ignea          -0.067376\n",
              "3-30 um          -0.046401\n",
              "MgO              -0.037976\n",
              "Cal libre        -0.024407\n",
              "Adición caliza   -0.016970\n",
              "Fluidez          -0.010661\n",
              "SiO2             -0.010151\n",
              "Fe2O3             0.010001\n",
              ">30 um            0.025217\n",
              "Cons Agua         0.028711\n",
              "Ret 325           0.029028\n",
              "Al2O3             0.034823\n",
              "< 3um             0.045486\n",
              "CaO               0.050709\n",
              "Cons Normal       0.060971\n",
              "K2O               0.063065\n",
              "SO3               0.068290\n",
              "Blaine            0.070475\n",
              "Na2O              0.100843\n",
              "EA                0.107117\n",
              "Tiempo            0.950424\n",
              "Resistencia       1.000000\n",
              "Name: Resistencia, dtype: float64"
            ]
          },
          "metadata": {},
          "execution_count": 1013
        }
      ]
    },
    {
      "cell_type": "code",
      "source": [
        "data.loc[:, 'Tipo Cemento'] = data['Tipo Cemento'].map(lambda s:'UEM' if s == 1 else 'IND') # Cement type map: {0,1} -> {IND, UEM}"
      ],
      "metadata": {
        "id": "us35FcPmMMI7"
      },
      "execution_count": 1014,
      "outputs": []
    },
    {
      "cell_type": "code",
      "source": [
        "data.groupby(['Tipo Cemento']).size() # Samples per cement type"
      ],
      "metadata": {
        "colab": {
          "base_uri": "https://localhost:8080/"
        },
        "id": "e6-yWEaqMRVx",
        "outputId": "9eb260a3-5699-4f80-ec04-531b7361646a"
      },
      "execution_count": 1015,
      "outputs": [
        {
          "output_type": "execute_result",
          "data": {
            "text/plain": [
              "Tipo Cemento\n",
              "IND     359\n",
              "UEM    2629\n",
              "dtype: int64"
            ]
          },
          "metadata": {},
          "execution_count": 1015
        }
      ]
    },
    {
      "cell_type": "code",
      "source": [
        "plt.figure(figsize = (12, 6));\n",
        "sns.boxplot(x= 'Tiempo', y = 'Resistencia', data = data, hue = 'Tipo Cemento', linewidth = 3);\n",
        "plt.xticks(fontsize = 15);\n",
        "plt.yticks(fontsize = 15);\n",
        "plt.xlabel('Time [days]', fontsize = 15);\n",
        "plt.ylabel('Compressive Strength [MPa]', fontsize = 15);\n",
        "plt.legend(fontsize = 15);\n",
        "plt.title('Compressive Strength in different days by cement type', fontsize = 15);"
      ],
      "metadata": {
        "colab": {
          "base_uri": "https://localhost:8080/",
          "height": 416
        },
        "id": "Dy3aaRGDMa_u",
        "outputId": "1079d32c-7509-4175-e74b-9beb9b0ebc1d"
      },
      "execution_count": 1016,
      "outputs": [
        {
          "output_type": "display_data",
          "data": {
            "text/plain": [
              "<Figure size 864x432 with 1 Axes>"
            ],
            "image/png": "[encoded data removed]"
          },
          "metadata": {}
        }
      ]
    },
    {
      "cell_type": "code",
      "source": [
        "data_UEM = data[data['Tipo Cemento'] == 'UEM'].reset_index(drop=True) # Retrieval of UEM sample\n",
        "data_UEM.head(3)"
      ],
      "metadata": {
        "colab": {
          "base_uri": "https://localhost:8080/",
          "height": 277
        },
        "id": "aCSxnbyPO6qm",
        "outputId": "10267eb4-e6f0-4191-96fe-d6ebb49fded2"
      },
      "execution_count": 1017,
      "outputs": [
        {
          "output_type": "execute_result",
          "data": {
            "text/plain": [
              "       Fecha Tipo Cemento  < 3um  3-30 um  >30 um  Blaine  Ret 325  \\\n",
              "0 2019-11-04          UEM  25.49    69.26    5.25  4846.0      1.5   \n",
              "1 2019-11-04          UEM  25.49    69.26    5.25  4846.0      1.5   \n",
              "2 2019-11-04          UEM  25.49    69.26    5.25  4846.0      1.5   \n",
              "\n",
              "   Cons Normal  F Inicial  F Final  Cons Agua  Fluidez   SiO2  Al2O3  Fe2O3  \\\n",
              "0        26.77       94.0    190.0      350.0   111.10  19.28    4.5   3.29   \n",
              "1        26.77       94.0    190.0      350.0   111.08  19.28    4.5   3.29   \n",
              "2        26.77       94.0    190.0      350.0   111.08  19.28    4.5   3.29   \n",
              "\n",
              "     CaO   MgO   SO3   K2O  Na2O  P Ignea  Cal libre       EA  Adición caliza  \\\n",
              "0  62.82  2.91  2.59  0.23  0.31     4.07       1.73  0.46134         0.11284   \n",
              "1  62.82  2.91  2.59  0.23  0.31     4.07       1.73  0.46134         0.11334   \n",
              "2  62.82  2.91  2.59  0.23  0.31     4.07       1.73  0.46134         0.11334   \n",
              "\n",
              "   Tiempo  Resistencia  \n",
              "0       1        16.96  \n",
              "1       3        25.59  \n",
              "2       7        26.44  "
            ],
            "text/html": [
              "\n",
              "  <div id=\"df-a4080c29-3066-4eff-94e8-f1d222d5e18d\">\n",
              "    <div class=\"colab-df-container\">\n",
              "      <div>\n",
              "<style scoped>\n",
              "    .dataframe tbody tr th:only-of-type {\n",
              "        vertical-align: middle;\n",
              "    }\n",
              "\n",
              "    .dataframe tbody tr th {\n",
              "        vertical-align: top;\n",
              "    }\n",
              "\n",
              "    .dataframe thead th {\n",
              "        text-align: right;\n",
              "    }\n",
              "</style>\n",
              "<table border=\"1\" class=\"dataframe\">\n",
              "  <thead>\n",
              "    <tr style=\"text-align: right;\">\n",
              "      <th></th>\n",
              "      <th>Fecha</th>\n",
              "      <th>Tipo Cemento</th>\n",
              "      <th>&lt; 3um</th>\n",
              "      <th>3-30 um</th>\n",
              "      <th>&gt;30 um</th>\n",
              "      <th>Blaine</th>\n",
              "      <th>Ret 325</th>\n",
              "      <th>Cons Normal</th>\n",
              "      <th>F Inicial</th>\n",
              "      <th>F Final</th>\n",
              "      <th>Cons Agua</th>\n",
              "      <th>Fluidez</th>\n",
              "      <th>SiO2</th>\n",
              "      <th>Al2O3</th>\n",
              "      <th>Fe2O3</th>\n",
              "      <th>CaO</th>\n",
              "      <th>MgO</th>\n",
              "      <th>SO3</th>\n",
              "      <th>K2O</th>\n",
              "      <th>Na2O</th>\n",
              "      <th>P Ignea</th>\n",
              "      <th>Cal libre</th>\n",
              "      <th>EA</th>\n",
              "      <th>Adición caliza</th>\n",
              "      <th>Tiempo</th>\n",
              "      <th>Resistencia</th>\n",
              "    </tr>\n",
              "  </thead>\n",
              "  <tbody>\n",
              "    <tr>\n",
              "      <th>0</th>\n",
              "      <td>2019-11-04</td>\n",
              "      <td>UEM</td>\n",
              "      <td>25.49</td>\n",
              "      <td>69.26</td>\n",
              "      <td>5.25</td>\n",
              "      <td>4846.0</td>\n",
              "      <td>1.5</td>\n",
              "      <td>26.77</td>\n",
              "      <td>94.0</td>\n",
              "      <td>190.0</td>\n",
              "      <td>350.0</td>\n",
              "      <td>111.10</td>\n",
              "      <td>19.28</td>\n",
              "      <td>4.5</td>\n",
              "      <td>3.29</td>\n",
              "      <td>62.82</td>\n",
              "      <td>2.91</td>\n",
              "      <td>2.59</td>\n",
              "      <td>0.23</td>\n",
              "      <td>0.31</td>\n",
              "      <td>4.07</td>\n",
              "      <td>1.73</td>\n",
              "      <td>0.46134</td>\n",
              "      <td>0.11284</td>\n",
              "      <td>1</td>\n",
              "      <td>16.96</td>\n",
              "    </tr>\n",
              "    <tr>\n",
              "      <th>1</th>\n",
              "      <td>2019-11-04</td>\n",
              "      <td>UEM</td>\n",
              "      <td>25.49</td>\n",
              "      <td>69.26</td>\n",
              "      <td>5.25</td>\n",
              "      <td>4846.0</td>\n",
              "      <td>1.5</td>\n",
              "      <td>26.77</td>\n",
              "      <td>94.0</td>\n",
              "      <td>190.0</td>\n",
              "      <td>350.0</td>\n",
              "      <td>111.08</td>\n",
              "      <td>19.28</td>\n",
              "      <td>4.5</td>\n",
              "      <td>3.29</td>\n",
              "      <td>62.82</td>\n",
              "      <td>2.91</td>\n",
              "      <td>2.59</td>\n",
              "      <td>0.23</td>\n",
              "      <td>0.31</td>\n",
              "      <td>4.07</td>\n",
              "      <td>1.73</td>\n",
              "      <td>0.46134</td>\n",
              "      <td>0.11334</td>\n",
              "      <td>3</td>\n",
              "      <td>25.59</td>\n",
              "    </tr>\n",
              "    <tr>\n",
              "      <th>2</th>\n",
              "      <td>2019-11-04</td>\n",
              "      <td>UEM</td>\n",
              "      <td>25.49</td>\n",
              "      <td>69.26</td>\n",
              "      <td>5.25</td>\n",
              "      <td>4846.0</td>\n",
              "      <td>1.5</td>\n",
              "      <td>26.77</td>\n",
              "      <td>94.0</td>\n",
              "      <td>190.0</td>\n",
              "      <td>350.0</td>\n",
              "      <td>111.08</td>\n",
              "      <td>19.28</td>\n",
              "      <td>4.5</td>\n",
              "      <td>3.29</td>\n",
              "      <td>62.82</td>\n",
              "      <td>2.91</td>\n",
              "      <td>2.59</td>\n",
              "      <td>0.23</td>\n",
              "      <td>0.31</td>\n",
              "      <td>4.07</td>\n",
              "      <td>1.73</td>\n",
              "      <td>0.46134</td>\n",
              "      <td>0.11334</td>\n",
              "      <td>7</td>\n",
              "      <td>26.44</td>\n",
              "    </tr>\n",
              "  </tbody>\n",
              "</table>\n",
              "</div>\n",
              "      <button class=\"colab-df-convert\" onclick=\"convertToInteractive('df-a4080c29-3066-4eff-94e8-f1d222d5e18d')\"\n",
              "              title=\"Convert this dataframe to an interactive table.\"\n",
              "              style=\"display:none;\">\n",
              "        \n",
              "  <svg xmlns=\"http://www.w3.org/2000/svg\" height=\"24px\"viewBox=\"0 0 24 24\"\n",
              "       width=\"24px\">\n",
              "    <path d=\"M0 0h24v24H0V0z\" fill=\"none\"/>\n",
              "    <path d=\"M18.56 5.44l.94 2.06.94-2.06 2.06-.94-2.06-.94-.94-2.06-.94 2.06-2.06.94zm-11 1L8.5 8.5l.94-2.06 2.06-.94-2.06-.94L8.5 2.5l-.94 2.06-2.06.94zm10 10l.94 2.06.94-2.06 2.06-.94-2.06-.94-.94-2.06-.94 2.06-2.06.94z\"/><path d=\"M17.41 7.96l-1.37-1.37c-.4-.4-.92-.59-1.43-.59-.52 0-1.04.2-1.43.59L10.3 9.45l-7.72 7.72c-.78.78-.78 2.05 0 2.83L4 21.41c.39.39.9.59 1.41.59.51 0 1.02-.2 1.41-.59l7.78-7.78 2.81-2.81c.8-.78.8-2.07 0-2.86zM5.41 20L4 18.59l7.72-7.72 1.47 1.35L5.41 20z\"/>\n",
              "  </svg>\n",
              "      </button>\n",
              "      \n",
              "  <style>\n",
              "    .colab-df-container {\n",
              "      display:flex;\n",
              "      flex-wrap:wrap;\n",
              "      gap: 12px;\n",
              "    }\n",
              "\n",
              "    .colab-df-convert {\n",
              "      background-color: #E8F0FE;\n",
              "      border: none;\n",
              "      border-radius: 50%;\n",
              "      cursor: pointer;\n",
              "      display: none;\n",
              "      fill: #1967D2;\n",
              "      height: 32px;\n",
              "      padding: 0 0 0 0;\n",
              "      width: 32px;\n",
              "    }\n",
              "\n",
              "    .colab-df-convert:hover {\n",
              "      background-color: #E2EBFA;\n",
              "      box-shadow: 0px 1px 2px rgba(60, 64, 67, 0.3), 0px 1px 3px 1px rgba(60, 64, 67, 0.15);\n",
              "      fill: #174EA6;\n",
              "    }\n",
              "\n",
              "    [theme=dark] .colab-df-convert {\n",
              "      background-color: #3B4455;\n",
              "      fill: #D2E3FC;\n",
              "    }\n",
              "\n",
              "    [theme=dark] .colab-df-convert:hover {\n",
              "      background-color: #434B5C;\n",
              "      box-shadow: 0px 1px 3px 1px rgba(0, 0, 0, 0.15);\n",
              "      filter: drop-shadow(0px 1px 2px rgba(0, 0, 0, 0.3));\n",
              "      fill: #FFFFFF;\n",
              "    }\n",
              "  </style>\n",
              "\n",
              "      <script>\n",
              "        const buttonEl =\n",
              "          document.querySelector('#df-a4080c29-3066-4eff-94e8-f1d222d5e18d button.colab-df-convert');\n",
              "        buttonEl.style.display =\n",
              "          google.colab.kernel.accessAllowed ? 'block' : 'none';\n",
              "\n",
              "        async function convertToInteractive(key) {\n",
              "          const element = document.querySelector('#df-a4080c29-3066-4eff-94e8-f1d222d5e18d');\n",
              "          const dataTable =\n",
              "            await google.colab.kernel.invokeFunction('convertToInteractive',\n",
              "                                                     [key], {});\n",
              "          if (!dataTable) return;\n",
              "\n",
              "          const docLinkHtml = 'Like what you see? Visit the ' +\n",
              "            '<a target=\"_blank\" href=https://colab.research.google.com/notebooks/data_table.ipynb>data table notebook</a>'\n",
              "            + ' to learn more about interactive tables.';\n",
              "          element.innerHTML = '';\n",
              "          dataTable['output_type'] = 'display_data';\n",
              "          await google.colab.output.renderOutput(dataTable, element);\n",
              "          const docLink = document.createElement('div');\n",
              "          docLink.innerHTML = docLinkHtml;\n",
              "          element.appendChild(docLink);\n",
              "        }\n",
              "      </script>\n",
              "    </div>\n",
              "  </div>\n",
              "  "
            ]
          },
          "metadata": {},
          "execution_count": 1017
        }
      ]
    },
    {
      "cell_type": "code",
      "source": [
        "# X = data_UEM.iloc[:,2:-1] # Ignore first 2 columns and last column to get predictors (x1, x2, ..., xn)\n",
        "training_data = data_UEM.sample(frac=0.1, random_state=25) # frac = proportion, random_state = seed\n",
        "testing_data = data_UEM.drop(training_data.index)"
      ],
      "metadata": {
        "id": "eMshDFg2UITB"
      },
      "execution_count": 1018,
      "outputs": []
    },
    {
      "cell_type": "code",
      "source": [
        "# Retrieve X and Y data for training\n",
        "# X_training = training_data[['Tiempo', 'EA', 'Na2O', 'F Inicial', 'P Ignea']] # Retrieve the predictors x1, x2, ..., xn\n",
        "X_training = training_data[['Tiempo', 'EA', 'F Inicial']]\n",
        "Y_training = training_data['Resistencia'] # Retrieve the Y variable\n",
        "\n",
        "# Retrieve X and Y data for testing\n",
        "# X_testing = training_data[['Tiempo', 'EA', 'Na2O', 'F Inicial', 'P Ignea']] # Retrieve the predictors x1, x2, ..., xn\n",
        "X_testing = testing_data[['Tiempo', 'EA', 'F Inicial']]\n",
        "Y_testing = training_data['Resistencia'] # Retrieve the Y variable"
      ],
      "metadata": {
        "id": "6O6Ohj_jTtEO"
      },
      "execution_count": 1019,
      "outputs": []
    },
    {
      "cell_type": "code",
      "source": [
        "# Convert training X and Y to lists\n",
        "X_training_list = [X_training.iloc[:,i].tolist() for i in range(X_training.shape[1])]\n",
        "Y_training_list = Y_training.iloc[:].tolist()\n",
        "\n",
        "# Convert testing X and Y to lists\n",
        "X_training_list = [X_training.iloc[:,i].tolist() for i in range(X_training.shape[1])]\n",
        "Y_training_list = Y_training.iloc[:].tolist()"
      ],
      "metadata": {
        "id": "ASXarLX0fQto"
      },
      "execution_count": 1020,
      "outputs": []
    },
    {
      "cell_type": "markdown",
      "source": [
        "# Model"
      ],
      "metadata": {
        "id": "3B7ChN-SB_8O"
      }
    },
    {
      "cell_type": "markdown",
      "source": [
        "## Functions"
      ],
      "metadata": {
        "id": "pgrPksQlSqzR"
      }
    },
    {
      "cell_type": "code",
      "source": [
        "def Taylor_polynomial_sympy(function_expression, variable_list, evaluation_point, degree):\n",
        "  \"\"\"\n",
        "  Mathematical formulation reference:\n",
        "  https://math.libretexts.org/Bookshelves/Calculus/Supplemental_Modules_(Calculus)/Multivariable_Calculus/3%3A_Topics_in_Partial_Derivatives/Taylor__Polynomials_of_Functions_of_Two_Variables\n",
        "  :param function_expression: Sympy expression of the function\n",
        "  :param variable_list: list. All variables to be approximated (to be \"Taylorized\")\n",
        "  :param evaluation_point: list. Coordinates, where the function will be expressed\n",
        "  :param degree: int. Total degree of the Taylor polynomial\n",
        "  :return: Returns a Sympy expression of the Taylor series up to a given degree, of a given multivariate expression, approximated as a multivariate polynomial evaluated at the evaluation_point\n",
        "  \"\"\"\n",
        "  from sympy import factorial, Matrix, prod\n",
        "  import itertools\n",
        "\n",
        "  n_var = len(variable_list)\n",
        "  point_coordinates = [(i, j) for i, j in (zip(variable_list, evaluation_point))]  # list of tuples with variables and their evaluation_point coordinates, to later perform substitution\n",
        "\n",
        "  deriv_orders = list(itertools.product(range(degree + 1), repeat=n_var))  # list with exponentials of the partial derivatives\n",
        "  deriv_orders = [deriv_orders[i] for i in range(len(deriv_orders)) if sum(deriv_orders[i]) <= degree]  # Discarding some higher-order terms\n",
        "  n_terms = len(deriv_orders)\n",
        "  deriv_orders_as_input = [list(sum(list(zip(variable_list, deriv_orders[i])), ())) for i in range(n_terms)]  # Individual degree of each partial derivative, of each term\n",
        "\n",
        "  polynomial = 0\n",
        "  for i in range(n_terms):\n",
        "    partial_derivatives_at_point = function_expression.diff(*deriv_orders_as_input[i]).subs(point_coordinates)  # e.g. df/(dx*dy**2)\n",
        "    denominator = prod([factorial(j) for j in deriv_orders[i]])  # e.g. (1! * 2!)\n",
        "    distances_powered = prod([(Matrix(variable_list) - Matrix(evaluation_point))[j] ** deriv_orders[i][j] for j in range(n_var)])  # e.g. (x-x0)*(y-y0)**2\n",
        "    polynomial += partial_derivatives_at_point / denominator * distances_powered\n",
        "  return polynomial"
      ],
      "metadata": {
        "id": "7lNHLzC4PsHk"
      },
      "execution_count": 1021,
      "outputs": []
    },
    {
      "cell_type": "code",
      "source": [
        "def Model_taylor_sympy(taylor_serie):\n",
        "  \"\"\"\n",
        "  param taylor_serie: taylor serie to be converted to model\n",
        "  return: list of model termns\n",
        "  \"\"\"\n",
        "  from sympy import symbols, init_printing, Function, sympify, Derivative, simplify, ordered\n",
        "\n",
        "  # Convert Serie to list\n",
        "  S = list(sympify((sympify(taylor_serie, evaluate=False)).args))\n",
        "  M = S.copy() # Copy the list to use for the model\n",
        "\n",
        "  # Check for derivatives\n",
        "  # Substitue derivatives from Serie List with parameters (cleaner than from Serie)\n",
        "  d = [list(i.atoms(Derivative)) for i in M]\n",
        "  d_unpacked = [x for l in d for x in l] # this unpacks it but gets messy if a list had more than 1 element\n",
        "  \n",
        "  # if d_unpacked is empty it means there are no derivatives in the serie\n",
        "  B = [];\n",
        "\n",
        "  if len(d_unpacked) != 0:  # if there are derivatives\n",
        "    indexes = [idx for idx in range(len(d)) if len(d[idx])] # Get indexes\n",
        "\n",
        "    for i in indexes:\n",
        "      B_aux = sympify(['b' + str(b) for b in range(len(B), len(B) + 1)])\n",
        "      B += B_aux\n",
        "      M[i] = simplify(M[i].subs(list(ordered(d[i]))[0], B_aux[0]))\n",
        "    \n",
        "    # Clean the f(c) termn at the end\n",
        "    B_aux = sympify(['b' + str(b) for b in range(len(B), len(B) + 1)])\n",
        "    B += B_aux\n",
        "    M[-1] = B_aux[0]\n",
        "\n",
        "    # Multiply resulting list with the parameter list A (excluding the last element which has only 1 parameter)\n",
        "    A = sympify(['a' + str(a) for a in range(0, len(B)-1)])\n",
        "    M = [a*m for a,m in zip(A,M[:-1])] + [M[-1]]\n",
        "  \n",
        "  else: # If there are not derivatives\n",
        "    # Multiply resulting list with the parameter list A\n",
        "    A = sympify(['a' + str(a) for a in range(0, len(M))])\n",
        "    M = [a*m for a,m in zip(A,M)]\n",
        "  \n",
        "  return M, A, B"
      ],
      "metadata": {
        "id": "VI2dIt7v_o4O"
      },
      "execution_count": 1022,
      "outputs": []
    },
    {
      "cell_type": "markdown",
      "source": [
        "## Implementation"
      ],
      "metadata": {
        "id": "6RMlpC3WSyAQ"
      }
    },
    {
      "cell_type": "code",
      "source": [
        "# Model F(x1, x2, ..., xn) where n is n_vars\n",
        "# x1, x2, x3 = symbols('x1, x2, x3')\n",
        "# n_vars = 3\n",
        "n_vars = X_training.shape[1] # Num of variables = num of columns\n",
        "variable_list = list(range(1,n_vars+1)) # List of variable indexes\n",
        "variable_list = [symbols('x' + str(i)) for i in variable_list] # List of symbolic variables\n",
        "f = Function('f')\n",
        "# function_expression = f(x1*x2*x3)\n",
        "# function_expression = f(np.prod(variable_list))\n",
        "function_expression = f(sum(variable_list))\n",
        "# variable_list = [x1,x2,x3]\n",
        "# evaluation_point = [1, 2, 3]\n",
        "evaluation_point = [0]*n_vars # Every x is centered at 0\n",
        "degree=2\n",
        "F = Taylor_polynomial_sympy(function_expression, variable_list, evaluation_point, degree)\n",
        "# display(F)\n"
      ],
      "metadata": {
        "id": "BRwX_mogWy6n"
      },
      "execution_count": 1023,
      "outputs": []
    },
    {
      "cell_type": "code",
      "source": [
        "# Generate the model\n",
        "M, A, B = Model_taylor_sympy(F)"
      ],
      "metadata": {
        "id": "z7dGim9qHIb5"
      },
      "execution_count": 1024,
      "outputs": []
    },
    {
      "cell_type": "code",
      "source": [
        "# Display results\n",
        "# F_list = list(sympify((sympify(F, evaluate=False)).args))\n",
        "# display(F_list) # Original\n",
        "# display(M) # model\n",
        "# print(len(F_list) == len(M))\n",
        "# display(A, B) # Parameters\n",
        "parameters = A + B\n",
        "display(parameters) # List of all parameters"
      ],
      "metadata": {
        "id": "NvLm0BxZOeAm",
        "colab": {
          "base_uri": "https://localhost:8080/",
          "height": 38
        },
        "outputId": "432148cd-f7fc-4e3f-ecc1-1e88ed97ac8f"
      },
      "execution_count": 1025,
      "outputs": [
        {
          "output_type": "display_data",
          "data": {
            "text/plain": [
              "[a₀, a₁, a₂, a₃, a₄, a₅, a₆, a₇, a₈, b₀, b₁, b₂, b₃, b₄, b₅, b₆, b₇, b₈, b₉]"
            ],
            "text/latex": "$\\displaystyle \\left[ a_{0}, \\  a_{1}, \\  a_{2}, \\  a_{3}, \\  a_{4}, \\  a_{5}, \\  a_{6}, \\  a_{7}, \\  a_{8}, \\  b_{0}, \\  b_{1}, \\  b_{2}, \\  b_{3}, \\  b_{4}, \\  b_{5}, \\  b_{6}, \\  b_{7}, \\  b_{8}, \\  b_{9}\\right]$"
          },
          "metadata": {}
        }
      ]
    },
    {
      "cell_type": "code",
      "source": [
        "# Convert list back to sum\n",
        "model = sum(M)\n",
        "display(model)"
      ],
      "metadata": {
        "id": "CUxqVeUYXoMF",
        "colab": {
          "base_uri": "https://localhost:8080/",
          "height": 54
        },
        "outputId": "afa4de01-d26c-425e-f81d-f068894fd13c"
      },
      "execution_count": 1026,
      "outputs": [
        {
          "output_type": "display_data",
          "data": {
            "text/plain": [
              "                                         2           2           2            \n",
              "                                 a₃⋅b₃⋅x₁    a₄⋅b₄⋅x₂    a₅⋅b₅⋅x₃             \n",
              "a₀⋅b₀⋅x₁ + a₁⋅b₁⋅x₂ + a₂⋅b₂⋅x₃ + ───────── + ───────── + ───────── + a₆⋅b₆⋅x₁⋅\n",
              "                                     2           2           2                \n",
              "\n",
              "                                   \n",
              "                                   \n",
              "x₂ + a₇⋅b₇⋅x₁⋅x₃ + a₈⋅b₈⋅x₂⋅x₃ + b₉\n",
              "                                   "
            ],
            "text/latex": "$\\displaystyle a_{0} b_{0} x_{1} + a_{1} b_{1} x_{2} + a_{2} b_{2} x_{3} + \\frac{a_{3} b_{3} x_{1}^{2}}{2} + \\frac{a_{4} b_{4} x_{2}^{2}}{2} + \\frac{a_{5} b_{5} x_{3}^{2}}{2} + a_{6} b_{6} x_{1} x_{2} + a_{7} b_{7} x_{1} x_{3} + a_{8} b_{8} x_{2} x_{3} + b_{9}$"
          },
          "metadata": {}
        }
      ]
    },
    {
      "cell_type": "code",
      "source": [
        "model2 = model.subs([(i,1) for i in A])\n",
        "display(model2)"
      ],
      "metadata": {
        "colab": {
          "base_uri": "https://localhost:8080/",
          "height": 54
        },
        "id": "x8urOSqdqm4b",
        "outputId": "f49c95f3-ed76-4cbc-dc19-6812f8c3f4a7"
      },
      "execution_count": 1027,
      "outputs": [
        {
          "output_type": "display_data",
          "data": {
            "text/plain": [
              "                             2        2        2                              \n",
              "                        b₃⋅x₁    b₄⋅x₂    b₅⋅x₃                               \n",
              "b₀⋅x₁ + b₁⋅x₂ + b₂⋅x₃ + ────── + ────── + ────── + b₆⋅x₁⋅x₂ + b₇⋅x₁⋅x₃ + b₈⋅x₂\n",
              "                          2        2        2                                 \n",
              "\n",
              "        \n",
              "        \n",
              "⋅x₃ + b₉\n",
              "        "
            ],
            "text/latex": "$\\displaystyle b_{0} x_{1} + b_{1} x_{2} + b_{2} x_{3} + \\frac{b_{3} x_{1}^{2}}{2} + \\frac{b_{4} x_{2}^{2}}{2} + \\frac{b_{5} x_{3}^{2}}{2} + b_{6} x_{1} x_{2} + b_{7} x_{1} x_{3} + b_{8} x_{2} x_{3} + b_{9}$"
          },
          "metadata": {}
        }
      ]
    },
    {
      "cell_type": "code",
      "source": [
        "vars = variable_list + parameters\n",
        "display(vars) # Order of function parameters\n",
        "fun = sp.lambdify(vars, model, 'numpy')\n",
        "# value = [i for i in range(len(vars))]\n",
        "# fun(*[1]*len(vars))"
      ],
      "metadata": {
        "id": "q6e1ImHIQtTS",
        "colab": {
          "base_uri": "https://localhost:8080/",
          "height": 38
        },
        "outputId": "b4cb82a5-3909-471d-d057-0259ee583907"
      },
      "execution_count": 1028,
      "outputs": [
        {
          "output_type": "display_data",
          "data": {
            "text/plain": [
              "[x₁, x₂, x₃, a₀, a₁, a₂, a₃, a₄, a₅, a₆, a₇, a₈, b₀, b₁, b₂, b₃, b₄, b₅, b₆, b\n",
              "₇, b₈, b₉]"
            ],
            "text/latex": "$\\displaystyle \\left[ x_{1}, \\  x_{2}, \\  x_{3}, \\  a_{0}, \\  a_{1}, \\  a_{2}, \\  a_{3}, \\  a_{4}, \\  a_{5}, \\  a_{6}, \\  a_{7}, \\  a_{8}, \\  b_{0}, \\  b_{1}, \\  b_{2}, \\  b_{3}, \\  b_{4}, \\  b_{5}, \\  b_{6}, \\  b_{7}, \\  b_{8}, \\  b_{9}\\right]$"
          },
          "metadata": {}
        }
      ]
    },
    {
      "cell_type": "code",
      "source": [
        "parameters2 = B\n",
        "vars2 = variable_list + parameters2\n",
        "display(vars2) # Order of function parameters\n",
        "fun2 = sp.lambdify(vars2, model2, 'numpy')"
      ],
      "metadata": {
        "colab": {
          "base_uri": "https://localhost:8080/",
          "height": 38
        },
        "id": "MA4tB-K7qt1A",
        "outputId": "59ff7ec7-a16d-4e20-85c0-e54bf5f0446b"
      },
      "execution_count": 1029,
      "outputs": [
        {
          "output_type": "display_data",
          "data": {
            "text/plain": [
              "[x₁, x₂, x₃, b₀, b₁, b₂, b₃, b₄, b₅, b₆, b₇, b₈, b₉]"
            ],
            "text/latex": "$\\displaystyle \\left[ x_{1}, \\  x_{2}, \\  x_{3}, \\  b_{0}, \\  b_{1}, \\  b_{2}, \\  b_{3}, \\  b_{4}, \\  b_{5}, \\  b_{6}, \\  b_{7}, \\  b_{8}, \\  b_{9}\\right]$"
          },
          "metadata": {}
        }
      ]
    },
    {
      "cell_type": "markdown",
      "source": [
        "# Genetic Algorithm"
      ],
      "metadata": {
        "id": "dChUVV1PkmRk"
      }
    },
    {
      "cell_type": "markdown",
      "source": [
        "## Functions"
      ],
      "metadata": {
        "id": "eU9veYYTS45Q"
      }
    },
    {
      "cell_type": "code",
      "source": [
        "import numpy as np\n",
        "import random\n",
        "\n",
        "\"\"\"\n",
        "Based on the simple (non-vectorial) GA from https://towardsdatascience.com/genetic-algorithm-implementation-in-python-5ab67bb124a6\n",
        "\"\"\"\n",
        "\n",
        "def mse(A,B): # Cleanest way to calculate Mean Square Error\n",
        "  return np.square(np.subtract(A, B)).mean()\n",
        "\n",
        "def cal_pop_fitness(equation_inputs, pop, Y, fun):\n",
        "    # Calculating the fitness value of each solution in the current population.\n",
        "    # The fitness function calulates the sum of products between each input and its corresponding weight.\n",
        "    Y_bar = [[fun(*[item[i] for item in equation_inputs], *pop[j]) for i in range(len(equation_inputs[0]))] for j in range(len(pop))]\n",
        "    fitness = [mse(Y_bar[i], Y) for i in range(len(Y))]\n",
        "    return np.array(fitness)\n",
        "\n",
        "def select_mating_pool(pop, fitness, num_parents):\n",
        "    # Selecting the best individuals in the current generation as parents for producing the offspring of the next generation.\n",
        "    parents = np.empty((num_parents, pop.shape[1]))\n",
        "    for parent_num in range(num_parents):\n",
        "        min_fitness_idx = np.where(fitness == np.min(fitness))\n",
        "        min_fitness_idx = min_fitness_idx[0][0]\n",
        "        parents[parent_num, :] = pop[min_fitness_idx, :]\n",
        "        fitness[min_fitness_idx] = float('inf') # inf for min, -inf for max\n",
        "    return parents\n",
        "\n",
        "def crossover(parents, offspring_size): # Two point crossover\n",
        "    offspring = np.empty(offspring_size)\n",
        "    # The point at which crossover takes place between two parents. Usually, it is at the center.\n",
        "    # crossover_point = np.uint8(offspring_size[1]/2)\n",
        "    crossover_point = random.randint(0, len(offspring_size)-1)\n",
        "\n",
        "    for k in range(offspring_size[0]):\n",
        "        # Index of the first parent to mate.\n",
        "        parent1_idx = k%parents.shape[0]\n",
        "        # Index of the second parent to mate.\n",
        "        parent2_idx = (k+1)%parents.shape[0]\n",
        "        # The new offspring will have its first half of its genes taken from the first parent.\n",
        "        offspring[k, 0:crossover_point] = parents[parent1_idx, 0:crossover_point]\n",
        "        # The new offspring will have its second half of its genes taken from the second parent.\n",
        "        offspring[k, crossover_point:] = parents[parent2_idx, crossover_point:]\n",
        "    return offspring\n",
        "\n",
        "def mutation(offspring_crossover, prob_mutation, num_mutations=1):\n",
        "    mutations_counter = np.uint8(offspring_crossover.shape[1] / num_mutations)\n",
        "    # Mutation changes a number of genes as defined by the num_mutations argument. The changes are random.\n",
        "    for idx in range(offspring_crossover.shape[0]):\n",
        "        gene_idx = mutations_counter - 1\n",
        "        for mutation_num in range(num_mutations):\n",
        "            # The random value to be added to the gene.\n",
        "            random_value = random.randint(10,1000)*np.random.uniform(-1.0, 1.0, 1) # Uniform mutation\n",
        "            if random.random() < prob_mutation:\n",
        "              offspring_crossover[idx, gene_idx] = offspring_crossover[idx, gene_idx] * random_value\n",
        "              gene_idx = gene_idx + mutations_counter\n",
        "    return offspring_crossover"
      ],
      "metadata": {
        "id": "3WettNRbnXlh"
      },
      "execution_count": 1083,
      "outputs": []
    },
    {
      "cell_type": "code",
      "source": [
        "def GA(y, N, equation_inputs, num_weights, Y, sol_per_pop, num_parents_mating,\n",
        "       prob_mutation, pop_size, new_population, tolerance, search_time):\n",
        "  \n",
        "  num_generations = 0\n",
        "  fitness = float('Inf')\n",
        "\n",
        "  import time\n",
        "  start = time.time()\n",
        "  timeout = start + 60*search_time  # search_time minutes from now\n",
        "\n",
        "  while fitness > tolerance and time.time() <= timeout:\n",
        "    generation = num_generations\n",
        "    num_generations += 1\n",
        "    # proportion = (generation+1)/num_generations # (0,1]\n",
        "    # num_parents_mating = int(proportion*N) # dynamic mating proportion (0,N]\n",
        "    # prob_mutation = num_generations/N # dynamic mutation probability\n",
        "    \n",
        "    # Measing the fitness of each chromosome in the population.\n",
        "    fitness = cal_pop_fitness(equation_inputs, new_population, Y, y)\n",
        "    # print(\"Fitness: \", fitness)\n",
        "    # Selecting the best parents in the population for mating.\n",
        "    parents = select_mating_pool(new_population, fitness, \n",
        "                                      num_parents_mating)\n",
        "\n",
        "    # Generating next generation using crossover.\n",
        "    offspring_crossover = crossover(parents, \n",
        "                                    offspring_size=(pop_size[0]-parents.shape[0], num_weights))\n",
        "\n",
        "    # Adding some variations to the offsrping using mutation.\n",
        "    offspring_mutation = mutation(offspring_crossover, prob_mutation)\n",
        "\n",
        "    # Creating the new population based on the parents and offspring.\n",
        "    new_population[0:parents.shape[0], :] = parents\n",
        "    new_population[parents.shape[0]:, :] = offspring_mutation\n",
        "\n",
        "    # The best result in the current iteration.\n",
        "    fitness = np.min(cal_pop_fitness(equation_inputs, new_population, Y, y))\n",
        "    current_time = time.time()-start\n",
        "    minutes = round((current_time // 60) % 60, 0)\n",
        "    seconds = round(current_time % 60, 0)\n",
        "    print(\"Generation : \", generation)\n",
        "    print(\"Best result : \", fitness, \", Time : \", int(minutes), \"m\", int(seconds), \"s\")\n",
        "    \n",
        "  # Getting the best solution after iterating finishing all generations.\n",
        "  #At first, the fitness is calculated for each solution in the final generation.\n",
        "  fitness = cal_pop_fitness(equation_inputs, new_population, Y, y)\n",
        "  # Then return the index of that solution corresponding to the best fitness.\n",
        "  best_match_idx = np.where(fitness == np.min(fitness))\n",
        "\n",
        "  best_w = (new_population[best_match_idx, :].tolist())[0][0] # Best solution\n",
        "  best_fitness = fitness[best_match_idx]\n",
        "\n",
        "  print(\"Best solution : \", best_w)\n",
        "  print(\"Best solution fitness : \", best_fitness)\n",
        "    \n",
        "    \n",
        "  return best_w, best_fitness"
      ],
      "metadata": {
        "id": "zfiGq39VmwjW"
      },
      "execution_count": 1084,
      "outputs": []
    },
    {
      "cell_type": "markdown",
      "source": [
        "## Implementation"
      ],
      "metadata": {
        "id": "7ikmXeL4S72P"
      }
    },
    {
      "cell_type": "code",
      "source": [
        "import numpy\n",
        "import sympy as sp\n",
        "# Model (equation)\n",
        "y = fun2\n",
        "\n",
        "# Inputs of the equation\n",
        "N = X_training.shape[0]\n",
        "\n",
        "equation_inputs = X_training_list\n",
        "\n",
        "# Observation\n",
        "Y = Y_training_list\n",
        "\n",
        "# Number of the weights/parameters we are looking to optimize.\n",
        "num_weights = len(parameters2)\n",
        "\n",
        "\"\"\"\n",
        "Genetic algorithm parameters:\n",
        "    Mating pool size\n",
        "    Population size\n",
        "\"\"\"\n",
        "sol_per_pop = 2*N # This has to be >= N\n",
        "num_parents_mating = int(0.6*N)\n",
        "\n",
        "prob_mutation = 0.3\n",
        "\n",
        "# Seed\n",
        "np.random.seed(42)\n",
        "\n",
        "# Defining the population size.\n",
        "pop_size = (sol_per_pop,num_weights) # The population will have sol_per_pop chromosome where each chromosome has num_weights genes.\n",
        "#Creating the initial population.\n",
        "# new_population = 10*np.random.uniform(low=-1, high=1, size=pop_size) # multiply by 0.001 to converge to mean\n",
        "new_population = 0.1*np.random.chisquare(df=1, size=pop_size)\n",
        "# print(new_population)\n",
        "\n",
        "tolerance = 1e-3\n",
        "search_time = 2 # in minutes"
      ],
      "metadata": {
        "id": "b4ov_Eunpc87"
      },
      "execution_count": 1089,
      "outputs": []
    },
    {
      "cell_type": "code",
      "source": [
        "best_w, best_fitness = GA(y, N, equation_inputs, num_weights, Y, sol_per_pop, num_parents_mating,\n",
        "       prob_mutation, pop_size, new_population, tolerance, search_time)"
      ],
      "metadata": {
        "id": "pi0kQVRKsYcy",
        "colab": {
          "base_uri": "https://localhost:8080/"
        },
        "outputId": "561e5111-2926-4336-f4ff-9a68cfb6cefb"
      },
      "execution_count": 1090,
      "outputs": [
        {
          "output_type": "stream",
          "name": "stdout",
          "text": [
            "Generation :  0\n",
            "Best result :  122.36008631423252 , Time :  0 m 3 s\n",
            "Generation :  1\n",
            "Best result :  122.36008631423252 , Time :  0 m 6 s\n",
            "Generation :  2\n",
            "Best result :  115.49204033460764 , Time :  0 m 8 s\n",
            "Generation :  3\n",
            "Best result :  115.49204033460764 , Time :  0 m 11 s\n",
            "Generation :  4\n",
            "Best result :  63.53291334341109 , Time :  0 m 14 s\n",
            "Generation :  5\n",
            "Best result :  63.53291334341109 , Time :  0 m 17 s\n",
            "Generation :  6\n",
            "Best result :  59.56224407066036 , Time :  0 m 19 s\n",
            "Generation :  7\n",
            "Best result :  59.56224407066036 , Time :  0 m 22 s\n",
            "Generation :  8\n",
            "Best result :  59.56224407066036 , Time :  0 m 25 s\n",
            "Generation :  9\n",
            "Best result :  59.56224407066036 , Time :  0 m 28 s\n",
            "Generation :  10\n",
            "Best result :  59.56224407066036 , Time :  0 m 30 s\n",
            "Generation :  11\n",
            "Best result :  59.56224407066036 , Time :  0 m 33 s\n",
            "Generation :  12\n",
            "Best result :  59.56224407066036 , Time :  0 m 36 s\n",
            "Generation :  13\n",
            "Best result :  59.56224407066036 , Time :  0 m 39 s\n",
            "Generation :  14\n",
            "Best result :  59.56224407066036 , Time :  0 m 41 s\n",
            "Generation :  15\n",
            "Best result :  59.56224407066036 , Time :  0 m 44 s\n",
            "Generation :  16\n",
            "Best result :  59.56224407066036 , Time :  0 m 47 s\n",
            "Generation :  17\n",
            "Best result :  59.56224407066036 , Time :  0 m 50 s\n",
            "Generation :  18\n",
            "Best result :  59.56224407066036 , Time :  0 m 53 s\n",
            "Generation :  19\n",
            "Best result :  59.56224407066036 , Time :  0 m 56 s\n",
            "Generation :  20\n",
            "Best result :  59.56224407066036 , Time :  0 m 59 s\n",
            "Generation :  21\n",
            "Best result :  59.56224407066036 , Time :  1 m 1 s\n",
            "Generation :  22\n",
            "Best result :  59.56224407066036 , Time :  1 m 4 s\n",
            "Generation :  23\n",
            "Best result :  59.56224407066036 , Time :  1 m 7 s\n",
            "Generation :  24\n",
            "Best result :  59.56224407066036 , Time :  1 m 10 s\n",
            "Generation :  25\n",
            "Best result :  59.56224407066036 , Time :  1 m 12 s\n",
            "Generation :  26\n",
            "Best result :  59.56224407066036 , Time :  1 m 15 s\n",
            "Generation :  27\n",
            "Best result :  59.56224407066036 , Time :  1 m 18 s\n",
            "Generation :  28\n",
            "Best result :  59.56224407066036 , Time :  1 m 20 s\n",
            "Generation :  29\n",
            "Best result :  59.56224407066036 , Time :  1 m 23 s\n",
            "Generation :  30\n",
            "Best result :  59.56224407066036 , Time :  1 m 26 s\n",
            "Generation :  31\n",
            "Best result :  59.56224407066036 , Time :  1 m 29 s\n",
            "Generation :  32\n",
            "Best result :  59.56224407066036 , Time :  1 m 31 s\n",
            "Generation :  33\n",
            "Best result :  59.56224407066036 , Time :  1 m 34 s\n",
            "Generation :  34\n",
            "Best result :  59.56224407066036 , Time :  1 m 37 s\n",
            "Generation :  35\n",
            "Best result :  59.56224407066036 , Time :  1 m 39 s\n",
            "Generation :  36\n",
            "Best result :  59.56224407066036 , Time :  1 m 43 s\n",
            "Generation :  37\n",
            "Best result :  59.56224407066036 , Time :  1 m 46 s\n",
            "Generation :  38\n",
            "Best result :  59.56224407066036 , Time :  1 m 48 s\n",
            "Generation :  39\n",
            "Best result :  59.56224407066036 , Time :  1 m 51 s\n",
            "Generation :  40\n",
            "Best result :  59.56224407066036 , Time :  1 m 54 s\n",
            "Generation :  41\n",
            "Best result :  59.56224407066036 , Time :  1 m 57 s\n",
            "Generation :  42\n",
            "Best result :  59.56224407066036 , Time :  1 m 59 s\n",
            "Generation :  43\n",
            "Best result :  59.56224407066036 , Time :  2 m 2 s\n",
            "Best solution :  [0.002910602679240155, 0.008514720670232177, 0.05068815202648759, 0.0003090888677772237, 0.28202828551572473, 0.0007461034360064697, 0.1896939051666161, 0.006809601316863315, 0.027449915789333663, 13.987529700419094]\n",
            "Best solution fitness :  [59.56224407]\n"
          ]
        }
      ]
    },
    {
      "cell_type": "code",
      "source": [
        "A = equation_inputs\n",
        "Y_bar_GA = [y(*[item[i] for item in A], *best_w) for i in range(len(A[0]))]\n",
        "# print(Y_bar_GA)\n",
        "# print(Y)\n",
        "# print((np.array(Y_bar_GA)-np.array(Y).tolist()))\n",
        "mse_GA = mse(Y_bar_GA,Y)\n",
        "# print(mse_GA)"
      ],
      "metadata": {
        "id": "V1GfDcSuXwZp"
      },
      "execution_count": 1091,
      "outputs": []
    },
    {
      "cell_type": "code",
      "source": [
        "plt.figure(figsize = (12, 6));\n",
        "plt.plot(list(range(0,N)), Y, '-o', label='Y')\n",
        "plt.plot(list(range(0,N)), Y_bar_GA, '-o', label='$\\hat{Y}_{GA}$')\n",
        "plt.xticks(fontsize = 15);\n",
        "plt.yticks(fontsize = 15);\n",
        "plt.xlabel('index', fontsize = 15);\n",
        "plt.ylabel('y', fontsize = 15);\n",
        "plt.legend()\n",
        "plt.title('MSE =' + str(round(mse_GA, 4)), fontsize = 15);"
      ],
      "metadata": {
        "colab": {
          "base_uri": "https://localhost:8080/",
          "height": 416
        },
        "id": "plArEsqNsNq8",
        "outputId": "9fb9ad40-cdc1-4b6c-ce2a-3afff78e6ab1"
      },
      "execution_count": 1092,
      "outputs": [
        {
          "output_type": "display_data",
          "data": {
            "text/plain": [
              "<Figure size 864x432 with 1 Axes>"
            ],
            "image/png": "[encoded data removed]"
          },
          "metadata": {}
        }
      ]
    },
    {
      "cell_type": "code",
      "source": [
        "plt.figure(figsize = (12, 6));\n",
        "plt.plot(Y, Y_bar_GA, 'o')\n",
        "plt.xticks(fontsize = 15);\n",
        "plt.yticks(fontsize = 15);\n",
        "plt.xlabel('Y', fontsize = 15);\n",
        "plt.ylabel('$\\hat{Y}_{GA}$', fontsize = 15);\n",
        "RES = sum([(Y[i] - Y_bar_GA[i])**2 for i in range(N)]) # residual error\n",
        "TOT = sum([(Y[i] - np.mean(Y))**2 for i in range(N)]) # total error\n",
        "R2 = 1-(RES/TOT) # definition of R2 metric\n",
        "plt.title('R^2 =' + str(round(R2, 4)), fontsize = 15);\n",
        "\n",
        "#obtain m (slope) and b(intercept) of linear regression line\n",
        "m, b = np.polyfit(Y, Y_bar_GA, 1);\n",
        "\n",
        "#add linear regression line to scatterplot \n",
        "plt.plot(Y, [m*i+b for i in Y], '--');"
      ],
      "metadata": {
        "colab": {
          "base_uri": "https://localhost:8080/",
          "height": 416
        },
        "id": "1QV1-rZ17smW",
        "outputId": "de72d16d-9880-46ff-c592-e218476426e8"
      },
      "execution_count": 1136,
      "outputs": [
        {
          "output_type": "display_data",
          "data": {
            "text/plain": [
              "<Figure size 864x432 with 1 Axes>"
            ],
            "image/png": "[encoded data removed]"
          },
          "metadata": {}
        }
      ]
    }
  ]
}