{
  "nbformat": 4,
  "nbformat_minor": 0,
  "metadata": {
    "colab": {
      "name": "Model.ipynb",
      "provenance": [],
      "collapsed_sections": [],
      "authorship_tag": "ABX9TyPC85+rfYa/PZ1J/VwXU3eE",
      "include_colab_link": true
    },
    "kernelspec": {
      "name": "python3",
      "display_name": "Python 3"
    },
    "language_info": {
      "name": "python"
    }
  },
  "cells": [
    {
      "cell_type": "markdown",
      "metadata": {
        "id": "view-in-github",
        "colab_type": "text"
      },
      "source": [
        "<a href=\"https://colab.research.google.com/github/scardenol/RP_argos/blob/main/Model.ipynb\" target=\"_parent\"><img src=\"https://colab.research.google.com/assets/colab-badge.svg\" alt=\"Open In Colab\"/></a>"
      ]
    },
    {
      "cell_type": "code",
      "execution_count": 18,
      "metadata": {
        "id": "yPOZaz2buh81"
      },
      "outputs": [],
      "source": [
        "import sympy as sp"
      ]
    },
    {
      "cell_type": "code",
      "source": [
        "def Taylor_polynomial_sympy(function_expression, variable_list, evaluation_point, degree):\n",
        "    \"\"\"\n",
        "    Mathematical formulation reference:\n",
        "    https://math.libretexts.org/Bookshelves/Calculus/Supplemental_Modules_(Calculus)/Multivariable_Calculus/3%3A_Topics_in_Partial_Derivatives/Taylor__Polynomials_of_Functions_of_Two_Variables\n",
        "    :param function_expression: Sympy expression of the function\n",
        "    :param variable_list: list. All variables to be approximated (to be \"Taylorized\")\n",
        "    :param evaluation_point: list. Coordinates, where the function will be expressed\n",
        "    :param degree: int. Total degree of the Taylor polynomial\n",
        "    :return: Returns a Sympy expression of the Taylor series up to a given degree, of a given multivariate expression, approximated as a multivariate polynomial evaluated at the evaluation_point\n",
        "    \"\"\"\n",
        "    from sympy import factorial, Matrix, prod\n",
        "    import itertools\n",
        "\n",
        "    n_var = len(variable_list)\n",
        "    point_coordinates = [(i, j) for i, j in (zip(variable_list, evaluation_point))]  # list of tuples with variables and their evaluation_point coordinates, to later perform substitution\n",
        "\n",
        "    deriv_orders = list(itertools.product(range(degree + 1), repeat=n_var))  # list with exponentials of the partial derivatives\n",
        "    deriv_orders = [deriv_orders[i] for i in range(len(deriv_orders)) if sum(deriv_orders[i]) <= degree]  # Discarding some higher-order terms\n",
        "    n_terms = len(deriv_orders)\n",
        "    deriv_orders_as_input = [list(sum(list(zip(variable_list, deriv_orders[i])), ())) for i in range(n_terms)]  # Individual degree of each partial derivative, of each term\n",
        "\n",
        "    polynomial = 0\n",
        "    for i in range(n_terms):\n",
        "        partial_derivatives_at_point = function_expression.diff(*deriv_orders_as_input[i]).subs(point_coordinates)  # e.g. df/(dx*dy**2)\n",
        "        denominator = prod([factorial(j) for j in deriv_orders[i]])  # e.g. (1! * 2!)\n",
        "        distances_powered = prod([(Matrix(variable_list) - Matrix(evaluation_point))[j] ** deriv_orders[i][j] for j in range(n_var)])  # e.g. (x-x0)*(y-y0)**2\n",
        "        polynomial += partial_derivatives_at_point / denominator * distances_powered\n",
        "    return polynomial"
      ],
      "metadata": {
        "id": "_Jgn1OhOzrwG"
      },
      "execution_count": null,
      "outputs": []
    },
    {
      "cell_type": "code",
      "source": [
        "def Model_taylor_sympy(taylor_serie):\n",
        "  \"\"\"\n",
        "  param taylor_serie: taylor serie to be converted to model\n",
        "  return: list of model termns\n",
        "  \"\"\"\n",
        "  from sympy import symbols, init_printing, Function, sympify, Derivative, simplify, ordered\n",
        "\n",
        "  # Convert Serie to list\n",
        "  S = list(sympify((sympify(taylor_serie, evaluate=False)).args))\n",
        "  M = S.copy() # Copy the list to use for the model\n",
        "\n",
        "  # Check for derivatives\n",
        "  # Substitue derivatives from Serie List with parameters (cleaner than from Serie)\n",
        "  d = [list(i.atoms(Derivative)) for i in M]\n",
        "  d_unpacked = [x for l in d for x in l] # this unpacks it but gets messy if a list had more than 1 element\n",
        "  \n",
        "  # if d_unpacked is empty it means there are no derivatives in the serie\n",
        "  B = [];\n",
        "\n",
        "  if len(d_unpacked) != 0:  # if there are derivatives\n",
        "    indexes = [idx for idx in range(len(d)) if len(d[idx])] # Get indexes\n",
        "\n",
        "    for i in indexes:\n",
        "      B_aux = sympify(['b' + str(b) for b in range(len(B), len(B) + 1)])\n",
        "      B += B_aux\n",
        "      M[i] = simplify(M[i].subs(list(ordered(d[i]))[0], B_aux[0]))\n",
        "    \n",
        "    # Clean the f(c) termn at the end\n",
        "    B_aux = sympify(['b' + str(b) for b in range(len(B), len(B) + 1)])\n",
        "    B += B_aux\n",
        "    M[-1] = B_aux[0]\n",
        "\n",
        "    # Multiply resulting list with the parameter list A (excluding the last element which has only 1 parameter)\n",
        "    A = sympify(['a' + str(a) for a in range(0, len(B)-1)])\n",
        "    M = [a*m for a,m in zip(A,M[:-1])] + [M[-1]]\n",
        "  \n",
        "  else: # If there are not derivatives\n",
        "    # Multiply resulting list with the parameter list A\n",
        "    A = sympify(['a' + str(a) for a in range(0, len(M))])\n",
        "    M = [a*m for a,m in zip(A,M)]\n",
        "  \n",
        "  return M, A, B"
      ],
      "metadata": {
        "id": "VI2dIt7v_o4O"
      },
      "execution_count": null,
      "outputs": []
    },
    {
      "cell_type": "code",
      "source": [
        "from sympy import symbols, init_printing, Function, sympify, Derivative, simplify, ordered\n",
        "\n",
        "init_printing(use_latex='mathjax') # Printing preferences\n",
        "\n",
        "# Model F(x1,x2)\n",
        "x1, x2, x3 = symbols('x1, x2, x3')\n",
        "f = Function('f')\n",
        "function_expression = f(x1*x2*x3)\n",
        "variable_list = [x1,x2,x3]\n",
        "evaluation_point = [1, 2, 3]\n",
        "degree=2\n",
        "F = Taylor_polynomial_sympy(function_expression, variable_list, evaluation_point, degree)\n",
        "display(F)\n"
      ],
      "metadata": {
        "colab": {
          "base_uri": "https://localhost:8080/",
          "height": 202
        },
        "id": "BRwX_mogWy6n",
        "outputId": "a7c296df-0a2f-40ad-a699-b27d67d7f75c"
      },
      "execution_count": null,
      "outputs": [
        {
          "output_type": "display_data",
          "data": {
            "text/plain": [
              "                                                                              \n",
              "                                                                              \n",
              "                                                                              \n",
              "             ⎛  2        ⎞│                         ⎛                         \n",
              "           2 ⎜ d         ⎟│                         ⎜  ⎛ d        ⎞│          \n",
              "18⋅(x₁ - 1) ⋅⎜────(f(ξ₁))⎟│     + (x₁ - 1)⋅(x₂ - 2)⋅⎜3⋅⎜───(f(ξ₁))⎟│     + 18⋅\n",
              "             ⎜   2       ⎟│                         ⎜  ⎝dξ₁       ⎠│ξ₁=6      \n",
              "             ⎝dξ₁        ⎠│ξ₁=6                     ⎝                         \n",
              "\n",
              "                                                                              \n",
              "                                                                              \n",
              "                                                                              \n",
              "⎛  2        ⎞│    ⎞                     ⎛                         ⎛  2        \n",
              "⎜ d         ⎟│    ⎟                     ⎜  ⎛ d        ⎞│          ⎜ d         \n",
              "⎜────(f(ξ₁))⎟│    ⎟ + (x₁ - 1)⋅(x₃ - 3)⋅⎜2⋅⎜───(f(ξ₁))⎟│     + 12⋅⎜────(f(ξ₁))\n",
              "⎜   2       ⎟│    ⎟                     ⎜  ⎝dξ₁       ⎠│ξ₁=6      ⎜   2       \n",
              "⎝dξ₁        ⎠│ξ₁=6⎠                     ⎝                         ⎝dξ₁        \n",
              "\n",
              "                                                     ⎛  2        ⎞│           \n",
              "                                                   2 ⎜ d         ⎟│           \n",
              "                                         9⋅(x₂ - 2) ⋅⎜────(f(ξ₁))⎟│           \n",
              "⎞│    ⎞                                              ⎜   2       ⎟│           \n",
              "⎟│    ⎟              ⎛ d        ⎞│                   ⎝dξ₁        ⎠│ξ₁=6       \n",
              "⎟│    ⎟ + 6⋅(x₁ - 1)⋅⎜───(f(ξ₁))⎟│     + ────────────────────────────── + (x₂ \n",
              "⎟│    ⎟              ⎝dξ₁       ⎠│ξ₁=6                 2                      \n",
              "⎠│ξ₁=6⎠                                                                       \n",
              "\n",
              "                                                                              \n",
              "                                                                              \n",
              "                                                                              \n",
              "              ⎛                      ⎛  2        ⎞│    ⎞                      \n",
              "              ⎜⎛ d        ⎞│         ⎜ d         ⎟│    ⎟              ⎛ d     \n",
              "- 2)⋅(x₃ - 3)⋅⎜⎜───(f(ξ₁))⎟│     + 6⋅⎜────(f(ξ₁))⎟│    ⎟ + 3⋅(x₂ - 2)⋅⎜───(f(ξ\n",
              "              ⎜⎝dξ₁       ⎠│ξ₁=6     ⎜   2       ⎟│    ⎟              ⎝dξ₁    \n",
              "              ⎝                      ⎝dξ₁        ⎠│ξ₁=6⎠                      \n",
              "\n",
              "                                                                              \n",
              "                                                                              \n",
              "                                                                              \n",
              "                        ⎛  2        ⎞│                                        \n",
              "   ⎞│                 2 ⎜ d         ⎟│                  ⎛ d        ⎞│         \n",
              "₁))⎟│     + 2⋅(x₃ - 3) ⋅⎜────(f(ξ₁))⎟│     + 2⋅(x₃ - 3)⋅⎜───(f(ξ₁))⎟│     + f(\n",
              "   ⎠│ξ₁=6               ⎜   2       ⎟│                  ⎝dξ₁       ⎠│ξ₁=6     \n",
              "                        ⎝dξ₁        ⎠│ξ₁=6                                    \n",
              "\n",
              "  \n",
              "  \n",
              "  \n",
              "  \n",
              "  \n",
              "6)\n",
              "  \n",
              "  "
            ],
            "text/latex": "$\\displaystyle 18 \\left(x_{1} - 1\\right)^{2} \\left. \\frac{d^{2}}{d \\xi_{1}^{2}} f{\\left(\\xi_{1} \\right)} \\right|_{\\substack{ \\xi_{1}=6 }} + \\left(x_{1} - 1\\right) \\left(x_{2} - 2\\right) \\left(3 \\left. \\frac{d}{d \\xi_{1}} f{\\left(\\xi_{1} \\right)} \\right|_{\\substack{ \\xi_{1}=6 }} + 18 \\left. \\frac{d^{2}}{d \\xi_{1}^{2}} f{\\left(\\xi_{1} \\right)} \\right|_{\\substack{ \\xi_{1}=6 }}\\right) + \\left(x_{1} - 1\\right) \\left(x_{3} - 3\\right) \\left(2 \\left. \\frac{d}{d \\xi_{1}} f{\\left(\\xi_{1} \\right)} \\right|_{\\substack{ \\xi_{1}=6 }} + 12 \\left. \\frac{d^{2}}{d \\xi_{1}^{2}} f{\\left(\\xi_{1} \\right)} \\right|_{\\substack{ \\xi_{1}=6 }}\\right) + 6 \\left(x_{1} - 1\\right) \\left. \\frac{d}{d \\xi_{1}} f{\\left(\\xi_{1} \\right)} \\right|_{\\substack{ \\xi_{1}=6 }} + \\frac{9 \\left(x_{2} - 2\\right)^{2} \\left. \\frac{d^{2}}{d \\xi_{1}^{2}} f{\\left(\\xi_{1} \\right)} \\right|_{\\substack{ \\xi_{1}=6 }}}{2} + \\left(x_{2} - 2\\right) \\left(x_{3} - 3\\right) \\left(\\left. \\frac{d}{d \\xi_{1}} f{\\left(\\xi_{1} \\right)} \\right|_{\\substack{ \\xi_{1}=6 }} + 6 \\left. \\frac{d^{2}}{d \\xi_{1}^{2}} f{\\left(\\xi_{1} \\right)} \\right|_{\\substack{ \\xi_{1}=6 }}\\right) + 3 \\left(x_{2} - 2\\right) \\left. \\frac{d}{d \\xi_{1}} f{\\left(\\xi_{1} \\right)} \\right|_{\\substack{ \\xi_{1}=6 }} + 2 \\left(x_{3} - 3\\right)^{2} \\left. \\frac{d^{2}}{d \\xi_{1}^{2}} f{\\left(\\xi_{1} \\right)} \\right|_{\\substack{ \\xi_{1}=6 }} + 2 \\left(x_{3} - 3\\right) \\left. \\frac{d}{d \\xi_{1}} f{\\left(\\xi_{1} \\right)} \\right|_{\\substack{ \\xi_{1}=6 }} + f{\\left(6 \\right)}$"
          },
          "metadata": {}
        }
      ]
    },
    {
      "cell_type": "code",
      "source": [
        "# Generate the model\n",
        "M, A, B = Model_taylor_sympy(F)"
      ],
      "metadata": {
        "id": "z7dGim9qHIb5"
      },
      "execution_count": null,
      "outputs": []
    },
    {
      "cell_type": "code",
      "source": [
        "# Display results\n",
        "F_list = list(sympify((sympify(F, evaluate=False)).args))\n",
        "display(F_list) # Original\n",
        "display(M) # model\n",
        "print(len(F_list) == len(M))\n",
        "display(A, B) # Parameters\n",
        "parameters = A + B\n",
        "display(parameters) # List of all parameters"
      ],
      "metadata": {
        "colab": {
          "base_uri": "https://localhost:8080/",
          "height": 241
        },
        "id": "NvLm0BxZOeAm",
        "outputId": "00c68abf-0384-4dde-e987-0b071c12bde0"
      },
      "execution_count": null,
      "outputs": [
        {
          "output_type": "display_data",
          "data": {
            "text/plain": [
              "⎡                                                                             \n",
              "⎢                                                                             \n",
              "⎢                                                                             \n",
              "⎢            ⎛  2        ⎞│                                                   \n",
              "⎢          2 ⎜ d         ⎟│                 ⎛ d        ⎞│                 ⎛ d \n",
              "⎢2⋅(x₃ - 3) ⋅⎜────(f(ξ₁))⎟│    , 2⋅(x₃ - 3)⋅⎜───(f(ξ₁))⎟│    , 3⋅(x₂ - 2)⋅⎜───\n",
              "⎢            ⎜   2       ⎟│                 ⎝dξ₁       ⎠│ξ₁=6             ⎝dξ₁\n",
              "⎣            ⎝dξ₁        ⎠│ξ₁=6                                               \n",
              "\n",
              "                                                                              \n",
              "                                                                              \n",
              "                                                                              \n",
              "                                                          ⎛  2        ⎞│      \n",
              "       ⎞│                 ⎛ d        ⎞│                 2 ⎜ d         ⎟│      \n",
              "(f(ξ₁))⎟│    , 6⋅(x₁ - 1)⋅⎜───(f(ξ₁))⎟│    , 18⋅(x₁ - 1) ⋅⎜────(f(ξ₁))⎟│    , \n",
              "       ⎠│ξ₁=6             ⎝dξ₁       ⎠│ξ₁=6               ⎜   2       ⎟│      \n",
              "                                                          ⎝dξ₁        ⎠│ξ₁=6  \n",
              "\n",
              "            ⎛  2        ⎞│                                                    \n",
              "          2 ⎜ d         ⎟│                                                    \n",
              "9⋅(x₂ - 2) ⋅⎜────(f(ξ₁))⎟│                                                    \n",
              "            ⎜   2       ⎟│                        ⎛                         ⎛ \n",
              "            ⎝dξ₁        ⎠│ξ₁=6                    ⎜  ⎛ d        ⎞│          ⎜ \n",
              "──────────────────────────────, (x₁ - 1)⋅(x₃ - 3)⋅⎜2⋅⎜───(f(ξ₁))⎟│     + 12⋅⎜─\n",
              "              2                                   ⎜  ⎝dξ₁       ⎠│ξ₁=6      ⎜ \n",
              "                                                  ⎝                         ⎝d\n",
              "\n",
              "                                                                              \n",
              "                                                                              \n",
              "                                                                              \n",
              " 2        ⎞│    ⎞                    ⎛                         ⎛  2        ⎞│ \n",
              "d         ⎟│    ⎟                    ⎜  ⎛ d        ⎞│          ⎜ d         ⎟│ \n",
              "───(f(ξ₁))⎟│    ⎟, (x₁ - 1)⋅(x₂ - 2)⋅⎜3⋅⎜───(f(ξ₁))⎟│     + 18⋅⎜────(f(ξ₁))⎟│ \n",
              "  2       ⎟│    ⎟                    ⎜  ⎝dξ₁       ⎠│ξ₁=6      ⎜   2       ⎟│ \n",
              "ξ₁        ⎠│ξ₁=6⎠                    ⎝                         ⎝dξ₁        ⎠│ξ\n",
              "\n",
              "                                                                        ⎤\n",
              "                                                                        ⎥\n",
              "                                                                        ⎥\n",
              "   ⎞                    ⎛                      ⎛  2        ⎞│    ⎞      ⎥\n",
              "   ⎟                    ⎜⎛ d        ⎞│         ⎜ d         ⎟│    ⎟      ⎥\n",
              "   ⎟, (x₂ - 2)⋅(x₃ - 3)⋅⎜⎜───(f(ξ₁))⎟│     + 6⋅⎜────(f(ξ₁))⎟│    ⎟, f(6)⎥\n",
              "   ⎟                    ⎜⎝dξ₁       ⎠│ξ₁=6     ⎜   2       ⎟│    ⎟      ⎥\n",
              "₁=6⎠                    ⎝                      ⎝dξ₁        ⎠│ξ₁=6⎠      ⎦"
            ],
            "text/latex": "$\\displaystyle \\left[ 2 \\left(x_{3} - 3\\right)^{2} \\left. \\frac{d^{2}}{d \\xi_{1}^{2}} f{\\left(\\xi_{1} \\right)} \\right|_{\\substack{ \\xi_{1}=6 }}, \\  2 \\left(x_{3} - 3\\right) \\left. \\frac{d}{d \\xi_{1}} f{\\left(\\xi_{1} \\right)} \\right|_{\\substack{ \\xi_{1}=6 }}, \\  3 \\left(x_{2} - 2\\right) \\left. \\frac{d}{d \\xi_{1}} f{\\left(\\xi_{1} \\right)} \\right|_{\\substack{ \\xi_{1}=6 }}, \\  6 \\left(x_{1} - 1\\right) \\left. \\frac{d}{d \\xi_{1}} f{\\left(\\xi_{1} \\right)} \\right|_{\\substack{ \\xi_{1}=6 }}, \\  18 \\left(x_{1} - 1\\right)^{2} \\left. \\frac{d^{2}}{d \\xi_{1}^{2}} f{\\left(\\xi_{1} \\right)} \\right|_{\\substack{ \\xi_{1}=6 }}, \\  \\frac{9 \\left(x_{2} - 2\\right)^{2} \\left. \\frac{d^{2}}{d \\xi_{1}^{2}} f{\\left(\\xi_{1} \\right)} \\right|_{\\substack{ \\xi_{1}=6 }}}{2}, \\  \\left(x_{1} - 1\\right) \\left(x_{3} - 3\\right) \\left(2 \\left. \\frac{d}{d \\xi_{1}} f{\\left(\\xi_{1} \\right)} \\right|_{\\substack{ \\xi_{1}=6 }} + 12 \\left. \\frac{d^{2}}{d \\xi_{1}^{2}} f{\\left(\\xi_{1} \\right)} \\right|_{\\substack{ \\xi_{1}=6 }}\\right), \\  \\left(x_{1} - 1\\right) \\left(x_{2} - 2\\right) \\left(3 \\left. \\frac{d}{d \\xi_{1}} f{\\left(\\xi_{1} \\right)} \\right|_{\\substack{ \\xi_{1}=6 }} + 18 \\left. \\frac{d^{2}}{d \\xi_{1}^{2}} f{\\left(\\xi_{1} \\right)} \\right|_{\\substack{ \\xi_{1}=6 }}\\right), \\  \\left(x_{2} - 2\\right) \\left(x_{3} - 3\\right) \\left(\\left. \\frac{d}{d \\xi_{1}} f{\\left(\\xi_{1} \\right)} \\right|_{\\substack{ \\xi_{1}=6 }} + 6 \\left. \\frac{d^{2}}{d \\xi_{1}^{2}} f{\\left(\\xi_{1} \\right)} \\right|_{\\substack{ \\xi_{1}=6 }}\\right), \\  f{\\left(6 \\right)}\\right]$"
          },
          "metadata": {}
        },
        {
          "output_type": "display_data",
          "data": {
            "text/plain": [
              "⎡                                                                             \n",
              "⎢                2                                                            \n",
              "⎢2⋅a₀⋅b₀⋅(x₃ - 3) , 2⋅a₁⋅b₁⋅(x₃ - 3), 3⋅a₂⋅b₂⋅(x₂ - 2), 6⋅a₃⋅b₃⋅(x₁ - 1), 18⋅a\n",
              "⎣                                                                             \n",
              "\n",
              "                                2                                             \n",
              "             2  9⋅a₅⋅b₅⋅(x₂ - 2)                                              \n",
              "₄⋅b₄⋅(x₁ - 1) , ─────────────────, 2⋅a₆⋅b₆⋅(x₁ - 1)⋅(x₃ - 3), 3⋅a₇⋅b₇⋅(x₁ - 1)\n",
              "                        2                                                     \n",
              "\n",
              "                                      ⎤\n",
              "                                      ⎥\n",
              "⋅(x₂ - 2), a₈⋅b₈⋅(x₂ - 2)⋅(x₃ - 3), b₉⎥\n",
              "                                      ⎦"
            ],
            "text/latex": "$\\displaystyle \\left[ 2 a_{0} b_{0} \\left(x_{3} - 3\\right)^{2}, \\  2 a_{1} b_{1} \\left(x_{3} - 3\\right), \\  3 a_{2} b_{2} \\left(x_{2} - 2\\right), \\  6 a_{3} b_{3} \\left(x_{1} - 1\\right), \\  18 a_{4} b_{4} \\left(x_{1} - 1\\right)^{2}, \\  \\frac{9 a_{5} b_{5} \\left(x_{2} - 2\\right)^{2}}{2}, \\  2 a_{6} b_{6} \\left(x_{1} - 1\\right) \\left(x_{3} - 3\\right), \\  3 a_{7} b_{7} \\left(x_{1} - 1\\right) \\left(x_{2} - 2\\right), \\  a_{8} b_{8} \\left(x_{2} - 2\\right) \\left(x_{3} - 3\\right), \\  b_{9}\\right]$"
          },
          "metadata": {}
        },
        {
          "output_type": "stream",
          "name": "stdout",
          "text": [
            "True\n"
          ]
        },
        {
          "output_type": "display_data",
          "data": {
            "text/plain": [
              "[a₀, a₁, a₂, a₃, a₄, a₅, a₆, a₇, a₈]"
            ],
            "text/latex": "$\\displaystyle \\left[ a_{0}, \\  a_{1}, \\  a_{2}, \\  a_{3}, \\  a_{4}, \\  a_{5}, \\  a_{6}, \\  a_{7}, \\  a_{8}\\right]$"
          },
          "metadata": {}
        },
        {
          "output_type": "display_data",
          "data": {
            "text/plain": [
              "[b₀, b₁, b₂, b₃, b₄, b₅, b₆, b₇, b₈, b₉]"
            ],
            "text/latex": "$\\displaystyle \\left[ b_{0}, \\  b_{1}, \\  b_{2}, \\  b_{3}, \\  b_{4}, \\  b_{5}, \\  b_{6}, \\  b_{7}, \\  b_{8}, \\  b_{9}\\right]$"
          },
          "metadata": {}
        },
        {
          "output_type": "display_data",
          "data": {
            "text/plain": [
              "[a₀, a₁, a₂, a₃, a₄, a₅, a₆, a₇, a₈, b₀, b₁, b₂, b₃, b₄, b₅, b₆, b₇, b₈, b₉]"
            ],
            "text/latex": "$\\displaystyle \\left[ a_{0}, \\  a_{1}, \\  a_{2}, \\  a_{3}, \\  a_{4}, \\  a_{5}, \\  a_{6}, \\  a_{7}, \\  a_{8}, \\  b_{0}, \\  b_{1}, \\  b_{2}, \\  b_{3}, \\  b_{4}, \\  b_{5}, \\  b_{6}, \\  b_{7}, \\  b_{8}, \\  b_{9}\\right]$"
          },
          "metadata": {}
        }
      ]
    },
    {
      "cell_type": "code",
      "source": [
        "# Convert list back to sum\n",
        "D = sum(M)\n",
        "display(D)"
      ],
      "metadata": {
        "colab": {
          "base_uri": "https://localhost:8080/",
          "height": 78
        },
        "id": "CUxqVeUYXoMF",
        "outputId": "fd565ae1-1873-4e9b-a139-0308c43f9b5c"
      },
      "execution_count": null,
      "outputs": [
        {
          "output_type": "display_data",
          "data": {
            "text/plain": [
              "                                                                              \n",
              "                2                                                             \n",
              "2⋅a₀⋅b₀⋅(x₃ - 3)  + 2⋅a₁⋅b₁⋅(x₃ - 3) + 3⋅a₂⋅b₂⋅(x₂ - 2) + 6⋅a₃⋅b₃⋅(x₁ - 1) + 1\n",
              "                                                                              \n",
              "\n",
              "                                    2                                         \n",
              "                2   9⋅a₅⋅b₅⋅(x₂ - 2)                                          \n",
              "8⋅a₄⋅b₄⋅(x₁ - 1)  + ───────────────── + 2⋅a₆⋅b₆⋅(x₁ - 1)⋅(x₃ - 3) + 3⋅a₇⋅b₇⋅(x\n",
              "                            2                                                 \n",
              "\n",
              "                                              \n",
              "                                              \n",
              "₁ - 1)⋅(x₂ - 2) + a₈⋅b₈⋅(x₂ - 2)⋅(x₃ - 3) + b₉\n",
              "                                              "
            ],
            "text/latex": "$\\displaystyle 2 a_{0} b_{0} \\left(x_{3} - 3\\right)^{2} + 2 a_{1} b_{1} \\left(x_{3} - 3\\right) + 3 a_{2} b_{2} \\left(x_{2} - 2\\right) + 6 a_{3} b_{3} \\left(x_{1} - 1\\right) + 18 a_{4} b_{4} \\left(x_{1} - 1\\right)^{2} + \\frac{9 a_{5} b_{5} \\left(x_{2} - 2\\right)^{2}}{2} + 2 a_{6} b_{6} \\left(x_{1} - 1\\right) \\left(x_{3} - 3\\right) + 3 a_{7} b_{7} \\left(x_{1} - 1\\right) \\left(x_{2} - 2\\right) + a_{8} b_{8} \\left(x_{2} - 2\\right) \\left(x_{3} - 3\\right) + b_{9}$"
          },
          "metadata": {}
        }
      ]
    },
    {
      "cell_type": "code",
      "source": [
        "vars = variable_list + parameters\n",
        "display(vars) # Order of function parameters\n",
        "fun = sp.lambdify(vars, D, 'scipy')\n",
        "value = [i for i in range(len(vars))]\n",
        "fun(*[1]*len(vars))"
      ],
      "metadata": {
        "colab": {
          "base_uri": "https://localhost:8080/",
          "height": 59
        },
        "id": "q6e1ImHIQtTS",
        "outputId": "ac717f90-650f-4fe4-bf68-3976e5d05d34"
      },
      "execution_count": null,
      "outputs": [
        {
          "output_type": "display_data",
          "data": {
            "text/plain": [
              "[x₁, x₂, x₃, a₀, a₁, a₂, a₃, a₄, a₅, a₆, a₇, a₈, b₀, b₁, b₂, b₃, b₄, b₅, b₆, b\n",
              "₇, b₈, b₉]"
            ],
            "text/latex": "$\\displaystyle \\left[ x_{1}, \\  x_{2}, \\  x_{3}, \\  a_{0}, \\  a_{1}, \\  a_{2}, \\  a_{3}, \\  a_{4}, \\  a_{5}, \\  a_{6}, \\  a_{7}, \\  a_{8}, \\  b_{0}, \\  b_{1}, \\  b_{2}, \\  b_{3}, \\  b_{4}, \\  b_{5}, \\  b_{6}, \\  b_{7}, \\  b_{8}, \\  b_{9}\\right]$"
          },
          "metadata": {}
        },
        {
          "output_type": "execute_result",
          "data": {
            "text/plain": [
              "8.5"
            ],
            "text/latex": "$\\displaystyle 8.5$"
          },
          "metadata": {},
          "execution_count": 9
        }
      ]
    }
  ]
}